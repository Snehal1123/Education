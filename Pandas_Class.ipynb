{
  "nbformat": 4,
  "nbformat_minor": 0,
  "metadata": {
    "kernelspec": {
      "display_name": "Python 3",
      "language": "python",
      "name": "python3"
    },
    "language_info": {
      "codemirror_mode": {
        "name": "ipython",
        "version": 3
      },
      "file_extension": ".py",
      "mimetype": "text/x-python",
      "name": "python",
      "nbconvert_exporter": "python",
      "pygments_lexer": "ipython3",
      "version": "3.7.6"
    },
    "colab": {
      "name": "Pandas_Class-200520-125601.ipynb",
      "provenance": [],
      "include_colab_link": true
    }
  },
  "cells": [
    {
      "cell_type": "markdown",
      "metadata": {
        "id": "view-in-github",
        "colab_type": "text"
      },
      "source": [
        "<a href=\"https://colab.research.google.com/github/Snehal1123/Education/blob/Branch1/Pandas_Class.ipynb\" target=\"_parent\"><img src=\"https://colab.research.google.com/assets/colab-badge.svg\" alt=\"Open In Colab\"/></a>"
      ]
    },
    {
      "cell_type": "markdown",
      "metadata": {
        "id": "JE-7sNvEpb7i"
      },
      "source": [
        "## How do I read a tabular data file into pandas? "
      ]
    },
    {
      "cell_type": "code",
      "metadata": {
        "id": "_x5n-d7gpb7n"
      },
      "source": [
        "tsv - \\t\n",
        "csv  - ,\n",
        "txt   - \\t,',',| \n",
        "\n",
        "xlsx"
      ],
      "execution_count": null,
      "outputs": []
    },
    {
      "cell_type": "code",
      "metadata": {
        "id": "WRTJggLSpb7q"
      },
      "source": [
        "import pandas as pd\n",
        "# read a dataset of Chipotle orders directly from a URL and store the results in a DataFrame\n",
        "orders = pd.read_table('http://bit.ly/chiporders',sep='\\t')"
      ],
      "execution_count": null,
      "outputs": []
    },
    {
      "cell_type": "code",
      "metadata": {
        "id": "aiWUZRYvpb7s",
        "outputId": "e84274c0-30bb-4ca4-8f36-e2700842c4ab"
      },
      "source": [
        "# examine the first 5 rows\n",
        "orders.head()"
      ],
      "execution_count": null,
      "outputs": [
        {
          "output_type": "execute_result",
          "data": {
            "text/html": [
              "<div>\n",
              "<style scoped>\n",
              "    .dataframe tbody tr th:only-of-type {\n",
              "        vertical-align: middle;\n",
              "    }\n",
              "\n",
              "    .dataframe tbody tr th {\n",
              "        vertical-align: top;\n",
              "    }\n",
              "\n",
              "    .dataframe thead th {\n",
              "        text-align: right;\n",
              "    }\n",
              "</style>\n",
              "<table border=\"1\" class=\"dataframe\">\n",
              "  <thead>\n",
              "    <tr style=\"text-align: right;\">\n",
              "      <th></th>\n",
              "      <th>order_id</th>\n",
              "      <th>quantity</th>\n",
              "      <th>item_name</th>\n",
              "      <th>choice_description</th>\n",
              "      <th>item_price</th>\n",
              "    </tr>\n",
              "  </thead>\n",
              "  <tbody>\n",
              "    <tr>\n",
              "      <th>0</th>\n",
              "      <td>1</td>\n",
              "      <td>1</td>\n",
              "      <td>Chips and Fresh Tomato Salsa</td>\n",
              "      <td>NaN</td>\n",
              "      <td>$2.39</td>\n",
              "    </tr>\n",
              "    <tr>\n",
              "      <th>1</th>\n",
              "      <td>1</td>\n",
              "      <td>1</td>\n",
              "      <td>Izze</td>\n",
              "      <td>[Clementine]</td>\n",
              "      <td>$3.39</td>\n",
              "    </tr>\n",
              "    <tr>\n",
              "      <th>2</th>\n",
              "      <td>1</td>\n",
              "      <td>1</td>\n",
              "      <td>Nantucket Nectar</td>\n",
              "      <td>[Apple]</td>\n",
              "      <td>$3.39</td>\n",
              "    </tr>\n",
              "    <tr>\n",
              "      <th>3</th>\n",
              "      <td>1</td>\n",
              "      <td>1</td>\n",
              "      <td>Chips and Tomatillo-Green Chili Salsa</td>\n",
              "      <td>NaN</td>\n",
              "      <td>$2.39</td>\n",
              "    </tr>\n",
              "    <tr>\n",
              "      <th>4</th>\n",
              "      <td>2</td>\n",
              "      <td>2</td>\n",
              "      <td>Chicken Bowl</td>\n",
              "      <td>[Tomatillo-Red Chili Salsa (Hot), [Black Beans...</td>\n",
              "      <td>$16.98</td>\n",
              "    </tr>\n",
              "  </tbody>\n",
              "</table>\n",
              "</div>"
            ],
            "text/plain": [
              "   order_id  quantity                              item_name  \\\n",
              "0         1         1           Chips and Fresh Tomato Salsa   \n",
              "1         1         1                                   Izze   \n",
              "2         1         1                       Nantucket Nectar   \n",
              "3         1         1  Chips and Tomatillo-Green Chili Salsa   \n",
              "4         2         2                           Chicken Bowl   \n",
              "\n",
              "                                  choice_description item_price  \n",
              "0                                                NaN     $2.39   \n",
              "1                                       [Clementine]     $3.39   \n",
              "2                                            [Apple]     $3.39   \n",
              "3                                                NaN     $2.39   \n",
              "4  [Tomatillo-Red Chili Salsa (Hot), [Black Beans...    $16.98   "
            ]
          },
          "metadata": {
            "tags": []
          },
          "execution_count": 2
        }
      ]
    },
    {
      "cell_type": "markdown",
      "metadata": {
        "id": "vxKCkvx9pb7v"
      },
      "source": [
        "Documentation for [**`read_table`**](http://pandas.pydata.org/pandas-docs/stable/generated/pandas.read_table.html)"
      ]
    },
    {
      "cell_type": "code",
      "metadata": {
        "id": "xAfROJkGpb7w"
      },
      "source": [
        "# read a dataset of movie reviewers (modifying the default parameter values for read_table)\n",
        "user_cols = ['user_id', 'age', 'gender', 'occupation', 'zip_code']\n",
        "user = pd.read_csv(r\"C:\\Users\\Guhan\\Documents\\Verzeo\\user.txt\",sep='|', header=None, names=user_cols)"
      ],
      "execution_count": null,
      "outputs": []
    },
    {
      "cell_type": "code",
      "metadata": {
        "id": "7dPwx5N4pb7x",
        "outputId": "e71fc05f-34fd-477b-9415-9952e8a9a391"
      },
      "source": [
        "pd.read_excel('ufo.xlsx',sheet_name='ufo') #  shift + tab to see the fuction details"
      ],
      "execution_count": null,
      "outputs": [
        {
          "output_type": "execute_result",
          "data": {
            "text/html": [
              "<div>\n",
              "<style scoped>\n",
              "    .dataframe tbody tr th:only-of-type {\n",
              "        vertical-align: middle;\n",
              "    }\n",
              "\n",
              "    .dataframe tbody tr th {\n",
              "        vertical-align: top;\n",
              "    }\n",
              "\n",
              "    .dataframe thead th {\n",
              "        text-align: right;\n",
              "    }\n",
              "</style>\n",
              "<table border=\"1\" class=\"dataframe\">\n",
              "  <thead>\n",
              "    <tr style=\"text-align: right;\">\n",
              "      <th></th>\n",
              "      <th>City</th>\n",
              "      <th>Colors Reported</th>\n",
              "      <th>Shape Reported</th>\n",
              "      <th>State</th>\n",
              "      <th>Time</th>\n",
              "    </tr>\n",
              "  </thead>\n",
              "  <tbody>\n",
              "    <tr>\n",
              "      <th>0</th>\n",
              "      <td>Ithaca</td>\n",
              "      <td>NaN</td>\n",
              "      <td>TRIANGLE</td>\n",
              "      <td>NY</td>\n",
              "      <td>1930-06-01 22:00:00</td>\n",
              "    </tr>\n",
              "    <tr>\n",
              "      <th>1</th>\n",
              "      <td>Willingboro</td>\n",
              "      <td>NaN</td>\n",
              "      <td>OTHER</td>\n",
              "      <td>NJ</td>\n",
              "      <td>1930-06-30 20:00:00</td>\n",
              "    </tr>\n",
              "    <tr>\n",
              "      <th>2</th>\n",
              "      <td>Holyoke</td>\n",
              "      <td>NaN</td>\n",
              "      <td>OVAL</td>\n",
              "      <td>CO</td>\n",
              "      <td>1931-02-15 14:00:00</td>\n",
              "    </tr>\n",
              "    <tr>\n",
              "      <th>3</th>\n",
              "      <td>Abilene</td>\n",
              "      <td>NaN</td>\n",
              "      <td>DISK</td>\n",
              "      <td>KS</td>\n",
              "      <td>1931-06-01 13:00:00</td>\n",
              "    </tr>\n",
              "    <tr>\n",
              "      <th>4</th>\n",
              "      <td>New York Worlds Fair</td>\n",
              "      <td>NaN</td>\n",
              "      <td>LIGHT</td>\n",
              "      <td>NY</td>\n",
              "      <td>1933-04-18 19:00:00</td>\n",
              "    </tr>\n",
              "    <tr>\n",
              "      <th>...</th>\n",
              "      <td>...</td>\n",
              "      <td>...</td>\n",
              "      <td>...</td>\n",
              "      <td>...</td>\n",
              "      <td>...</td>\n",
              "    </tr>\n",
              "    <tr>\n",
              "      <th>18236</th>\n",
              "      <td>Grant Park</td>\n",
              "      <td>NaN</td>\n",
              "      <td>TRIANGLE</td>\n",
              "      <td>IL</td>\n",
              "      <td>2000-12-31 23:00:00</td>\n",
              "    </tr>\n",
              "    <tr>\n",
              "      <th>18237</th>\n",
              "      <td>Spirit Lake</td>\n",
              "      <td>NaN</td>\n",
              "      <td>DISK</td>\n",
              "      <td>IA</td>\n",
              "      <td>2000-12-31 23:00:00</td>\n",
              "    </tr>\n",
              "    <tr>\n",
              "      <th>18238</th>\n",
              "      <td>Eagle River</td>\n",
              "      <td>NaN</td>\n",
              "      <td>NaN</td>\n",
              "      <td>WI</td>\n",
              "      <td>2000-12-31 23:45:00</td>\n",
              "    </tr>\n",
              "    <tr>\n",
              "      <th>18239</th>\n",
              "      <td>Eagle River</td>\n",
              "      <td>RED</td>\n",
              "      <td>LIGHT</td>\n",
              "      <td>WI</td>\n",
              "      <td>2000-12-31 23:45:00</td>\n",
              "    </tr>\n",
              "    <tr>\n",
              "      <th>18240</th>\n",
              "      <td>Ybor</td>\n",
              "      <td>NaN</td>\n",
              "      <td>OVAL</td>\n",
              "      <td>FL</td>\n",
              "      <td>2000-12-31 23:59:00</td>\n",
              "    </tr>\n",
              "  </tbody>\n",
              "</table>\n",
              "<p>18241 rows × 5 columns</p>\n",
              "</div>"
            ],
            "text/plain": [
              "                       City Colors Reported Shape Reported State  \\\n",
              "0                    Ithaca             NaN       TRIANGLE    NY   \n",
              "1               Willingboro             NaN          OTHER    NJ   \n",
              "2                   Holyoke             NaN           OVAL    CO   \n",
              "3                   Abilene             NaN           DISK    KS   \n",
              "4      New York Worlds Fair             NaN          LIGHT    NY   \n",
              "...                     ...             ...            ...   ...   \n",
              "18236            Grant Park             NaN       TRIANGLE    IL   \n",
              "18237           Spirit Lake             NaN           DISK    IA   \n",
              "18238           Eagle River             NaN            NaN    WI   \n",
              "18239           Eagle River             RED          LIGHT    WI   \n",
              "18240                  Ybor             NaN           OVAL    FL   \n",
              "\n",
              "                     Time  \n",
              "0     1930-06-01 22:00:00  \n",
              "1     1930-06-30 20:00:00  \n",
              "2     1931-02-15 14:00:00  \n",
              "3     1931-06-01 13:00:00  \n",
              "4     1933-04-18 19:00:00  \n",
              "...                   ...  \n",
              "18236 2000-12-31 23:00:00  \n",
              "18237 2000-12-31 23:00:00  \n",
              "18238 2000-12-31 23:45:00  \n",
              "18239 2000-12-31 23:45:00  \n",
              "18240 2000-12-31 23:59:00  \n",
              "\n",
              "[18241 rows x 5 columns]"
            ]
          },
          "metadata": {
            "tags": []
          },
          "execution_count": 5
        }
      ]
    },
    {
      "cell_type": "code",
      "metadata": {
        "id": "5AxiKMWFpb7z",
        "outputId": "9bd00e53-a6d3-4e2a-f973-e1b3bdde9d32"
      },
      "source": [
        "# examine the first 5 rows\n",
        "user.head()"
      ],
      "execution_count": null,
      "outputs": [
        {
          "output_type": "execute_result",
          "data": {
            "text/html": [
              "<div>\n",
              "<style scoped>\n",
              "    .dataframe tbody tr th:only-of-type {\n",
              "        vertical-align: middle;\n",
              "    }\n",
              "\n",
              "    .dataframe tbody tr th {\n",
              "        vertical-align: top;\n",
              "    }\n",
              "\n",
              "    .dataframe thead th {\n",
              "        text-align: right;\n",
              "    }\n",
              "</style>\n",
              "<table border=\"1\" class=\"dataframe\">\n",
              "  <thead>\n",
              "    <tr style=\"text-align: right;\">\n",
              "      <th></th>\n",
              "      <th>user_id</th>\n",
              "      <th>age</th>\n",
              "      <th>gender</th>\n",
              "      <th>occupation</th>\n",
              "      <th>zip_code</th>\n",
              "    </tr>\n",
              "  </thead>\n",
              "  <tbody>\n",
              "    <tr>\n",
              "      <th>0</th>\n",
              "      <td>1</td>\n",
              "      <td>24</td>\n",
              "      <td>M</td>\n",
              "      <td>technician</td>\n",
              "      <td>85711</td>\n",
              "    </tr>\n",
              "    <tr>\n",
              "      <th>1</th>\n",
              "      <td>2</td>\n",
              "      <td>53</td>\n",
              "      <td>F</td>\n",
              "      <td>other</td>\n",
              "      <td>94043</td>\n",
              "    </tr>\n",
              "    <tr>\n",
              "      <th>2</th>\n",
              "      <td>3</td>\n",
              "      <td>23</td>\n",
              "      <td>M</td>\n",
              "      <td>writer</td>\n",
              "      <td>32067</td>\n",
              "    </tr>\n",
              "    <tr>\n",
              "      <th>3</th>\n",
              "      <td>4</td>\n",
              "      <td>24</td>\n",
              "      <td>M</td>\n",
              "      <td>technician</td>\n",
              "      <td>43537</td>\n",
              "    </tr>\n",
              "    <tr>\n",
              "      <th>4</th>\n",
              "      <td>5</td>\n",
              "      <td>33</td>\n",
              "      <td>F</td>\n",
              "      <td>other</td>\n",
              "      <td>15213</td>\n",
              "    </tr>\n",
              "  </tbody>\n",
              "</table>\n",
              "</div>"
            ],
            "text/plain": [
              "   user_id  age gender  occupation zip_code\n",
              "0        1   24      M  technician    85711\n",
              "1        2   53      F       other    94043\n",
              "2        3   23      M      writer    32067\n",
              "3        4   24      M  technician    43537\n",
              "4        5   33      F       other    15213"
            ]
          },
          "metadata": {
            "tags": []
          },
          "execution_count": 7
        }
      ]
    },
    {
      "cell_type": "code",
      "metadata": {
        "id": "cft_tffhpb71",
        "outputId": "7dedebc2-b3f3-4033-8308-c7b13101bf0d"
      },
      "source": [
        "user.tail()"
      ],
      "execution_count": null,
      "outputs": [
        {
          "output_type": "execute_result",
          "data": {
            "text/html": [
              "<div>\n",
              "<style scoped>\n",
              "    .dataframe tbody tr th:only-of-type {\n",
              "        vertical-align: middle;\n",
              "    }\n",
              "\n",
              "    .dataframe tbody tr th {\n",
              "        vertical-align: top;\n",
              "    }\n",
              "\n",
              "    .dataframe thead th {\n",
              "        text-align: right;\n",
              "    }\n",
              "</style>\n",
              "<table border=\"1\" class=\"dataframe\">\n",
              "  <thead>\n",
              "    <tr style=\"text-align: right;\">\n",
              "      <th></th>\n",
              "      <th>user_id</th>\n",
              "      <th>age</th>\n",
              "      <th>gender</th>\n",
              "      <th>occupation</th>\n",
              "      <th>zip_code</th>\n",
              "    </tr>\n",
              "  </thead>\n",
              "  <tbody>\n",
              "    <tr>\n",
              "      <th>938</th>\n",
              "      <td>939</td>\n",
              "      <td>26</td>\n",
              "      <td>F</td>\n",
              "      <td>student</td>\n",
              "      <td>33319</td>\n",
              "    </tr>\n",
              "    <tr>\n",
              "      <th>939</th>\n",
              "      <td>940</td>\n",
              "      <td>32</td>\n",
              "      <td>M</td>\n",
              "      <td>administrator</td>\n",
              "      <td>02215</td>\n",
              "    </tr>\n",
              "    <tr>\n",
              "      <th>940</th>\n",
              "      <td>941</td>\n",
              "      <td>20</td>\n",
              "      <td>M</td>\n",
              "      <td>student</td>\n",
              "      <td>97229</td>\n",
              "    </tr>\n",
              "    <tr>\n",
              "      <th>941</th>\n",
              "      <td>942</td>\n",
              "      <td>48</td>\n",
              "      <td>F</td>\n",
              "      <td>librarian</td>\n",
              "      <td>78209</td>\n",
              "    </tr>\n",
              "    <tr>\n",
              "      <th>942</th>\n",
              "      <td>943</td>\n",
              "      <td>22</td>\n",
              "      <td>M</td>\n",
              "      <td>student</td>\n",
              "      <td>77841</td>\n",
              "    </tr>\n",
              "  </tbody>\n",
              "</table>\n",
              "</div>"
            ],
            "text/plain": [
              "     user_id  age gender     occupation zip_code\n",
              "938      939   26      F        student    33319\n",
              "939      940   32      M  administrator    02215\n",
              "940      941   20      M        student    97229\n",
              "941      942   48      F      librarian    78209\n",
              "942      943   22      M        student    77841"
            ]
          },
          "metadata": {
            "tags": []
          },
          "execution_count": 8
        }
      ]
    },
    {
      "cell_type": "markdown",
      "metadata": {
        "id": "aIpnR6Kepb74"
      },
      "source": [
        "## How do I select a pandas Series from a DataFrame?"
      ]
    },
    {
      "cell_type": "code",
      "metadata": {
        "id": "KL4ddF2Ypb75"
      },
      "source": [
        "# read a dataset of UFO reports into a DataFrame\n",
        "import pandas as pd\n",
        "ufo = pd.read_table('ufo.csv', sep=',')"
      ],
      "execution_count": null,
      "outputs": []
    },
    {
      "cell_type": "code",
      "metadata": {
        "id": "gwvy69LUpb76"
      },
      "source": [
        "# read_csv is equivalent to read_table, except it assumes a comma separator\n",
        "ufo = pd.read_csv('ufo.csv')"
      ],
      "execution_count": null,
      "outputs": []
    },
    {
      "cell_type": "code",
      "metadata": {
        "id": "WJ9BVZFWpb77",
        "outputId": "64c60970-83b5-4215-c813-77630c913e73"
      },
      "source": [
        "# examine the first 5 rows\n",
        "ufo.head()"
      ],
      "execution_count": null,
      "outputs": [
        {
          "output_type": "execute_result",
          "data": {
            "text/html": [
              "<div>\n",
              "<style scoped>\n",
              "    .dataframe tbody tr th:only-of-type {\n",
              "        vertical-align: middle;\n",
              "    }\n",
              "\n",
              "    .dataframe tbody tr th {\n",
              "        vertical-align: top;\n",
              "    }\n",
              "\n",
              "    .dataframe thead th {\n",
              "        text-align: right;\n",
              "    }\n",
              "</style>\n",
              "<table border=\"1\" class=\"dataframe\">\n",
              "  <thead>\n",
              "    <tr style=\"text-align: right;\">\n",
              "      <th></th>\n",
              "      <th>City</th>\n",
              "      <th>Colors Reported</th>\n",
              "      <th>Shape Reported</th>\n",
              "      <th>State</th>\n",
              "      <th>Time</th>\n",
              "    </tr>\n",
              "  </thead>\n",
              "  <tbody>\n",
              "    <tr>\n",
              "      <th>0</th>\n",
              "      <td>Ithaca</td>\n",
              "      <td>NaN</td>\n",
              "      <td>TRIANGLE</td>\n",
              "      <td>NY</td>\n",
              "      <td>6/1/1930 22:00</td>\n",
              "    </tr>\n",
              "    <tr>\n",
              "      <th>1</th>\n",
              "      <td>Willingboro</td>\n",
              "      <td>NaN</td>\n",
              "      <td>OTHER</td>\n",
              "      <td>NJ</td>\n",
              "      <td>6/30/1930 20:00</td>\n",
              "    </tr>\n",
              "    <tr>\n",
              "      <th>2</th>\n",
              "      <td>Holyoke</td>\n",
              "      <td>NaN</td>\n",
              "      <td>OVAL</td>\n",
              "      <td>CO</td>\n",
              "      <td>2/15/1931 14:00</td>\n",
              "    </tr>\n",
              "    <tr>\n",
              "      <th>3</th>\n",
              "      <td>Abilene</td>\n",
              "      <td>NaN</td>\n",
              "      <td>DISK</td>\n",
              "      <td>KS</td>\n",
              "      <td>6/1/1931 13:00</td>\n",
              "    </tr>\n",
              "    <tr>\n",
              "      <th>4</th>\n",
              "      <td>New York Worlds Fair</td>\n",
              "      <td>NaN</td>\n",
              "      <td>LIGHT</td>\n",
              "      <td>NY</td>\n",
              "      <td>4/18/1933 19:00</td>\n",
              "    </tr>\n",
              "  </tbody>\n",
              "</table>\n",
              "</div>"
            ],
            "text/plain": [
              "                   City Colors Reported Shape Reported State             Time\n",
              "0                Ithaca             NaN       TRIANGLE    NY   6/1/1930 22:00\n",
              "1           Willingboro             NaN          OTHER    NJ  6/30/1930 20:00\n",
              "2               Holyoke             NaN           OVAL    CO  2/15/1931 14:00\n",
              "3               Abilene             NaN           DISK    KS   6/1/1931 13:00\n",
              "4  New York Worlds Fair             NaN          LIGHT    NY  4/18/1933 19:00"
            ]
          },
          "metadata": {
            "tags": []
          },
          "execution_count": 12
        }
      ]
    },
    {
      "cell_type": "code",
      "metadata": {
        "scrolled": false,
        "id": "M4TbRqSPpb78",
        "outputId": "da097d8e-dc3f-43e2-957f-cb042f7ca5bf"
      },
      "source": [
        "# select the 'City' Series using bracket notation\n",
        "ufo['City']\n",
        "\n",
        "# or equivalently, use dot notation\n",
        "ufo.State #2"
      ],
      "execution_count": null,
      "outputs": [
        {
          "output_type": "execute_result",
          "data": {
            "text/plain": [
              "0        NY\n",
              "1        NJ\n",
              "2        CO\n",
              "3        KS\n",
              "4        NY\n",
              "         ..\n",
              "18236    IL\n",
              "18237    IA\n",
              "18238    WI\n",
              "18239    WI\n",
              "18240    FL\n",
              "Name: State, Length: 18241, dtype: object"
            ]
          },
          "metadata": {
            "tags": []
          },
          "execution_count": 13
        }
      ]
    },
    {
      "cell_type": "markdown",
      "metadata": {
        "id": "Fo21YBYCpb79"
      },
      "source": [
        "<!-- **Bracket notation** will always work, whereas **dot notation** has limitations: -->\n",
        "\n",
        "- Dot notation doesn't work if there are **spaces** in the Series name\n",
        "- Dot notation doesn't work if the Series has the same name as a **DataFrame method or attribute** (like 'head' or 'shape')\n",
        "- Dot notation can't be used to define the name of a **new Series** (see below)"
      ]
    },
    {
      "cell_type": "code",
      "metadata": {
        "id": "2sQjIgwcpb7-",
        "outputId": "aa8206f3-0b0e-4fba-ba46-3aa2c3520924"
      },
      "source": [
        "# create a new 'Location' Series (must use bracket notation to define the Series name)\n",
        "ufo['Location'] = ufo.City + ', ' + ufo.State\n",
        "ufo.head()"
      ],
      "execution_count": null,
      "outputs": [
        {
          "output_type": "execute_result",
          "data": {
            "text/html": [
              "<div>\n",
              "<style scoped>\n",
              "    .dataframe tbody tr th:only-of-type {\n",
              "        vertical-align: middle;\n",
              "    }\n",
              "\n",
              "    .dataframe tbody tr th {\n",
              "        vertical-align: top;\n",
              "    }\n",
              "\n",
              "    .dataframe thead th {\n",
              "        text-align: right;\n",
              "    }\n",
              "</style>\n",
              "<table border=\"1\" class=\"dataframe\">\n",
              "  <thead>\n",
              "    <tr style=\"text-align: right;\">\n",
              "      <th></th>\n",
              "      <th>City</th>\n",
              "      <th>Colors Reported</th>\n",
              "      <th>Shape Reported</th>\n",
              "      <th>State</th>\n",
              "      <th>Time</th>\n",
              "      <th>Location</th>\n",
              "    </tr>\n",
              "  </thead>\n",
              "  <tbody>\n",
              "    <tr>\n",
              "      <th>0</th>\n",
              "      <td>Ithaca</td>\n",
              "      <td>NaN</td>\n",
              "      <td>TRIANGLE</td>\n",
              "      <td>NY</td>\n",
              "      <td>6/1/1930 22:00</td>\n",
              "      <td>Ithaca, NY</td>\n",
              "    </tr>\n",
              "    <tr>\n",
              "      <th>1</th>\n",
              "      <td>Willingboro</td>\n",
              "      <td>NaN</td>\n",
              "      <td>OTHER</td>\n",
              "      <td>NJ</td>\n",
              "      <td>6/30/1930 20:00</td>\n",
              "      <td>Willingboro, NJ</td>\n",
              "    </tr>\n",
              "    <tr>\n",
              "      <th>2</th>\n",
              "      <td>Holyoke</td>\n",
              "      <td>NaN</td>\n",
              "      <td>OVAL</td>\n",
              "      <td>CO</td>\n",
              "      <td>2/15/1931 14:00</td>\n",
              "      <td>Holyoke, CO</td>\n",
              "    </tr>\n",
              "    <tr>\n",
              "      <th>3</th>\n",
              "      <td>Abilene</td>\n",
              "      <td>NaN</td>\n",
              "      <td>DISK</td>\n",
              "      <td>KS</td>\n",
              "      <td>6/1/1931 13:00</td>\n",
              "      <td>Abilene, KS</td>\n",
              "    </tr>\n",
              "    <tr>\n",
              "      <th>4</th>\n",
              "      <td>New York Worlds Fair</td>\n",
              "      <td>NaN</td>\n",
              "      <td>LIGHT</td>\n",
              "      <td>NY</td>\n",
              "      <td>4/18/1933 19:00</td>\n",
              "      <td>New York Worlds Fair, NY</td>\n",
              "    </tr>\n",
              "  </tbody>\n",
              "</table>\n",
              "</div>"
            ],
            "text/plain": [
              "                   City Colors Reported Shape Reported State             Time  \\\n",
              "0                Ithaca             NaN       TRIANGLE    NY   6/1/1930 22:00   \n",
              "1           Willingboro             NaN          OTHER    NJ  6/30/1930 20:00   \n",
              "2               Holyoke             NaN           OVAL    CO  2/15/1931 14:00   \n",
              "3               Abilene             NaN           DISK    KS   6/1/1931 13:00   \n",
              "4  New York Worlds Fair             NaN          LIGHT    NY  4/18/1933 19:00   \n",
              "\n",
              "                   Location  \n",
              "0                Ithaca, NY  \n",
              "1           Willingboro, NJ  \n",
              "2               Holyoke, CO  \n",
              "3               Abilene, KS  \n",
              "4  New York Worlds Fair, NY  "
            ]
          },
          "metadata": {
            "tags": []
          },
          "execution_count": 14
        }
      ]
    },
    {
      "cell_type": "code",
      "metadata": {
        "id": "hNXoeiTspb7_",
        "outputId": "253f5e45-3271-4bcb-9b03-6a227c43a0a7"
      },
      "source": [
        "ufo.shape"
      ],
      "execution_count": null,
      "outputs": [
        {
          "output_type": "execute_result",
          "data": {
            "text/plain": [
              "(18241, 6)"
            ]
          },
          "metadata": {
            "tags": []
          },
          "execution_count": 15
        }
      ]
    },
    {
      "cell_type": "markdown",
      "metadata": {
        "id": "msxpaRJepb7_"
      },
      "source": [
        "## Why do some pandas commands end with parentheses (and others don't)?"
      ]
    },
    {
      "cell_type": "code",
      "metadata": {
        "id": "-_dC0Iqgpb8A"
      },
      "source": [
        "# read a dataset of top-rated IMDb movies into a DataFrame\n",
        "import pandas as pd\n",
        "movies = pd.read_csv('http://bit.ly/imdbratings')"
      ],
      "execution_count": null,
      "outputs": []
    },
    {
      "cell_type": "markdown",
      "metadata": {
        "id": "rF1T2MQVpb8A"
      },
      "source": [
        "**Methods** end with parentheses, while **attributes** don't:"
      ]
    },
    {
      "cell_type": "code",
      "metadata": {
        "id": "tiaoY057pb8B",
        "outputId": "de2ca0e9-8b84-4876-9115-33254911cd4e"
      },
      "source": [
        "# example method: show the first 5 rows\n",
        "movies.head()"
      ],
      "execution_count": null,
      "outputs": [
        {
          "output_type": "execute_result",
          "data": {
            "text/html": [
              "<div>\n",
              "<style scoped>\n",
              "    .dataframe tbody tr th:only-of-type {\n",
              "        vertical-align: middle;\n",
              "    }\n",
              "\n",
              "    .dataframe tbody tr th {\n",
              "        vertical-align: top;\n",
              "    }\n",
              "\n",
              "    .dataframe thead th {\n",
              "        text-align: right;\n",
              "    }\n",
              "</style>\n",
              "<table border=\"1\" class=\"dataframe\">\n",
              "  <thead>\n",
              "    <tr style=\"text-align: right;\">\n",
              "      <th></th>\n",
              "      <th>star_rating</th>\n",
              "      <th>title</th>\n",
              "      <th>content_rating</th>\n",
              "      <th>genre</th>\n",
              "      <th>duration</th>\n",
              "      <th>actors_list</th>\n",
              "    </tr>\n",
              "  </thead>\n",
              "  <tbody>\n",
              "    <tr>\n",
              "      <th>0</th>\n",
              "      <td>9.3</td>\n",
              "      <td>The Shawshank Redemption</td>\n",
              "      <td>R</td>\n",
              "      <td>Crime</td>\n",
              "      <td>142</td>\n",
              "      <td>[u'Tim Robbins', u'Morgan Freeman', u'Bob Gunt...</td>\n",
              "    </tr>\n",
              "    <tr>\n",
              "      <th>1</th>\n",
              "      <td>9.2</td>\n",
              "      <td>The Godfather</td>\n",
              "      <td>R</td>\n",
              "      <td>Crime</td>\n",
              "      <td>175</td>\n",
              "      <td>[u'Marlon Brando', u'Al Pacino', u'James Caan']</td>\n",
              "    </tr>\n",
              "    <tr>\n",
              "      <th>2</th>\n",
              "      <td>9.1</td>\n",
              "      <td>The Godfather: Part II</td>\n",
              "      <td>R</td>\n",
              "      <td>Crime</td>\n",
              "      <td>200</td>\n",
              "      <td>[u'Al Pacino', u'Robert De Niro', u'Robert Duv...</td>\n",
              "    </tr>\n",
              "    <tr>\n",
              "      <th>3</th>\n",
              "      <td>9.0</td>\n",
              "      <td>The Dark Knight</td>\n",
              "      <td>PG-13</td>\n",
              "      <td>Action</td>\n",
              "      <td>152</td>\n",
              "      <td>[u'Christian Bale', u'Heath Ledger', u'Aaron E...</td>\n",
              "    </tr>\n",
              "    <tr>\n",
              "      <th>4</th>\n",
              "      <td>8.9</td>\n",
              "      <td>Pulp Fiction</td>\n",
              "      <td>R</td>\n",
              "      <td>Crime</td>\n",
              "      <td>154</td>\n",
              "      <td>[u'John Travolta', u'Uma Thurman', u'Samuel L....</td>\n",
              "    </tr>\n",
              "  </tbody>\n",
              "</table>\n",
              "</div>"
            ],
            "text/plain": [
              "   star_rating                     title content_rating   genre  duration  \\\n",
              "0          9.3  The Shawshank Redemption              R   Crime       142   \n",
              "1          9.2             The Godfather              R   Crime       175   \n",
              "2          9.1    The Godfather: Part II              R   Crime       200   \n",
              "3          9.0           The Dark Knight          PG-13  Action       152   \n",
              "4          8.9              Pulp Fiction              R   Crime       154   \n",
              "\n",
              "                                         actors_list  \n",
              "0  [u'Tim Robbins', u'Morgan Freeman', u'Bob Gunt...  \n",
              "1    [u'Marlon Brando', u'Al Pacino', u'James Caan']  \n",
              "2  [u'Al Pacino', u'Robert De Niro', u'Robert Duv...  \n",
              "3  [u'Christian Bale', u'Heath Ledger', u'Aaron E...  \n",
              "4  [u'John Travolta', u'Uma Thurman', u'Samuel L....  "
            ]
          },
          "metadata": {
            "tags": []
          },
          "execution_count": 17
        }
      ]
    },
    {
      "cell_type": "code",
      "metadata": {
        "id": "as1NTsLrpb8C",
        "outputId": "42212af9-2bd2-460a-ef59-87d947c57b2e"
      },
      "source": [
        "movies.columns"
      ],
      "execution_count": null,
      "outputs": [
        {
          "output_type": "execute_result",
          "data": {
            "text/plain": [
              "Index(['star_rating', 'title', 'content_rating', 'genre', 'duration',\n",
              "       'actors_list'],\n",
              "      dtype='object')"
            ]
          },
          "metadata": {
            "tags": []
          },
          "execution_count": 18
        }
      ]
    },
    {
      "cell_type": "code",
      "metadata": {
        "id": "k20kSStopb8D",
        "outputId": "563c92d2-1826-4856-fded-fb1de22dc6c3"
      },
      "source": [
        "movies.info()"
      ],
      "execution_count": null,
      "outputs": [
        {
          "output_type": "stream",
          "text": [
            "<class 'pandas.core.frame.DataFrame'>\n",
            "RangeIndex: 979 entries, 0 to 978\n",
            "Data columns (total 6 columns):\n",
            " #   Column          Non-Null Count  Dtype  \n",
            "---  ------          --------------  -----  \n",
            " 0   star_rating     979 non-null    float64\n",
            " 1   title           979 non-null    object \n",
            " 2   content_rating  976 non-null    object \n",
            " 3   genre           979 non-null    object \n",
            " 4   duration        979 non-null    int64  \n",
            " 5   actors_list     979 non-null    object \n",
            "dtypes: float64(1), int64(1), object(4)\n",
            "memory usage: 30.7+ KB\n"
          ],
          "name": "stdout"
        }
      ]
    },
    {
      "cell_type": "code",
      "metadata": {
        "id": "enBTbf6rpb8E",
        "outputId": "b6290aaa-d145-4342-9099-df7b3a66a741"
      },
      "source": [
        "movies.genre.nunique()"
      ],
      "execution_count": null,
      "outputs": [
        {
          "output_type": "execute_result",
          "data": {
            "text/plain": [
              "16"
            ]
          },
          "metadata": {
            "tags": []
          },
          "execution_count": 20
        }
      ]
    },
    {
      "cell_type": "code",
      "metadata": {
        "id": "9E0fW21npb8F",
        "outputId": "f7c13438-a89f-4bbc-8443-85aa4387d557"
      },
      "source": [
        "movies.genre.unique()"
      ],
      "execution_count": null,
      "outputs": [
        {
          "output_type": "execute_result",
          "data": {
            "text/plain": [
              "array(['Crime', 'Action', 'Drama', 'Western', 'Adventure', 'Biography',\n",
              "       'Comedy', 'Animation', 'Mystery', 'Horror', 'Film-Noir', 'Sci-Fi',\n",
              "       'History', 'Thriller', 'Family', 'Fantasy'], dtype=object)"
            ]
          },
          "metadata": {
            "tags": []
          },
          "execution_count": 21
        }
      ]
    },
    {
      "cell_type": "code",
      "metadata": {
        "id": "KfckqXC0pb8F",
        "outputId": "3e26c4c6-33f6-48a1-8fc8-2e6d19e01b4f"
      },
      "source": [
        "# example method: calculate summary statistics\n",
        "movies.describe()"
      ],
      "execution_count": null,
      "outputs": [
        {
          "output_type": "execute_result",
          "data": {
            "text/html": [
              "<div>\n",
              "<style scoped>\n",
              "    .dataframe tbody tr th:only-of-type {\n",
              "        vertical-align: middle;\n",
              "    }\n",
              "\n",
              "    .dataframe tbody tr th {\n",
              "        vertical-align: top;\n",
              "    }\n",
              "\n",
              "    .dataframe thead th {\n",
              "        text-align: right;\n",
              "    }\n",
              "</style>\n",
              "<table border=\"1\" class=\"dataframe\">\n",
              "  <thead>\n",
              "    <tr style=\"text-align: right;\">\n",
              "      <th></th>\n",
              "      <th>star_rating</th>\n",
              "      <th>duration</th>\n",
              "    </tr>\n",
              "  </thead>\n",
              "  <tbody>\n",
              "    <tr>\n",
              "      <th>count</th>\n",
              "      <td>979.000000</td>\n",
              "      <td>979.000000</td>\n",
              "    </tr>\n",
              "    <tr>\n",
              "      <th>mean</th>\n",
              "      <td>7.889785</td>\n",
              "      <td>120.979571</td>\n",
              "    </tr>\n",
              "    <tr>\n",
              "      <th>std</th>\n",
              "      <td>0.336069</td>\n",
              "      <td>26.218010</td>\n",
              "    </tr>\n",
              "    <tr>\n",
              "      <th>min</th>\n",
              "      <td>7.400000</td>\n",
              "      <td>64.000000</td>\n",
              "    </tr>\n",
              "    <tr>\n",
              "      <th>25%</th>\n",
              "      <td>7.600000</td>\n",
              "      <td>102.000000</td>\n",
              "    </tr>\n",
              "    <tr>\n",
              "      <th>50%</th>\n",
              "      <td>7.800000</td>\n",
              "      <td>117.000000</td>\n",
              "    </tr>\n",
              "    <tr>\n",
              "      <th>75%</th>\n",
              "      <td>8.100000</td>\n",
              "      <td>134.000000</td>\n",
              "    </tr>\n",
              "    <tr>\n",
              "      <th>max</th>\n",
              "      <td>9.300000</td>\n",
              "      <td>242.000000</td>\n",
              "    </tr>\n",
              "  </tbody>\n",
              "</table>\n",
              "</div>"
            ],
            "text/plain": [
              "       star_rating    duration\n",
              "count   979.000000  979.000000\n",
              "mean      7.889785  120.979571\n",
              "std       0.336069   26.218010\n",
              "min       7.400000   64.000000\n",
              "25%       7.600000  102.000000\n",
              "50%       7.800000  117.000000\n",
              "75%       8.100000  134.000000\n",
              "max       9.300000  242.000000"
            ]
          },
          "metadata": {
            "tags": []
          },
          "execution_count": 22
        }
      ]
    },
    {
      "cell_type": "code",
      "metadata": {
        "id": "g63kK21ppb8G",
        "outputId": "4b2886e9-06fd-4c92-e468-491545093319"
      },
      "source": [
        "movies.describe(include='all')"
      ],
      "execution_count": null,
      "outputs": [
        {
          "output_type": "execute_result",
          "data": {
            "text/html": [
              "<div>\n",
              "<style scoped>\n",
              "    .dataframe tbody tr th:only-of-type {\n",
              "        vertical-align: middle;\n",
              "    }\n",
              "\n",
              "    .dataframe tbody tr th {\n",
              "        vertical-align: top;\n",
              "    }\n",
              "\n",
              "    .dataframe thead th {\n",
              "        text-align: right;\n",
              "    }\n",
              "</style>\n",
              "<table border=\"1\" class=\"dataframe\">\n",
              "  <thead>\n",
              "    <tr style=\"text-align: right;\">\n",
              "      <th></th>\n",
              "      <th>star_rating</th>\n",
              "      <th>title</th>\n",
              "      <th>content_rating</th>\n",
              "      <th>genre</th>\n",
              "      <th>duration</th>\n",
              "      <th>actors_list</th>\n",
              "    </tr>\n",
              "  </thead>\n",
              "  <tbody>\n",
              "    <tr>\n",
              "      <th>count</th>\n",
              "      <td>979.000000</td>\n",
              "      <td>979</td>\n",
              "      <td>976</td>\n",
              "      <td>979</td>\n",
              "      <td>979.000000</td>\n",
              "      <td>979</td>\n",
              "    </tr>\n",
              "    <tr>\n",
              "      <th>unique</th>\n",
              "      <td>NaN</td>\n",
              "      <td>975</td>\n",
              "      <td>12</td>\n",
              "      <td>16</td>\n",
              "      <td>NaN</td>\n",
              "      <td>969</td>\n",
              "    </tr>\n",
              "    <tr>\n",
              "      <th>top</th>\n",
              "      <td>NaN</td>\n",
              "      <td>The Girl with the Dragon Tattoo</td>\n",
              "      <td>R</td>\n",
              "      <td>Drama</td>\n",
              "      <td>NaN</td>\n",
              "      <td>[u'Daniel Radcliffe', u'Emma Watson', u'Rupert...</td>\n",
              "    </tr>\n",
              "    <tr>\n",
              "      <th>freq</th>\n",
              "      <td>NaN</td>\n",
              "      <td>2</td>\n",
              "      <td>460</td>\n",
              "      <td>278</td>\n",
              "      <td>NaN</td>\n",
              "      <td>6</td>\n",
              "    </tr>\n",
              "    <tr>\n",
              "      <th>mean</th>\n",
              "      <td>7.889785</td>\n",
              "      <td>NaN</td>\n",
              "      <td>NaN</td>\n",
              "      <td>NaN</td>\n",
              "      <td>120.979571</td>\n",
              "      <td>NaN</td>\n",
              "    </tr>\n",
              "    <tr>\n",
              "      <th>std</th>\n",
              "      <td>0.336069</td>\n",
              "      <td>NaN</td>\n",
              "      <td>NaN</td>\n",
              "      <td>NaN</td>\n",
              "      <td>26.218010</td>\n",
              "      <td>NaN</td>\n",
              "    </tr>\n",
              "    <tr>\n",
              "      <th>min</th>\n",
              "      <td>7.400000</td>\n",
              "      <td>NaN</td>\n",
              "      <td>NaN</td>\n",
              "      <td>NaN</td>\n",
              "      <td>64.000000</td>\n",
              "      <td>NaN</td>\n",
              "    </tr>\n",
              "    <tr>\n",
              "      <th>25%</th>\n",
              "      <td>7.600000</td>\n",
              "      <td>NaN</td>\n",
              "      <td>NaN</td>\n",
              "      <td>NaN</td>\n",
              "      <td>102.000000</td>\n",
              "      <td>NaN</td>\n",
              "    </tr>\n",
              "    <tr>\n",
              "      <th>50%</th>\n",
              "      <td>7.800000</td>\n",
              "      <td>NaN</td>\n",
              "      <td>NaN</td>\n",
              "      <td>NaN</td>\n",
              "      <td>117.000000</td>\n",
              "      <td>NaN</td>\n",
              "    </tr>\n",
              "    <tr>\n",
              "      <th>75%</th>\n",
              "      <td>8.100000</td>\n",
              "      <td>NaN</td>\n",
              "      <td>NaN</td>\n",
              "      <td>NaN</td>\n",
              "      <td>134.000000</td>\n",
              "      <td>NaN</td>\n",
              "    </tr>\n",
              "    <tr>\n",
              "      <th>max</th>\n",
              "      <td>9.300000</td>\n",
              "      <td>NaN</td>\n",
              "      <td>NaN</td>\n",
              "      <td>NaN</td>\n",
              "      <td>242.000000</td>\n",
              "      <td>NaN</td>\n",
              "    </tr>\n",
              "  </tbody>\n",
              "</table>\n",
              "</div>"
            ],
            "text/plain": [
              "        star_rating                            title content_rating  genre  \\\n",
              "count    979.000000                              979            976    979   \n",
              "unique          NaN                              975             12     16   \n",
              "top             NaN  The Girl with the Dragon Tattoo              R  Drama   \n",
              "freq            NaN                                2            460    278   \n",
              "mean       7.889785                              NaN            NaN    NaN   \n",
              "std        0.336069                              NaN            NaN    NaN   \n",
              "min        7.400000                              NaN            NaN    NaN   \n",
              "25%        7.600000                              NaN            NaN    NaN   \n",
              "50%        7.800000                              NaN            NaN    NaN   \n",
              "75%        8.100000                              NaN            NaN    NaN   \n",
              "max        9.300000                              NaN            NaN    NaN   \n",
              "\n",
              "          duration                                        actors_list  \n",
              "count   979.000000                                                979  \n",
              "unique         NaN                                                969  \n",
              "top            NaN  [u'Daniel Radcliffe', u'Emma Watson', u'Rupert...  \n",
              "freq           NaN                                                  6  \n",
              "mean    120.979571                                                NaN  \n",
              "std      26.218010                                                NaN  \n",
              "min      64.000000                                                NaN  \n",
              "25%     102.000000                                                NaN  \n",
              "50%     117.000000                                                NaN  \n",
              "75%     134.000000                                                NaN  \n",
              "max     242.000000                                                NaN  "
            ]
          },
          "metadata": {
            "tags": []
          },
          "execution_count": 24
        }
      ]
    },
    {
      "cell_type": "code",
      "metadata": {
        "id": "NhMvXKm8pb8R",
        "outputId": "5b2929d9-4e7a-43e2-e3e7-b5e1b719257d"
      },
      "source": [
        "# use an optional parameter to the describe method to summarize only 'object' columns\n",
        "movies.describe(include='object')"
      ],
      "execution_count": null,
      "outputs": [
        {
          "output_type": "execute_result",
          "data": {
            "text/html": [
              "<div>\n",
              "<style scoped>\n",
              "    .dataframe tbody tr th:only-of-type {\n",
              "        vertical-align: middle;\n",
              "    }\n",
              "\n",
              "    .dataframe tbody tr th {\n",
              "        vertical-align: top;\n",
              "    }\n",
              "\n",
              "    .dataframe thead th {\n",
              "        text-align: right;\n",
              "    }\n",
              "</style>\n",
              "<table border=\"1\" class=\"dataframe\">\n",
              "  <thead>\n",
              "    <tr style=\"text-align: right;\">\n",
              "      <th></th>\n",
              "      <th>title</th>\n",
              "      <th>content_rating</th>\n",
              "      <th>genre</th>\n",
              "      <th>actors_list</th>\n",
              "    </tr>\n",
              "  </thead>\n",
              "  <tbody>\n",
              "    <tr>\n",
              "      <th>count</th>\n",
              "      <td>979</td>\n",
              "      <td>976</td>\n",
              "      <td>979</td>\n",
              "      <td>979</td>\n",
              "    </tr>\n",
              "    <tr>\n",
              "      <th>unique</th>\n",
              "      <td>975</td>\n",
              "      <td>12</td>\n",
              "      <td>16</td>\n",
              "      <td>969</td>\n",
              "    </tr>\n",
              "    <tr>\n",
              "      <th>top</th>\n",
              "      <td>The Girl with the Dragon Tattoo</td>\n",
              "      <td>R</td>\n",
              "      <td>Drama</td>\n",
              "      <td>[u'Daniel Radcliffe', u'Emma Watson', u'Rupert...</td>\n",
              "    </tr>\n",
              "    <tr>\n",
              "      <th>freq</th>\n",
              "      <td>2</td>\n",
              "      <td>460</td>\n",
              "      <td>278</td>\n",
              "      <td>6</td>\n",
              "    </tr>\n",
              "  </tbody>\n",
              "</table>\n",
              "</div>"
            ],
            "text/plain": [
              "                                  title content_rating  genre  \\\n",
              "count                               979            976    979   \n",
              "unique                              975             12     16   \n",
              "top     The Girl with the Dragon Tattoo              R  Drama   \n",
              "freq                                  2            460    278   \n",
              "\n",
              "                                              actors_list  \n",
              "count                                                 979  \n",
              "unique                                                969  \n",
              "top     [u'Daniel Radcliffe', u'Emma Watson', u'Rupert...  \n",
              "freq                                                    6  "
            ]
          },
          "metadata": {
            "tags": []
          },
          "execution_count": 23
        }
      ]
    },
    {
      "cell_type": "code",
      "metadata": {
        "id": "ArW-9t6Tpb8S",
        "outputId": "bfdca9b6-c934-45fe-999a-eba35a0affae"
      },
      "source": [
        "movies.info()"
      ],
      "execution_count": null,
      "outputs": [
        {
          "output_type": "stream",
          "text": [
            "<class 'pandas.core.frame.DataFrame'>\n",
            "RangeIndex: 979 entries, 0 to 978\n",
            "Data columns (total 6 columns):\n",
            " #   Column          Non-Null Count  Dtype  \n",
            "---  ------          --------------  -----  \n",
            " 0   star_rating     979 non-null    float64\n",
            " 1   title           979 non-null    object \n",
            " 2   content_rating  976 non-null    object \n",
            " 3   genre           979 non-null    object \n",
            " 4   duration        979 non-null    int64  \n",
            " 5   actors_list     979 non-null    object \n",
            "dtypes: float64(1), int64(1), object(4)\n",
            "memory usage: 30.7+ KB\n"
          ],
          "name": "stdout"
        }
      ]
    },
    {
      "cell_type": "code",
      "metadata": {
        "id": "Y38HmXdSpb8S",
        "outputId": "3ad4d201-7d11-4236-95a7-567389eafd26"
      },
      "source": [
        "# example attribute: number of rows and columns\n",
        "movies.shape"
      ],
      "execution_count": null,
      "outputs": [
        {
          "output_type": "execute_result",
          "data": {
            "text/plain": [
              "(979, 6)"
            ]
          },
          "metadata": {
            "tags": []
          },
          "execution_count": 26
        }
      ]
    },
    {
      "cell_type": "code",
      "metadata": {
        "scrolled": false,
        "id": "jXZPMJfBpb8T",
        "outputId": "8465e023-6d97-45c0-e05d-865cafd5412a"
      },
      "source": [
        "# example attribute: data type of each column\n",
        "movies.dtypes"
      ],
      "execution_count": null,
      "outputs": [
        {
          "output_type": "execute_result",
          "data": {
            "text/plain": [
              "star_rating       float64\n",
              "title              object\n",
              "content_rating     object\n",
              "genre              object\n",
              "duration            int64\n",
              "actors_list        object\n",
              "dtype: object"
            ]
          },
          "metadata": {
            "tags": []
          },
          "execution_count": 27
        }
      ]
    },
    {
      "cell_type": "markdown",
      "metadata": {
        "id": "8v5yK7_6pb8T"
      },
      "source": [
        "Documentation for [**`describe`**](http://pandas.pydata.org/pandas-docs/stable/generated/pandas.DataFrame.describe.html)"
      ]
    },
    {
      "cell_type": "markdown",
      "metadata": {
        "id": "o9YfJ1Rhpb8U"
      },
      "source": [
        "## 5. How do I rename columns in a pandas DataFrame? "
      ]
    },
    {
      "cell_type": "code",
      "metadata": {
        "id": "J7_tZIzApb8U"
      },
      "source": [
        "ufo = pd.read_csv('ufo.csv')"
      ],
      "execution_count": null,
      "outputs": []
    },
    {
      "cell_type": "code",
      "metadata": {
        "id": "vi8PnOV6pb8V",
        "outputId": "37b2f54e-80e3-4252-d4bf-9423059a033f"
      },
      "source": [
        "# examine the column names\n",
        "ufo.columns"
      ],
      "execution_count": null,
      "outputs": [
        {
          "output_type": "execute_result",
          "data": {
            "text/plain": [
              "Index(['City', 'Colors Reported', 'Shape Reported', 'State', 'Time'], dtype='object')"
            ]
          },
          "metadata": {
            "tags": []
          },
          "execution_count": 29
        }
      ]
    },
    {
      "cell_type": "code",
      "metadata": {
        "id": "KjXeFXPlpb8X",
        "outputId": "aa8fe6e0-7642-4712-e87d-500f2129b529"
      },
      "source": [
        "# rename two of the columns by using the 'rename' method\n",
        "# ufo.columns = ufo.rename(columns={'Colors Reported':'Colors_Reported', 'Shape Reported':'Shape_Reported'}) # do not use\n",
        "ufo.rename(columns={'Colors Reported':'Colors_Reported', 'Shape Reported':'Shape_Reported'}, inplace=True)\n",
        "ufo.columns"
      ],
      "execution_count": null,
      "outputs": [
        {
          "output_type": "execute_result",
          "data": {
            "text/plain": [
              "Index(['City', 'Colors_Reported', 'Shape_Reported', 'State', 'Time'], dtype='object')"
            ]
          },
          "metadata": {
            "tags": []
          },
          "execution_count": 30
        }
      ]
    },
    {
      "cell_type": "markdown",
      "metadata": {
        "id": "IOKaymTBpb8Y"
      },
      "source": [
        "Documentation for [**`rename`**](http://pandas.pydata.org/pandas-docs/stable/generated/pandas.DataFrame.rename.html)"
      ]
    },
    {
      "cell_type": "code",
      "metadata": {
        "id": "iX52XGGCpb8Z",
        "outputId": "7a9fb047-5c7f-46fe-f8ee-f6b6c377f127"
      },
      "source": [
        "ufo.columns"
      ],
      "execution_count": null,
      "outputs": [
        {
          "output_type": "execute_result",
          "data": {
            "text/plain": [
              "Index(['City', 'Colors_Reported', 'Shape_Reported', 'State', 'Time'], dtype='object')"
            ]
          },
          "metadata": {
            "tags": []
          },
          "execution_count": 31
        }
      ]
    },
    {
      "cell_type": "code",
      "metadata": {
        "id": "2lzXz4h_pb8Z",
        "outputId": "b72f0a1e-df20-4fb3-afc4-e7aacdb09545"
      },
      "source": [
        "# replace all of the column names by overwriting the 'columns' attribute\n",
        "ufo_cols = ['city', 'colors reported', 'shape reported', 'state', 'time']\n",
        "ufo.columns = ufo_cols\n",
        "ufo.columns"
      ],
      "execution_count": null,
      "outputs": [
        {
          "output_type": "execute_result",
          "data": {
            "text/plain": [
              "Index(['city', 'colors reported', 'shape reported', 'state', 'time'], dtype='object')"
            ]
          },
          "metadata": {
            "tags": []
          },
          "execution_count": 32
        }
      ]
    },
    {
      "cell_type": "code",
      "metadata": {
        "id": "FlY3A2tQpb8a",
        "outputId": "fec9a0a1-cec2-4c0b-9820-df70690772f9"
      },
      "source": [
        "# replace the column names during the file reading process by using the 'names' parameter\n",
        "ufo = pd.read_csv('ufo.csv', header=0, names=ufo_cols)\n",
        "ufo.columns"
      ],
      "execution_count": null,
      "outputs": [
        {
          "output_type": "execute_result",
          "data": {
            "text/plain": [
              "Index(['city', 'colors reported', 'shape reported', 'state', 'time'], dtype='object')"
            ]
          },
          "metadata": {
            "tags": []
          },
          "execution_count": 33
        }
      ]
    },
    {
      "cell_type": "markdown",
      "metadata": {
        "id": "yPCvl8OKpb8b"
      },
      "source": [
        "Documentation for [**`read_csv`**](http://pandas.pydata.org/pandas-docs/stable/generated/pandas.read_csv.html)"
      ]
    },
    {
      "cell_type": "code",
      "metadata": {
        "id": "XlqtLpd5pb8b",
        "outputId": "a9d78066-02bc-4a8e-95e5-0b0cd9c72501"
      },
      "source": [
        "# replace all spaces with underscores in the column names by using the 'str.replace' method\n",
        "ufo.columns = ufo.columns.str.replace(' ', '_')\n",
        "ufo.columns"
      ],
      "execution_count": null,
      "outputs": [
        {
          "output_type": "execute_result",
          "data": {
            "text/plain": [
              "Index(['city', 'colors_reported', 'shape_reported', 'state', 'time'], dtype='object')"
            ]
          },
          "metadata": {
            "tags": []
          },
          "execution_count": 34
        }
      ]
    },
    {
      "cell_type": "markdown",
      "metadata": {
        "id": "d_Uo53Kdpb8b"
      },
      "source": [
        "Documentation for [**`str.replace`**](http://pandas.pydata.org/pandas-docs/stable/generated/pandas.Series.str.replace.html)"
      ]
    },
    {
      "cell_type": "markdown",
      "metadata": {
        "id": "g_rntvzApb8c"
      },
      "source": [
        "##  How do I remove columns from a pandas DataFrame? "
      ]
    },
    {
      "cell_type": "code",
      "metadata": {
        "id": "s5aLkAOFpb8c",
        "outputId": "78b8566c-9792-4c81-ec84-f49b1b5cd38a"
      },
      "source": [
        "# read a dataset of UFO reports into a DataFrame\n",
        "ufo = pd.read_csv('ufo.csv')\n",
        "ufo.head()"
      ],
      "execution_count": null,
      "outputs": [
        {
          "output_type": "execute_result",
          "data": {
            "text/html": [
              "<div>\n",
              "<style scoped>\n",
              "    .dataframe tbody tr th:only-of-type {\n",
              "        vertical-align: middle;\n",
              "    }\n",
              "\n",
              "    .dataframe tbody tr th {\n",
              "        vertical-align: top;\n",
              "    }\n",
              "\n",
              "    .dataframe thead th {\n",
              "        text-align: right;\n",
              "    }\n",
              "</style>\n",
              "<table border=\"1\" class=\"dataframe\">\n",
              "  <thead>\n",
              "    <tr style=\"text-align: right;\">\n",
              "      <th></th>\n",
              "      <th>City</th>\n",
              "      <th>Colors Reported</th>\n",
              "      <th>Shape Reported</th>\n",
              "      <th>State</th>\n",
              "      <th>Time</th>\n",
              "    </tr>\n",
              "  </thead>\n",
              "  <tbody>\n",
              "    <tr>\n",
              "      <th>0</th>\n",
              "      <td>Ithaca</td>\n",
              "      <td>NaN</td>\n",
              "      <td>TRIANGLE</td>\n",
              "      <td>NY</td>\n",
              "      <td>6/1/1930 22:00</td>\n",
              "    </tr>\n",
              "    <tr>\n",
              "      <th>1</th>\n",
              "      <td>Willingboro</td>\n",
              "      <td>NaN</td>\n",
              "      <td>OTHER</td>\n",
              "      <td>NJ</td>\n",
              "      <td>6/30/1930 20:00</td>\n",
              "    </tr>\n",
              "    <tr>\n",
              "      <th>2</th>\n",
              "      <td>Holyoke</td>\n",
              "      <td>NaN</td>\n",
              "      <td>OVAL</td>\n",
              "      <td>CO</td>\n",
              "      <td>2/15/1931 14:00</td>\n",
              "    </tr>\n",
              "    <tr>\n",
              "      <th>3</th>\n",
              "      <td>Abilene</td>\n",
              "      <td>NaN</td>\n",
              "      <td>DISK</td>\n",
              "      <td>KS</td>\n",
              "      <td>6/1/1931 13:00</td>\n",
              "    </tr>\n",
              "    <tr>\n",
              "      <th>4</th>\n",
              "      <td>New York Worlds Fair</td>\n",
              "      <td>NaN</td>\n",
              "      <td>LIGHT</td>\n",
              "      <td>NY</td>\n",
              "      <td>4/18/1933 19:00</td>\n",
              "    </tr>\n",
              "  </tbody>\n",
              "</table>\n",
              "</div>"
            ],
            "text/plain": [
              "                   City Colors Reported Shape Reported State             Time\n",
              "0                Ithaca             NaN       TRIANGLE    NY   6/1/1930 22:00\n",
              "1           Willingboro             NaN          OTHER    NJ  6/30/1930 20:00\n",
              "2               Holyoke             NaN           OVAL    CO  2/15/1931 14:00\n",
              "3               Abilene             NaN           DISK    KS   6/1/1931 13:00\n",
              "4  New York Worlds Fair             NaN          LIGHT    NY  4/18/1933 19:00"
            ]
          },
          "metadata": {
            "tags": []
          },
          "execution_count": 35
        }
      ]
    },
    {
      "cell_type": "code",
      "metadata": {
        "id": "TOjZF9VPpb8c",
        "outputId": "5ec92fd1-e6e3-4fef-9a36-ffa77e9a7fb0"
      },
      "source": [
        "# remove a single column (axis=1 refers to columns)\n",
        "ufo.drop('Colors Reported', axis=1, inplace=True)\n",
        "ufo.head()"
      ],
      "execution_count": null,
      "outputs": [
        {
          "output_type": "execute_result",
          "data": {
            "text/html": [
              "<div>\n",
              "<style scoped>\n",
              "    .dataframe tbody tr th:only-of-type {\n",
              "        vertical-align: middle;\n",
              "    }\n",
              "\n",
              "    .dataframe tbody tr th {\n",
              "        vertical-align: top;\n",
              "    }\n",
              "\n",
              "    .dataframe thead th {\n",
              "        text-align: right;\n",
              "    }\n",
              "</style>\n",
              "<table border=\"1\" class=\"dataframe\">\n",
              "  <thead>\n",
              "    <tr style=\"text-align: right;\">\n",
              "      <th></th>\n",
              "      <th>City</th>\n",
              "      <th>Shape Reported</th>\n",
              "      <th>State</th>\n",
              "      <th>Time</th>\n",
              "    </tr>\n",
              "  </thead>\n",
              "  <tbody>\n",
              "    <tr>\n",
              "      <th>0</th>\n",
              "      <td>Ithaca</td>\n",
              "      <td>TRIANGLE</td>\n",
              "      <td>NY</td>\n",
              "      <td>6/1/1930 22:00</td>\n",
              "    </tr>\n",
              "    <tr>\n",
              "      <th>1</th>\n",
              "      <td>Willingboro</td>\n",
              "      <td>OTHER</td>\n",
              "      <td>NJ</td>\n",
              "      <td>6/30/1930 20:00</td>\n",
              "    </tr>\n",
              "    <tr>\n",
              "      <th>2</th>\n",
              "      <td>Holyoke</td>\n",
              "      <td>OVAL</td>\n",
              "      <td>CO</td>\n",
              "      <td>2/15/1931 14:00</td>\n",
              "    </tr>\n",
              "    <tr>\n",
              "      <th>3</th>\n",
              "      <td>Abilene</td>\n",
              "      <td>DISK</td>\n",
              "      <td>KS</td>\n",
              "      <td>6/1/1931 13:00</td>\n",
              "    </tr>\n",
              "    <tr>\n",
              "      <th>4</th>\n",
              "      <td>New York Worlds Fair</td>\n",
              "      <td>LIGHT</td>\n",
              "      <td>NY</td>\n",
              "      <td>4/18/1933 19:00</td>\n",
              "    </tr>\n",
              "  </tbody>\n",
              "</table>\n",
              "</div>"
            ],
            "text/plain": [
              "                   City Shape Reported State             Time\n",
              "0                Ithaca       TRIANGLE    NY   6/1/1930 22:00\n",
              "1           Willingboro          OTHER    NJ  6/30/1930 20:00\n",
              "2               Holyoke           OVAL    CO  2/15/1931 14:00\n",
              "3               Abilene           DISK    KS   6/1/1931 13:00\n",
              "4  New York Worlds Fair          LIGHT    NY  4/18/1933 19:00"
            ]
          },
          "metadata": {
            "tags": []
          },
          "execution_count": 36
        }
      ]
    },
    {
      "cell_type": "markdown",
      "metadata": {
        "id": "BmqG-H-dpb8d"
      },
      "source": [
        "Documentation for [**`drop`**](http://pandas.pydata.org/pandas-docs/stable/generated/pandas.DataFrame.drop.html)"
      ]
    },
    {
      "cell_type": "code",
      "metadata": {
        "id": "bw6Uu7mPpb8d",
        "outputId": "7be86541-d516-4eeb-e522-de5f92c0257a"
      },
      "source": [
        "# remove multiple columns at once\n",
        "ufo.drop(['City', 'State'], axis=1, inplace=True)\n",
        "ufo.head()"
      ],
      "execution_count": null,
      "outputs": [
        {
          "output_type": "execute_result",
          "data": {
            "text/html": [
              "<div>\n",
              "<style scoped>\n",
              "    .dataframe tbody tr th:only-of-type {\n",
              "        vertical-align: middle;\n",
              "    }\n",
              "\n",
              "    .dataframe tbody tr th {\n",
              "        vertical-align: top;\n",
              "    }\n",
              "\n",
              "    .dataframe thead th {\n",
              "        text-align: right;\n",
              "    }\n",
              "</style>\n",
              "<table border=\"1\" class=\"dataframe\">\n",
              "  <thead>\n",
              "    <tr style=\"text-align: right;\">\n",
              "      <th></th>\n",
              "      <th>Shape Reported</th>\n",
              "      <th>Time</th>\n",
              "    </tr>\n",
              "  </thead>\n",
              "  <tbody>\n",
              "    <tr>\n",
              "      <th>0</th>\n",
              "      <td>TRIANGLE</td>\n",
              "      <td>6/1/1930 22:00</td>\n",
              "    </tr>\n",
              "    <tr>\n",
              "      <th>1</th>\n",
              "      <td>OTHER</td>\n",
              "      <td>6/30/1930 20:00</td>\n",
              "    </tr>\n",
              "    <tr>\n",
              "      <th>2</th>\n",
              "      <td>OVAL</td>\n",
              "      <td>2/15/1931 14:00</td>\n",
              "    </tr>\n",
              "    <tr>\n",
              "      <th>3</th>\n",
              "      <td>DISK</td>\n",
              "      <td>6/1/1931 13:00</td>\n",
              "    </tr>\n",
              "    <tr>\n",
              "      <th>4</th>\n",
              "      <td>LIGHT</td>\n",
              "      <td>4/18/1933 19:00</td>\n",
              "    </tr>\n",
              "  </tbody>\n",
              "</table>\n",
              "</div>"
            ],
            "text/plain": [
              "  Shape Reported             Time\n",
              "0       TRIANGLE   6/1/1930 22:00\n",
              "1          OTHER  6/30/1930 20:00\n",
              "2           OVAL  2/15/1931 14:00\n",
              "3           DISK   6/1/1931 13:00\n",
              "4          LIGHT  4/18/1933 19:00"
            ]
          },
          "metadata": {
            "tags": []
          },
          "execution_count": 37
        }
      ]
    },
    {
      "cell_type": "code",
      "metadata": {
        "id": "Sbbb1xxSpb8e",
        "outputId": "a00d44fb-7f91-4025-8a5d-767acd584581"
      },
      "source": [
        "ufo.head(10)"
      ],
      "execution_count": null,
      "outputs": [
        {
          "output_type": "execute_result",
          "data": {
            "text/html": [
              "<div>\n",
              "<style scoped>\n",
              "    .dataframe tbody tr th:only-of-type {\n",
              "        vertical-align: middle;\n",
              "    }\n",
              "\n",
              "    .dataframe tbody tr th {\n",
              "        vertical-align: top;\n",
              "    }\n",
              "\n",
              "    .dataframe thead th {\n",
              "        text-align: right;\n",
              "    }\n",
              "</style>\n",
              "<table border=\"1\" class=\"dataframe\">\n",
              "  <thead>\n",
              "    <tr style=\"text-align: right;\">\n",
              "      <th></th>\n",
              "      <th>Shape Reported</th>\n",
              "      <th>Time</th>\n",
              "    </tr>\n",
              "  </thead>\n",
              "  <tbody>\n",
              "    <tr>\n",
              "      <th>0</th>\n",
              "      <td>TRIANGLE</td>\n",
              "      <td>6/1/1930 22:00</td>\n",
              "    </tr>\n",
              "    <tr>\n",
              "      <th>1</th>\n",
              "      <td>OTHER</td>\n",
              "      <td>6/30/1930 20:00</td>\n",
              "    </tr>\n",
              "    <tr>\n",
              "      <th>3</th>\n",
              "      <td>DISK</td>\n",
              "      <td>6/1/1931 13:00</td>\n",
              "    </tr>\n",
              "    <tr>\n",
              "      <th>4</th>\n",
              "      <td>LIGHT</td>\n",
              "      <td>4/18/1933 19:00</td>\n",
              "    </tr>\n",
              "    <tr>\n",
              "      <th>5</th>\n",
              "      <td>DISK</td>\n",
              "      <td>9/15/1934 15:30</td>\n",
              "    </tr>\n",
              "    <tr>\n",
              "      <th>6</th>\n",
              "      <td>CIRCLE</td>\n",
              "      <td>6/15/1935 0:00</td>\n",
              "    </tr>\n",
              "    <tr>\n",
              "      <th>7</th>\n",
              "      <td>DISK</td>\n",
              "      <td>7/15/1936 0:00</td>\n",
              "    </tr>\n",
              "    <tr>\n",
              "      <th>8</th>\n",
              "      <td>CIGAR</td>\n",
              "      <td>10/15/1936 17:00</td>\n",
              "    </tr>\n",
              "    <tr>\n",
              "      <th>10</th>\n",
              "      <td>LIGHT</td>\n",
              "      <td>8/15/1937 21:00</td>\n",
              "    </tr>\n",
              "    <tr>\n",
              "      <th>11</th>\n",
              "      <td>FIREBALL</td>\n",
              "      <td>6/1/1939 20:00</td>\n",
              "    </tr>\n",
              "  </tbody>\n",
              "</table>\n",
              "</div>"
            ],
            "text/plain": [
              "   Shape Reported              Time\n",
              "0        TRIANGLE    6/1/1930 22:00\n",
              "1           OTHER   6/30/1930 20:00\n",
              "3            DISK    6/1/1931 13:00\n",
              "4           LIGHT   4/18/1933 19:00\n",
              "5            DISK   9/15/1934 15:30\n",
              "6          CIRCLE    6/15/1935 0:00\n",
              "7            DISK    7/15/1936 0:00\n",
              "8           CIGAR  10/15/1936 17:00\n",
              "10          LIGHT   8/15/1937 21:00\n",
              "11       FIREBALL    6/1/1939 20:00"
            ]
          },
          "metadata": {
            "tags": []
          },
          "execution_count": 40
        }
      ]
    },
    {
      "cell_type": "code",
      "metadata": {
        "id": "cgpkcX1ipb8e"
      },
      "source": [
        "ufo.reset_index(inplace=True)"
      ],
      "execution_count": null,
      "outputs": []
    },
    {
      "cell_type": "code",
      "metadata": {
        "id": "77kfbwaSpb8e",
        "outputId": "99a03617-3e6d-4ef2-beec-9e812053d346"
      },
      "source": [
        "ufo.head()"
      ],
      "execution_count": null,
      "outputs": [
        {
          "output_type": "execute_result",
          "data": {
            "text/html": [
              "<div>\n",
              "<style scoped>\n",
              "    .dataframe tbody tr th:only-of-type {\n",
              "        vertical-align: middle;\n",
              "    }\n",
              "\n",
              "    .dataframe tbody tr th {\n",
              "        vertical-align: top;\n",
              "    }\n",
              "\n",
              "    .dataframe thead th {\n",
              "        text-align: right;\n",
              "    }\n",
              "</style>\n",
              "<table border=\"1\" class=\"dataframe\">\n",
              "  <thead>\n",
              "    <tr style=\"text-align: right;\">\n",
              "      <th></th>\n",
              "      <th>index</th>\n",
              "      <th>Shape Reported</th>\n",
              "      <th>Time</th>\n",
              "    </tr>\n",
              "  </thead>\n",
              "  <tbody>\n",
              "    <tr>\n",
              "      <th>0</th>\n",
              "      <td>0</td>\n",
              "      <td>TRIANGLE</td>\n",
              "      <td>6/1/1930 22:00</td>\n",
              "    </tr>\n",
              "    <tr>\n",
              "      <th>1</th>\n",
              "      <td>1</td>\n",
              "      <td>OTHER</td>\n",
              "      <td>6/30/1930 20:00</td>\n",
              "    </tr>\n",
              "    <tr>\n",
              "      <th>2</th>\n",
              "      <td>3</td>\n",
              "      <td>DISK</td>\n",
              "      <td>6/1/1931 13:00</td>\n",
              "    </tr>\n",
              "    <tr>\n",
              "      <th>3</th>\n",
              "      <td>4</td>\n",
              "      <td>LIGHT</td>\n",
              "      <td>4/18/1933 19:00</td>\n",
              "    </tr>\n",
              "    <tr>\n",
              "      <th>4</th>\n",
              "      <td>5</td>\n",
              "      <td>DISK</td>\n",
              "      <td>9/15/1934 15:30</td>\n",
              "    </tr>\n",
              "  </tbody>\n",
              "</table>\n",
              "</div>"
            ],
            "text/plain": [
              "   index Shape Reported             Time\n",
              "0      0       TRIANGLE   6/1/1930 22:00\n",
              "1      1          OTHER  6/30/1930 20:00\n",
              "2      3           DISK   6/1/1931 13:00\n",
              "3      4          LIGHT  4/18/1933 19:00\n",
              "4      5           DISK  9/15/1934 15:30"
            ]
          },
          "metadata": {
            "tags": []
          },
          "execution_count": 42
        }
      ]
    },
    {
      "cell_type": "code",
      "metadata": {
        "id": "SHSHEt2xpb8f"
      },
      "source": [
        "# remove multiple rows at once (axis=0 refers to rows)\n",
        "ufo.drop([2,9], axis=0, inplace=True)\n",
        "# ufo.reset_index()"
      ],
      "execution_count": null,
      "outputs": []
    },
    {
      "cell_type": "markdown",
      "metadata": {
        "id": "XzogmLQCpb8f"
      },
      "source": [
        "## How do I sort a pandas DataFrame or a Series?"
      ]
    },
    {
      "cell_type": "code",
      "metadata": {
        "id": "y0e2IGDApb8g",
        "outputId": "924d29b0-d4dc-4a7e-e751-f7052ff1f424"
      },
      "source": [
        "# read a dataset of top-rated IMDb movies into a DataFrame\n",
        "# import pandas as pd\n",
        "movies = pd.read_csv('http://bit.ly/imdbratings')\n",
        "movies.head()"
      ],
      "execution_count": null,
      "outputs": [
        {
          "output_type": "execute_result",
          "data": {
            "text/html": [
              "<div>\n",
              "<style scoped>\n",
              "    .dataframe tbody tr th:only-of-type {\n",
              "        vertical-align: middle;\n",
              "    }\n",
              "\n",
              "    .dataframe tbody tr th {\n",
              "        vertical-align: top;\n",
              "    }\n",
              "\n",
              "    .dataframe thead th {\n",
              "        text-align: right;\n",
              "    }\n",
              "</style>\n",
              "<table border=\"1\" class=\"dataframe\">\n",
              "  <thead>\n",
              "    <tr style=\"text-align: right;\">\n",
              "      <th></th>\n",
              "      <th>star_rating</th>\n",
              "      <th>title</th>\n",
              "      <th>content_rating</th>\n",
              "      <th>genre</th>\n",
              "      <th>duration</th>\n",
              "      <th>actors_list</th>\n",
              "    </tr>\n",
              "  </thead>\n",
              "  <tbody>\n",
              "    <tr>\n",
              "      <th>0</th>\n",
              "      <td>9.3</td>\n",
              "      <td>The Shawshank Redemption</td>\n",
              "      <td>R</td>\n",
              "      <td>Crime</td>\n",
              "      <td>142</td>\n",
              "      <td>[u'Tim Robbins', u'Morgan Freeman', u'Bob Gunt...</td>\n",
              "    </tr>\n",
              "    <tr>\n",
              "      <th>1</th>\n",
              "      <td>9.2</td>\n",
              "      <td>The Godfather</td>\n",
              "      <td>R</td>\n",
              "      <td>Crime</td>\n",
              "      <td>175</td>\n",
              "      <td>[u'Marlon Brando', u'Al Pacino', u'James Caan']</td>\n",
              "    </tr>\n",
              "    <tr>\n",
              "      <th>2</th>\n",
              "      <td>9.1</td>\n",
              "      <td>The Godfather: Part II</td>\n",
              "      <td>R</td>\n",
              "      <td>Crime</td>\n",
              "      <td>200</td>\n",
              "      <td>[u'Al Pacino', u'Robert De Niro', u'Robert Duv...</td>\n",
              "    </tr>\n",
              "    <tr>\n",
              "      <th>3</th>\n",
              "      <td>9.0</td>\n",
              "      <td>The Dark Knight</td>\n",
              "      <td>PG-13</td>\n",
              "      <td>Action</td>\n",
              "      <td>152</td>\n",
              "      <td>[u'Christian Bale', u'Heath Ledger', u'Aaron E...</td>\n",
              "    </tr>\n",
              "    <tr>\n",
              "      <th>4</th>\n",
              "      <td>8.9</td>\n",
              "      <td>Pulp Fiction</td>\n",
              "      <td>R</td>\n",
              "      <td>Crime</td>\n",
              "      <td>154</td>\n",
              "      <td>[u'John Travolta', u'Uma Thurman', u'Samuel L....</td>\n",
              "    </tr>\n",
              "  </tbody>\n",
              "</table>\n",
              "</div>"
            ],
            "text/plain": [
              "   star_rating                     title content_rating   genre  duration  \\\n",
              "0          9.3  The Shawshank Redemption              R   Crime       142   \n",
              "1          9.2             The Godfather              R   Crime       175   \n",
              "2          9.1    The Godfather: Part II              R   Crime       200   \n",
              "3          9.0           The Dark Knight          PG-13  Action       152   \n",
              "4          8.9              Pulp Fiction              R   Crime       154   \n",
              "\n",
              "                                         actors_list  \n",
              "0  [u'Tim Robbins', u'Morgan Freeman', u'Bob Gunt...  \n",
              "1    [u'Marlon Brando', u'Al Pacino', u'James Caan']  \n",
              "2  [u'Al Pacino', u'Robert De Niro', u'Robert Duv...  \n",
              "3  [u'Christian Bale', u'Heath Ledger', u'Aaron E...  \n",
              "4  [u'John Travolta', u'Uma Thurman', u'Samuel L....  "
            ]
          },
          "metadata": {
            "tags": []
          },
          "execution_count": 43
        }
      ]
    },
    {
      "cell_type": "markdown",
      "metadata": {
        "id": "DZ8XbqLEpb8g"
      },
      "source": [
        "**Note:** None of the sorting methods below affect the underlying data. (In other words, the sorting is temporary)."
      ]
    },
    {
      "cell_type": "code",
      "metadata": {
        "id": "4Xtr-npRpb8g",
        "outputId": "3d4b5d05-15c0-4cf1-ba0e-2af1b6e009bb"
      },
      "source": [
        "# sort the 'title' Series in ascending order (returns a Series)\n",
        "movies.title.sort_values().head()"
      ],
      "execution_count": null,
      "outputs": [
        {
          "output_type": "execute_result",
          "data": {
            "text/plain": [
              "542     (500) Days of Summer\n",
              "5               12 Angry Men\n",
              "201         12 Years a Slave\n",
              "698                127 Hours\n",
              "110    2001: A Space Odyssey\n",
              "Name: title, dtype: object"
            ]
          },
          "metadata": {
            "tags": []
          },
          "execution_count": 44
        }
      ]
    },
    {
      "cell_type": "code",
      "metadata": {
        "id": "0JFtsYIRpb8h",
        "outputId": "361e9310-2072-4b44-a523-c1d4af3ce9de"
      },
      "source": [
        "# sort in descending order instead\n",
        "movies.title.sort_values(ascending=False).head()"
      ],
      "execution_count": null,
      "outputs": [
        {
          "output_type": "execute_result",
          "data": {
            "text/plain": [
              "864               [Rec]\n",
              "526                Zulu\n",
              "615          Zombieland\n",
              "677              Zodiac\n",
              "955    Zero Dark Thirty\n",
              "Name: title, dtype: object"
            ]
          },
          "metadata": {
            "tags": []
          },
          "execution_count": 46
        }
      ]
    },
    {
      "cell_type": "markdown",
      "metadata": {
        "id": "BjtjZ_nxpb8h"
      },
      "source": [
        "Documentation for [**`sort_values`**](http://pandas.pydata.org/pandas-docs/stable/generated/pandas.Series.sort_values.html) for a **Series**. (Prior to version 0.17, use [**`order`**](http://pandas.pydata.org/pandas-docs/version/0.17.0/generated/pandas.Series.order.html) instead.)"
      ]
    },
    {
      "cell_type": "code",
      "metadata": {
        "id": "DsEKeHOjpb8i",
        "outputId": "15af2ef3-45dd-4d7d-a670-a5f495121cf0"
      },
      "source": [
        "# sort the entire DataFrame by the 'title' Series (returns a DataFrame)\n",
        "movies.sort_values('star_rating').head()"
      ],
      "execution_count": null,
      "outputs": [
        {
          "output_type": "execute_result",
          "data": {
            "text/html": [
              "<div>\n",
              "<style scoped>\n",
              "    .dataframe tbody tr th:only-of-type {\n",
              "        vertical-align: middle;\n",
              "    }\n",
              "\n",
              "    .dataframe tbody tr th {\n",
              "        vertical-align: top;\n",
              "    }\n",
              "\n",
              "    .dataframe thead th {\n",
              "        text-align: right;\n",
              "    }\n",
              "</style>\n",
              "<table border=\"1\" class=\"dataframe\">\n",
              "  <thead>\n",
              "    <tr style=\"text-align: right;\">\n",
              "      <th></th>\n",
              "      <th>star_rating</th>\n",
              "      <th>title</th>\n",
              "      <th>content_rating</th>\n",
              "      <th>genre</th>\n",
              "      <th>duration</th>\n",
              "      <th>actors_list</th>\n",
              "    </tr>\n",
              "  </thead>\n",
              "  <tbody>\n",
              "    <tr>\n",
              "      <th>978</th>\n",
              "      <td>7.4</td>\n",
              "      <td>Wall Street</td>\n",
              "      <td>R</td>\n",
              "      <td>Crime</td>\n",
              "      <td>126</td>\n",
              "      <td>[u'Charlie Sheen', u'Michael Douglas', u'Tamar...</td>\n",
              "    </tr>\n",
              "    <tr>\n",
              "      <th>950</th>\n",
              "      <td>7.4</td>\n",
              "      <td>Bound</td>\n",
              "      <td>R</td>\n",
              "      <td>Crime</td>\n",
              "      <td>108</td>\n",
              "      <td>[u'Jennifer Tilly', u'Gina Gershon', u'Joe Pan...</td>\n",
              "    </tr>\n",
              "    <tr>\n",
              "      <th>949</th>\n",
              "      <td>7.4</td>\n",
              "      <td>Home Alone</td>\n",
              "      <td>PG</td>\n",
              "      <td>Comedy</td>\n",
              "      <td>103</td>\n",
              "      <td>[u'Macaulay Culkin', u'Joe Pesci', u'Daniel St...</td>\n",
              "    </tr>\n",
              "    <tr>\n",
              "      <th>948</th>\n",
              "      <td>7.4</td>\n",
              "      <td>Frances Ha</td>\n",
              "      <td>R</td>\n",
              "      <td>Comedy</td>\n",
              "      <td>86</td>\n",
              "      <td>[u'Greta Gerwig', u'Mickey Sumner', u'Adam Dri...</td>\n",
              "    </tr>\n",
              "    <tr>\n",
              "      <th>947</th>\n",
              "      <td>7.4</td>\n",
              "      <td>Eraserhead</td>\n",
              "      <td>UNRATED</td>\n",
              "      <td>Drama</td>\n",
              "      <td>89</td>\n",
              "      <td>[u'Jack Nance', u'Charlotte Stewart', u'Allen ...</td>\n",
              "    </tr>\n",
              "  </tbody>\n",
              "</table>\n",
              "</div>"
            ],
            "text/plain": [
              "     star_rating        title content_rating   genre  duration  \\\n",
              "978          7.4  Wall Street              R   Crime       126   \n",
              "950          7.4        Bound              R   Crime       108   \n",
              "949          7.4   Home Alone             PG  Comedy       103   \n",
              "948          7.4   Frances Ha              R  Comedy        86   \n",
              "947          7.4   Eraserhead        UNRATED   Drama        89   \n",
              "\n",
              "                                           actors_list  \n",
              "978  [u'Charlie Sheen', u'Michael Douglas', u'Tamar...  \n",
              "950  [u'Jennifer Tilly', u'Gina Gershon', u'Joe Pan...  \n",
              "949  [u'Macaulay Culkin', u'Joe Pesci', u'Daniel St...  \n",
              "948  [u'Greta Gerwig', u'Mickey Sumner', u'Adam Dri...  \n",
              "947  [u'Jack Nance', u'Charlotte Stewart', u'Allen ...  "
            ]
          },
          "metadata": {
            "tags": []
          },
          "execution_count": 47
        }
      ]
    },
    {
      "cell_type": "code",
      "metadata": {
        "id": "gLqmhqOepb8i"
      },
      "source": [
        "# sort in descending order instead\n",
        "movies.sort_values('title', ascending=False).head()"
      ],
      "execution_count": null,
      "outputs": []
    },
    {
      "cell_type": "markdown",
      "metadata": {
        "id": "CWJKWrHTpb8i"
      },
      "source": [
        "Documentation for [**`sort_values`**](http://pandas.pydata.org/pandas-docs/stable/generated/pandas.DataFrame.sort_values.html) for a **DataFrame**. (Prior to version 0.17, use [**`sort`**](http://pandas.pydata.org/pandas-docs/version/0.17.0/generated/pandas.DataFrame.sort.html) instead.)"
      ]
    },
    {
      "cell_type": "code",
      "metadata": {
        "id": "Yxc9VT0Mpb8j",
        "outputId": "57d1f925-f483-4ca9-beb0-d9d8a33a82d2"
      },
      "source": [
        "# sort the DataFrame first by 'content_rating', then by 'duration'\n",
        "movies.sort_values(['star_rating', 'duration','content_rating'],ascending=[False,True,True]).head(10)"
      ],
      "execution_count": null,
      "outputs": [
        {
          "output_type": "execute_result",
          "data": {
            "text/html": [
              "<div>\n",
              "<style scoped>\n",
              "    .dataframe tbody tr th:only-of-type {\n",
              "        vertical-align: middle;\n",
              "    }\n",
              "\n",
              "    .dataframe tbody tr th {\n",
              "        vertical-align: top;\n",
              "    }\n",
              "\n",
              "    .dataframe thead th {\n",
              "        text-align: right;\n",
              "    }\n",
              "</style>\n",
              "<table border=\"1\" class=\"dataframe\">\n",
              "  <thead>\n",
              "    <tr style=\"text-align: right;\">\n",
              "      <th></th>\n",
              "      <th>star_rating</th>\n",
              "      <th>title</th>\n",
              "      <th>content_rating</th>\n",
              "      <th>genre</th>\n",
              "      <th>duration</th>\n",
              "      <th>actors_list</th>\n",
              "    </tr>\n",
              "  </thead>\n",
              "  <tbody>\n",
              "    <tr>\n",
              "      <th>0</th>\n",
              "      <td>9.3</td>\n",
              "      <td>The Shawshank Redemption</td>\n",
              "      <td>R</td>\n",
              "      <td>Crime</td>\n",
              "      <td>142</td>\n",
              "      <td>[u'Tim Robbins', u'Morgan Freeman', u'Bob Gunt...</td>\n",
              "    </tr>\n",
              "    <tr>\n",
              "      <th>1</th>\n",
              "      <td>9.2</td>\n",
              "      <td>The Godfather</td>\n",
              "      <td>R</td>\n",
              "      <td>Crime</td>\n",
              "      <td>175</td>\n",
              "      <td>[u'Marlon Brando', u'Al Pacino', u'James Caan']</td>\n",
              "    </tr>\n",
              "    <tr>\n",
              "      <th>2</th>\n",
              "      <td>9.1</td>\n",
              "      <td>The Godfather: Part II</td>\n",
              "      <td>R</td>\n",
              "      <td>Crime</td>\n",
              "      <td>200</td>\n",
              "      <td>[u'Al Pacino', u'Robert De Niro', u'Robert Duv...</td>\n",
              "    </tr>\n",
              "    <tr>\n",
              "      <th>3</th>\n",
              "      <td>9.0</td>\n",
              "      <td>The Dark Knight</td>\n",
              "      <td>PG-13</td>\n",
              "      <td>Action</td>\n",
              "      <td>152</td>\n",
              "      <td>[u'Christian Bale', u'Heath Ledger', u'Aaron E...</td>\n",
              "    </tr>\n",
              "    <tr>\n",
              "      <th>5</th>\n",
              "      <td>8.9</td>\n",
              "      <td>12 Angry Men</td>\n",
              "      <td>NOT RATED</td>\n",
              "      <td>Drama</td>\n",
              "      <td>96</td>\n",
              "      <td>[u'Henry Fonda', u'Lee J. Cobb', u'Martin Bals...</td>\n",
              "    </tr>\n",
              "    <tr>\n",
              "      <th>9</th>\n",
              "      <td>8.9</td>\n",
              "      <td>Fight Club</td>\n",
              "      <td>R</td>\n",
              "      <td>Drama</td>\n",
              "      <td>139</td>\n",
              "      <td>[u'Brad Pitt', u'Edward Norton', u'Helena Bonh...</td>\n",
              "    </tr>\n",
              "    <tr>\n",
              "      <th>4</th>\n",
              "      <td>8.9</td>\n",
              "      <td>Pulp Fiction</td>\n",
              "      <td>R</td>\n",
              "      <td>Crime</td>\n",
              "      <td>154</td>\n",
              "      <td>[u'John Travolta', u'Uma Thurman', u'Samuel L....</td>\n",
              "    </tr>\n",
              "    <tr>\n",
              "      <th>6</th>\n",
              "      <td>8.9</td>\n",
              "      <td>The Good, the Bad and the Ugly</td>\n",
              "      <td>NOT RATED</td>\n",
              "      <td>Western</td>\n",
              "      <td>161</td>\n",
              "      <td>[u'Clint Eastwood', u'Eli Wallach', u'Lee Van ...</td>\n",
              "    </tr>\n",
              "    <tr>\n",
              "      <th>8</th>\n",
              "      <td>8.9</td>\n",
              "      <td>Schindler's List</td>\n",
              "      <td>R</td>\n",
              "      <td>Biography</td>\n",
              "      <td>195</td>\n",
              "      <td>[u'Liam Neeson', u'Ralph Fiennes', u'Ben Kings...</td>\n",
              "    </tr>\n",
              "    <tr>\n",
              "      <th>7</th>\n",
              "      <td>8.9</td>\n",
              "      <td>The Lord of the Rings: The Return of the King</td>\n",
              "      <td>PG-13</td>\n",
              "      <td>Adventure</td>\n",
              "      <td>201</td>\n",
              "      <td>[u'Elijah Wood', u'Viggo Mortensen', u'Ian McK...</td>\n",
              "    </tr>\n",
              "  </tbody>\n",
              "</table>\n",
              "</div>"
            ],
            "text/plain": [
              "   star_rating                                          title content_rating  \\\n",
              "0          9.3                       The Shawshank Redemption              R   \n",
              "1          9.2                                  The Godfather              R   \n",
              "2          9.1                         The Godfather: Part II              R   \n",
              "3          9.0                                The Dark Knight          PG-13   \n",
              "5          8.9                                   12 Angry Men      NOT RATED   \n",
              "9          8.9                                     Fight Club              R   \n",
              "4          8.9                                   Pulp Fiction              R   \n",
              "6          8.9                 The Good, the Bad and the Ugly      NOT RATED   \n",
              "8          8.9                               Schindler's List              R   \n",
              "7          8.9  The Lord of the Rings: The Return of the King          PG-13   \n",
              "\n",
              "       genre  duration                                        actors_list  \n",
              "0      Crime       142  [u'Tim Robbins', u'Morgan Freeman', u'Bob Gunt...  \n",
              "1      Crime       175    [u'Marlon Brando', u'Al Pacino', u'James Caan']  \n",
              "2      Crime       200  [u'Al Pacino', u'Robert De Niro', u'Robert Duv...  \n",
              "3     Action       152  [u'Christian Bale', u'Heath Ledger', u'Aaron E...  \n",
              "5      Drama        96  [u'Henry Fonda', u'Lee J. Cobb', u'Martin Bals...  \n",
              "9      Drama       139  [u'Brad Pitt', u'Edward Norton', u'Helena Bonh...  \n",
              "4      Crime       154  [u'John Travolta', u'Uma Thurman', u'Samuel L....  \n",
              "6    Western       161  [u'Clint Eastwood', u'Eli Wallach', u'Lee Van ...  \n",
              "8  Biography       195  [u'Liam Neeson', u'Ralph Fiennes', u'Ben Kings...  \n",
              "7  Adventure       201  [u'Elijah Wood', u'Viggo Mortensen', u'Ian McK...  "
            ]
          },
          "metadata": {
            "tags": []
          },
          "execution_count": 48
        }
      ]
    },
    {
      "cell_type": "markdown",
      "metadata": {
        "id": "sXbW8iYfpb8k"
      },
      "source": [
        "\n",
        "## How do I filter rows of a pandas DataFrame by column value?"
      ]
    },
    {
      "cell_type": "code",
      "metadata": {
        "id": "gng8jLBTpb8k",
        "outputId": "b06d36ed-3040-48da-e094-d4be11abba02"
      },
      "source": [
        "# read a dataset of top-rated IMDb movies into a DataFrame\n",
        "movies = pd.read_csv('http://bit.ly/imdbratings')\n",
        "movies.head()"
      ],
      "execution_count": null,
      "outputs": [
        {
          "output_type": "execute_result",
          "data": {
            "text/html": [
              "<div>\n",
              "<style scoped>\n",
              "    .dataframe tbody tr th:only-of-type {\n",
              "        vertical-align: middle;\n",
              "    }\n",
              "\n",
              "    .dataframe tbody tr th {\n",
              "        vertical-align: top;\n",
              "    }\n",
              "\n",
              "    .dataframe thead th {\n",
              "        text-align: right;\n",
              "    }\n",
              "</style>\n",
              "<table border=\"1\" class=\"dataframe\">\n",
              "  <thead>\n",
              "    <tr style=\"text-align: right;\">\n",
              "      <th></th>\n",
              "      <th>star_rating</th>\n",
              "      <th>title</th>\n",
              "      <th>content_rating</th>\n",
              "      <th>genre</th>\n",
              "      <th>duration</th>\n",
              "      <th>actors_list</th>\n",
              "    </tr>\n",
              "  </thead>\n",
              "  <tbody>\n",
              "    <tr>\n",
              "      <th>0</th>\n",
              "      <td>9.3</td>\n",
              "      <td>The Shawshank Redemption</td>\n",
              "      <td>R</td>\n",
              "      <td>Crime</td>\n",
              "      <td>142</td>\n",
              "      <td>[u'Tim Robbins', u'Morgan Freeman', u'Bob Gunt...</td>\n",
              "    </tr>\n",
              "    <tr>\n",
              "      <th>1</th>\n",
              "      <td>9.2</td>\n",
              "      <td>The Godfather</td>\n",
              "      <td>R</td>\n",
              "      <td>Crime</td>\n",
              "      <td>175</td>\n",
              "      <td>[u'Marlon Brando', u'Al Pacino', u'James Caan']</td>\n",
              "    </tr>\n",
              "    <tr>\n",
              "      <th>2</th>\n",
              "      <td>9.1</td>\n",
              "      <td>The Godfather: Part II</td>\n",
              "      <td>R</td>\n",
              "      <td>Crime</td>\n",
              "      <td>200</td>\n",
              "      <td>[u'Al Pacino', u'Robert De Niro', u'Robert Duv...</td>\n",
              "    </tr>\n",
              "    <tr>\n",
              "      <th>3</th>\n",
              "      <td>9.0</td>\n",
              "      <td>The Dark Knight</td>\n",
              "      <td>PG-13</td>\n",
              "      <td>Action</td>\n",
              "      <td>152</td>\n",
              "      <td>[u'Christian Bale', u'Heath Ledger', u'Aaron E...</td>\n",
              "    </tr>\n",
              "    <tr>\n",
              "      <th>4</th>\n",
              "      <td>8.9</td>\n",
              "      <td>Pulp Fiction</td>\n",
              "      <td>R</td>\n",
              "      <td>Crime</td>\n",
              "      <td>154</td>\n",
              "      <td>[u'John Travolta', u'Uma Thurman', u'Samuel L....</td>\n",
              "    </tr>\n",
              "  </tbody>\n",
              "</table>\n",
              "</div>"
            ],
            "text/plain": [
              "   star_rating                     title content_rating   genre  duration  \\\n",
              "0          9.3  The Shawshank Redemption              R   Crime       142   \n",
              "1          9.2             The Godfather              R   Crime       175   \n",
              "2          9.1    The Godfather: Part II              R   Crime       200   \n",
              "3          9.0           The Dark Knight          PG-13  Action       152   \n",
              "4          8.9              Pulp Fiction              R   Crime       154   \n",
              "\n",
              "                                         actors_list  \n",
              "0  [u'Tim Robbins', u'Morgan Freeman', u'Bob Gunt...  \n",
              "1    [u'Marlon Brando', u'Al Pacino', u'James Caan']  \n",
              "2  [u'Al Pacino', u'Robert De Niro', u'Robert Duv...  \n",
              "3  [u'Christian Bale', u'Heath Ledger', u'Aaron E...  \n",
              "4  [u'John Travolta', u'Uma Thurman', u'Samuel L....  "
            ]
          },
          "metadata": {
            "tags": []
          },
          "execution_count": 49
        }
      ]
    },
    {
      "cell_type": "code",
      "metadata": {
        "id": "pSuJxyCKpb8l",
        "outputId": "3490d5e0-104f-4396-c0f5-1d82094c604e"
      },
      "source": [
        "# examine the number of rows and columns\n",
        "movies.shape"
      ],
      "execution_count": null,
      "outputs": [
        {
          "output_type": "execute_result",
          "data": {
            "text/plain": [
              "(979, 6)"
            ]
          },
          "metadata": {
            "tags": []
          },
          "execution_count": 50
        }
      ]
    },
    {
      "cell_type": "markdown",
      "metadata": {
        "id": "3cc-pgeXpb8o"
      },
      "source": [
        "**Goal:** Filter the DataFrame rows to only show movies with a 'duration' of at least 200 minutes."
      ]
    },
    {
      "cell_type": "code",
      "metadata": {
        "id": "fboKCh6apb8p",
        "outputId": "4e48f8a2-0c79-4bda-940e-6836f8cd022e"
      },
      "source": [
        "movies.duration"
      ],
      "execution_count": null,
      "outputs": [
        {
          "output_type": "execute_result",
          "data": {
            "text/plain": [
              "0      142\n",
              "1      175\n",
              "2      200\n",
              "3      152\n",
              "4      154\n",
              "      ... \n",
              "974    116\n",
              "975    118\n",
              "976    138\n",
              "977    114\n",
              "978    126\n",
              "Name: duration, Length: 979, dtype: int64"
            ]
          },
          "metadata": {
            "tags": []
          },
          "execution_count": 51
        }
      ]
    },
    {
      "cell_type": "code",
      "metadata": {
        "id": "Fs6JuQQ6pb8q",
        "outputId": "c8f4b119-c655-4602-c694-e1e8cb15fedb"
      },
      "source": [
        "movies.duration >= 200"
      ],
      "execution_count": null,
      "outputs": [
        {
          "output_type": "execute_result",
          "data": {
            "text/plain": [
              "0      False\n",
              "1      False\n",
              "2       True\n",
              "3      False\n",
              "4      False\n",
              "       ...  \n",
              "974    False\n",
              "975    False\n",
              "976    False\n",
              "977    False\n",
              "978    False\n",
              "Name: duration, Length: 979, dtype: bool"
            ]
          },
          "metadata": {
            "tags": []
          },
          "execution_count": 52
        }
      ]
    },
    {
      "cell_type": "code",
      "metadata": {
        "id": "VPKZv4Zvpb8q",
        "outputId": "aea1b6a1-ade3-4e97-e27b-9a0cf830f5ec"
      },
      "source": [
        "movies[movies.duration >= 200]['title']"
      ],
      "execution_count": null,
      "outputs": [
        {
          "output_type": "execute_result",
          "data": {
            "text/plain": [
              "2                             The Godfather: Part II\n",
              "7      The Lord of the Rings: The Return of the King\n",
              "17                                     Seven Samurai\n",
              "78                       Once Upon a Time in America\n",
              "85                                Lawrence of Arabia\n",
              "142                Lagaan: Once Upon a Time in India\n",
              "157                               Gone with the Wind\n",
              "204                                          Ben-Hur\n",
              "445                             The Ten Commandments\n",
              "476                                           Hamlet\n",
              "630                                        Malcolm X\n",
              "767                  It's a Mad, Mad, Mad, Mad World\n",
              "Name: title, dtype: object"
            ]
          },
          "metadata": {
            "tags": []
          },
          "execution_count": 54
        }
      ]
    },
    {
      "cell_type": "code",
      "metadata": {
        "id": "kxMV8EDCpb8r",
        "outputId": "8fea1639-32d4-4955-84ef-4f38605652f7"
      },
      "source": [
        "# simplify the steps above: no need to write a for loop to create 'is_long' since pandas will broadcast the comparison\n",
        "is_long = movies.duration >= 200\n",
        "movies[is_long]\n",
        "\n",
        "# or equivalently, write it in one line (no need to create the 'is_long' object)\n",
        "movies[movies.duration >= 200]"
      ],
      "execution_count": null,
      "outputs": [
        {
          "output_type": "execute_result",
          "data": {
            "text/html": [
              "<div>\n",
              "<style scoped>\n",
              "    .dataframe tbody tr th:only-of-type {\n",
              "        vertical-align: middle;\n",
              "    }\n",
              "\n",
              "    .dataframe tbody tr th {\n",
              "        vertical-align: top;\n",
              "    }\n",
              "\n",
              "    .dataframe thead th {\n",
              "        text-align: right;\n",
              "    }\n",
              "</style>\n",
              "<table border=\"1\" class=\"dataframe\">\n",
              "  <thead>\n",
              "    <tr style=\"text-align: right;\">\n",
              "      <th></th>\n",
              "      <th>star_rating</th>\n",
              "      <th>title</th>\n",
              "      <th>content_rating</th>\n",
              "      <th>genre</th>\n",
              "      <th>duration</th>\n",
              "      <th>actors_list</th>\n",
              "    </tr>\n",
              "  </thead>\n",
              "  <tbody>\n",
              "    <tr>\n",
              "      <th>2</th>\n",
              "      <td>9.1</td>\n",
              "      <td>The Godfather: Part II</td>\n",
              "      <td>R</td>\n",
              "      <td>Crime</td>\n",
              "      <td>200</td>\n",
              "      <td>[u'Al Pacino', u'Robert De Niro', u'Robert Duv...</td>\n",
              "    </tr>\n",
              "    <tr>\n",
              "      <th>7</th>\n",
              "      <td>8.9</td>\n",
              "      <td>The Lord of the Rings: The Return of the King</td>\n",
              "      <td>PG-13</td>\n",
              "      <td>Adventure</td>\n",
              "      <td>201</td>\n",
              "      <td>[u'Elijah Wood', u'Viggo Mortensen', u'Ian McK...</td>\n",
              "    </tr>\n",
              "    <tr>\n",
              "      <th>17</th>\n",
              "      <td>8.7</td>\n",
              "      <td>Seven Samurai</td>\n",
              "      <td>UNRATED</td>\n",
              "      <td>Drama</td>\n",
              "      <td>207</td>\n",
              "      <td>[u'Toshir\\xf4 Mifune', u'Takashi Shimura', u'K...</td>\n",
              "    </tr>\n",
              "    <tr>\n",
              "      <th>78</th>\n",
              "      <td>8.4</td>\n",
              "      <td>Once Upon a Time in America</td>\n",
              "      <td>R</td>\n",
              "      <td>Crime</td>\n",
              "      <td>229</td>\n",
              "      <td>[u'Robert De Niro', u'James Woods', u'Elizabet...</td>\n",
              "    </tr>\n",
              "    <tr>\n",
              "      <th>85</th>\n",
              "      <td>8.4</td>\n",
              "      <td>Lawrence of Arabia</td>\n",
              "      <td>PG</td>\n",
              "      <td>Adventure</td>\n",
              "      <td>216</td>\n",
              "      <td>[u\"Peter O'Toole\", u'Alec Guinness', u'Anthony...</td>\n",
              "    </tr>\n",
              "    <tr>\n",
              "      <th>142</th>\n",
              "      <td>8.3</td>\n",
              "      <td>Lagaan: Once Upon a Time in India</td>\n",
              "      <td>PG</td>\n",
              "      <td>Adventure</td>\n",
              "      <td>224</td>\n",
              "      <td>[u'Aamir Khan', u'Gracy Singh', u'Rachel Shell...</td>\n",
              "    </tr>\n",
              "    <tr>\n",
              "      <th>157</th>\n",
              "      <td>8.2</td>\n",
              "      <td>Gone with the Wind</td>\n",
              "      <td>G</td>\n",
              "      <td>Drama</td>\n",
              "      <td>238</td>\n",
              "      <td>[u'Clark Gable', u'Vivien Leigh', u'Thomas Mit...</td>\n",
              "    </tr>\n",
              "    <tr>\n",
              "      <th>204</th>\n",
              "      <td>8.1</td>\n",
              "      <td>Ben-Hur</td>\n",
              "      <td>G</td>\n",
              "      <td>Adventure</td>\n",
              "      <td>212</td>\n",
              "      <td>[u'Charlton Heston', u'Jack Hawkins', u'Stephe...</td>\n",
              "    </tr>\n",
              "    <tr>\n",
              "      <th>445</th>\n",
              "      <td>7.9</td>\n",
              "      <td>The Ten Commandments</td>\n",
              "      <td>APPROVED</td>\n",
              "      <td>Adventure</td>\n",
              "      <td>220</td>\n",
              "      <td>[u'Charlton Heston', u'Yul Brynner', u'Anne Ba...</td>\n",
              "    </tr>\n",
              "    <tr>\n",
              "      <th>476</th>\n",
              "      <td>7.8</td>\n",
              "      <td>Hamlet</td>\n",
              "      <td>PG-13</td>\n",
              "      <td>Drama</td>\n",
              "      <td>242</td>\n",
              "      <td>[u'Kenneth Branagh', u'Julie Christie', u'Dere...</td>\n",
              "    </tr>\n",
              "    <tr>\n",
              "      <th>630</th>\n",
              "      <td>7.7</td>\n",
              "      <td>Malcolm X</td>\n",
              "      <td>PG-13</td>\n",
              "      <td>Biography</td>\n",
              "      <td>202</td>\n",
              "      <td>[u'Denzel Washington', u'Angela Bassett', u'De...</td>\n",
              "    </tr>\n",
              "    <tr>\n",
              "      <th>767</th>\n",
              "      <td>7.6</td>\n",
              "      <td>It's a Mad, Mad, Mad, Mad World</td>\n",
              "      <td>APPROVED</td>\n",
              "      <td>Action</td>\n",
              "      <td>205</td>\n",
              "      <td>[u'Spencer Tracy', u'Milton Berle', u'Ethel Me...</td>\n",
              "    </tr>\n",
              "  </tbody>\n",
              "</table>\n",
              "</div>"
            ],
            "text/plain": [
              "     star_rating                                          title  \\\n",
              "2            9.1                         The Godfather: Part II   \n",
              "7            8.9  The Lord of the Rings: The Return of the King   \n",
              "17           8.7                                  Seven Samurai   \n",
              "78           8.4                    Once Upon a Time in America   \n",
              "85           8.4                             Lawrence of Arabia   \n",
              "142          8.3              Lagaan: Once Upon a Time in India   \n",
              "157          8.2                             Gone with the Wind   \n",
              "204          8.1                                        Ben-Hur   \n",
              "445          7.9                           The Ten Commandments   \n",
              "476          7.8                                         Hamlet   \n",
              "630          7.7                                      Malcolm X   \n",
              "767          7.6                It's a Mad, Mad, Mad, Mad World   \n",
              "\n",
              "    content_rating      genre  duration  \\\n",
              "2                R      Crime       200   \n",
              "7            PG-13  Adventure       201   \n",
              "17         UNRATED      Drama       207   \n",
              "78               R      Crime       229   \n",
              "85              PG  Adventure       216   \n",
              "142             PG  Adventure       224   \n",
              "157              G      Drama       238   \n",
              "204              G  Adventure       212   \n",
              "445       APPROVED  Adventure       220   \n",
              "476          PG-13      Drama       242   \n",
              "630          PG-13  Biography       202   \n",
              "767       APPROVED     Action       205   \n",
              "\n",
              "                                           actors_list  \n",
              "2    [u'Al Pacino', u'Robert De Niro', u'Robert Duv...  \n",
              "7    [u'Elijah Wood', u'Viggo Mortensen', u'Ian McK...  \n",
              "17   [u'Toshir\\xf4 Mifune', u'Takashi Shimura', u'K...  \n",
              "78   [u'Robert De Niro', u'James Woods', u'Elizabet...  \n",
              "85   [u\"Peter O'Toole\", u'Alec Guinness', u'Anthony...  \n",
              "142  [u'Aamir Khan', u'Gracy Singh', u'Rachel Shell...  \n",
              "157  [u'Clark Gable', u'Vivien Leigh', u'Thomas Mit...  \n",
              "204  [u'Charlton Heston', u'Jack Hawkins', u'Stephe...  \n",
              "445  [u'Charlton Heston', u'Yul Brynner', u'Anne Ba...  \n",
              "476  [u'Kenneth Branagh', u'Julie Christie', u'Dere...  \n",
              "630  [u'Denzel Washington', u'Angela Bassett', u'De...  \n",
              "767  [u'Spencer Tracy', u'Milton Berle', u'Ethel Me...  "
            ]
          },
          "metadata": {
            "tags": []
          },
          "execution_count": 55
        }
      ]
    },
    {
      "cell_type": "code",
      "metadata": {
        "id": "3UQm2CPXpb8r",
        "outputId": "68475f12-5222-4df2-dcc9-4c82ddb4c444"
      },
      "source": [
        "# select the 'genre' Series from the filtered DataFrame\n",
        "movies[movies.duration >= 200].genre"
      ],
      "execution_count": null,
      "outputs": [
        {
          "output_type": "execute_result",
          "data": {
            "text/plain": [
              "2          Crime\n",
              "7      Adventure\n",
              "17         Drama\n",
              "78         Crime\n",
              "85     Adventure\n",
              "142    Adventure\n",
              "157        Drama\n",
              "204    Adventure\n",
              "445    Adventure\n",
              "476        Drama\n",
              "630    Biography\n",
              "767       Action\n",
              "Name: genre, dtype: object"
            ]
          },
          "metadata": {
            "tags": []
          },
          "execution_count": 56
        }
      ]
    },
    {
      "cell_type": "markdown",
      "metadata": {
        "id": "GEU0Ymwxpb8s"
      },
      "source": [
        "Documentation for [**`loc`**](http://pandas.pydata.org/pandas-docs/stable/generated/pandas.DataFrame.loc.html)"
      ]
    },
    {
      "cell_type": "markdown",
      "metadata": {
        "id": "rtsHlZiypb8s"
      },
      "source": [
        "## How do I apply multiple filter criteria to a pandas DataFrame? "
      ]
    },
    {
      "cell_type": "code",
      "metadata": {
        "id": "ka2R6fcgpb8s",
        "outputId": "f5e9ecf2-fac7-43b2-b7be-81f3159483d9"
      },
      "source": [
        "# read a dataset of top-rated IMDb movies into a DataFrame\n",
        "import pandas as pd\n",
        "movies = pd.read_csv('http://bit.ly/imdbratings')\n",
        "movies.head()"
      ],
      "execution_count": null,
      "outputs": [
        {
          "output_type": "execute_result",
          "data": {
            "text/html": [
              "<div>\n",
              "<style scoped>\n",
              "    .dataframe tbody tr th:only-of-type {\n",
              "        vertical-align: middle;\n",
              "    }\n",
              "\n",
              "    .dataframe tbody tr th {\n",
              "        vertical-align: top;\n",
              "    }\n",
              "\n",
              "    .dataframe thead th {\n",
              "        text-align: right;\n",
              "    }\n",
              "</style>\n",
              "<table border=\"1\" class=\"dataframe\">\n",
              "  <thead>\n",
              "    <tr style=\"text-align: right;\">\n",
              "      <th></th>\n",
              "      <th>star_rating</th>\n",
              "      <th>title</th>\n",
              "      <th>content_rating</th>\n",
              "      <th>genre</th>\n",
              "      <th>duration</th>\n",
              "      <th>actors_list</th>\n",
              "    </tr>\n",
              "  </thead>\n",
              "  <tbody>\n",
              "    <tr>\n",
              "      <th>0</th>\n",
              "      <td>9.3</td>\n",
              "      <td>The Shawshank Redemption</td>\n",
              "      <td>R</td>\n",
              "      <td>Crime</td>\n",
              "      <td>142</td>\n",
              "      <td>[u'Tim Robbins', u'Morgan Freeman', u'Bob Gunt...</td>\n",
              "    </tr>\n",
              "    <tr>\n",
              "      <th>1</th>\n",
              "      <td>9.2</td>\n",
              "      <td>The Godfather</td>\n",
              "      <td>R</td>\n",
              "      <td>Crime</td>\n",
              "      <td>175</td>\n",
              "      <td>[u'Marlon Brando', u'Al Pacino', u'James Caan']</td>\n",
              "    </tr>\n",
              "    <tr>\n",
              "      <th>2</th>\n",
              "      <td>9.1</td>\n",
              "      <td>The Godfather: Part II</td>\n",
              "      <td>R</td>\n",
              "      <td>Crime</td>\n",
              "      <td>200</td>\n",
              "      <td>[u'Al Pacino', u'Robert De Niro', u'Robert Duv...</td>\n",
              "    </tr>\n",
              "    <tr>\n",
              "      <th>3</th>\n",
              "      <td>9.0</td>\n",
              "      <td>The Dark Knight</td>\n",
              "      <td>PG-13</td>\n",
              "      <td>Action</td>\n",
              "      <td>152</td>\n",
              "      <td>[u'Christian Bale', u'Heath Ledger', u'Aaron E...</td>\n",
              "    </tr>\n",
              "    <tr>\n",
              "      <th>4</th>\n",
              "      <td>8.9</td>\n",
              "      <td>Pulp Fiction</td>\n",
              "      <td>R</td>\n",
              "      <td>Crime</td>\n",
              "      <td>154</td>\n",
              "      <td>[u'John Travolta', u'Uma Thurman', u'Samuel L....</td>\n",
              "    </tr>\n",
              "  </tbody>\n",
              "</table>\n",
              "</div>"
            ],
            "text/plain": [
              "   star_rating                     title content_rating   genre  duration  \\\n",
              "0          9.3  The Shawshank Redemption              R   Crime       142   \n",
              "1          9.2             The Godfather              R   Crime       175   \n",
              "2          9.1    The Godfather: Part II              R   Crime       200   \n",
              "3          9.0           The Dark Knight          PG-13  Action       152   \n",
              "4          8.9              Pulp Fiction              R   Crime       154   \n",
              "\n",
              "                                         actors_list  \n",
              "0  [u'Tim Robbins', u'Morgan Freeman', u'Bob Gunt...  \n",
              "1    [u'Marlon Brando', u'Al Pacino', u'James Caan']  \n",
              "2  [u'Al Pacino', u'Robert De Niro', u'Robert Duv...  \n",
              "3  [u'Christian Bale', u'Heath Ledger', u'Aaron E...  \n",
              "4  [u'John Travolta', u'Uma Thurman', u'Samuel L....  "
            ]
          },
          "metadata": {
            "tags": []
          },
          "execution_count": 1
        }
      ]
    },
    {
      "cell_type": "code",
      "metadata": {
        "id": "bOZWY6kJpb8t"
      },
      "source": [
        "# filter the DataFrame to only show movies with a 'duration' of at least 200 minutes\n",
        "movies[movies.duration >= 200]"
      ],
      "execution_count": null,
      "outputs": []
    },
    {
      "cell_type": "markdown",
      "metadata": {
        "id": "7_-n9ZFSpb8t"
      },
      "source": [
        "Understanding **logical operators:**\n",
        "\n",
        "- **`and`**: True only if **both sides** of the operator are True\n",
        "- **`or`**: True if **either side** of the operator is True"
      ]
    },
    {
      "cell_type": "markdown",
      "metadata": {
        "id": "yxEwaTeXpb8u"
      },
      "source": [
        "Rules for specifying **multiple filter criteria** in pandas:\n",
        "\n",
        "- use **`&`** instead of **`and`**\n",
        "- use **`|`** instead of **`or`**\n",
        "- add **parentheses** around each condition to specify evaluation order"
      ]
    },
    {
      "cell_type": "markdown",
      "metadata": {
        "id": "uRdhS_vTpb8u"
      },
      "source": [
        "**Goal:** Further filter the DataFrame of long movies (duration >= 200) to only show movies which also have a 'genre' of 'Drama'"
      ]
    },
    {
      "cell_type": "code",
      "metadata": {
        "id": "rR7SYX9spb8u",
        "outputId": "b4c3a70c-0030-4184-a77c-94e89c34c117"
      },
      "source": [
        "# use the '&' operator to specify that both conditions are required\n",
        "movies[(movies.duration >=200) & (movies.genre == 'Drama')]"
      ],
      "execution_count": null,
      "outputs": [
        {
          "output_type": "execute_result",
          "data": {
            "text/html": [
              "<div>\n",
              "<style scoped>\n",
              "    .dataframe tbody tr th:only-of-type {\n",
              "        vertical-align: middle;\n",
              "    }\n",
              "\n",
              "    .dataframe tbody tr th {\n",
              "        vertical-align: top;\n",
              "    }\n",
              "\n",
              "    .dataframe thead th {\n",
              "        text-align: right;\n",
              "    }\n",
              "</style>\n",
              "<table border=\"1\" class=\"dataframe\">\n",
              "  <thead>\n",
              "    <tr style=\"text-align: right;\">\n",
              "      <th></th>\n",
              "      <th>star_rating</th>\n",
              "      <th>title</th>\n",
              "      <th>content_rating</th>\n",
              "      <th>genre</th>\n",
              "      <th>duration</th>\n",
              "      <th>actors_list</th>\n",
              "    </tr>\n",
              "  </thead>\n",
              "  <tbody>\n",
              "    <tr>\n",
              "      <th>17</th>\n",
              "      <td>8.7</td>\n",
              "      <td>Seven Samurai</td>\n",
              "      <td>UNRATED</td>\n",
              "      <td>Drama</td>\n",
              "      <td>207</td>\n",
              "      <td>[u'Toshir\\xf4 Mifune', u'Takashi Shimura', u'K...</td>\n",
              "    </tr>\n",
              "    <tr>\n",
              "      <th>157</th>\n",
              "      <td>8.2</td>\n",
              "      <td>Gone with the Wind</td>\n",
              "      <td>G</td>\n",
              "      <td>Drama</td>\n",
              "      <td>238</td>\n",
              "      <td>[u'Clark Gable', u'Vivien Leigh', u'Thomas Mit...</td>\n",
              "    </tr>\n",
              "    <tr>\n",
              "      <th>476</th>\n",
              "      <td>7.8</td>\n",
              "      <td>Hamlet</td>\n",
              "      <td>PG-13</td>\n",
              "      <td>Drama</td>\n",
              "      <td>242</td>\n",
              "      <td>[u'Kenneth Branagh', u'Julie Christie', u'Dere...</td>\n",
              "    </tr>\n",
              "  </tbody>\n",
              "</table>\n",
              "</div>"
            ],
            "text/plain": [
              "     star_rating               title content_rating  genre  duration  \\\n",
              "17           8.7       Seven Samurai        UNRATED  Drama       207   \n",
              "157          8.2  Gone with the Wind              G  Drama       238   \n",
              "476          7.8              Hamlet          PG-13  Drama       242   \n",
              "\n",
              "                                           actors_list  \n",
              "17   [u'Toshir\\xf4 Mifune', u'Takashi Shimura', u'K...  \n",
              "157  [u'Clark Gable', u'Vivien Leigh', u'Thomas Mit...  \n",
              "476  [u'Kenneth Branagh', u'Julie Christie', u'Dere...  "
            ]
          },
          "metadata": {
            "tags": []
          },
          "execution_count": 58
        }
      ]
    },
    {
      "cell_type": "code",
      "metadata": {
        "id": "57T1I_lwpb8v",
        "outputId": "1ec22897-ef7b-41ee-f65d-52a73b2c9f64"
      },
      "source": [
        "# using the '|' operator would have shown movies that are either long or dramas (or both)\n",
        "movies[(movies.duration >=200) | (movies.genre == 'Drama')].head()"
      ],
      "execution_count": null,
      "outputs": [
        {
          "output_type": "execute_result",
          "data": {
            "text/html": [
              "<div>\n",
              "<style scoped>\n",
              "    .dataframe tbody tr th:only-of-type {\n",
              "        vertical-align: middle;\n",
              "    }\n",
              "\n",
              "    .dataframe tbody tr th {\n",
              "        vertical-align: top;\n",
              "    }\n",
              "\n",
              "    .dataframe thead th {\n",
              "        text-align: right;\n",
              "    }\n",
              "</style>\n",
              "<table border=\"1\" class=\"dataframe\">\n",
              "  <thead>\n",
              "    <tr style=\"text-align: right;\">\n",
              "      <th></th>\n",
              "      <th>star_rating</th>\n",
              "      <th>title</th>\n",
              "      <th>content_rating</th>\n",
              "      <th>genre</th>\n",
              "      <th>duration</th>\n",
              "      <th>actors_list</th>\n",
              "    </tr>\n",
              "  </thead>\n",
              "  <tbody>\n",
              "    <tr>\n",
              "      <th>2</th>\n",
              "      <td>9.1</td>\n",
              "      <td>The Godfather: Part II</td>\n",
              "      <td>R</td>\n",
              "      <td>Crime</td>\n",
              "      <td>200</td>\n",
              "      <td>[u'Al Pacino', u'Robert De Niro', u'Robert Duv...</td>\n",
              "    </tr>\n",
              "    <tr>\n",
              "      <th>5</th>\n",
              "      <td>8.9</td>\n",
              "      <td>12 Angry Men</td>\n",
              "      <td>NOT RATED</td>\n",
              "      <td>Drama</td>\n",
              "      <td>96</td>\n",
              "      <td>[u'Henry Fonda', u'Lee J. Cobb', u'Martin Bals...</td>\n",
              "    </tr>\n",
              "    <tr>\n",
              "      <th>7</th>\n",
              "      <td>8.9</td>\n",
              "      <td>The Lord of the Rings: The Return of the King</td>\n",
              "      <td>PG-13</td>\n",
              "      <td>Adventure</td>\n",
              "      <td>201</td>\n",
              "      <td>[u'Elijah Wood', u'Viggo Mortensen', u'Ian McK...</td>\n",
              "    </tr>\n",
              "    <tr>\n",
              "      <th>9</th>\n",
              "      <td>8.9</td>\n",
              "      <td>Fight Club</td>\n",
              "      <td>R</td>\n",
              "      <td>Drama</td>\n",
              "      <td>139</td>\n",
              "      <td>[u'Brad Pitt', u'Edward Norton', u'Helena Bonh...</td>\n",
              "    </tr>\n",
              "    <tr>\n",
              "      <th>13</th>\n",
              "      <td>8.8</td>\n",
              "      <td>Forrest Gump</td>\n",
              "      <td>PG-13</td>\n",
              "      <td>Drama</td>\n",
              "      <td>142</td>\n",
              "      <td>[u'Tom Hanks', u'Robin Wright', u'Gary Sinise']</td>\n",
              "    </tr>\n",
              "  </tbody>\n",
              "</table>\n",
              "</div>"
            ],
            "text/plain": [
              "    star_rating                                          title content_rating  \\\n",
              "2           9.1                         The Godfather: Part II              R   \n",
              "5           8.9                                   12 Angry Men      NOT RATED   \n",
              "7           8.9  The Lord of the Rings: The Return of the King          PG-13   \n",
              "9           8.9                                     Fight Club              R   \n",
              "13          8.8                                   Forrest Gump          PG-13   \n",
              "\n",
              "        genre  duration                                        actors_list  \n",
              "2       Crime       200  [u'Al Pacino', u'Robert De Niro', u'Robert Duv...  \n",
              "5       Drama        96  [u'Henry Fonda', u'Lee J. Cobb', u'Martin Bals...  \n",
              "7   Adventure       201  [u'Elijah Wood', u'Viggo Mortensen', u'Ian McK...  \n",
              "9       Drama       139  [u'Brad Pitt', u'Edward Norton', u'Helena Bonh...  \n",
              "13      Drama       142    [u'Tom Hanks', u'Robin Wright', u'Gary Sinise']  "
            ]
          },
          "metadata": {
            "tags": []
          },
          "execution_count": 59
        }
      ]
    },
    {
      "cell_type": "markdown",
      "metadata": {
        "id": "yGP8d8WDpb8v"
      },
      "source": [
        "**Goal:** Filter the original DataFrame to show movies with a 'genre' of 'Crime' or 'Drama' or 'Action'"
      ]
    },
    {
      "cell_type": "code",
      "metadata": {
        "id": "LUd1fndQpb8v",
        "outputId": "61620489-595c-4f76-84ed-fa3fa9169888"
      },
      "source": [
        "# use the '|' operator to specify that a row can match any of the three criteria\n",
        "movies[(movies.genre == 'Crime') | (movies.genre == 'Drama') | (movies.genre == 'Action')].head(10)\n",
        "\n",
        "# or equivalently, use the 'isin' method\n",
        "movies[movies.genre.isin(['Crime', 'Drama', 'Action'])].head(10)\n",
        "# movies[movies.genre.isin(['Crime','Drame','Action'])].title"
      ],
      "execution_count": null,
      "outputs": [
        {
          "output_type": "execute_result",
          "data": {
            "text/html": [
              "<div>\n",
              "<style scoped>\n",
              "    .dataframe tbody tr th:only-of-type {\n",
              "        vertical-align: middle;\n",
              "    }\n",
              "\n",
              "    .dataframe tbody tr th {\n",
              "        vertical-align: top;\n",
              "    }\n",
              "\n",
              "    .dataframe thead th {\n",
              "        text-align: right;\n",
              "    }\n",
              "</style>\n",
              "<table border=\"1\" class=\"dataframe\">\n",
              "  <thead>\n",
              "    <tr style=\"text-align: right;\">\n",
              "      <th></th>\n",
              "      <th>star_rating</th>\n",
              "      <th>title</th>\n",
              "      <th>content_rating</th>\n",
              "      <th>genre</th>\n",
              "      <th>duration</th>\n",
              "      <th>actors_list</th>\n",
              "    </tr>\n",
              "  </thead>\n",
              "  <tbody>\n",
              "    <tr>\n",
              "      <th>0</th>\n",
              "      <td>9.3</td>\n",
              "      <td>The Shawshank Redemption</td>\n",
              "      <td>R</td>\n",
              "      <td>Crime</td>\n",
              "      <td>142</td>\n",
              "      <td>[u'Tim Robbins', u'Morgan Freeman', u'Bob Gunt...</td>\n",
              "    </tr>\n",
              "    <tr>\n",
              "      <th>1</th>\n",
              "      <td>9.2</td>\n",
              "      <td>The Godfather</td>\n",
              "      <td>R</td>\n",
              "      <td>Crime</td>\n",
              "      <td>175</td>\n",
              "      <td>[u'Marlon Brando', u'Al Pacino', u'James Caan']</td>\n",
              "    </tr>\n",
              "    <tr>\n",
              "      <th>2</th>\n",
              "      <td>9.1</td>\n",
              "      <td>The Godfather: Part II</td>\n",
              "      <td>R</td>\n",
              "      <td>Crime</td>\n",
              "      <td>200</td>\n",
              "      <td>[u'Al Pacino', u'Robert De Niro', u'Robert Duv...</td>\n",
              "    </tr>\n",
              "    <tr>\n",
              "      <th>3</th>\n",
              "      <td>9.0</td>\n",
              "      <td>The Dark Knight</td>\n",
              "      <td>PG-13</td>\n",
              "      <td>Action</td>\n",
              "      <td>152</td>\n",
              "      <td>[u'Christian Bale', u'Heath Ledger', u'Aaron E...</td>\n",
              "    </tr>\n",
              "    <tr>\n",
              "      <th>4</th>\n",
              "      <td>8.9</td>\n",
              "      <td>Pulp Fiction</td>\n",
              "      <td>R</td>\n",
              "      <td>Crime</td>\n",
              "      <td>154</td>\n",
              "      <td>[u'John Travolta', u'Uma Thurman', u'Samuel L....</td>\n",
              "    </tr>\n",
              "    <tr>\n",
              "      <th>5</th>\n",
              "      <td>8.9</td>\n",
              "      <td>12 Angry Men</td>\n",
              "      <td>NOT RATED</td>\n",
              "      <td>Drama</td>\n",
              "      <td>96</td>\n",
              "      <td>[u'Henry Fonda', u'Lee J. Cobb', u'Martin Bals...</td>\n",
              "    </tr>\n",
              "    <tr>\n",
              "      <th>9</th>\n",
              "      <td>8.9</td>\n",
              "      <td>Fight Club</td>\n",
              "      <td>R</td>\n",
              "      <td>Drama</td>\n",
              "      <td>139</td>\n",
              "      <td>[u'Brad Pitt', u'Edward Norton', u'Helena Bonh...</td>\n",
              "    </tr>\n",
              "    <tr>\n",
              "      <th>11</th>\n",
              "      <td>8.8</td>\n",
              "      <td>Inception</td>\n",
              "      <td>PG-13</td>\n",
              "      <td>Action</td>\n",
              "      <td>148</td>\n",
              "      <td>[u'Leonardo DiCaprio', u'Joseph Gordon-Levitt'...</td>\n",
              "    </tr>\n",
              "    <tr>\n",
              "      <th>12</th>\n",
              "      <td>8.8</td>\n",
              "      <td>Star Wars: Episode V - The Empire Strikes Back</td>\n",
              "      <td>PG</td>\n",
              "      <td>Action</td>\n",
              "      <td>124</td>\n",
              "      <td>[u'Mark Hamill', u'Harrison Ford', u'Carrie Fi...</td>\n",
              "    </tr>\n",
              "    <tr>\n",
              "      <th>13</th>\n",
              "      <td>8.8</td>\n",
              "      <td>Forrest Gump</td>\n",
              "      <td>PG-13</td>\n",
              "      <td>Drama</td>\n",
              "      <td>142</td>\n",
              "      <td>[u'Tom Hanks', u'Robin Wright', u'Gary Sinise']</td>\n",
              "    </tr>\n",
              "  </tbody>\n",
              "</table>\n",
              "</div>"
            ],
            "text/plain": [
              "    star_rating                                           title  \\\n",
              "0           9.3                        The Shawshank Redemption   \n",
              "1           9.2                                   The Godfather   \n",
              "2           9.1                          The Godfather: Part II   \n",
              "3           9.0                                 The Dark Knight   \n",
              "4           8.9                                    Pulp Fiction   \n",
              "5           8.9                                    12 Angry Men   \n",
              "9           8.9                                      Fight Club   \n",
              "11          8.8                                       Inception   \n",
              "12          8.8  Star Wars: Episode V - The Empire Strikes Back   \n",
              "13          8.8                                    Forrest Gump   \n",
              "\n",
              "   content_rating   genre  duration  \\\n",
              "0               R   Crime       142   \n",
              "1               R   Crime       175   \n",
              "2               R   Crime       200   \n",
              "3           PG-13  Action       152   \n",
              "4               R   Crime       154   \n",
              "5       NOT RATED   Drama        96   \n",
              "9               R   Drama       139   \n",
              "11          PG-13  Action       148   \n",
              "12             PG  Action       124   \n",
              "13          PG-13   Drama       142   \n",
              "\n",
              "                                          actors_list  \n",
              "0   [u'Tim Robbins', u'Morgan Freeman', u'Bob Gunt...  \n",
              "1     [u'Marlon Brando', u'Al Pacino', u'James Caan']  \n",
              "2   [u'Al Pacino', u'Robert De Niro', u'Robert Duv...  \n",
              "3   [u'Christian Bale', u'Heath Ledger', u'Aaron E...  \n",
              "4   [u'John Travolta', u'Uma Thurman', u'Samuel L....  \n",
              "5   [u'Henry Fonda', u'Lee J. Cobb', u'Martin Bals...  \n",
              "9   [u'Brad Pitt', u'Edward Norton', u'Helena Bonh...  \n",
              "11  [u'Leonardo DiCaprio', u'Joseph Gordon-Levitt'...  \n",
              "12  [u'Mark Hamill', u'Harrison Ford', u'Carrie Fi...  \n",
              "13    [u'Tom Hanks', u'Robin Wright', u'Gary Sinise']  "
            ]
          },
          "metadata": {
            "tags": []
          },
          "execution_count": 60
        }
      ]
    },
    {
      "cell_type": "markdown",
      "metadata": {
        "id": "_GLjolW8pb8w"
      },
      "source": [
        "Documentation for [**`isin`**](http://pandas.pydata.org/pandas-docs/stable/generated/pandas.Series.isin.html)"
      ]
    },
    {
      "cell_type": "markdown",
      "metadata": {
        "id": "7obwNwnKpb8w"
      },
      "source": [
        "### When reading from a file, how do I read in only a subset of the columns?"
      ]
    },
    {
      "cell_type": "code",
      "metadata": {
        "id": "l79-bFQjpb8w",
        "outputId": "a06f3eb2-a11a-42c9-9cb2-d63773f51de9"
      },
      "source": [
        "# read a dataset of UFO reports into a DataFrame, and check the columns\n",
        "import pandas as pd\n",
        "ufo = pd.read_csv('ufo.csv')\n",
        "ufo.columns"
      ],
      "execution_count": null,
      "outputs": [
        {
          "output_type": "execute_result",
          "data": {
            "text/plain": [
              "Index(['City', 'Colors Reported', 'Shape Reported', 'State', 'Time'], dtype='object')"
            ]
          },
          "metadata": {
            "tags": []
          },
          "execution_count": 61
        }
      ]
    },
    {
      "cell_type": "code",
      "metadata": {
        "id": "FnLilB9Ppb8x",
        "outputId": "c6323320-d7ba-44a7-ad5e-f89fd8065935"
      },
      "source": [
        "# specify which columns to include by name\n",
        "ufo = pd.read_csv('ufo.csv', usecols=['City', 'State'])\n",
        "print(ufo.columns)\n",
        "# or equivalently, specify columns by position\n",
        "ufo = pd.read_csv('ufo.csv', usecols=[0, 4])\n",
        "ufo.columns"
      ],
      "execution_count": null,
      "outputs": [
        {
          "output_type": "stream",
          "text": [
            "Index(['City', 'State'], dtype='object')\n"
          ],
          "name": "stdout"
        },
        {
          "output_type": "execute_result",
          "data": {
            "text/plain": [
              "Index(['City', 'Time'], dtype='object')"
            ]
          },
          "metadata": {
            "tags": []
          },
          "execution_count": 62
        }
      ]
    },
    {
      "cell_type": "code",
      "metadata": {
        "id": "vzndNZyKpb8x",
        "outputId": "f06acd31-d6f4-4581-f0f0-38d20bc9a06d"
      },
      "source": [
        "ufo.head()"
      ],
      "execution_count": null,
      "outputs": [
        {
          "output_type": "execute_result",
          "data": {
            "text/html": [
              "<div>\n",
              "<style scoped>\n",
              "    .dataframe tbody tr th:only-of-type {\n",
              "        vertical-align: middle;\n",
              "    }\n",
              "\n",
              "    .dataframe tbody tr th {\n",
              "        vertical-align: top;\n",
              "    }\n",
              "\n",
              "    .dataframe thead th {\n",
              "        text-align: right;\n",
              "    }\n",
              "</style>\n",
              "<table border=\"1\" class=\"dataframe\">\n",
              "  <thead>\n",
              "    <tr style=\"text-align: right;\">\n",
              "      <th></th>\n",
              "      <th>City</th>\n",
              "      <th>Time</th>\n",
              "    </tr>\n",
              "  </thead>\n",
              "  <tbody>\n",
              "    <tr>\n",
              "      <th>0</th>\n",
              "      <td>Ithaca</td>\n",
              "      <td>6/1/1930 22:00</td>\n",
              "    </tr>\n",
              "    <tr>\n",
              "      <th>1</th>\n",
              "      <td>Willingboro</td>\n",
              "      <td>6/30/1930 20:00</td>\n",
              "    </tr>\n",
              "    <tr>\n",
              "      <th>2</th>\n",
              "      <td>Holyoke</td>\n",
              "      <td>2/15/1931 14:00</td>\n",
              "    </tr>\n",
              "    <tr>\n",
              "      <th>3</th>\n",
              "      <td>Abilene</td>\n",
              "      <td>6/1/1931 13:00</td>\n",
              "    </tr>\n",
              "    <tr>\n",
              "      <th>4</th>\n",
              "      <td>New York Worlds Fair</td>\n",
              "      <td>4/18/1933 19:00</td>\n",
              "    </tr>\n",
              "  </tbody>\n",
              "</table>\n",
              "</div>"
            ],
            "text/plain": [
              "                   City             Time\n",
              "0                Ithaca   6/1/1930 22:00\n",
              "1           Willingboro  6/30/1930 20:00\n",
              "2               Holyoke  2/15/1931 14:00\n",
              "3               Abilene   6/1/1931 13:00\n",
              "4  New York Worlds Fair  4/18/1933 19:00"
            ]
          },
          "metadata": {
            "tags": []
          },
          "execution_count": 63
        }
      ]
    },
    {
      "cell_type": "markdown",
      "metadata": {
        "id": "O-N1jFhbpb8y"
      },
      "source": [
        "**Question:** When reading from a file, how do I read in only a subset of the rows?"
      ]
    },
    {
      "cell_type": "code",
      "metadata": {
        "id": "STmg3t24pb8y",
        "outputId": "be04d3e6-54c1-4a25-88a3-60976293506d"
      },
      "source": [
        "# specify how many rows to read\n",
        "ufo = pd.read_csv('ufo.csv', nrows=3)\n",
        "ufo"
      ],
      "execution_count": null,
      "outputs": [
        {
          "output_type": "execute_result",
          "data": {
            "text/html": [
              "<div>\n",
              "<style scoped>\n",
              "    .dataframe tbody tr th:only-of-type {\n",
              "        vertical-align: middle;\n",
              "    }\n",
              "\n",
              "    .dataframe tbody tr th {\n",
              "        vertical-align: top;\n",
              "    }\n",
              "\n",
              "    .dataframe thead th {\n",
              "        text-align: right;\n",
              "    }\n",
              "</style>\n",
              "<table border=\"1\" class=\"dataframe\">\n",
              "  <thead>\n",
              "    <tr style=\"text-align: right;\">\n",
              "      <th></th>\n",
              "      <th>City</th>\n",
              "      <th>Colors Reported</th>\n",
              "      <th>Shape Reported</th>\n",
              "      <th>State</th>\n",
              "      <th>Time</th>\n",
              "    </tr>\n",
              "  </thead>\n",
              "  <tbody>\n",
              "    <tr>\n",
              "      <th>0</th>\n",
              "      <td>Ithaca</td>\n",
              "      <td>NaN</td>\n",
              "      <td>TRIANGLE</td>\n",
              "      <td>NY</td>\n",
              "      <td>6/1/1930 22:00</td>\n",
              "    </tr>\n",
              "    <tr>\n",
              "      <th>1</th>\n",
              "      <td>Willingboro</td>\n",
              "      <td>NaN</td>\n",
              "      <td>OTHER</td>\n",
              "      <td>NJ</td>\n",
              "      <td>6/30/1930 20:00</td>\n",
              "    </tr>\n",
              "    <tr>\n",
              "      <th>2</th>\n",
              "      <td>Holyoke</td>\n",
              "      <td>NaN</td>\n",
              "      <td>OVAL</td>\n",
              "      <td>CO</td>\n",
              "      <td>2/15/1931 14:00</td>\n",
              "    </tr>\n",
              "  </tbody>\n",
              "</table>\n",
              "</div>"
            ],
            "text/plain": [
              "          City  Colors Reported Shape Reported State             Time\n",
              "0       Ithaca              NaN       TRIANGLE    NY   6/1/1930 22:00\n",
              "1  Willingboro              NaN          OTHER    NJ  6/30/1930 20:00\n",
              "2      Holyoke              NaN           OVAL    CO  2/15/1931 14:00"
            ]
          },
          "metadata": {
            "tags": []
          },
          "execution_count": 64
        }
      ]
    },
    {
      "cell_type": "markdown",
      "metadata": {
        "id": "eRDZ3Equpb8z"
      },
      "source": [
        "Documentation for [**`read_csv`**](http://pandas.pydata.org/pandas-docs/stable/generated/pandas.read_csv.html)"
      ]
    },
    {
      "cell_type": "markdown",
      "metadata": {
        "id": "Zi7mQP5Upb8z"
      },
      "source": [
        "Documentation for [**`select_dtypes`**](http://pandas.pydata.org/pandas-docs/stable/generated/pandas.DataFrame.select_dtypes.html)"
      ]
    },
    {
      "cell_type": "markdown",
      "metadata": {
        "id": "IXJsmjI0pb80"
      },
      "source": [
        "## How do I use string methods in pandas? "
      ]
    },
    {
      "cell_type": "code",
      "metadata": {
        "id": "ZJPSaWXbpb80",
        "outputId": "c6128950-04fc-4415-8f3f-290d77ad9c97"
      },
      "source": [
        "# read a dataset of Chipotle orders into a DataFrame\n",
        "orders = pd.read_table('http://bit.ly/chiporders')\n",
        "orders.head()"
      ],
      "execution_count": null,
      "outputs": [
        {
          "output_type": "execute_result",
          "data": {
            "text/html": [
              "<div>\n",
              "<style scoped>\n",
              "    .dataframe tbody tr th:only-of-type {\n",
              "        vertical-align: middle;\n",
              "    }\n",
              "\n",
              "    .dataframe tbody tr th {\n",
              "        vertical-align: top;\n",
              "    }\n",
              "\n",
              "    .dataframe thead th {\n",
              "        text-align: right;\n",
              "    }\n",
              "</style>\n",
              "<table border=\"1\" class=\"dataframe\">\n",
              "  <thead>\n",
              "    <tr style=\"text-align: right;\">\n",
              "      <th></th>\n",
              "      <th>order_id</th>\n",
              "      <th>quantity</th>\n",
              "      <th>item_name</th>\n",
              "      <th>choice_description</th>\n",
              "      <th>item_price</th>\n",
              "    </tr>\n",
              "  </thead>\n",
              "  <tbody>\n",
              "    <tr>\n",
              "      <th>0</th>\n",
              "      <td>1</td>\n",
              "      <td>1</td>\n",
              "      <td>Chips and Fresh Tomato Salsa</td>\n",
              "      <td>NaN</td>\n",
              "      <td>$2.39</td>\n",
              "    </tr>\n",
              "    <tr>\n",
              "      <th>1</th>\n",
              "      <td>1</td>\n",
              "      <td>1</td>\n",
              "      <td>Izze</td>\n",
              "      <td>[Clementine]</td>\n",
              "      <td>$3.39</td>\n",
              "    </tr>\n",
              "    <tr>\n",
              "      <th>2</th>\n",
              "      <td>1</td>\n",
              "      <td>1</td>\n",
              "      <td>Nantucket Nectar</td>\n",
              "      <td>[Apple]</td>\n",
              "      <td>$3.39</td>\n",
              "    </tr>\n",
              "    <tr>\n",
              "      <th>3</th>\n",
              "      <td>1</td>\n",
              "      <td>1</td>\n",
              "      <td>Chips and Tomatillo-Green Chili Salsa</td>\n",
              "      <td>NaN</td>\n",
              "      <td>$2.39</td>\n",
              "    </tr>\n",
              "    <tr>\n",
              "      <th>4</th>\n",
              "      <td>2</td>\n",
              "      <td>2</td>\n",
              "      <td>Chicken Bowl</td>\n",
              "      <td>[Tomatillo-Red Chili Salsa (Hot), [Black Beans...</td>\n",
              "      <td>$16.98</td>\n",
              "    </tr>\n",
              "  </tbody>\n",
              "</table>\n",
              "</div>"
            ],
            "text/plain": [
              "   order_id  quantity                              item_name  \\\n",
              "0         1         1           Chips and Fresh Tomato Salsa   \n",
              "1         1         1                                   Izze   \n",
              "2         1         1                       Nantucket Nectar   \n",
              "3         1         1  Chips and Tomatillo-Green Chili Salsa   \n",
              "4         2         2                           Chicken Bowl   \n",
              "\n",
              "                                  choice_description item_price  \n",
              "0                                                NaN     $2.39   \n",
              "1                                       [Clementine]     $3.39   \n",
              "2                                            [Apple]     $3.39   \n",
              "3                                                NaN     $2.39   \n",
              "4  [Tomatillo-Red Chili Salsa (Hot), [Black Beans...    $16.98   "
            ]
          },
          "metadata": {
            "tags": []
          },
          "execution_count": 65
        }
      ]
    },
    {
      "cell_type": "code",
      "metadata": {
        "id": "x656hAXSpb81",
        "outputId": "eeb28018-d0a3-475d-cb07-69b042b845f3"
      },
      "source": [
        "# normal way to access string methods in Python\n",
        "'hello'.upper()"
      ],
      "execution_count": null,
      "outputs": [
        {
          "output_type": "execute_result",
          "data": {
            "text/plain": [
              "'HELLO'"
            ]
          },
          "metadata": {
            "tags": []
          },
          "execution_count": 67
        }
      ]
    },
    {
      "cell_type": "code",
      "metadata": {
        "id": "WbZGZSgjpb82",
        "outputId": "f0d49605-7132-4cd3-fc52-03ca0dff94d3"
      },
      "source": [
        "# string methods for pandas Series are accessed via 'str'\n",
        "orders.item_name.str.upper().head()"
      ],
      "execution_count": null,
      "outputs": [
        {
          "output_type": "execute_result",
          "data": {
            "text/plain": [
              "0             CHIPS AND FRESH TOMATO SALSA\n",
              "1                                     IZZE\n",
              "2                         NANTUCKET NECTAR\n",
              "3    CHIPS AND TOMATILLO-GREEN CHILI SALSA\n",
              "4                             CHICKEN BOWL\n",
              "Name: item_name, dtype: object"
            ]
          },
          "metadata": {
            "tags": []
          },
          "execution_count": 68
        }
      ]
    },
    {
      "cell_type": "code",
      "metadata": {
        "id": "NB0U45s0pb83",
        "outputId": "2eaff4ca-1d4c-49e1-ba46-be005240b18d"
      },
      "source": [
        "# string method 'contains' checks for a substring and returns a boolean Series\n",
        "orders.item_name.str.contains('Chicken').head()"
      ],
      "execution_count": null,
      "outputs": [
        {
          "output_type": "execute_result",
          "data": {
            "text/plain": [
              "0    False\n",
              "1    False\n",
              "2    False\n",
              "3    False\n",
              "4     True\n",
              "Name: item_name, dtype: bool"
            ]
          },
          "metadata": {
            "tags": []
          },
          "execution_count": 70
        }
      ]
    },
    {
      "cell_type": "code",
      "metadata": {
        "id": "cG43nb4vpb84",
        "outputId": "d0eca7d4-715a-46d4-9381-1357965cd4f0"
      },
      "source": [
        "# use the boolean Series to filter the DataFrame\n",
        "orders[orders.item_name.str.contains('Chicken')].head()"
      ],
      "execution_count": null,
      "outputs": [
        {
          "output_type": "execute_result",
          "data": {
            "text/html": [
              "<div>\n",
              "<style scoped>\n",
              "    .dataframe tbody tr th:only-of-type {\n",
              "        vertical-align: middle;\n",
              "    }\n",
              "\n",
              "    .dataframe tbody tr th {\n",
              "        vertical-align: top;\n",
              "    }\n",
              "\n",
              "    .dataframe thead th {\n",
              "        text-align: right;\n",
              "    }\n",
              "</style>\n",
              "<table border=\"1\" class=\"dataframe\">\n",
              "  <thead>\n",
              "    <tr style=\"text-align: right;\">\n",
              "      <th></th>\n",
              "      <th>order_id</th>\n",
              "      <th>quantity</th>\n",
              "      <th>item_name</th>\n",
              "      <th>choice_description</th>\n",
              "      <th>item_price</th>\n",
              "    </tr>\n",
              "  </thead>\n",
              "  <tbody>\n",
              "    <tr>\n",
              "      <th>4</th>\n",
              "      <td>2</td>\n",
              "      <td>2</td>\n",
              "      <td>Chicken Bowl</td>\n",
              "      <td>[Tomatillo-Red Chili Salsa (Hot), [Black Beans...</td>\n",
              "      <td>$16.98</td>\n",
              "    </tr>\n",
              "    <tr>\n",
              "      <th>5</th>\n",
              "      <td>3</td>\n",
              "      <td>1</td>\n",
              "      <td>Chicken Bowl</td>\n",
              "      <td>[Fresh Tomato Salsa (Mild), [Rice, Cheese, Sou...</td>\n",
              "      <td>$10.98</td>\n",
              "    </tr>\n",
              "    <tr>\n",
              "      <th>11</th>\n",
              "      <td>6</td>\n",
              "      <td>1</td>\n",
              "      <td>Chicken Crispy Tacos</td>\n",
              "      <td>[Roasted Chili Corn Salsa, [Fajita Vegetables,...</td>\n",
              "      <td>$8.75</td>\n",
              "    </tr>\n",
              "    <tr>\n",
              "      <th>12</th>\n",
              "      <td>6</td>\n",
              "      <td>1</td>\n",
              "      <td>Chicken Soft Tacos</td>\n",
              "      <td>[Roasted Chili Corn Salsa, [Rice, Black Beans,...</td>\n",
              "      <td>$8.75</td>\n",
              "    </tr>\n",
              "    <tr>\n",
              "      <th>13</th>\n",
              "      <td>7</td>\n",
              "      <td>1</td>\n",
              "      <td>Chicken Bowl</td>\n",
              "      <td>[Fresh Tomato Salsa, [Fajita Vegetables, Rice,...</td>\n",
              "      <td>$11.25</td>\n",
              "    </tr>\n",
              "  </tbody>\n",
              "</table>\n",
              "</div>"
            ],
            "text/plain": [
              "    order_id  quantity             item_name  \\\n",
              "4          2         2          Chicken Bowl   \n",
              "5          3         1          Chicken Bowl   \n",
              "11         6         1  Chicken Crispy Tacos   \n",
              "12         6         1    Chicken Soft Tacos   \n",
              "13         7         1          Chicken Bowl   \n",
              "\n",
              "                                   choice_description item_price  \n",
              "4   [Tomatillo-Red Chili Salsa (Hot), [Black Beans...    $16.98   \n",
              "5   [Fresh Tomato Salsa (Mild), [Rice, Cheese, Sou...    $10.98   \n",
              "11  [Roasted Chili Corn Salsa, [Fajita Vegetables,...     $8.75   \n",
              "12  [Roasted Chili Corn Salsa, [Rice, Black Beans,...     $8.75   \n",
              "13  [Fresh Tomato Salsa, [Fajita Vegetables, Rice,...    $11.25   "
            ]
          },
          "metadata": {
            "tags": []
          },
          "execution_count": 69
        }
      ]
    },
    {
      "cell_type": "code",
      "metadata": {
        "id": "pHz4r68mpb85",
        "outputId": "518448c0-cb92-4e5e-eeeb-cceca7dfbafb"
      },
      "source": [
        "# string methods can be chained together\n",
        "orders.choice_description.str.replace('[', '').str.replace(']', '').str.replace(',','').str.lower().head()"
      ],
      "execution_count": null,
      "outputs": [
        {
          "output_type": "execute_result",
          "data": {
            "text/plain": [
              "0                                                  NaN\n",
              "1                                           clementine\n",
              "2                                                apple\n",
              "3                                                  NaN\n",
              "4    tomatillo-red chili salsa (hot) black beans ri...\n",
              "Name: choice_description, dtype: object"
            ]
          },
          "metadata": {
            "tags": []
          },
          "execution_count": 71
        }
      ]
    },
    {
      "cell_type": "code",
      "metadata": {
        "id": "LsksEYb4pb86",
        "outputId": "26501e38-cea1-4720-d6c9-06fd66198849"
      },
      "source": [
        "# many pandas string methods support regular expressions (regex)\n",
        "orders.choice_description.str.replace('[\\[\\]\\(\\)]', '').head()"
      ],
      "execution_count": null,
      "outputs": [
        {
          "output_type": "execute_result",
          "data": {
            "text/plain": [
              "0                                                  NaN\n",
              "1                                           Clementine\n",
              "2                                                Apple\n",
              "3                                                  NaN\n",
              "4    Tomatillo-Red Chili Salsa Hot, Black Beans, Ri...\n",
              "Name: choice_description, dtype: object"
            ]
          },
          "metadata": {
            "tags": []
          },
          "execution_count": 72
        }
      ]
    },
    {
      "cell_type": "markdown",
      "metadata": {
        "id": "C71WzWsnpb87"
      },
      "source": [
        "[String handling section](http://pandas.pydata.org/pandas-docs/stable/api.html#string-handling) of the pandas API reference"
      ]
    },
    {
      "cell_type": "markdown",
      "metadata": {
        "id": "nv6WtcgApb87"
      },
      "source": [
        "## How do I change the data type of a pandas Series?"
      ]
    },
    {
      "cell_type": "code",
      "metadata": {
        "id": "CBC8X5wFpb88",
        "outputId": "281a6150-f7f3-4f19-ed3a-dad2266776a4"
      },
      "source": [
        "# read a dataset of alcohol consumption into a DataFrame\n",
        "import pandas as pd\n",
        "drinks = pd.read_csv('http://bit.ly/drinksbycountry')\n",
        "drinks.head()"
      ],
      "execution_count": null,
      "outputs": [
        {
          "output_type": "execute_result",
          "data": {
            "text/html": [
              "<div>\n",
              "<style scoped>\n",
              "    .dataframe tbody tr th:only-of-type {\n",
              "        vertical-align: middle;\n",
              "    }\n",
              "\n",
              "    .dataframe tbody tr th {\n",
              "        vertical-align: top;\n",
              "    }\n",
              "\n",
              "    .dataframe thead th {\n",
              "        text-align: right;\n",
              "    }\n",
              "</style>\n",
              "<table border=\"1\" class=\"dataframe\">\n",
              "  <thead>\n",
              "    <tr style=\"text-align: right;\">\n",
              "      <th></th>\n",
              "      <th>country</th>\n",
              "      <th>beer_servings</th>\n",
              "      <th>spirit_servings</th>\n",
              "      <th>wine_servings</th>\n",
              "      <th>total_litres_of_pure_alcohol</th>\n",
              "      <th>continent</th>\n",
              "    </tr>\n",
              "  </thead>\n",
              "  <tbody>\n",
              "    <tr>\n",
              "      <th>0</th>\n",
              "      <td>Afghanistan</td>\n",
              "      <td>0</td>\n",
              "      <td>0</td>\n",
              "      <td>0</td>\n",
              "      <td>0.0</td>\n",
              "      <td>Asia</td>\n",
              "    </tr>\n",
              "    <tr>\n",
              "      <th>1</th>\n",
              "      <td>Albania</td>\n",
              "      <td>89</td>\n",
              "      <td>132</td>\n",
              "      <td>54</td>\n",
              "      <td>4.9</td>\n",
              "      <td>Europe</td>\n",
              "    </tr>\n",
              "    <tr>\n",
              "      <th>2</th>\n",
              "      <td>Algeria</td>\n",
              "      <td>25</td>\n",
              "      <td>0</td>\n",
              "      <td>14</td>\n",
              "      <td>0.7</td>\n",
              "      <td>Africa</td>\n",
              "    </tr>\n",
              "    <tr>\n",
              "      <th>3</th>\n",
              "      <td>Andorra</td>\n",
              "      <td>245</td>\n",
              "      <td>138</td>\n",
              "      <td>312</td>\n",
              "      <td>12.4</td>\n",
              "      <td>Europe</td>\n",
              "    </tr>\n",
              "    <tr>\n",
              "      <th>4</th>\n",
              "      <td>Angola</td>\n",
              "      <td>217</td>\n",
              "      <td>57</td>\n",
              "      <td>45</td>\n",
              "      <td>5.9</td>\n",
              "      <td>Africa</td>\n",
              "    </tr>\n",
              "  </tbody>\n",
              "</table>\n",
              "</div>"
            ],
            "text/plain": [
              "       country  beer_servings  spirit_servings  wine_servings  \\\n",
              "0  Afghanistan              0                0              0   \n",
              "1      Albania             89              132             54   \n",
              "2      Algeria             25                0             14   \n",
              "3      Andorra            245              138            312   \n",
              "4       Angola            217               57             45   \n",
              "\n",
              "   total_litres_of_pure_alcohol continent  \n",
              "0                           0.0      Asia  \n",
              "1                           4.9    Europe  \n",
              "2                           0.7    Africa  \n",
              "3                          12.4    Europe  \n",
              "4                           5.9    Africa  "
            ]
          },
          "metadata": {
            "tags": []
          },
          "execution_count": 73
        }
      ]
    },
    {
      "cell_type": "code",
      "metadata": {
        "id": "t0hYANXqpb88",
        "outputId": "e34a4784-5815-4a0e-de39-3070e06860dc"
      },
      "source": [
        "# examine the data type of each Series\n",
        "drinks.dtypes"
      ],
      "execution_count": null,
      "outputs": [
        {
          "output_type": "execute_result",
          "data": {
            "text/plain": [
              "country                          object\n",
              "beer_servings                     int64\n",
              "spirit_servings                   int64\n",
              "wine_servings                     int64\n",
              "total_litres_of_pure_alcohol    float64\n",
              "continent                        object\n",
              "dtype: object"
            ]
          },
          "metadata": {
            "tags": []
          },
          "execution_count": 74
        }
      ]
    },
    {
      "cell_type": "code",
      "metadata": {
        "id": "5fDIT-ZHpb89",
        "outputId": "e46977ec-16e5-47d7-f7d8-9fc7e91ab67a"
      },
      "source": [
        "# change the data type of an existing Series\n",
        "drinks['beer_servings'] = drinks.beer_servings.astype(float)\n",
        "drinks.dtypes"
      ],
      "execution_count": null,
      "outputs": [
        {
          "output_type": "execute_result",
          "data": {
            "text/plain": [
              "country                          object\n",
              "beer_servings                   float64\n",
              "spirit_servings                   int64\n",
              "wine_servings                     int64\n",
              "total_litres_of_pure_alcohol    float64\n",
              "continent                        object\n",
              "dtype: object"
            ]
          },
          "metadata": {
            "tags": []
          },
          "execution_count": 75
        }
      ]
    },
    {
      "cell_type": "markdown",
      "metadata": {
        "id": "gJyxGjcWpb89"
      },
      "source": [
        "Documentation for [**`astype`**](http://pandas.pydata.org/pandas-docs/stable/generated/pandas.Series.astype.html)"
      ]
    },
    {
      "cell_type": "code",
      "metadata": {
        "id": "7Cmp6Bzvpb89",
        "outputId": "bbd4eec1-fec0-4681-fd9f-71fc25120413"
      },
      "source": [
        "# alternatively, change the data type of a Series while reading in a file\n",
        "drinks = pd.read_csv('http://bit.ly/drinksbycountry', dtype={'spirit_servings':float})\n",
        "drinks.dtypes"
      ],
      "execution_count": null,
      "outputs": [
        {
          "output_type": "execute_result",
          "data": {
            "text/plain": [
              "country                          object\n",
              "beer_servings                     int64\n",
              "spirit_servings                 float64\n",
              "wine_servings                     int64\n",
              "total_litres_of_pure_alcohol    float64\n",
              "continent                        object\n",
              "dtype: object"
            ]
          },
          "metadata": {
            "tags": []
          },
          "execution_count": 76
        }
      ]
    },
    {
      "cell_type": "code",
      "metadata": {
        "id": "dD7p-I3spb8-",
        "outputId": "9433b406-c84e-4072-9a98-d707d9809f42"
      },
      "source": [
        "# read a dataset of Chipotle orders into a DataFrame\n",
        "orders = pd.read_table('http://bit.ly/chiporders')\n",
        "orders.head()"
      ],
      "execution_count": null,
      "outputs": [
        {
          "output_type": "execute_result",
          "data": {
            "text/html": [
              "<div>\n",
              "<style scoped>\n",
              "    .dataframe tbody tr th:only-of-type {\n",
              "        vertical-align: middle;\n",
              "    }\n",
              "\n",
              "    .dataframe tbody tr th {\n",
              "        vertical-align: top;\n",
              "    }\n",
              "\n",
              "    .dataframe thead th {\n",
              "        text-align: right;\n",
              "    }\n",
              "</style>\n",
              "<table border=\"1\" class=\"dataframe\">\n",
              "  <thead>\n",
              "    <tr style=\"text-align: right;\">\n",
              "      <th></th>\n",
              "      <th>order_id</th>\n",
              "      <th>quantity</th>\n",
              "      <th>item_name</th>\n",
              "      <th>choice_description</th>\n",
              "      <th>item_price</th>\n",
              "    </tr>\n",
              "  </thead>\n",
              "  <tbody>\n",
              "    <tr>\n",
              "      <th>0</th>\n",
              "      <td>1</td>\n",
              "      <td>1</td>\n",
              "      <td>Chips and Fresh Tomato Salsa</td>\n",
              "      <td>NaN</td>\n",
              "      <td>$2.39</td>\n",
              "    </tr>\n",
              "    <tr>\n",
              "      <th>1</th>\n",
              "      <td>1</td>\n",
              "      <td>1</td>\n",
              "      <td>Izze</td>\n",
              "      <td>[Clementine]</td>\n",
              "      <td>$3.39</td>\n",
              "    </tr>\n",
              "    <tr>\n",
              "      <th>2</th>\n",
              "      <td>1</td>\n",
              "      <td>1</td>\n",
              "      <td>Nantucket Nectar</td>\n",
              "      <td>[Apple]</td>\n",
              "      <td>$3.39</td>\n",
              "    </tr>\n",
              "    <tr>\n",
              "      <th>3</th>\n",
              "      <td>1</td>\n",
              "      <td>1</td>\n",
              "      <td>Chips and Tomatillo-Green Chili Salsa</td>\n",
              "      <td>NaN</td>\n",
              "      <td>$2.39</td>\n",
              "    </tr>\n",
              "    <tr>\n",
              "      <th>4</th>\n",
              "      <td>2</td>\n",
              "      <td>2</td>\n",
              "      <td>Chicken Bowl</td>\n",
              "      <td>[Tomatillo-Red Chili Salsa (Hot), [Black Beans...</td>\n",
              "      <td>$16.98</td>\n",
              "    </tr>\n",
              "  </tbody>\n",
              "</table>\n",
              "</div>"
            ],
            "text/plain": [
              "   order_id  quantity                              item_name  \\\n",
              "0         1         1           Chips and Fresh Tomato Salsa   \n",
              "1         1         1                                   Izze   \n",
              "2         1         1                       Nantucket Nectar   \n",
              "3         1         1  Chips and Tomatillo-Green Chili Salsa   \n",
              "4         2         2                           Chicken Bowl   \n",
              "\n",
              "                                  choice_description item_price  \n",
              "0                                                NaN     $2.39   \n",
              "1                                       [Clementine]     $3.39   \n",
              "2                                            [Apple]     $3.39   \n",
              "3                                                NaN     $2.39   \n",
              "4  [Tomatillo-Red Chili Salsa (Hot), [Black Beans...    $16.98   "
            ]
          },
          "metadata": {
            "tags": []
          },
          "execution_count": 77
        }
      ]
    },
    {
      "cell_type": "code",
      "metadata": {
        "id": "zPC3R2m1pb8-",
        "outputId": "0562e9e6-2601-4397-8b05-dd33c0c51d4e"
      },
      "source": [
        "# examine the data type of each Series\n",
        "orders.dtypes"
      ],
      "execution_count": null,
      "outputs": [
        {
          "output_type": "execute_result",
          "data": {
            "text/plain": [
              "order_id               int64\n",
              "quantity               int64\n",
              "item_name             object\n",
              "choice_description    object\n",
              "item_price            object\n",
              "dtype: object"
            ]
          },
          "metadata": {
            "tags": []
          },
          "execution_count": 78
        }
      ]
    },
    {
      "cell_type": "code",
      "metadata": {
        "id": "lRzxpQZepb8_",
        "outputId": "4216ccd9-3480-4821-fd3d-791fa8a728ed"
      },
      "source": [
        "# convert a string to a number in order to do math\n",
        "orders.item_price.str.replace('$', '').astype(float).mean()"
      ],
      "execution_count": null,
      "outputs": [
        {
          "output_type": "execute_result",
          "data": {
            "text/plain": [
              "7.464335785374397"
            ]
          },
          "metadata": {
            "tags": []
          },
          "execution_count": 79
        }
      ]
    },
    {
      "cell_type": "code",
      "metadata": {
        "id": "eEYBZAHipb8_",
        "outputId": "9e0abbcd-3dd9-4dbf-e474-9076911e50c8"
      },
      "source": [
        "# string method 'contains' checks for a substring and returns a boolean Series\n",
        "orders.item_name.str.contains('Chicken').head()"
      ],
      "execution_count": null,
      "outputs": [
        {
          "output_type": "execute_result",
          "data": {
            "text/plain": [
              "0    False\n",
              "1    False\n",
              "2    False\n",
              "3    False\n",
              "4     True\n",
              "Name: item_name, dtype: bool"
            ]
          },
          "metadata": {
            "tags": []
          },
          "execution_count": 80
        }
      ]
    },
    {
      "cell_type": "code",
      "metadata": {
        "id": "bPKRUFmmpb9A",
        "outputId": "1ac019ed-26b0-41c7-95a2-c4a3495ddb25"
      },
      "source": [
        "# convert a boolean Series to an integer (False = 0, True = 1)\n",
        "orders.item_name.str.contains('Chicken').astype(int).head()"
      ],
      "execution_count": null,
      "outputs": [
        {
          "output_type": "execute_result",
          "data": {
            "text/plain": [
              "0    0\n",
              "1    0\n",
              "2    0\n",
              "3    0\n",
              "4    1\n",
              "Name: item_name, dtype: int32"
            ]
          },
          "metadata": {
            "tags": []
          },
          "execution_count": 81
        }
      ]
    },
    {
      "cell_type": "markdown",
      "metadata": {
        "id": "2arUoKC8pb9B"
      },
      "source": [
        "## When should I use a \"groupby\" in pandas?"
      ]
    },
    {
      "cell_type": "code",
      "metadata": {
        "id": "qTN7gsVQpb9B",
        "outputId": "02899b54-ba53-4190-8880-1388b5dc7216"
      },
      "source": [
        "# read a dataset of alcohol consumption into a DataFrame\n",
        "import pandas as pd\n",
        "drinks = pd.read_csv('http://bit.ly/drinksbycountry')\n",
        "drinks.head()"
      ],
      "execution_count": null,
      "outputs": [
        {
          "output_type": "execute_result",
          "data": {
            "text/html": [
              "<div>\n",
              "<style scoped>\n",
              "    .dataframe tbody tr th:only-of-type {\n",
              "        vertical-align: middle;\n",
              "    }\n",
              "\n",
              "    .dataframe tbody tr th {\n",
              "        vertical-align: top;\n",
              "    }\n",
              "\n",
              "    .dataframe thead th {\n",
              "        text-align: right;\n",
              "    }\n",
              "</style>\n",
              "<table border=\"1\" class=\"dataframe\">\n",
              "  <thead>\n",
              "    <tr style=\"text-align: right;\">\n",
              "      <th></th>\n",
              "      <th>country</th>\n",
              "      <th>beer_servings</th>\n",
              "      <th>spirit_servings</th>\n",
              "      <th>wine_servings</th>\n",
              "      <th>total_litres_of_pure_alcohol</th>\n",
              "      <th>continent</th>\n",
              "    </tr>\n",
              "  </thead>\n",
              "  <tbody>\n",
              "    <tr>\n",
              "      <th>0</th>\n",
              "      <td>Afghanistan</td>\n",
              "      <td>0</td>\n",
              "      <td>0</td>\n",
              "      <td>0</td>\n",
              "      <td>0.0</td>\n",
              "      <td>Asia</td>\n",
              "    </tr>\n",
              "    <tr>\n",
              "      <th>1</th>\n",
              "      <td>Albania</td>\n",
              "      <td>89</td>\n",
              "      <td>132</td>\n",
              "      <td>54</td>\n",
              "      <td>4.9</td>\n",
              "      <td>Europe</td>\n",
              "    </tr>\n",
              "    <tr>\n",
              "      <th>2</th>\n",
              "      <td>Algeria</td>\n",
              "      <td>25</td>\n",
              "      <td>0</td>\n",
              "      <td>14</td>\n",
              "      <td>0.7</td>\n",
              "      <td>Africa</td>\n",
              "    </tr>\n",
              "    <tr>\n",
              "      <th>3</th>\n",
              "      <td>Andorra</td>\n",
              "      <td>245</td>\n",
              "      <td>138</td>\n",
              "      <td>312</td>\n",
              "      <td>12.4</td>\n",
              "      <td>Europe</td>\n",
              "    </tr>\n",
              "    <tr>\n",
              "      <th>4</th>\n",
              "      <td>Angola</td>\n",
              "      <td>217</td>\n",
              "      <td>57</td>\n",
              "      <td>45</td>\n",
              "      <td>5.9</td>\n",
              "      <td>Africa</td>\n",
              "    </tr>\n",
              "  </tbody>\n",
              "</table>\n",
              "</div>"
            ],
            "text/plain": [
              "       country  beer_servings  spirit_servings  wine_servings  \\\n",
              "0  Afghanistan              0                0              0   \n",
              "1      Albania             89              132             54   \n",
              "2      Algeria             25                0             14   \n",
              "3      Andorra            245              138            312   \n",
              "4       Angola            217               57             45   \n",
              "\n",
              "   total_litres_of_pure_alcohol continent  \n",
              "0                           0.0      Asia  \n",
              "1                           4.9    Europe  \n",
              "2                           0.7    Africa  \n",
              "3                          12.4    Europe  \n",
              "4                           5.9    Africa  "
            ]
          },
          "metadata": {
            "tags": []
          },
          "execution_count": 10
        }
      ]
    },
    {
      "cell_type": "code",
      "metadata": {
        "id": "C3SScd_wpb9B",
        "outputId": "d1595cfd-814d-40f8-f6b4-4961945be5b6"
      },
      "source": [
        "drinks.describe()"
      ],
      "execution_count": null,
      "outputs": [
        {
          "output_type": "execute_result",
          "data": {
            "text/html": [
              "<div>\n",
              "<style scoped>\n",
              "    .dataframe tbody tr th:only-of-type {\n",
              "        vertical-align: middle;\n",
              "    }\n",
              "\n",
              "    .dataframe tbody tr th {\n",
              "        vertical-align: top;\n",
              "    }\n",
              "\n",
              "    .dataframe thead th {\n",
              "        text-align: right;\n",
              "    }\n",
              "</style>\n",
              "<table border=\"1\" class=\"dataframe\">\n",
              "  <thead>\n",
              "    <tr style=\"text-align: right;\">\n",
              "      <th></th>\n",
              "      <th>beer_servings</th>\n",
              "      <th>spirit_servings</th>\n",
              "      <th>wine_servings</th>\n",
              "      <th>total_litres_of_pure_alcohol</th>\n",
              "    </tr>\n",
              "  </thead>\n",
              "  <tbody>\n",
              "    <tr>\n",
              "      <th>count</th>\n",
              "      <td>193.000000</td>\n",
              "      <td>193.000000</td>\n",
              "      <td>193.000000</td>\n",
              "      <td>193.000000</td>\n",
              "    </tr>\n",
              "    <tr>\n",
              "      <th>mean</th>\n",
              "      <td>106.160622</td>\n",
              "      <td>80.994819</td>\n",
              "      <td>49.450777</td>\n",
              "      <td>4.717098</td>\n",
              "    </tr>\n",
              "    <tr>\n",
              "      <th>std</th>\n",
              "      <td>101.143103</td>\n",
              "      <td>88.284312</td>\n",
              "      <td>79.697598</td>\n",
              "      <td>3.773298</td>\n",
              "    </tr>\n",
              "    <tr>\n",
              "      <th>min</th>\n",
              "      <td>0.000000</td>\n",
              "      <td>0.000000</td>\n",
              "      <td>0.000000</td>\n",
              "      <td>0.000000</td>\n",
              "    </tr>\n",
              "    <tr>\n",
              "      <th>25%</th>\n",
              "      <td>20.000000</td>\n",
              "      <td>4.000000</td>\n",
              "      <td>1.000000</td>\n",
              "      <td>1.300000</td>\n",
              "    </tr>\n",
              "    <tr>\n",
              "      <th>50%</th>\n",
              "      <td>76.000000</td>\n",
              "      <td>56.000000</td>\n",
              "      <td>8.000000</td>\n",
              "      <td>4.200000</td>\n",
              "    </tr>\n",
              "    <tr>\n",
              "      <th>75%</th>\n",
              "      <td>188.000000</td>\n",
              "      <td>128.000000</td>\n",
              "      <td>59.000000</td>\n",
              "      <td>7.200000</td>\n",
              "    </tr>\n",
              "    <tr>\n",
              "      <th>max</th>\n",
              "      <td>376.000000</td>\n",
              "      <td>438.000000</td>\n",
              "      <td>370.000000</td>\n",
              "      <td>14.400000</td>\n",
              "    </tr>\n",
              "  </tbody>\n",
              "</table>\n",
              "</div>"
            ],
            "text/plain": [
              "       beer_servings  spirit_servings  wine_servings  \\\n",
              "count     193.000000       193.000000     193.000000   \n",
              "mean      106.160622        80.994819      49.450777   \n",
              "std       101.143103        88.284312      79.697598   \n",
              "min         0.000000         0.000000       0.000000   \n",
              "25%        20.000000         4.000000       1.000000   \n",
              "50%        76.000000        56.000000       8.000000   \n",
              "75%       188.000000       128.000000      59.000000   \n",
              "max       376.000000       438.000000     370.000000   \n",
              "\n",
              "       total_litres_of_pure_alcohol  \n",
              "count                    193.000000  \n",
              "mean                       4.717098  \n",
              "std                        3.773298  \n",
              "min                        0.000000  \n",
              "25%                        1.300000  \n",
              "50%                        4.200000  \n",
              "75%                        7.200000  \n",
              "max                       14.400000  "
            ]
          },
          "metadata": {
            "tags": []
          },
          "execution_count": 11
        }
      ]
    },
    {
      "cell_type": "code",
      "metadata": {
        "id": "PTdKBf9Gpb9C"
      },
      "source": [
        "# calculate the mean beer servings across the entire dataset\n",
        "drinks.beer_servings.mean()"
      ],
      "execution_count": null,
      "outputs": []
    },
    {
      "cell_type": "code",
      "metadata": {
        "id": "4QsOkSoMpb9C"
      },
      "source": [
        "# calculate the mean beer servings just for countries in Africa\n",
        "drinks[drinks.continent=='Asia'].beer_servings.mean()"
      ],
      "execution_count": null,
      "outputs": []
    },
    {
      "cell_type": "code",
      "metadata": {
        "id": "S3XolNugpb9C"
      },
      "source": [
        "drinks.continent.unique()"
      ],
      "execution_count": null,
      "outputs": []
    },
    {
      "cell_type": "code",
      "metadata": {
        "id": "YKHMTGnhpb9D"
      },
      "source": [
        "# calculate the mean beer servings for each continent\n",
        "drinks.groupby('continent').describe()['beer_servings']"
      ],
      "execution_count": null,
      "outputs": []
    },
    {
      "cell_type": "markdown",
      "metadata": {
        "id": "HBisPoZ4pb9D"
      },
      "source": [
        "Documentation for [**`groupby`**](http://pandas.pydata.org/pandas-docs/stable/generated/pandas.DataFrame.groupby.html)"
      ]
    },
    {
      "cell_type": "code",
      "metadata": {
        "id": "x3-EeUpapb9D"
      },
      "source": [
        "# other aggregation functions (such as 'max') can also be used with groupby\n",
        "drinks.groupby('continent').beer_servings.max()"
      ],
      "execution_count": null,
      "outputs": []
    },
    {
      "cell_type": "code",
      "metadata": {
        "id": "ZEl8-Swcpb9E",
        "outputId": "9981d384-1b8e-43c9-949b-df5138412744"
      },
      "source": [
        "# multiple aggregation functions can be applied simultaneously\n",
        "import numpy as np\n",
        "\n",
        "drinks.groupby('continent').agg(['count', 'mean', 'min', 'max','sum','median',np.percentile(25,25)])['beer_servings'].count"
      ],
      "execution_count": null,
      "outputs": [
        {
          "output_type": "error",
          "ename": "ValueError",
          "evalue": "no results",
          "traceback": [
            "\u001b[1;31m---------------------------------------------------------------------------\u001b[0m",
            "\u001b[1;31mValueError\u001b[0m                                Traceback (most recent call last)",
            "\u001b[1;32m<ipython-input-15-e2db31d6f007>\u001b[0m in \u001b[0;36m<module>\u001b[1;34m\u001b[0m\n\u001b[0;32m      2\u001b[0m \u001b[1;32mimport\u001b[0m \u001b[0mnumpy\u001b[0m \u001b[1;32mas\u001b[0m \u001b[0mnp\u001b[0m\u001b[1;33m\u001b[0m\u001b[1;33m\u001b[0m\u001b[0m\n\u001b[0;32m      3\u001b[0m \u001b[1;33m\u001b[0m\u001b[0m\n\u001b[1;32m----> 4\u001b[1;33m \u001b[0mdrinks\u001b[0m\u001b[1;33m.\u001b[0m\u001b[0mgroupby\u001b[0m\u001b[1;33m(\u001b[0m\u001b[1;34m'continent'\u001b[0m\u001b[1;33m)\u001b[0m\u001b[1;33m.\u001b[0m\u001b[0magg\u001b[0m\u001b[1;33m(\u001b[0m\u001b[1;33m[\u001b[0m\u001b[1;34m'count'\u001b[0m\u001b[1;33m,\u001b[0m \u001b[1;34m'mean'\u001b[0m\u001b[1;33m,\u001b[0m \u001b[1;34m'min'\u001b[0m\u001b[1;33m,\u001b[0m \u001b[1;34m'max'\u001b[0m\u001b[1;33m,\u001b[0m\u001b[1;34m'sum'\u001b[0m\u001b[1;33m,\u001b[0m\u001b[1;34m'median'\u001b[0m\u001b[1;33m,\u001b[0m\u001b[0mnp\u001b[0m\u001b[1;33m.\u001b[0m\u001b[0mpercentile\u001b[0m\u001b[1;33m(\u001b[0m\u001b[1;36m25\u001b[0m\u001b[1;33m,\u001b[0m\u001b[1;36m25\u001b[0m\u001b[1;33m)\u001b[0m\u001b[1;33m]\u001b[0m\u001b[1;33m)\u001b[0m\u001b[1;33m[\u001b[0m\u001b[1;34m'beer_servings'\u001b[0m\u001b[1;33m]\u001b[0m\u001b[1;33m.\u001b[0m\u001b[0mcount\u001b[0m\u001b[1;33m\u001b[0m\u001b[1;33m\u001b[0m\u001b[0m\n\u001b[0m",
            "\u001b[1;32m~\\anaconda3\\lib\\site-packages\\pandas\\core\\groupby\\generic.py\u001b[0m in \u001b[0;36maggregate\u001b[1;34m(self, func, *args, **kwargs)\u001b[0m\n\u001b[0;32m    938\u001b[0m         \u001b[0mfunc\u001b[0m \u001b[1;33m=\u001b[0m \u001b[0m_maybe_mangle_lambdas\u001b[0m\u001b[1;33m(\u001b[0m\u001b[0mfunc\u001b[0m\u001b[1;33m)\u001b[0m\u001b[1;33m\u001b[0m\u001b[1;33m\u001b[0m\u001b[0m\n\u001b[0;32m    939\u001b[0m \u001b[1;33m\u001b[0m\u001b[0m\n\u001b[1;32m--> 940\u001b[1;33m         \u001b[0mresult\u001b[0m\u001b[1;33m,\u001b[0m \u001b[0mhow\u001b[0m \u001b[1;33m=\u001b[0m \u001b[0mself\u001b[0m\u001b[1;33m.\u001b[0m\u001b[0m_aggregate\u001b[0m\u001b[1;33m(\u001b[0m\u001b[0mfunc\u001b[0m\u001b[1;33m,\u001b[0m \u001b[1;33m*\u001b[0m\u001b[0margs\u001b[0m\u001b[1;33m,\u001b[0m \u001b[1;33m**\u001b[0m\u001b[0mkwargs\u001b[0m\u001b[1;33m)\u001b[0m\u001b[1;33m\u001b[0m\u001b[1;33m\u001b[0m\u001b[0m\n\u001b[0m\u001b[0;32m    941\u001b[0m         \u001b[1;32mif\u001b[0m \u001b[0mhow\u001b[0m \u001b[1;32mis\u001b[0m \u001b[1;32mNone\u001b[0m\u001b[1;33m:\u001b[0m\u001b[1;33m\u001b[0m\u001b[1;33m\u001b[0m\u001b[0m\n\u001b[0;32m    942\u001b[0m             \u001b[1;32mreturn\u001b[0m \u001b[0mresult\u001b[0m\u001b[1;33m\u001b[0m\u001b[1;33m\u001b[0m\u001b[0m\n",
            "\u001b[1;32m~\\anaconda3\\lib\\site-packages\\pandas\\core\\base.py\u001b[0m in \u001b[0;36m_aggregate\u001b[1;34m(self, arg, *args, **kwargs)\u001b[0m\n\u001b[0;32m    484\u001b[0m         \u001b[1;32melif\u001b[0m \u001b[0mis_list_like\u001b[0m\u001b[1;33m(\u001b[0m\u001b[0marg\u001b[0m\u001b[1;33m)\u001b[0m\u001b[1;33m:\u001b[0m\u001b[1;33m\u001b[0m\u001b[1;33m\u001b[0m\u001b[0m\n\u001b[0;32m    485\u001b[0m             \u001b[1;31m# we require a list, but not an 'str'\u001b[0m\u001b[1;33m\u001b[0m\u001b[1;33m\u001b[0m\u001b[1;33m\u001b[0m\u001b[0m\n\u001b[1;32m--> 486\u001b[1;33m             \u001b[1;32mreturn\u001b[0m \u001b[0mself\u001b[0m\u001b[1;33m.\u001b[0m\u001b[0m_aggregate_multiple_funcs\u001b[0m\u001b[1;33m(\u001b[0m\u001b[0marg\u001b[0m\u001b[1;33m,\u001b[0m \u001b[0m_axis\u001b[0m\u001b[1;33m=\u001b[0m\u001b[0m_axis\u001b[0m\u001b[1;33m)\u001b[0m\u001b[1;33m,\u001b[0m \u001b[1;32mNone\u001b[0m\u001b[1;33m\u001b[0m\u001b[1;33m\u001b[0m\u001b[0m\n\u001b[0m\u001b[0;32m    487\u001b[0m         \u001b[1;32melse\u001b[0m\u001b[1;33m:\u001b[0m\u001b[1;33m\u001b[0m\u001b[1;33m\u001b[0m\u001b[0m\n\u001b[0;32m    488\u001b[0m             \u001b[0mresult\u001b[0m \u001b[1;33m=\u001b[0m \u001b[1;32mNone\u001b[0m\u001b[1;33m\u001b[0m\u001b[1;33m\u001b[0m\u001b[0m\n",
            "\u001b[1;32m~\\anaconda3\\lib\\site-packages\\pandas\\core\\base.py\u001b[0m in \u001b[0;36m_aggregate_multiple_funcs\u001b[1;34m(self, arg, _axis)\u001b[0m\n\u001b[0;32m    549\u001b[0m         \u001b[1;31m# if we are empty\u001b[0m\u001b[1;33m\u001b[0m\u001b[1;33m\u001b[0m\u001b[1;33m\u001b[0m\u001b[0m\n\u001b[0;32m    550\u001b[0m         \u001b[1;32mif\u001b[0m \u001b[1;32mnot\u001b[0m \u001b[0mlen\u001b[0m\u001b[1;33m(\u001b[0m\u001b[0mresults\u001b[0m\u001b[1;33m)\u001b[0m\u001b[1;33m:\u001b[0m\u001b[1;33m\u001b[0m\u001b[1;33m\u001b[0m\u001b[0m\n\u001b[1;32m--> 551\u001b[1;33m             \u001b[1;32mraise\u001b[0m \u001b[0mValueError\u001b[0m\u001b[1;33m(\u001b[0m\u001b[1;34m\"no results\"\u001b[0m\u001b[1;33m)\u001b[0m\u001b[1;33m\u001b[0m\u001b[1;33m\u001b[0m\u001b[0m\n\u001b[0m\u001b[0;32m    552\u001b[0m \u001b[1;33m\u001b[0m\u001b[0m\n\u001b[0;32m    553\u001b[0m         \u001b[1;32mtry\u001b[0m\u001b[1;33m:\u001b[0m\u001b[1;33m\u001b[0m\u001b[1;33m\u001b[0m\u001b[0m\n",
            "\u001b[1;31mValueError\u001b[0m: no results"
          ]
        }
      ]
    },
    {
      "cell_type": "markdown",
      "metadata": {
        "id": "1mDclzyypb9E"
      },
      "source": [
        "Documentation for [**`agg`**](http://pandas.pydata.org/pandas-docs/stable/generated/pandas.core.groupby.DataFrameGroupBy.agg.html)"
      ]
    },
    {
      "cell_type": "code",
      "metadata": {
        "id": "1f-MaZwTpb9E"
      },
      "source": [
        "# specifying a column to which the aggregation function should be applied is not required\n",
        "drinks.groupby('continent').mean()"
      ],
      "execution_count": null,
      "outputs": []
    },
    {
      "cell_type": "code",
      "metadata": {
        "id": "y4ag0_BGpb9F"
      },
      "source": [
        "drinks.describe()"
      ],
      "execution_count": null,
      "outputs": []
    },
    {
      "cell_type": "code",
      "metadata": {
        "id": "XFreOiz8pb9F"
      },
      "source": [
        "# allow plots to appear in the notebook\n",
        "import matplotlib.pyplot as plt\n",
        "%matplotlib inline"
      ],
      "execution_count": null,
      "outputs": []
    },
    {
      "cell_type": "code",
      "metadata": {
        "id": "ZQNw7AXGpb9F",
        "outputId": "a21b23b9-5999-4ab3-e622-4c9a9dfc8eb7"
      },
      "source": [
        "# side-by-side bar plot of the DataFrame directly above\n",
        "drinks.groupby('continent').beer_servings.mean().plot(kind='barh')"
      ],
      "execution_count": null,
      "outputs": [
        {
          "output_type": "execute_result",
          "data": {
            "text/plain": [
              "<matplotlib.axes._subplots.AxesSubplot at 0xc7de3f0>"
            ]
          },
          "metadata": {
            "tags": []
          },
          "execution_count": 34
        },
        {
          "output_type": "display_data",
          "data": {
            "image/png": "[encoded data removed]",
            "text/plain": [
              "<Figure size 432x288 with 1 Axes>"
            ]
          },
          "metadata": {
            "tags": [],
            "needs_background": "light"
          }
        }
      ]
    },
    {
      "cell_type": "markdown",
      "metadata": {
        "id": "BMeFVnJ9pb9H"
      },
      "source": [
        "Documentation for [**`plot`**](http://pandas.pydata.org/pandas-docs/stable/generated/pandas.DataFrame.plot.html)"
      ]
    },
    {
      "cell_type": "code",
      "metadata": {
        "id": "zRwrbqPZpb9I"
      },
      "source": [
        "# count how many times each value in the Series occurs\n",
        "movies.genre.value_counts()"
      ],
      "execution_count": null,
      "outputs": []
    },
    {
      "cell_type": "markdown",
      "metadata": {
        "id": "X7qIK9WFpb9I"
      },
      "source": [
        "Documentation for [**`value_counts`**](http://pandas.pydata.org/pandas-docs/stable/generated/pandas.Series.value_counts.html)"
      ]
    },
    {
      "cell_type": "code",
      "metadata": {
        "id": "Qdzyk4_spb9J"
      },
      "source": [
        "movies.head(10)"
      ],
      "execution_count": null,
      "outputs": []
    },
    {
      "cell_type": "code",
      "metadata": {
        "id": "ZvpSuls_pb9J"
      },
      "source": [
        "# display percentages instead of raw counts\n",
        "movies.genre.value_counts(normalize=True)"
      ],
      "execution_count": null,
      "outputs": []
    },
    {
      "cell_type": "code",
      "metadata": {
        "scrolled": true,
        "id": "_XS1dUxMpb9K"
      },
      "source": [
        "# 'value_counts' (like many pandas methods) outputs a Series\n",
        "type(movies.genre.value_counts())"
      ],
      "execution_count": null,
      "outputs": []
    },
    {
      "cell_type": "markdown",
      "metadata": {
        "id": "zYzLHiJ1pb9K"
      },
      "source": [
        "Documentation for [**`unique`**](http://pandas.pydata.org/pandas-docs/stable/generated/pandas.Series.unique.html) and [**`nunique`**](http://pandas.pydata.org/pandas-docs/stable/generated/pandas.Series.nunique.html)"
      ]
    },
    {
      "cell_type": "code",
      "metadata": {
        "id": "CgKbcuabpb9K",
        "outputId": "18901601-c569-4b7d-d554-667ace2dec2d"
      },
      "source": [
        "import pandas as pd\n",
        "movies = pd.read_csv('http://bit.ly/imdbratings')\n",
        "movies.head()"
      ],
      "execution_count": null,
      "outputs": [
        {
          "output_type": "execute_result",
          "data": {
            "text/html": [
              "<div>\n",
              "<style scoped>\n",
              "    .dataframe tbody tr th:only-of-type {\n",
              "        vertical-align: middle;\n",
              "    }\n",
              "\n",
              "    .dataframe tbody tr th {\n",
              "        vertical-align: top;\n",
              "    }\n",
              "\n",
              "    .dataframe thead th {\n",
              "        text-align: right;\n",
              "    }\n",
              "</style>\n",
              "<table border=\"1\" class=\"dataframe\">\n",
              "  <thead>\n",
              "    <tr style=\"text-align: right;\">\n",
              "      <th></th>\n",
              "      <th>star_rating</th>\n",
              "      <th>title</th>\n",
              "      <th>content_rating</th>\n",
              "      <th>genre</th>\n",
              "      <th>duration</th>\n",
              "      <th>actors_list</th>\n",
              "    </tr>\n",
              "  </thead>\n",
              "  <tbody>\n",
              "    <tr>\n",
              "      <th>0</th>\n",
              "      <td>9.3</td>\n",
              "      <td>The Shawshank Redemption</td>\n",
              "      <td>R</td>\n",
              "      <td>Crime</td>\n",
              "      <td>142</td>\n",
              "      <td>[u'Tim Robbins', u'Morgan Freeman', u'Bob Gunt...</td>\n",
              "    </tr>\n",
              "    <tr>\n",
              "      <th>1</th>\n",
              "      <td>9.2</td>\n",
              "      <td>The Godfather</td>\n",
              "      <td>R</td>\n",
              "      <td>Crime</td>\n",
              "      <td>175</td>\n",
              "      <td>[u'Marlon Brando', u'Al Pacino', u'James Caan']</td>\n",
              "    </tr>\n",
              "    <tr>\n",
              "      <th>2</th>\n",
              "      <td>9.1</td>\n",
              "      <td>The Godfather: Part II</td>\n",
              "      <td>R</td>\n",
              "      <td>Crime</td>\n",
              "      <td>200</td>\n",
              "      <td>[u'Al Pacino', u'Robert De Niro', u'Robert Duv...</td>\n",
              "    </tr>\n",
              "    <tr>\n",
              "      <th>3</th>\n",
              "      <td>9.0</td>\n",
              "      <td>The Dark Knight</td>\n",
              "      <td>PG-13</td>\n",
              "      <td>Action</td>\n",
              "      <td>152</td>\n",
              "      <td>[u'Christian Bale', u'Heath Ledger', u'Aaron E...</td>\n",
              "    </tr>\n",
              "    <tr>\n",
              "      <th>4</th>\n",
              "      <td>8.9</td>\n",
              "      <td>Pulp Fiction</td>\n",
              "      <td>R</td>\n",
              "      <td>Crime</td>\n",
              "      <td>154</td>\n",
              "      <td>[u'John Travolta', u'Uma Thurman', u'Samuel L....</td>\n",
              "    </tr>\n",
              "  </tbody>\n",
              "</table>\n",
              "</div>"
            ],
            "text/plain": [
              "   star_rating                     title content_rating   genre  duration  \\\n",
              "0          9.3  The Shawshank Redemption              R   Crime       142   \n",
              "1          9.2             The Godfather              R   Crime       175   \n",
              "2          9.1    The Godfather: Part II              R   Crime       200   \n",
              "3          9.0           The Dark Knight          PG-13  Action       152   \n",
              "4          8.9              Pulp Fiction              R   Crime       154   \n",
              "\n",
              "                                         actors_list  \n",
              "0  [u'Tim Robbins', u'Morgan Freeman', u'Bob Gunt...  \n",
              "1    [u'Marlon Brando', u'Al Pacino', u'James Caan']  \n",
              "2  [u'Al Pacino', u'Robert De Niro', u'Robert Duv...  \n",
              "3  [u'Christian Bale', u'Heath Ledger', u'Aaron E...  \n",
              "4  [u'John Travolta', u'Uma Thurman', u'Samuel L....  "
            ]
          },
          "metadata": {
            "tags": []
          },
          "execution_count": 2
        }
      ]
    },
    {
      "cell_type": "code",
      "metadata": {
        "id": "OhwN_Jv-pb9L",
        "outputId": "0c5d7342-8fbe-4e50-824c-3675b101ef64"
      },
      "source": [
        "print(movies.content_rating.nunique())\n",
        "movies.genre.nunique()"
      ],
      "execution_count": null,
      "outputs": [
        {
          "output_type": "stream",
          "text": [
            "12\n"
          ],
          "name": "stdout"
        },
        {
          "output_type": "execute_result",
          "data": {
            "text/plain": [
              "16"
            ]
          },
          "metadata": {
            "tags": []
          },
          "execution_count": 3
        }
      ]
    },
    {
      "cell_type": "code",
      "metadata": {
        "id": "MVDEpyp_pb9L"
      },
      "source": [
        "genre - 16 \n",
        "content_rating -12\n",
        "12*16 = 192\n"
      ],
      "execution_count": null,
      "outputs": []
    },
    {
      "cell_type": "markdown",
      "metadata": {
        "id": "BqSC2Sa0pb9M"
      },
      "source": [
        "https://pbpython.com/pandas-crosstab.html\n",
        "\n",
        "https://pandas.pydata.org/pandas-docs/stable/user_guide/advanced.html\n",
        "\n",
        "https://nikgrozev.com/2015/07/01/reshaping-in-pandas-pivot-pivot-table-stack-and-unstack-explained-with-pictures/"
      ]
    },
    {
      "cell_type": "code",
      "metadata": {
        "id": "1UBMRcmQpb9M",
        "outputId": "96ebc345-8713-4010-953d-2ca736bfa2b2"
      },
      "source": [
        "import numpy as np\n",
        "np.eye(3,3)\n",
        "np.identity(3)"
      ],
      "execution_count": null,
      "outputs": [
        {
          "output_type": "execute_result",
          "data": {
            "text/plain": [
              "array([[1., 0., 0.],\n",
              "       [0., 1., 0.],\n",
              "       [0., 0., 1.]])"
            ]
          },
          "metadata": {
            "tags": []
          },
          "execution_count": 9
        }
      ]
    },
    {
      "cell_type": "code",
      "metadata": {
        "id": "4B3-m6Ddpb9M",
        "outputId": "cb9f9fc5-db1f-4296-c714-c6b9908c189e"
      },
      "source": [
        "# compute a +cross-tabulation of two Series\n",
        "pd.crosstab(movies.genre, movies.content_rating,margins=True)\n",
        "# genre.action, content_Rating.approved - 3"
      ],
      "execution_count": null,
      "outputs": [
        {
          "output_type": "execute_result",
          "data": {
            "text/html": [
              "<div>\n",
              "<style scoped>\n",
              "    .dataframe tbody tr th:only-of-type {\n",
              "        vertical-align: middle;\n",
              "    }\n",
              "\n",
              "    .dataframe tbody tr th {\n",
              "        vertical-align: top;\n",
              "    }\n",
              "\n",
              "    .dataframe thead th {\n",
              "        text-align: right;\n",
              "    }\n",
              "</style>\n",
              "<table border=\"1\" class=\"dataframe\">\n",
              "  <thead>\n",
              "    <tr style=\"text-align: right;\">\n",
              "      <th>content_rating</th>\n",
              "      <th>APPROVED</th>\n",
              "      <th>G</th>\n",
              "      <th>GP</th>\n",
              "      <th>NC-17</th>\n",
              "      <th>NOT RATED</th>\n",
              "      <th>PASSED</th>\n",
              "      <th>PG</th>\n",
              "      <th>PG-13</th>\n",
              "      <th>R</th>\n",
              "      <th>TV-MA</th>\n",
              "      <th>UNRATED</th>\n",
              "      <th>X</th>\n",
              "      <th>All</th>\n",
              "    </tr>\n",
              "    <tr>\n",
              "      <th>genre</th>\n",
              "      <th></th>\n",
              "      <th></th>\n",
              "      <th></th>\n",
              "      <th></th>\n",
              "      <th></th>\n",
              "      <th></th>\n",
              "      <th></th>\n",
              "      <th></th>\n",
              "      <th></th>\n",
              "      <th></th>\n",
              "      <th></th>\n",
              "      <th></th>\n",
              "      <th></th>\n",
              "    </tr>\n",
              "  </thead>\n",
              "  <tbody>\n",
              "    <tr>\n",
              "      <th>Action</th>\n",
              "      <td>3</td>\n",
              "      <td>1</td>\n",
              "      <td>1</td>\n",
              "      <td>0</td>\n",
              "      <td>4</td>\n",
              "      <td>1</td>\n",
              "      <td>11</td>\n",
              "      <td>44</td>\n",
              "      <td>67</td>\n",
              "      <td>0</td>\n",
              "      <td>3</td>\n",
              "      <td>0</td>\n",
              "      <td>135</td>\n",
              "    </tr>\n",
              "    <tr>\n",
              "      <th>Adventure</th>\n",
              "      <td>3</td>\n",
              "      <td>2</td>\n",
              "      <td>0</td>\n",
              "      <td>0</td>\n",
              "      <td>5</td>\n",
              "      <td>1</td>\n",
              "      <td>21</td>\n",
              "      <td>23</td>\n",
              "      <td>17</td>\n",
              "      <td>0</td>\n",
              "      <td>2</td>\n",
              "      <td>0</td>\n",
              "      <td>74</td>\n",
              "    </tr>\n",
              "    <tr>\n",
              "      <th>Animation</th>\n",
              "      <td>3</td>\n",
              "      <td>20</td>\n",
              "      <td>0</td>\n",
              "      <td>0</td>\n",
              "      <td>3</td>\n",
              "      <td>0</td>\n",
              "      <td>25</td>\n",
              "      <td>5</td>\n",
              "      <td>5</td>\n",
              "      <td>0</td>\n",
              "      <td>1</td>\n",
              "      <td>0</td>\n",
              "      <td>62</td>\n",
              "    </tr>\n",
              "    <tr>\n",
              "      <th>Biography</th>\n",
              "      <td>1</td>\n",
              "      <td>2</td>\n",
              "      <td>1</td>\n",
              "      <td>0</td>\n",
              "      <td>1</td>\n",
              "      <td>0</td>\n",
              "      <td>6</td>\n",
              "      <td>29</td>\n",
              "      <td>36</td>\n",
              "      <td>0</td>\n",
              "      <td>0</td>\n",
              "      <td>0</td>\n",
              "      <td>76</td>\n",
              "    </tr>\n",
              "    <tr>\n",
              "      <th>Comedy</th>\n",
              "      <td>9</td>\n",
              "      <td>2</td>\n",
              "      <td>1</td>\n",
              "      <td>1</td>\n",
              "      <td>16</td>\n",
              "      <td>3</td>\n",
              "      <td>23</td>\n",
              "      <td>23</td>\n",
              "      <td>73</td>\n",
              "      <td>0</td>\n",
              "      <td>4</td>\n",
              "      <td>1</td>\n",
              "      <td>156</td>\n",
              "    </tr>\n",
              "    <tr>\n",
              "      <th>Crime</th>\n",
              "      <td>6</td>\n",
              "      <td>0</td>\n",
              "      <td>0</td>\n",
              "      <td>1</td>\n",
              "      <td>7</td>\n",
              "      <td>1</td>\n",
              "      <td>6</td>\n",
              "      <td>4</td>\n",
              "      <td>87</td>\n",
              "      <td>0</td>\n",
              "      <td>11</td>\n",
              "      <td>1</td>\n",
              "      <td>124</td>\n",
              "    </tr>\n",
              "    <tr>\n",
              "      <th>Drama</th>\n",
              "      <td>12</td>\n",
              "      <td>3</td>\n",
              "      <td>0</td>\n",
              "      <td>4</td>\n",
              "      <td>24</td>\n",
              "      <td>1</td>\n",
              "      <td>25</td>\n",
              "      <td>55</td>\n",
              "      <td>143</td>\n",
              "      <td>1</td>\n",
              "      <td>9</td>\n",
              "      <td>1</td>\n",
              "      <td>278</td>\n",
              "    </tr>\n",
              "    <tr>\n",
              "      <th>Family</th>\n",
              "      <td>0</td>\n",
              "      <td>1</td>\n",
              "      <td>0</td>\n",
              "      <td>0</td>\n",
              "      <td>0</td>\n",
              "      <td>0</td>\n",
              "      <td>1</td>\n",
              "      <td>0</td>\n",
              "      <td>0</td>\n",
              "      <td>0</td>\n",
              "      <td>0</td>\n",
              "      <td>0</td>\n",
              "      <td>2</td>\n",
              "    </tr>\n",
              "    <tr>\n",
              "      <th>Fantasy</th>\n",
              "      <td>0</td>\n",
              "      <td>0</td>\n",
              "      <td>0</td>\n",
              "      <td>0</td>\n",
              "      <td>0</td>\n",
              "      <td>0</td>\n",
              "      <td>0</td>\n",
              "      <td>0</td>\n",
              "      <td>1</td>\n",
              "      <td>0</td>\n",
              "      <td>0</td>\n",
              "      <td>0</td>\n",
              "      <td>1</td>\n",
              "    </tr>\n",
              "    <tr>\n",
              "      <th>Film-Noir</th>\n",
              "      <td>1</td>\n",
              "      <td>0</td>\n",
              "      <td>0</td>\n",
              "      <td>0</td>\n",
              "      <td>1</td>\n",
              "      <td>0</td>\n",
              "      <td>0</td>\n",
              "      <td>0</td>\n",
              "      <td>0</td>\n",
              "      <td>0</td>\n",
              "      <td>1</td>\n",
              "      <td>0</td>\n",
              "      <td>3</td>\n",
              "    </tr>\n",
              "    <tr>\n",
              "      <th>History</th>\n",
              "      <td>0</td>\n",
              "      <td>0</td>\n",
              "      <td>0</td>\n",
              "      <td>0</td>\n",
              "      <td>0</td>\n",
              "      <td>0</td>\n",
              "      <td>0</td>\n",
              "      <td>0</td>\n",
              "      <td>0</td>\n",
              "      <td>0</td>\n",
              "      <td>1</td>\n",
              "      <td>0</td>\n",
              "      <td>1</td>\n",
              "    </tr>\n",
              "    <tr>\n",
              "      <th>Horror</th>\n",
              "      <td>2</td>\n",
              "      <td>0</td>\n",
              "      <td>0</td>\n",
              "      <td>1</td>\n",
              "      <td>1</td>\n",
              "      <td>0</td>\n",
              "      <td>1</td>\n",
              "      <td>2</td>\n",
              "      <td>16</td>\n",
              "      <td>0</td>\n",
              "      <td>5</td>\n",
              "      <td>1</td>\n",
              "      <td>29</td>\n",
              "    </tr>\n",
              "    <tr>\n",
              "      <th>Mystery</th>\n",
              "      <td>4</td>\n",
              "      <td>1</td>\n",
              "      <td>0</td>\n",
              "      <td>0</td>\n",
              "      <td>1</td>\n",
              "      <td>0</td>\n",
              "      <td>1</td>\n",
              "      <td>2</td>\n",
              "      <td>6</td>\n",
              "      <td>0</td>\n",
              "      <td>1</td>\n",
              "      <td>0</td>\n",
              "      <td>16</td>\n",
              "    </tr>\n",
              "    <tr>\n",
              "      <th>Sci-Fi</th>\n",
              "      <td>1</td>\n",
              "      <td>0</td>\n",
              "      <td>0</td>\n",
              "      <td>0</td>\n",
              "      <td>0</td>\n",
              "      <td>0</td>\n",
              "      <td>0</td>\n",
              "      <td>1</td>\n",
              "      <td>3</td>\n",
              "      <td>0</td>\n",
              "      <td>0</td>\n",
              "      <td>0</td>\n",
              "      <td>5</td>\n",
              "    </tr>\n",
              "    <tr>\n",
              "      <th>Thriller</th>\n",
              "      <td>1</td>\n",
              "      <td>0</td>\n",
              "      <td>0</td>\n",
              "      <td>0</td>\n",
              "      <td>0</td>\n",
              "      <td>0</td>\n",
              "      <td>1</td>\n",
              "      <td>0</td>\n",
              "      <td>3</td>\n",
              "      <td>0</td>\n",
              "      <td>0</td>\n",
              "      <td>0</td>\n",
              "      <td>5</td>\n",
              "    </tr>\n",
              "    <tr>\n",
              "      <th>Western</th>\n",
              "      <td>1</td>\n",
              "      <td>0</td>\n",
              "      <td>0</td>\n",
              "      <td>0</td>\n",
              "      <td>2</td>\n",
              "      <td>0</td>\n",
              "      <td>2</td>\n",
              "      <td>1</td>\n",
              "      <td>3</td>\n",
              "      <td>0</td>\n",
              "      <td>0</td>\n",
              "      <td>0</td>\n",
              "      <td>9</td>\n",
              "    </tr>\n",
              "    <tr>\n",
              "      <th>All</th>\n",
              "      <td>47</td>\n",
              "      <td>32</td>\n",
              "      <td>3</td>\n",
              "      <td>7</td>\n",
              "      <td>65</td>\n",
              "      <td>7</td>\n",
              "      <td>123</td>\n",
              "      <td>189</td>\n",
              "      <td>460</td>\n",
              "      <td>1</td>\n",
              "      <td>38</td>\n",
              "      <td>4</td>\n",
              "      <td>976</td>\n",
              "    </tr>\n",
              "  </tbody>\n",
              "</table>\n",
              "</div>"
            ],
            "text/plain": [
              "content_rating  APPROVED   G  GP  NC-17  NOT RATED  PASSED   PG  PG-13    R  \\\n",
              "genre                                                                         \n",
              "Action                 3   1   1      0          4       1   11     44   67   \n",
              "Adventure              3   2   0      0          5       1   21     23   17   \n",
              "Animation              3  20   0      0          3       0   25      5    5   \n",
              "Biography              1   2   1      0          1       0    6     29   36   \n",
              "Comedy                 9   2   1      1         16       3   23     23   73   \n",
              "Crime                  6   0   0      1          7       1    6      4   87   \n",
              "Drama                 12   3   0      4         24       1   25     55  143   \n",
              "Family                 0   1   0      0          0       0    1      0    0   \n",
              "Fantasy                0   0   0      0          0       0    0      0    1   \n",
              "Film-Noir              1   0   0      0          1       0    0      0    0   \n",
              "History                0   0   0      0          0       0    0      0    0   \n",
              "Horror                 2   0   0      1          1       0    1      2   16   \n",
              "Mystery                4   1   0      0          1       0    1      2    6   \n",
              "Sci-Fi                 1   0   0      0          0       0    0      1    3   \n",
              "Thriller               1   0   0      0          0       0    1      0    3   \n",
              "Western                1   0   0      0          2       0    2      1    3   \n",
              "All                   47  32   3      7         65       7  123    189  460   \n",
              "\n",
              "content_rating  TV-MA  UNRATED  X  All  \n",
              "genre                                   \n",
              "Action              0        3  0  135  \n",
              "Adventure           0        2  0   74  \n",
              "Animation           0        1  0   62  \n",
              "Biography           0        0  0   76  \n",
              "Comedy              0        4  1  156  \n",
              "Crime               0       11  1  124  \n",
              "Drama               1        9  1  278  \n",
              "Family              0        0  0    2  \n",
              "Fantasy             0        0  0    1  \n",
              "Film-Noir           0        1  0    3  \n",
              "History             0        1  0    1  \n",
              "Horror              0        5  1   29  \n",
              "Mystery             0        1  0   16  \n",
              "Sci-Fi              0        0  0    5  \n",
              "Thriller            0        0  0    5  \n",
              "Western             0        0  0    9  \n",
              "All                 1       38  4  976  "
            ]
          },
          "metadata": {
            "tags": []
          },
          "execution_count": 4
        }
      ]
    },
    {
      "cell_type": "markdown",
      "metadata": {
        "id": "rc2aAKX5pb9N"
      },
      "source": [
        "Documentation for [**`crosstab`**](http://pandas.pydata.org/pandas-docs/stable/generated/pandas.crosstab.html)"
      ]
    },
    {
      "cell_type": "code",
      "metadata": {
        "id": "i2EYid_Qpb9N"
      },
      "source": [
        "# 'value_counts' is primarily useful for categorical data, not numerical data\n",
        "movies.duration.value_counts"
      ],
      "execution_count": null,
      "outputs": []
    },
    {
      "cell_type": "code",
      "metadata": {
        "id": "PouxYIQJpb9O"
      },
      "source": [
        "# histogram of the 'duration' Series (shows the distribution of a numerical variable)\n",
        "movies.duration.plot(kind='hist')"
      ],
      "execution_count": null,
      "outputs": []
    },
    {
      "cell_type": "code",
      "metadata": {
        "id": "HieWyPYxpb9O"
      },
      "source": [
        "# bar plot of the 'value_counts' for the 'genre' Series\n",
        "movies.genre.value_counts().plot(kind='bar')"
      ],
      "execution_count": null,
      "outputs": []
    },
    {
      "cell_type": "markdown",
      "metadata": {
        "id": "OExvsOMLpb9O"
      },
      "source": [
        "Documentation for [**`plot`**](http://pandas.pydata.org/pandas-docs/stable/generated/pandas.Series.plot.html)"
      ]
    },
    {
      "cell_type": "markdown",
      "metadata": {
        "id": "gcuJfCDkpb9O"
      },
      "source": [
        "## How do I handle missing values in pandas? "
      ]
    },
    {
      "cell_type": "code",
      "metadata": {
        "id": "vh1f-5urpb9P"
      },
      "source": [
        "# read a dataset of UFO reports into a DataFrame\n",
        "import pandas as pd\n",
        "ufo = pd.read_csv('http://bit.ly/uforeports')\n",
        "ufo.tail()"
      ],
      "execution_count": null,
      "outputs": []
    },
    {
      "cell_type": "markdown",
      "metadata": {
        "id": "1_mvoxXypb9P"
      },
      "source": [
        "**What does \"NaN\" mean?**\n",
        "\n",
        "- \"NaN\" is not a string, rather it's a special value: **`numpy.nan`**.\n",
        "- It stands for \"Not a Number\" and indicates a **missing value**.\n",
        "- **`read_csv`** detects missing values (by default) when reading the file, and replaces them with this special value.\n",
        "\n",
        "Documentation for [**`read_csv`**](http://pandas.pydata.org/pandas-docs/stable/generated/pandas.read_csv.html)"
      ]
    },
    {
      "cell_type": "code",
      "metadata": {
        "id": "lZZTWqldpb9P"
      },
      "source": [
        "# 'isnull' returns a DataFrame of booleans (True if missing, False if not missing)\n",
        "ufo.isnull().tail()"
      ],
      "execution_count": null,
      "outputs": []
    },
    {
      "cell_type": "code",
      "metadata": {
        "id": "nCnowaz0pb9Q"
      },
      "source": [
        "# 'nonnull' returns the opposite of 'isnull' (True if not missing, False if missing)\n",
        "ufo.notnull().tail()"
      ],
      "execution_count": null,
      "outputs": []
    },
    {
      "cell_type": "markdown",
      "metadata": {
        "id": "gmbXG_Krpb9Q"
      },
      "source": [
        "Documentation for [**`isnull`**](http://pandas.pydata.org/pandas-docs/stable/generated/pandas.DataFrame.isnull.html) and [**`notnull`**](http://pandas.pydata.org/pandas-docs/stable/generated/pandas.notnull.html)"
      ]
    },
    {
      "cell_type": "code",
      "metadata": {
        "id": "Erg0k_1Ypb9Q"
      },
      "source": [
        "# count the number of missing values in each Series\n",
        "ufo.isnull().sum()"
      ],
      "execution_count": null,
      "outputs": []
    },
    {
      "cell_type": "markdown",
      "metadata": {
        "id": "QZ9mHUQlpb9R"
      },
      "source": [
        "This calculation works because:\n",
        "\n",
        "1. The **`sum`** method for a DataFrame operates on **`axis=0`** by default (and thus produces column sums).\n",
        "2. In order to add boolean values, pandas converts **`True`** to **1** and **`False`** to **0**."
      ]
    },
    {
      "cell_type": "code",
      "metadata": {
        "id": "E3LZ8ajfpb9R"
      },
      "source": [
        "# use the 'isnull' Series method to filter the DataFrame rows\n",
        "ufo[ufo.City.isnull()].head()"
      ],
      "execution_count": null,
      "outputs": []
    },
    {
      "cell_type": "markdown",
      "metadata": {
        "id": "9XSllA8mpb9R"
      },
      "source": [
        "**How to handle missing values** depends on the dataset as well as the nature of your analysis. Here are some options:"
      ]
    },
    {
      "cell_type": "code",
      "metadata": {
        "id": "vO4l4gI3pb9R"
      },
      "source": [
        "# examine the number of rows and columns\n",
        "ufo.shape"
      ],
      "execution_count": null,
      "outputs": []
    },
    {
      "cell_type": "code",
      "metadata": {
        "id": "RGaLY3MOpb9S"
      },
      "source": [
        "# if 'any' values are missing in a row, then drop that row\n",
        "ufo.dropna(how='any').shape"
      ],
      "execution_count": null,
      "outputs": []
    },
    {
      "cell_type": "markdown",
      "metadata": {
        "id": "yiM5qHEgpb9S"
      },
      "source": [
        "Documentation for [**`dropna`**](http://pandas.pydata.org/pandas-docs/stable/generated/pandas.DataFrame.dropna.html)"
      ]
    },
    {
      "cell_type": "code",
      "metadata": {
        "id": "kZD5-dCGpb9S"
      },
      "source": [
        "# 'inplace' parameter for 'dropna' is False by default, thus rows were only dropped temporarily\n",
        "ufo.shape"
      ],
      "execution_count": null,
      "outputs": []
    },
    {
      "cell_type": "code",
      "metadata": {
        "id": "CfC4aMghpb9T"
      },
      "source": [
        "# if 'all' values are missing in a row, then drop that row (none are dropped in this case)\n",
        "ufo.dropna(how='all').shape"
      ],
      "execution_count": null,
      "outputs": []
    },
    {
      "cell_type": "code",
      "metadata": {
        "id": "LULgDKxgpb9T"
      },
      "source": [
        "# if 'any' values are missing in a row (considering only 'City' and 'Shape Reported'), then drop that row\n",
        "ufo.dropna(subset=['City', 'Shape Reported'], how='any').shape"
      ],
      "execution_count": null,
      "outputs": []
    },
    {
      "cell_type": "code",
      "metadata": {
        "id": "onnU5vh9pb9T"
      },
      "source": [
        "# if 'all' values are missing in a row (considering only 'City' and 'Shape Reported'), then drop that row\n",
        "ufo.dropna(subset=['City', 'Shape Reported'], how='all').shape"
      ],
      "execution_count": null,
      "outputs": []
    },
    {
      "cell_type": "code",
      "metadata": {
        "id": "0OB8fJcSpb9U"
      },
      "source": [
        "# 'value_counts' does not include missing values by default\n",
        "ufo['Shape Reported'].value_counts()"
      ],
      "execution_count": null,
      "outputs": []
    },
    {
      "cell_type": "code",
      "metadata": {
        "id": "BeC6Dzbapb9U"
      },
      "source": [
        "# explicitly include missing values\n",
        "ufo['Shape Reported'].value_counts(dropna=False)"
      ],
      "execution_count": null,
      "outputs": []
    },
    {
      "cell_type": "markdown",
      "metadata": {
        "id": "Zwf7Bwi4pb9V"
      },
      "source": [
        "Documentation for [**`value_counts`**](http://pandas.pydata.org/pandas-docs/stable/generated/pandas.Series.value_counts.html)"
      ]
    },
    {
      "cell_type": "code",
      "metadata": {
        "id": "Mcm55wEFpb9V"
      },
      "source": [
        "# fill in missing values with a specified value\n",
        "ufo['Shape Reported'].fillna(value='VARIOUS', inplace=True)\n",
        "# ufo['Shape Reported'].isnull().sum()"
      ],
      "execution_count": null,
      "outputs": []
    },
    {
      "cell_type": "markdown",
      "metadata": {
        "id": "IH9ihRqhpb9W"
      },
      "source": [
        "Documentation for [**`fillna`**](http://pandas.pydata.org/pandas-docs/stable/generated/pandas.DataFrame.fillna.html)"
      ]
    },
    {
      "cell_type": "code",
      "metadata": {
        "id": "W3W4RWiSpb9W"
      },
      "source": [
        "# confirm that the missing values were filled in\n",
        "ufo['Shape Reported'].value_counts().head()"
      ],
      "execution_count": null,
      "outputs": []
    },
    {
      "cell_type": "markdown",
      "metadata": {
        "id": "_GjmfIFRpb9W"
      },
      "source": [
        "[Working with missing data in pandas](http://pandas.pydata.org/pandas-docs/stable/missing_data.html)"
      ]
    },
    {
      "cell_type": "code",
      "metadata": {
        "id": "GOlw1Xnnpb9W"
      },
      "source": [
        "drinks = pd.read_csv('http://bit.ly/drinksbycountry')\n",
        "drinks.head()"
      ],
      "execution_count": null,
      "outputs": []
    },
    {
      "cell_type": "code",
      "metadata": {
        "id": "CCZrZp0ipb9X"
      },
      "source": [
        "# 'country' is now the index\n",
        "# drinks.set_index('country',inplace=True)\n",
        "drinks.head()"
      ],
      "execution_count": null,
      "outputs": []
    },
    {
      "cell_type": "code",
      "metadata": {
        "id": "Ej0Ahtrcpb9Y"
      },
      "source": [
        "# 'country' is no longer a column\n",
        "drinks.columns"
      ],
      "execution_count": null,
      "outputs": []
    },
    {
      "cell_type": "code",
      "metadata": {
        "id": "55db-E-0pb9Z"
      },
      "source": [
        "# 'country' data is no longer part of the DataFrame contents\n",
        "drinks.shape"
      ],
      "execution_count": null,
      "outputs": []
    },
    {
      "cell_type": "code",
      "metadata": {
        "id": "q6G-eQ2Jpb9a"
      },
      "source": [
        "# country name can now be used for selection\n",
        "drinks.loc['Brazil', 'beer_servings']"
      ],
      "execution_count": null,
      "outputs": []
    },
    {
      "cell_type": "code",
      "metadata": {
        "id": "rE3Frxznpb9a"
      },
      "source": [
        "# index name is optional\n",
        "drinks.index.name = None\n",
        "drinks.head()"
      ],
      "execution_count": null,
      "outputs": []
    },
    {
      "cell_type": "code",
      "metadata": {
        "id": "SwtG0Mvbpb9b"
      },
      "source": [
        "# restore the index name, and move the index back to a column\n",
        "drinks.index.name = 'country'\n",
        "drinks.reset_index(inplace=True)\n",
        "drinks.head()"
      ],
      "execution_count": null,
      "outputs": []
    },
    {
      "cell_type": "markdown",
      "metadata": {
        "id": "mEtWFUj8pb9b"
      },
      "source": [
        "Documentation for [**`reset_index`**](http://pandas.pydata.org/pandas-docs/stable/generated/pandas.DataFrame.reset_index.html)"
      ]
    },
    {
      "cell_type": "markdown",
      "metadata": {
        "id": "cTuuMdU1pb9b"
      },
      "source": [
        "## How do I select multiple rows and columns from a pandas DataFrame? "
      ]
    },
    {
      "cell_type": "code",
      "metadata": {
        "id": "cxxBMd4Dpb9c"
      },
      "source": [
        "# read a dataset of UFO reports into a DataFrame\n",
        "ufo = pd.read_csv('http://bit.ly/uforeports')\n",
        "ufo.head(3)"
      ],
      "execution_count": null,
      "outputs": []
    },
    {
      "cell_type": "code",
      "metadata": {
        "id": "YlQykp0Xpb9c"
      },
      "source": [
        "# loc  - [index/bool,'column names']\n",
        "# iloc - [index/bool,index position]  "
      ],
      "execution_count": null,
      "outputs": []
    },
    {
      "cell_type": "markdown",
      "metadata": {
        "id": "xor4cR2Tpb9c"
      },
      "source": [
        "The [**`loc`**](http://pandas.pydata.org/pandas-docs/stable/generated/pandas.DataFrame.loc.html) method is used to select rows and columns by **label**. You can pass it:\n",
        "\n",
        "- A single label\n",
        "- A list of labels\n",
        "- A slice of labels\n",
        "- A boolean Series\n",
        "- A colon (which indicates \"all labels\")"
      ]
    },
    {
      "cell_type": "code",
      "metadata": {
        "id": "IzMRHFvYpb9d"
      },
      "source": [
        "# row 0, all columns\n",
        "ufo.loc[1, :]"
      ],
      "execution_count": null,
      "outputs": []
    },
    {
      "cell_type": "code",
      "metadata": {
        "id": "vm6bxLdPpb9d"
      },
      "source": [
        "# rows 0 and 1 and 2, all columns\n",
        "ufo.loc[[0, 1, 2], :]"
      ],
      "execution_count": null,
      "outputs": []
    },
    {
      "cell_type": "code",
      "metadata": {
        "id": "cfcrDFNhpb9d"
      },
      "source": [
        "# rows 0 through 2 (inclusive), all columns\n",
        "ufo.loc[0:2, :]"
      ],
      "execution_count": null,
      "outputs": []
    },
    {
      "cell_type": "code",
      "metadata": {
        "id": "U3o2n5OEpb9e"
      },
      "source": [
        "# this implies \"all columns\", but explicitly stating \"all columns\" is better\n",
        "ufo.loc[0:2]"
      ],
      "execution_count": null,
      "outputs": []
    },
    {
      "cell_type": "code",
      "metadata": {
        "scrolled": true,
        "id": "m6kQTofEpb9e"
      },
      "source": [
        "# rows 0 through 2 (inclusive), column 'City'\n",
        "ufo.loc[0:10, 'City']"
      ],
      "execution_count": null,
      "outputs": []
    },
    {
      "cell_type": "code",
      "metadata": {
        "id": "nE-5TcyOpb9e"
      },
      "source": [
        "# rows 0 through 2 (inclusive), columns 'City' and 'State'\n",
        "ufo.loc[0:2, ['City', 'State']]"
      ],
      "execution_count": null,
      "outputs": []
    },
    {
      "cell_type": "code",
      "metadata": {
        "id": "jnziO-Popb9f"
      },
      "source": [
        "# accomplish the same thing using double brackets - but using 'loc' is preferred since it's more explicit\n",
        "ufo[['City', 'State']].head(3)"
      ],
      "execution_count": null,
      "outputs": []
    },
    {
      "cell_type": "code",
      "metadata": {
        "id": "Yg9TVkV7pb9f"
      },
      "source": [
        "# rows 0 through 2 (inclusive), columns 'City' through 'State' (inclusive)\n",
        "ufo.loc[0:2, 'City':'State']"
      ],
      "execution_count": null,
      "outputs": []
    },
    {
      "cell_type": "code",
      "metadata": {
        "id": "eC_CQUJ5pb9f"
      },
      "source": [
        "# accomplish the same thing using 'head' and 'drop'\n",
        "ufo.head(3).drop('Time', axis=1)"
      ],
      "execution_count": null,
      "outputs": []
    },
    {
      "cell_type": "code",
      "metadata": {
        "id": "yXGMXt8rpb9g"
      },
      "source": [
        "# rows in which the 'City' is 'Oakland', column 'State'\n",
        "ufo.loc[ufo.City=='Oakland', 'State']"
      ],
      "execution_count": null,
      "outputs": []
    },
    {
      "cell_type": "code",
      "metadata": {
        "id": "yjRYK7Zzpb9g"
      },
      "source": [
        "# accomplish the same thing using \"chained indexing\" - but using 'loc' is preferred since chained indexing can cause problems\n",
        "ufo[ufo.City=='Oakland'].State"
      ],
      "execution_count": null,
      "outputs": []
    },
    {
      "cell_type": "markdown",
      "metadata": {
        "id": "Tr_V65fkpb9g"
      },
      "source": [
        "The [**`iloc`**](http://pandas.pydata.org/pandas-docs/stable/generated/pandas.DataFrame.iloc.html) method is used to select rows and columns by **integer position**. You can pass it:\n",
        "\n",
        "- A single integer position\n",
        "- A list of integer positions\n",
        "- A slice of integer positions\n",
        "- A colon (which indicates \"all integer positions\")"
      ]
    },
    {
      "cell_type": "code",
      "metadata": {
        "id": "yZzeNiYrpb9g"
      },
      "source": [
        "ufo.head()"
      ],
      "execution_count": null,
      "outputs": []
    },
    {
      "cell_type": "code",
      "metadata": {
        "id": "bKJFZL9Lpb9h"
      },
      "source": [
        "# rows in positions 0 and 1, columns in positions 0 and 3\n",
        "ufo.iloc[[0, 1], [0, 3]]"
      ],
      "execution_count": null,
      "outputs": []
    },
    {
      "cell_type": "code",
      "metadata": {
        "id": "5SShlgbqpb9h"
      },
      "source": [
        "# rows in positions 0 through 2 (exclusive), columns in positions 0 through 4 (exclusive)\n",
        "ufo.iloc[0:2, 0:4]"
      ],
      "execution_count": null,
      "outputs": []
    },
    {
      "cell_type": "code",
      "metadata": {
        "scrolled": true,
        "id": "XZU7WGtppb9h"
      },
      "source": [
        "# rows in positions 0 through 2 (exclusive), all columns\n",
        "ufo.iloc[0:2, :]"
      ],
      "execution_count": null,
      "outputs": []
    },
    {
      "cell_type": "code",
      "metadata": {
        "scrolled": true,
        "id": "fAwvaHUIpb9i"
      },
      "source": [
        "# accomplish the same thing - but using 'iloc' is preferred since it's more explicit\n",
        "ufo[0:2]"
      ],
      "execution_count": null,
      "outputs": []
    },
    {
      "cell_type": "code",
      "metadata": {
        "id": "VQDBzMl9pb9i"
      },
      "source": [
        "# read a dataset of alcohol consumption into a DataFrame and set 'country' as the index\n",
        "import pandas as pd\n",
        "drinks = pd.read_csv('http://bit.ly/drinksbycountry', index_col='country')\n",
        "drinks.head()"
      ],
      "execution_count": null,
      "outputs": []
    },
    {
      "cell_type": "code",
      "metadata": {
        "id": "9ZsbeXGzpb9j"
      },
      "source": [
        "# use the 'category' data type (new in pandas 0.15) to store the 'continent' strings as integers\n",
        "# drinks.reset_index(inplace=True)\n",
        "drinks['continent'] = drinks.continent.astype('category')\n",
        "drinks.dtypes"
      ],
      "execution_count": null,
      "outputs": []
    },
    {
      "cell_type": "code",
      "metadata": {
        "id": "oEp7aEDzpb9j"
      },
      "source": [
        "# 'continent' Series appears to be unchanged\n",
        "drinks.continent.head()"
      ],
      "execution_count": null,
      "outputs": []
    },
    {
      "cell_type": "code",
      "metadata": {
        "id": "QMatfgF2pb9j"
      },
      "source": [
        "7 - africa - 0 \n"
      ],
      "execution_count": null,
      "outputs": []
    },
    {
      "cell_type": "code",
      "metadata": {
        "id": "n1PzLdrBpb9k"
      },
      "source": [
        "# strings are now encoded (0 means 'Africa', 1 means 'Asia', 2 means 'Europe', etc.)\n",
        "drinks.continent.cat.codes.head()"
      ],
      "execution_count": null,
      "outputs": []
    },
    {
      "cell_type": "code",
      "metadata": {
        "id": "XjzOKB_Bpb9k"
      },
      "source": [
        "# memory usage has been drastically reduced\n",
        "drinks.memory_usage(deep=True)"
      ],
      "execution_count": null,
      "outputs": []
    },
    {
      "cell_type": "code",
      "metadata": {
        "id": "ja6cGymMpb9k"
      },
      "source": [
        "# repeat this process for the 'country' Series\n",
        "drinks.index = drinks.index.astype('category')\n",
        "drinks.memory_usage(deep=True)"
      ],
      "execution_count": null,
      "outputs": []
    },
    {
      "cell_type": "code",
      "metadata": {
        "id": "PpueapVEpb9l"
      },
      "source": [
        "# memory usage increased because we created 193 categories\n",
        "drinks.index.astype('category').categories"
      ],
      "execution_count": null,
      "outputs": []
    },
    {
      "cell_type": "markdown",
      "metadata": {
        "id": "oOiqJLkJpb9l"
      },
      "source": [
        "The **category** data type should only be used with a string Series that has a **small number of possible values**."
      ]
    },
    {
      "cell_type": "code",
      "metadata": {
        "id": "foDvpm5ypb9l"
      },
      "source": [
        "goodl"
      ],
      "execution_count": null,
      "outputs": []
    },
    {
      "cell_type": "code",
      "metadata": {
        "id": "D1Tos63bpb9l"
      },
      "source": [
        "# create a small DataFrame from a dictionary\n",
        "import pandas as pd\n",
        "df = pd.DataFrame({'ID':[100, 101, 102, 103], 'quality':['good', 'very good', 'good', 'excellent']})\n",
        "df"
      ],
      "execution_count": null,
      "outputs": []
    },
    {
      "cell_type": "code",
      "metadata": {
        "id": "UtSSgu7lpb9m"
      },
      "source": [
        ""
      ],
      "execution_count": null,
      "outputs": []
    },
    {
      "cell_type": "code",
      "metadata": {
        "id": "Bw6I7jt1pb9m"
      },
      "source": [
        "# sort the DataFrame by the 'quality' Series (alphabetical order)\n",
        "df.sort_values('quality')"
      ],
      "execution_count": null,
      "outputs": []
    },
    {
      "cell_type": "code",
      "metadata": {
        "id": "ZmqnBaVhpb9m"
      },
      "source": [
        "# define a logical ordering for the categories\n",
        "from pandas.api.types import CategoricalDtype\n",
        "cat_type = CategoricalDtype(categories=['good', 'very good', 'excellent'], ordered=True)\n",
        "df['quality'] = df.quality.astype(cat_type)\n",
        "df.quality"
      ],
      "execution_count": null,
      "outputs": []
    },
    {
      "cell_type": "code",
      "metadata": {
        "id": "nzO22RHlpb9p"
      },
      "source": [
        "# sort the DataFrame by the 'quality' Series (logical order)\n",
        "df.sort_values('quality')"
      ],
      "execution_count": null,
      "outputs": []
    },
    {
      "cell_type": "code",
      "metadata": {
        "id": "nCmyv58ipb9q"
      },
      "source": [
        "# comparison operators work with ordered categories\n",
        "df.loc[df.quality > 'good', :]"
      ],
      "execution_count": null,
      "outputs": []
    },
    {
      "cell_type": "markdown",
      "metadata": {
        "id": "_DxWlGD_pb9r"
      },
      "source": [
        "[Overview of categorical data in pandas](http://pandas.pydata.org/pandas-docs/stable/categorical.html)\n",
        "\n",
        "[API reference for categorical methods](http://pandas.pydata.org/pandas-docs/stable/api.html#categorical)\n",
        "\n"
      ]
    },
    {
      "cell_type": "markdown",
      "metadata": {
        "id": "dJ9_scy3pb9s"
      },
      "source": [
        "## How do I create dummy variables in pandas?"
      ]
    },
    {
      "cell_type": "code",
      "metadata": {
        "id": "qZErfXh2pb9t",
        "outputId": "5ea75826-3164-4859-9829-0df740349d05"
      },
      "source": [
        "# read the training dataset from Kaggle's Titanic competition\n",
        "import pandas as pd\n",
        "train = pd.read_csv('http://bit.ly/kaggletrain')\n",
        "train.head()"
      ],
      "execution_count": null,
      "outputs": [
        {
          "output_type": "execute_result",
          "data": {
            "text/html": [
              "<div>\n",
              "<style scoped>\n",
              "    .dataframe tbody tr th:only-of-type {\n",
              "        vertical-align: middle;\n",
              "    }\n",
              "\n",
              "    .dataframe tbody tr th {\n",
              "        vertical-align: top;\n",
              "    }\n",
              "\n",
              "    .dataframe thead th {\n",
              "        text-align: right;\n",
              "    }\n",
              "</style>\n",
              "<table border=\"1\" class=\"dataframe\">\n",
              "  <thead>\n",
              "    <tr style=\"text-align: right;\">\n",
              "      <th></th>\n",
              "      <th>PassengerId</th>\n",
              "      <th>Survived</th>\n",
              "      <th>Pclass</th>\n",
              "      <th>Name</th>\n",
              "      <th>Sex</th>\n",
              "      <th>Age</th>\n",
              "      <th>SibSp</th>\n",
              "      <th>Parch</th>\n",
              "      <th>Ticket</th>\n",
              "      <th>Fare</th>\n",
              "      <th>Cabin</th>\n",
              "      <th>Embarked</th>\n",
              "    </tr>\n",
              "  </thead>\n",
              "  <tbody>\n",
              "    <tr>\n",
              "      <th>0</th>\n",
              "      <td>1</td>\n",
              "      <td>0</td>\n",
              "      <td>3</td>\n",
              "      <td>Braund, Mr. Owen Harris</td>\n",
              "      <td>male</td>\n",
              "      <td>22.0</td>\n",
              "      <td>1</td>\n",
              "      <td>0</td>\n",
              "      <td>A/5 21171</td>\n",
              "      <td>7.2500</td>\n",
              "      <td>NaN</td>\n",
              "      <td>S</td>\n",
              "    </tr>\n",
              "    <tr>\n",
              "      <th>1</th>\n",
              "      <td>2</td>\n",
              "      <td>1</td>\n",
              "      <td>1</td>\n",
              "      <td>Cumings, Mrs. John Bradley (Florence Briggs Th...</td>\n",
              "      <td>female</td>\n",
              "      <td>38.0</td>\n",
              "      <td>1</td>\n",
              "      <td>0</td>\n",
              "      <td>PC 17599</td>\n",
              "      <td>71.2833</td>\n",
              "      <td>C85</td>\n",
              "      <td>C</td>\n",
              "    </tr>\n",
              "    <tr>\n",
              "      <th>2</th>\n",
              "      <td>3</td>\n",
              "      <td>1</td>\n",
              "      <td>3</td>\n",
              "      <td>Heikkinen, Miss. Laina</td>\n",
              "      <td>female</td>\n",
              "      <td>26.0</td>\n",
              "      <td>0</td>\n",
              "      <td>0</td>\n",
              "      <td>STON/O2. 3101282</td>\n",
              "      <td>7.9250</td>\n",
              "      <td>NaN</td>\n",
              "      <td>S</td>\n",
              "    </tr>\n",
              "    <tr>\n",
              "      <th>3</th>\n",
              "      <td>4</td>\n",
              "      <td>1</td>\n",
              "      <td>1</td>\n",
              "      <td>Futrelle, Mrs. Jacques Heath (Lily May Peel)</td>\n",
              "      <td>female</td>\n",
              "      <td>35.0</td>\n",
              "      <td>1</td>\n",
              "      <td>0</td>\n",
              "      <td>113803</td>\n",
              "      <td>53.1000</td>\n",
              "      <td>C123</td>\n",
              "      <td>S</td>\n",
              "    </tr>\n",
              "    <tr>\n",
              "      <th>4</th>\n",
              "      <td>5</td>\n",
              "      <td>0</td>\n",
              "      <td>3</td>\n",
              "      <td>Allen, Mr. William Henry</td>\n",
              "      <td>male</td>\n",
              "      <td>35.0</td>\n",
              "      <td>0</td>\n",
              "      <td>0</td>\n",
              "      <td>373450</td>\n",
              "      <td>8.0500</td>\n",
              "      <td>NaN</td>\n",
              "      <td>S</td>\n",
              "    </tr>\n",
              "  </tbody>\n",
              "</table>\n",
              "</div>"
            ],
            "text/plain": [
              "   PassengerId  Survived  Pclass  \\\n",
              "0            1         0       3   \n",
              "1            2         1       1   \n",
              "2            3         1       3   \n",
              "3            4         1       1   \n",
              "4            5         0       3   \n",
              "\n",
              "                                                Name     Sex   Age  SibSp  \\\n",
              "0                            Braund, Mr. Owen Harris    male  22.0      1   \n",
              "1  Cumings, Mrs. John Bradley (Florence Briggs Th...  female  38.0      1   \n",
              "2                             Heikkinen, Miss. Laina  female  26.0      0   \n",
              "3       Futrelle, Mrs. Jacques Heath (Lily May Peel)  female  35.0      1   \n",
              "4                           Allen, Mr. William Henry    male  35.0      0   \n",
              "\n",
              "   Parch            Ticket     Fare Cabin Embarked  \n",
              "0      0         A/5 21171   7.2500   NaN        S  \n",
              "1      0          PC 17599  71.2833   C85        C  \n",
              "2      0  STON/O2. 3101282   7.9250   NaN        S  \n",
              "3      0            113803  53.1000  C123        S  \n",
              "4      0            373450   8.0500   NaN        S  "
            ]
          },
          "metadata": {
            "tags": []
          },
          "execution_count": 17
        }
      ]
    },
    {
      "cell_type": "code",
      "metadata": {
        "id": "akr04KQKpb9t",
        "outputId": "50b3d215-5b51-4c96-f61f-53b6c97b07d3"
      },
      "source": [
        "# create the 'Sex_male' dummy variable using the 'map' method\n",
        "train['Sex_male'] = train.Sex.map({'female':0, 'male':1})\n",
        "train.head()"
      ],
      "execution_count": null,
      "outputs": [
        {
          "output_type": "execute_result",
          "data": {
            "text/html": [
              "<div>\n",
              "<style scoped>\n",
              "    .dataframe tbody tr th:only-of-type {\n",
              "        vertical-align: middle;\n",
              "    }\n",
              "\n",
              "    .dataframe tbody tr th {\n",
              "        vertical-align: top;\n",
              "    }\n",
              "\n",
              "    .dataframe thead th {\n",
              "        text-align: right;\n",
              "    }\n",
              "</style>\n",
              "<table border=\"1\" class=\"dataframe\">\n",
              "  <thead>\n",
              "    <tr style=\"text-align: right;\">\n",
              "      <th></th>\n",
              "      <th>PassengerId</th>\n",
              "      <th>Survived</th>\n",
              "      <th>Pclass</th>\n",
              "      <th>Name</th>\n",
              "      <th>Sex</th>\n",
              "      <th>Age</th>\n",
              "      <th>SibSp</th>\n",
              "      <th>Parch</th>\n",
              "      <th>Ticket</th>\n",
              "      <th>Fare</th>\n",
              "      <th>Cabin</th>\n",
              "      <th>Embarked</th>\n",
              "      <th>Sex_male</th>\n",
              "    </tr>\n",
              "  </thead>\n",
              "  <tbody>\n",
              "    <tr>\n",
              "      <th>0</th>\n",
              "      <td>1</td>\n",
              "      <td>0</td>\n",
              "      <td>3</td>\n",
              "      <td>Braund, Mr. Owen Harris</td>\n",
              "      <td>male</td>\n",
              "      <td>22.0</td>\n",
              "      <td>1</td>\n",
              "      <td>0</td>\n",
              "      <td>A/5 21171</td>\n",
              "      <td>7.2500</td>\n",
              "      <td>NaN</td>\n",
              "      <td>S</td>\n",
              "      <td>1</td>\n",
              "    </tr>\n",
              "    <tr>\n",
              "      <th>1</th>\n",
              "      <td>2</td>\n",
              "      <td>1</td>\n",
              "      <td>1</td>\n",
              "      <td>Cumings, Mrs. John Bradley (Florence Briggs Th...</td>\n",
              "      <td>female</td>\n",
              "      <td>38.0</td>\n",
              "      <td>1</td>\n",
              "      <td>0</td>\n",
              "      <td>PC 17599</td>\n",
              "      <td>71.2833</td>\n",
              "      <td>C85</td>\n",
              "      <td>C</td>\n",
              "      <td>0</td>\n",
              "    </tr>\n",
              "    <tr>\n",
              "      <th>2</th>\n",
              "      <td>3</td>\n",
              "      <td>1</td>\n",
              "      <td>3</td>\n",
              "      <td>Heikkinen, Miss. Laina</td>\n",
              "      <td>female</td>\n",
              "      <td>26.0</td>\n",
              "      <td>0</td>\n",
              "      <td>0</td>\n",
              "      <td>STON/O2. 3101282</td>\n",
              "      <td>7.9250</td>\n",
              "      <td>NaN</td>\n",
              "      <td>S</td>\n",
              "      <td>0</td>\n",
              "    </tr>\n",
              "    <tr>\n",
              "      <th>3</th>\n",
              "      <td>4</td>\n",
              "      <td>1</td>\n",
              "      <td>1</td>\n",
              "      <td>Futrelle, Mrs. Jacques Heath (Lily May Peel)</td>\n",
              "      <td>female</td>\n",
              "      <td>35.0</td>\n",
              "      <td>1</td>\n",
              "      <td>0</td>\n",
              "      <td>113803</td>\n",
              "      <td>53.1000</td>\n",
              "      <td>C123</td>\n",
              "      <td>S</td>\n",
              "      <td>0</td>\n",
              "    </tr>\n",
              "    <tr>\n",
              "      <th>4</th>\n",
              "      <td>5</td>\n",
              "      <td>0</td>\n",
              "      <td>3</td>\n",
              "      <td>Allen, Mr. William Henry</td>\n",
              "      <td>male</td>\n",
              "      <td>35.0</td>\n",
              "      <td>0</td>\n",
              "      <td>0</td>\n",
              "      <td>373450</td>\n",
              "      <td>8.0500</td>\n",
              "      <td>NaN</td>\n",
              "      <td>S</td>\n",
              "      <td>1</td>\n",
              "    </tr>\n",
              "  </tbody>\n",
              "</table>\n",
              "</div>"
            ],
            "text/plain": [
              "   PassengerId  Survived  Pclass  \\\n",
              "0            1         0       3   \n",
              "1            2         1       1   \n",
              "2            3         1       3   \n",
              "3            4         1       1   \n",
              "4            5         0       3   \n",
              "\n",
              "                                                Name     Sex   Age  SibSp  \\\n",
              "0                            Braund, Mr. Owen Harris    male  22.0      1   \n",
              "1  Cumings, Mrs. John Bradley (Florence Briggs Th...  female  38.0      1   \n",
              "2                             Heikkinen, Miss. Laina  female  26.0      0   \n",
              "3       Futrelle, Mrs. Jacques Heath (Lily May Peel)  female  35.0      1   \n",
              "4                           Allen, Mr. William Henry    male  35.0      0   \n",
              "\n",
              "   Parch            Ticket     Fare Cabin Embarked  Sex_male  \n",
              "0      0         A/5 21171   7.2500   NaN        S         1  \n",
              "1      0          PC 17599  71.2833   C85        C         0  \n",
              "2      0  STON/O2. 3101282   7.9250   NaN        S         0  \n",
              "3      0            113803  53.1000  C123        S         0  \n",
              "4      0            373450   8.0500   NaN        S         1  "
            ]
          },
          "metadata": {
            "tags": []
          },
          "execution_count": 18
        }
      ]
    },
    {
      "cell_type": "markdown",
      "metadata": {
        "id": "0XhSJPjOpb9u"
      },
      "source": [
        "Documentation for [**`map`**](http://pandas.pydata.org/pandas-docs/stable/generated/pandas.Series.map.html)"
      ]
    },
    {
      "cell_type": "code",
      "metadata": {
        "id": "6X-6mK11pb9u",
        "outputId": "35a26ec2-c774-43f4-8ce5-b51bf0b23cc3"
      },
      "source": [
        "# alternative: use 'get_dummies' to create one column for every possible value\n",
        "pd.get_dummies(train.Sex,prefix = 'Sex',prefix_sep='_',drop_first=True).head()"
      ],
      "execution_count": null,
      "outputs": [
        {
          "output_type": "execute_result",
          "data": {
            "text/html": [
              "<div>\n",
              "<style scoped>\n",
              "    .dataframe tbody tr th:only-of-type {\n",
              "        vertical-align: middle;\n",
              "    }\n",
              "\n",
              "    .dataframe tbody tr th {\n",
              "        vertical-align: top;\n",
              "    }\n",
              "\n",
              "    .dataframe thead th {\n",
              "        text-align: right;\n",
              "    }\n",
              "</style>\n",
              "<table border=\"1\" class=\"dataframe\">\n",
              "  <thead>\n",
              "    <tr style=\"text-align: right;\">\n",
              "      <th></th>\n",
              "      <th>Sex_male</th>\n",
              "    </tr>\n",
              "  </thead>\n",
              "  <tbody>\n",
              "    <tr>\n",
              "      <th>0</th>\n",
              "      <td>1</td>\n",
              "    </tr>\n",
              "    <tr>\n",
              "      <th>1</th>\n",
              "      <td>0</td>\n",
              "    </tr>\n",
              "    <tr>\n",
              "      <th>2</th>\n",
              "      <td>0</td>\n",
              "    </tr>\n",
              "    <tr>\n",
              "      <th>3</th>\n",
              "      <td>0</td>\n",
              "    </tr>\n",
              "    <tr>\n",
              "      <th>4</th>\n",
              "      <td>1</td>\n",
              "    </tr>\n",
              "  </tbody>\n",
              "</table>\n",
              "</div>"
            ],
            "text/plain": [
              "   Sex_male\n",
              "0         1\n",
              "1         0\n",
              "2         0\n",
              "3         0\n",
              "4         1"
            ]
          },
          "metadata": {
            "tags": []
          },
          "execution_count": 20
        }
      ]
    },
    {
      "cell_type": "markdown",
      "metadata": {
        "id": "Pn1ZDOPNpb9v"
      },
      "source": [
        "Generally speaking:\n",
        "\n",
        "- If you have **\"K\" possible values** for a categorical feature, you only need **\"K-1\" dummy variables** to capture all of the information about that feature.\n",
        "- One convention is to **drop the first dummy variable**, which defines that level as the \"baseline\"."
      ]
    },
    {
      "cell_type": "code",
      "metadata": {
        "id": "jDhVh_76pb9v",
        "outputId": "51fea515-e6b7-4094-81ba-2f90b175c30a"
      },
      "source": [
        "# drop the first dummy variable ('female') using the 'iloc' method\n",
        "pd.get_dummies(train.Sex).iloc[:, 1:].head()"
      ],
      "execution_count": null,
      "outputs": [
        {
          "output_type": "execute_result",
          "data": {
            "text/html": [
              "<div>\n",
              "<style scoped>\n",
              "    .dataframe tbody tr th:only-of-type {\n",
              "        vertical-align: middle;\n",
              "    }\n",
              "\n",
              "    .dataframe tbody tr th {\n",
              "        vertical-align: top;\n",
              "    }\n",
              "\n",
              "    .dataframe thead th {\n",
              "        text-align: right;\n",
              "    }\n",
              "</style>\n",
              "<table border=\"1\" class=\"dataframe\">\n",
              "  <thead>\n",
              "    <tr style=\"text-align: right;\">\n",
              "      <th></th>\n",
              "      <th>male</th>\n",
              "    </tr>\n",
              "  </thead>\n",
              "  <tbody>\n",
              "    <tr>\n",
              "      <th>0</th>\n",
              "      <td>1</td>\n",
              "    </tr>\n",
              "    <tr>\n",
              "      <th>1</th>\n",
              "      <td>0</td>\n",
              "    </tr>\n",
              "    <tr>\n",
              "      <th>2</th>\n",
              "      <td>0</td>\n",
              "    </tr>\n",
              "    <tr>\n",
              "      <th>3</th>\n",
              "      <td>0</td>\n",
              "    </tr>\n",
              "    <tr>\n",
              "      <th>4</th>\n",
              "      <td>1</td>\n",
              "    </tr>\n",
              "  </tbody>\n",
              "</table>\n",
              "</div>"
            ],
            "text/plain": [
              "   male\n",
              "0     1\n",
              "1     0\n",
              "2     0\n",
              "3     0\n",
              "4     1"
            ]
          },
          "metadata": {
            "tags": []
          },
          "execution_count": 10
        }
      ]
    },
    {
      "cell_type": "code",
      "metadata": {
        "id": "28p9ewjipb9v",
        "outputId": "0abda4b6-36bc-4c92-fb56-f1b22e71fdb8"
      },
      "source": [
        "# add a prefix to identify the source of the dummy variables\n",
        "pd.get_dummies(train.Sex, prefix='Sex').iloc[:, 1:].head()"
      ],
      "execution_count": null,
      "outputs": [
        {
          "output_type": "execute_result",
          "data": {
            "text/html": [
              "<div>\n",
              "<style scoped>\n",
              "    .dataframe tbody tr th:only-of-type {\n",
              "        vertical-align: middle;\n",
              "    }\n",
              "\n",
              "    .dataframe tbody tr th {\n",
              "        vertical-align: top;\n",
              "    }\n",
              "\n",
              "    .dataframe thead th {\n",
              "        text-align: right;\n",
              "    }\n",
              "</style>\n",
              "<table border=\"1\" class=\"dataframe\">\n",
              "  <thead>\n",
              "    <tr style=\"text-align: right;\">\n",
              "      <th></th>\n",
              "      <th>Sex_male</th>\n",
              "    </tr>\n",
              "  </thead>\n",
              "  <tbody>\n",
              "    <tr>\n",
              "      <th>0</th>\n",
              "      <td>1</td>\n",
              "    </tr>\n",
              "    <tr>\n",
              "      <th>1</th>\n",
              "      <td>0</td>\n",
              "    </tr>\n",
              "    <tr>\n",
              "      <th>2</th>\n",
              "      <td>0</td>\n",
              "    </tr>\n",
              "    <tr>\n",
              "      <th>3</th>\n",
              "      <td>0</td>\n",
              "    </tr>\n",
              "    <tr>\n",
              "      <th>4</th>\n",
              "      <td>1</td>\n",
              "    </tr>\n",
              "  </tbody>\n",
              "</table>\n",
              "</div>"
            ],
            "text/plain": [
              "   Sex_male\n",
              "0         1\n",
              "1         0\n",
              "2         0\n",
              "3         0\n",
              "4         1"
            ]
          },
          "metadata": {
            "tags": []
          },
          "execution_count": 11
        }
      ]
    },
    {
      "cell_type": "code",
      "metadata": {
        "id": "9cMVlD8vpb9w",
        "outputId": "0ab6a537-313c-4b58-b8b3-8f654319fe07"
      },
      "source": [
        "train.Embarked.unique()"
      ],
      "execution_count": null,
      "outputs": [
        {
          "output_type": "execute_result",
          "data": {
            "text/plain": [
              "array(['S', 'C', 'Q', nan], dtype=object)"
            ]
          },
          "metadata": {
            "tags": []
          },
          "execution_count": 12
        }
      ]
    },
    {
      "cell_type": "code",
      "metadata": {
        "id": "HFdaGJ-7pb9w",
        "outputId": "bc787ecc-ccf8-412a-b1c1-c2febda3b102"
      },
      "source": [
        "train.Embarked.head(10)"
      ],
      "execution_count": null,
      "outputs": [
        {
          "output_type": "execute_result",
          "data": {
            "text/plain": [
              "0    S\n",
              "1    C\n",
              "2    S\n",
              "3    S\n",
              "4    S\n",
              "5    Q\n",
              "6    S\n",
              "7    S\n",
              "8    S\n",
              "9    C\n",
              "Name: Embarked, dtype: object"
            ]
          },
          "metadata": {
            "tags": []
          },
          "execution_count": 13
        }
      ]
    },
    {
      "cell_type": "code",
      "metadata": {
        "id": "klrZxREppb9x",
        "outputId": "687b2209-cb9a-4e58-c495-b714933a0bd6"
      },
      "source": [
        "# use 'get_dummies' with a feature that has 3 possible values\n",
        "pd.get_dummies(train.Embarked, prefix='Embarked').head(10)"
      ],
      "execution_count": null,
      "outputs": [
        {
          "output_type": "execute_result",
          "data": {
            "text/html": [
              "<div>\n",
              "<style scoped>\n",
              "    .dataframe tbody tr th:only-of-type {\n",
              "        vertical-align: middle;\n",
              "    }\n",
              "\n",
              "    .dataframe tbody tr th {\n",
              "        vertical-align: top;\n",
              "    }\n",
              "\n",
              "    .dataframe thead th {\n",
              "        text-align: right;\n",
              "    }\n",
              "</style>\n",
              "<table border=\"1\" class=\"dataframe\">\n",
              "  <thead>\n",
              "    <tr style=\"text-align: right;\">\n",
              "      <th></th>\n",
              "      <th>Embarked_C</th>\n",
              "      <th>Embarked_Q</th>\n",
              "      <th>Embarked_S</th>\n",
              "    </tr>\n",
              "  </thead>\n",
              "  <tbody>\n",
              "    <tr>\n",
              "      <th>0</th>\n",
              "      <td>0</td>\n",
              "      <td>0</td>\n",
              "      <td>1</td>\n",
              "    </tr>\n",
              "    <tr>\n",
              "      <th>1</th>\n",
              "      <td>1</td>\n",
              "      <td>0</td>\n",
              "      <td>0</td>\n",
              "    </tr>\n",
              "    <tr>\n",
              "      <th>2</th>\n",
              "      <td>0</td>\n",
              "      <td>0</td>\n",
              "      <td>1</td>\n",
              "    </tr>\n",
              "    <tr>\n",
              "      <th>3</th>\n",
              "      <td>0</td>\n",
              "      <td>0</td>\n",
              "      <td>1</td>\n",
              "    </tr>\n",
              "    <tr>\n",
              "      <th>4</th>\n",
              "      <td>0</td>\n",
              "      <td>0</td>\n",
              "      <td>1</td>\n",
              "    </tr>\n",
              "    <tr>\n",
              "      <th>5</th>\n",
              "      <td>0</td>\n",
              "      <td>1</td>\n",
              "      <td>0</td>\n",
              "    </tr>\n",
              "    <tr>\n",
              "      <th>6</th>\n",
              "      <td>0</td>\n",
              "      <td>0</td>\n",
              "      <td>1</td>\n",
              "    </tr>\n",
              "    <tr>\n",
              "      <th>7</th>\n",
              "      <td>0</td>\n",
              "      <td>0</td>\n",
              "      <td>1</td>\n",
              "    </tr>\n",
              "    <tr>\n",
              "      <th>8</th>\n",
              "      <td>0</td>\n",
              "      <td>0</td>\n",
              "      <td>1</td>\n",
              "    </tr>\n",
              "    <tr>\n",
              "      <th>9</th>\n",
              "      <td>1</td>\n",
              "      <td>0</td>\n",
              "      <td>0</td>\n",
              "    </tr>\n",
              "  </tbody>\n",
              "</table>\n",
              "</div>"
            ],
            "text/plain": [
              "   Embarked_C  Embarked_Q  Embarked_S\n",
              "0           0           0           1\n",
              "1           1           0           0\n",
              "2           0           0           1\n",
              "3           0           0           1\n",
              "4           0           0           1\n",
              "5           0           1           0\n",
              "6           0           0           1\n",
              "7           0           0           1\n",
              "8           0           0           1\n",
              "9           1           0           0"
            ]
          },
          "metadata": {
            "tags": []
          },
          "execution_count": 14
        }
      ]
    },
    {
      "cell_type": "code",
      "metadata": {
        "id": "kQ3OMw1Gpb9x",
        "outputId": "23919f68-f9c8-4256-bf38-559b30339a13"
      },
      "source": [
        "# drop the first dummy variable ('C')\n",
        "pd.get_dummies(train.Embarked, prefix='Embarked').iloc[:, 1:].head(10)"
      ],
      "execution_count": null,
      "outputs": [
        {
          "output_type": "execute_result",
          "data": {
            "text/html": [
              "<div>\n",
              "<style scoped>\n",
              "    .dataframe tbody tr th:only-of-type {\n",
              "        vertical-align: middle;\n",
              "    }\n",
              "\n",
              "    .dataframe tbody tr th {\n",
              "        vertical-align: top;\n",
              "    }\n",
              "\n",
              "    .dataframe thead th {\n",
              "        text-align: right;\n",
              "    }\n",
              "</style>\n",
              "<table border=\"1\" class=\"dataframe\">\n",
              "  <thead>\n",
              "    <tr style=\"text-align: right;\">\n",
              "      <th></th>\n",
              "      <th>Embarked_Q</th>\n",
              "      <th>Embarked_S</th>\n",
              "    </tr>\n",
              "  </thead>\n",
              "  <tbody>\n",
              "    <tr>\n",
              "      <th>0</th>\n",
              "      <td>0</td>\n",
              "      <td>1</td>\n",
              "    </tr>\n",
              "    <tr>\n",
              "      <th>1</th>\n",
              "      <td>0</td>\n",
              "      <td>0</td>\n",
              "    </tr>\n",
              "    <tr>\n",
              "      <th>2</th>\n",
              "      <td>0</td>\n",
              "      <td>1</td>\n",
              "    </tr>\n",
              "    <tr>\n",
              "      <th>3</th>\n",
              "      <td>0</td>\n",
              "      <td>1</td>\n",
              "    </tr>\n",
              "    <tr>\n",
              "      <th>4</th>\n",
              "      <td>0</td>\n",
              "      <td>1</td>\n",
              "    </tr>\n",
              "    <tr>\n",
              "      <th>5</th>\n",
              "      <td>1</td>\n",
              "      <td>0</td>\n",
              "    </tr>\n",
              "    <tr>\n",
              "      <th>6</th>\n",
              "      <td>0</td>\n",
              "      <td>1</td>\n",
              "    </tr>\n",
              "    <tr>\n",
              "      <th>7</th>\n",
              "      <td>0</td>\n",
              "      <td>1</td>\n",
              "    </tr>\n",
              "    <tr>\n",
              "      <th>8</th>\n",
              "      <td>0</td>\n",
              "      <td>1</td>\n",
              "    </tr>\n",
              "    <tr>\n",
              "      <th>9</th>\n",
              "      <td>0</td>\n",
              "      <td>0</td>\n",
              "    </tr>\n",
              "  </tbody>\n",
              "</table>\n",
              "</div>"
            ],
            "text/plain": [
              "   Embarked_Q  Embarked_S\n",
              "0           0           1\n",
              "1           0           0\n",
              "2           0           1\n",
              "3           0           1\n",
              "4           0           1\n",
              "5           1           0\n",
              "6           0           1\n",
              "7           0           1\n",
              "8           0           1\n",
              "9           0           0"
            ]
          },
          "metadata": {
            "tags": []
          },
          "execution_count": 15
        }
      ]
    },
    {
      "cell_type": "markdown",
      "metadata": {
        "id": "JVHDDSOJpb9y"
      },
      "source": [
        "How to translate these values back to the original 'Embarked' value:\n",
        "\n",
        "- **0, 0** means **C**\n",
        "- **1, 0** means **Q**\n",
        "- **0, 1** means **S**"
      ]
    },
    {
      "cell_type": "code",
      "metadata": {
        "id": "_FWQC_IXpb9y"
      },
      "source": [
        "# save the DataFrame of dummy variables and concatenate them to the original DataFrame\n",
        "embarked_dummies = pd.get_dummies(train.Embarked, prefix='Embarked').iloc[:, 1:]\n",
        "train = pd.concat([train, embarked_dummies], axis=1)\n",
        "train.head()"
      ],
      "execution_count": null,
      "outputs": []
    },
    {
      "cell_type": "markdown",
      "metadata": {
        "id": "J774c4Hupb9z"
      },
      "source": [
        "Documentation for [**`concat`**](http://pandas.pydata.org/pandas-docs/stable/generated/pandas.concat.html)"
      ]
    },
    {
      "cell_type": "code",
      "metadata": {
        "id": "M5fAl8eApb9z"
      },
      "source": [
        "# reset the DataFrame\n",
        "train = pd.read_csv('http://bit.ly/kaggletrain')\n",
        "train.head()"
      ],
      "execution_count": null,
      "outputs": []
    },
    {
      "cell_type": "code",
      "metadata": {
        "id": "F05lw7pcpb9z"
      },
      "source": [
        "# pass the DataFrame to 'get_dummies' and specify which columns to dummy (it drops the original columns)\n",
        "pd.get_dummies(train, columns=['Sex', 'Embarked']).head()"
      ],
      "execution_count": null,
      "outputs": []
    },
    {
      "cell_type": "code",
      "metadata": {
        "id": "AzjljbOlpb9z"
      },
      "source": [
        "# 0\n",
        "# 1\n",
        "# 2"
      ],
      "execution_count": null,
      "outputs": []
    },
    {
      "cell_type": "code",
      "metadata": {
        "id": "JiTzrwVUpb90"
      },
      "source": [
        "#\n",
        "embarked\n",
        "s=0\n",
        "c=1\n",
        "q=2\n",
        "\n",
        "embr"
      ],
      "execution_count": null,
      "outputs": []
    },
    {
      "cell_type": "code",
      "metadata": {
        "id": "fYuP_dQNpb90",
        "outputId": "5b0f0ac5-913f-4c54-e225-03dd5f315ac0"
      },
      "source": [
        "from sklearn.preprocessing import preprocessing\n",
        "le = LabelEncoder()\n",
        "le = preprocessing.LabelEncoder()\n",
        "train['Embarked']= le.fit_transform(train['Embarked'])\n",
        "# movies"
      ],
      "execution_count": null,
      "outputs": [
        {
          "output_type": "error",
          "ename": "ImportError",
          "evalue": "cannot import name 'preprocessing' from 'sklearn.preprocessing' (C:\\Users\\Guhan\\anaconda3\\lib\\site-packages\\sklearn\\preprocessing\\__init__.py)",
          "traceback": [
            "\u001b[1;31m---------------------------------------------------------------------------\u001b[0m",
            "\u001b[1;31mImportError\u001b[0m                               Traceback (most recent call last)",
            "\u001b[1;32m<ipython-input-19-032908f3558f>\u001b[0m in \u001b[0;36m<module>\u001b[1;34m\u001b[0m\n\u001b[1;32m----> 1\u001b[1;33m \u001b[1;32mfrom\u001b[0m \u001b[0msklearn\u001b[0m\u001b[1;33m.\u001b[0m\u001b[0mpreprocessing\u001b[0m \u001b[1;32mimport\u001b[0m \u001b[0mpreprocessing\u001b[0m\u001b[1;33m\u001b[0m\u001b[1;33m\u001b[0m\u001b[0m\n\u001b[0m\u001b[0;32m      2\u001b[0m \u001b[0mle\u001b[0m \u001b[1;33m=\u001b[0m \u001b[0mLabelEncoder\u001b[0m\u001b[1;33m(\u001b[0m\u001b[1;33m)\u001b[0m\u001b[1;33m\u001b[0m\u001b[1;33m\u001b[0m\u001b[0m\n\u001b[0;32m      3\u001b[0m \u001b[0mle\u001b[0m \u001b[1;33m=\u001b[0m \u001b[0mpreprocessing\u001b[0m\u001b[1;33m.\u001b[0m\u001b[0mLabelEncoder\u001b[0m\u001b[1;33m(\u001b[0m\u001b[1;33m)\u001b[0m\u001b[1;33m\u001b[0m\u001b[1;33m\u001b[0m\u001b[0m\n\u001b[0;32m      4\u001b[0m \u001b[0mtrain\u001b[0m\u001b[1;33m[\u001b[0m\u001b[1;34m'Embarked'\u001b[0m\u001b[1;33m]\u001b[0m\u001b[1;33m=\u001b[0m \u001b[0mle\u001b[0m\u001b[1;33m.\u001b[0m\u001b[0mfit_transform\u001b[0m\u001b[1;33m(\u001b[0m\u001b[0mtrain\u001b[0m\u001b[1;33m[\u001b[0m\u001b[1;34m'Embarked'\u001b[0m\u001b[1;33m]\u001b[0m\u001b[1;33m)\u001b[0m\u001b[1;33m\u001b[0m\u001b[1;33m\u001b[0m\u001b[0m\n\u001b[0;32m      5\u001b[0m \u001b[1;31m# movies\u001b[0m\u001b[1;33m\u001b[0m\u001b[1;33m\u001b[0m\u001b[1;33m\u001b[0m\u001b[0m\n",
            "\u001b[1;31mImportError\u001b[0m: cannot import name 'preprocessing' from 'sklearn.preprocessing' (C:\\Users\\Guhan\\anaconda3\\lib\\site-packages\\sklearn\\preprocessing\\__init__.py)"
          ]
        }
      ]
    },
    {
      "cell_type": "code",
      "metadata": {
        "id": "6el2Ee13pb90"
      },
      "source": [
        "# use the 'drop_first' parameter (new in pandas 0.18) to drop the first dummy variable for each feature\n",
        "pd.get_dummies(train, columns=['Sex', 'Embarked'], drop_first=True).head()\n"
      ],
      "execution_count": null,
      "outputs": []
    },
    {
      "cell_type": "markdown",
      "metadata": {
        "id": "tY5hYdyhpb91"
      },
      "source": [
        "Documentation for [**`get_dummies`**](http://pandas.pydata.org/pandas-docs/stable/generated/pandas.get_dummies.html)\n"
      ]
    },
    {
      "cell_type": "markdown",
      "metadata": {
        "id": "ZTRab_H2pb91"
      },
      "source": [
        "## How do I work with dates and times in pandas?"
      ]
    },
    {
      "cell_type": "markdown",
      "metadata": {
        "id": "UMo9XuvHpb91"
      },
      "source": [
        "https://towardsdatascience.com/basic-time-series-manipulation-with-pandas-4432afee64ea\n",
        "\n",
        "https://www.geeksforgeeks.org/python-working-with-date-and-time-using-pandas/\n"
      ]
    },
    {
      "cell_type": "code",
      "metadata": {
        "id": "TOgMtaRfpb92",
        "outputId": "77445931-a2df-4fcf-bb89-350ab6730ce8"
      },
      "source": [
        "# read a dataset of UFO reports into a DataFrame\n",
        "ufo = pd.read_csv('http://bit.ly/uforeports')\n",
        "ufo.head()"
      ],
      "execution_count": null,
      "outputs": [
        {
          "output_type": "execute_result",
          "data": {
            "text/html": [
              "<div>\n",
              "<style scoped>\n",
              "    .dataframe tbody tr th:only-of-type {\n",
              "        vertical-align: middle;\n",
              "    }\n",
              "\n",
              "    .dataframe tbody tr th {\n",
              "        vertical-align: top;\n",
              "    }\n",
              "\n",
              "    .dataframe thead th {\n",
              "        text-align: right;\n",
              "    }\n",
              "</style>\n",
              "<table border=\"1\" class=\"dataframe\">\n",
              "  <thead>\n",
              "    <tr style=\"text-align: right;\">\n",
              "      <th></th>\n",
              "      <th>City</th>\n",
              "      <th>Colors Reported</th>\n",
              "      <th>Shape Reported</th>\n",
              "      <th>State</th>\n",
              "      <th>Time</th>\n",
              "    </tr>\n",
              "  </thead>\n",
              "  <tbody>\n",
              "    <tr>\n",
              "      <th>0</th>\n",
              "      <td>Ithaca</td>\n",
              "      <td>NaN</td>\n",
              "      <td>TRIANGLE</td>\n",
              "      <td>NY</td>\n",
              "      <td>6/1/1930 22:00</td>\n",
              "    </tr>\n",
              "    <tr>\n",
              "      <th>1</th>\n",
              "      <td>Willingboro</td>\n",
              "      <td>NaN</td>\n",
              "      <td>OTHER</td>\n",
              "      <td>NJ</td>\n",
              "      <td>6/30/1930 20:00</td>\n",
              "    </tr>\n",
              "    <tr>\n",
              "      <th>2</th>\n",
              "      <td>Holyoke</td>\n",
              "      <td>NaN</td>\n",
              "      <td>OVAL</td>\n",
              "      <td>CO</td>\n",
              "      <td>2/15/1931 14:00</td>\n",
              "    </tr>\n",
              "    <tr>\n",
              "      <th>3</th>\n",
              "      <td>Abilene</td>\n",
              "      <td>NaN</td>\n",
              "      <td>DISK</td>\n",
              "      <td>KS</td>\n",
              "      <td>6/1/1931 13:00</td>\n",
              "    </tr>\n",
              "    <tr>\n",
              "      <th>4</th>\n",
              "      <td>New York Worlds Fair</td>\n",
              "      <td>NaN</td>\n",
              "      <td>LIGHT</td>\n",
              "      <td>NY</td>\n",
              "      <td>4/18/1933 19:00</td>\n",
              "    </tr>\n",
              "  </tbody>\n",
              "</table>\n",
              "</div>"
            ],
            "text/plain": [
              "                   City Colors Reported Shape Reported State             Time\n",
              "0                Ithaca             NaN       TRIANGLE    NY   6/1/1930 22:00\n",
              "1           Willingboro             NaN          OTHER    NJ  6/30/1930 20:00\n",
              "2               Holyoke             NaN           OVAL    CO  2/15/1931 14:00\n",
              "3               Abilene             NaN           DISK    KS   6/1/1931 13:00\n",
              "4  New York Worlds Fair             NaN          LIGHT    NY  4/18/1933 19:00"
            ]
          },
          "metadata": {
            "tags": []
          },
          "execution_count": 20
        }
      ]
    },
    {
      "cell_type": "code",
      "metadata": {
        "id": "nlBe0dP5pb92",
        "outputId": "c3b0cdbe-e5e5-4ec4-c89b-77c30ba2ad66"
      },
      "source": [
        "# 'Time' is currently stored as a string\n",
        "ufo.dtypes"
      ],
      "execution_count": null,
      "outputs": [
        {
          "output_type": "execute_result",
          "data": {
            "text/plain": [
              "City               object\n",
              "Colors Reported    object\n",
              "Shape Reported     object\n",
              "State              object\n",
              "Time               object\n",
              "dtype: object"
            ]
          },
          "metadata": {
            "tags": []
          },
          "execution_count": 21
        }
      ]
    },
    {
      "cell_type": "code",
      "metadata": {
        "id": "XuXHARJdpb92",
        "outputId": "44aafe3a-65a4-47d6-922a-c8d68343a64f"
      },
      "source": [
        "# hour could be accessed using string slicing, but this approach breaks too easily\n",
        "ufo.Time.str.slice(-5, -3).astype(int).head()"
      ],
      "execution_count": null,
      "outputs": [
        {
          "output_type": "execute_result",
          "data": {
            "text/plain": [
              "0    22\n",
              "1    20\n",
              "2    14\n",
              "3    13\n",
              "4    19\n",
              "Name: Time, dtype: int32"
            ]
          },
          "metadata": {
            "tags": []
          },
          "execution_count": 22
        }
      ]
    },
    {
      "cell_type": "code",
      "metadata": {
        "id": "YcyZJsI1pb93",
        "outputId": "2b019fcd-aa75-4078-9565-e7a4db107108"
      },
      "source": [
        "# convert 'Time' to datetime format\n",
        "ufo['Time'] = pd.to_datetime(ufo.Time)\n",
        "ufo.head()"
      ],
      "execution_count": null,
      "outputs": [
        {
          "output_type": "execute_result",
          "data": {
            "text/html": [
              "<div>\n",
              "<style scoped>\n",
              "    .dataframe tbody tr th:only-of-type {\n",
              "        vertical-align: middle;\n",
              "    }\n",
              "\n",
              "    .dataframe tbody tr th {\n",
              "        vertical-align: top;\n",
              "    }\n",
              "\n",
              "    .dataframe thead th {\n",
              "        text-align: right;\n",
              "    }\n",
              "</style>\n",
              "<table border=\"1\" class=\"dataframe\">\n",
              "  <thead>\n",
              "    <tr style=\"text-align: right;\">\n",
              "      <th></th>\n",
              "      <th>City</th>\n",
              "      <th>Colors Reported</th>\n",
              "      <th>Shape Reported</th>\n",
              "      <th>State</th>\n",
              "      <th>Time</th>\n",
              "    </tr>\n",
              "  </thead>\n",
              "  <tbody>\n",
              "    <tr>\n",
              "      <th>0</th>\n",
              "      <td>Ithaca</td>\n",
              "      <td>NaN</td>\n",
              "      <td>TRIANGLE</td>\n",
              "      <td>NY</td>\n",
              "      <td>1930-06-01 22:00:00</td>\n",
              "    </tr>\n",
              "    <tr>\n",
              "      <th>1</th>\n",
              "      <td>Willingboro</td>\n",
              "      <td>NaN</td>\n",
              "      <td>OTHER</td>\n",
              "      <td>NJ</td>\n",
              "      <td>1930-06-30 20:00:00</td>\n",
              "    </tr>\n",
              "    <tr>\n",
              "      <th>2</th>\n",
              "      <td>Holyoke</td>\n",
              "      <td>NaN</td>\n",
              "      <td>OVAL</td>\n",
              "      <td>CO</td>\n",
              "      <td>1931-02-15 14:00:00</td>\n",
              "    </tr>\n",
              "    <tr>\n",
              "      <th>3</th>\n",
              "      <td>Abilene</td>\n",
              "      <td>NaN</td>\n",
              "      <td>DISK</td>\n",
              "      <td>KS</td>\n",
              "      <td>1931-06-01 13:00:00</td>\n",
              "    </tr>\n",
              "    <tr>\n",
              "      <th>4</th>\n",
              "      <td>New York Worlds Fair</td>\n",
              "      <td>NaN</td>\n",
              "      <td>LIGHT</td>\n",
              "      <td>NY</td>\n",
              "      <td>1933-04-18 19:00:00</td>\n",
              "    </tr>\n",
              "  </tbody>\n",
              "</table>\n",
              "</div>"
            ],
            "text/plain": [
              "                   City Colors Reported Shape Reported State  \\\n",
              "0                Ithaca             NaN       TRIANGLE    NY   \n",
              "1           Willingboro             NaN          OTHER    NJ   \n",
              "2               Holyoke             NaN           OVAL    CO   \n",
              "3               Abilene             NaN           DISK    KS   \n",
              "4  New York Worlds Fair             NaN          LIGHT    NY   \n",
              "\n",
              "                 Time  \n",
              "0 1930-06-01 22:00:00  \n",
              "1 1930-06-30 20:00:00  \n",
              "2 1931-02-15 14:00:00  \n",
              "3 1931-06-01 13:00:00  \n",
              "4 1933-04-18 19:00:00  "
            ]
          },
          "metadata": {
            "tags": []
          },
          "execution_count": 23
        }
      ]
    },
    {
      "cell_type": "code",
      "metadata": {
        "id": "BqFn5h2Upb93",
        "outputId": "dc904d5a-0140-4ae9-9d61-6848a01120a9"
      },
      "source": [
        "ufo.dtypes"
      ],
      "execution_count": null,
      "outputs": [
        {
          "output_type": "execute_result",
          "data": {
            "text/plain": [
              "City                       object\n",
              "Colors Reported            object\n",
              "Shape Reported             object\n",
              "State                      object\n",
              "Time               datetime64[ns]\n",
              "dtype: object"
            ]
          },
          "metadata": {
            "tags": []
          },
          "execution_count": 24
        }
      ]
    },
    {
      "cell_type": "markdown",
      "metadata": {
        "id": "_grmY8zJpb94"
      },
      "source": [
        "Documentation for [**`to_datetime`**](http://pandas.pydata.org/pandas-docs/stable/generated/pandas.to_datetime.html)"
      ]
    },
    {
      "cell_type": "code",
      "metadata": {
        "id": "4qksoKV0pb94",
        "outputId": "391be492-0078-4dc6-8a00-cd22337cf70f"
      },
      "source": [
        "# convenient Series attributes are now available\n",
        "ufo.Time.dt.hour.head()"
      ],
      "execution_count": null,
      "outputs": [
        {
          "output_type": "execute_result",
          "data": {
            "text/plain": [
              "0    22\n",
              "1    20\n",
              "2    14\n",
              "3    13\n",
              "4    19\n",
              "Name: Time, dtype: int64"
            ]
          },
          "metadata": {
            "tags": []
          },
          "execution_count": 25
        }
      ]
    },
    {
      "cell_type": "code",
      "metadata": {
        "id": "5IYaGWc6pb95"
      },
      "source": [
        "# ufo.Time.dt.we"
      ],
      "execution_count": null,
      "outputs": []
    },
    {
      "cell_type": "code",
      "metadata": {
        "id": "XqB9sa8Upb96"
      },
      "source": [
        "ufo.Time.dt.dayofyear.head()"
      ],
      "execution_count": null,
      "outputs": []
    },
    {
      "cell_type": "markdown",
      "metadata": {
        "id": "kpPsTuz4pb96"
      },
      "source": [
        "API reference for [datetime properties and methods](http://pandas.pydata.org/pandas-docs/stable/api.html#datetimelike-properties)"
      ]
    },
    {
      "cell_type": "code",
      "metadata": {
        "id": "Xg-4jBjfpb97"
      },
      "source": [
        "# convert a single string to datetime format (outputs a timestamp object)\n",
        "ts = pd.to_datetime('1/1/1999')\n",
        "ts"
      ],
      "execution_count": null,
      "outputs": []
    },
    {
      "cell_type": "code",
      "metadata": {
        "id": "TfFszxuVpb97"
      },
      "source": [
        "# compare a datetime Series with a timestamp\n",
        "ufo.loc[ufo.Time >= ts, :].head()"
      ],
      "execution_count": null,
      "outputs": []
    },
    {
      "cell_type": "code",
      "metadata": {
        "id": "PzSnnawkpb98"
      },
      "source": [
        "# perform mathematical operations with timestamps (outputs a timedelta object)\n",
        "ufo.Time.max() - ufo.Time.min()"
      ],
      "execution_count": null,
      "outputs": []
    },
    {
      "cell_type": "code",
      "metadata": {
        "id": "EELDNegtpb99"
      },
      "source": [
        "# timedelta objects also have attributes you can access\n",
        "(ufo.Time.max() - ufo.Time.min()).days"
      ],
      "execution_count": null,
      "outputs": []
    },
    {
      "cell_type": "code",
      "metadata": {
        "id": "OVLhBdqMpb99"
      },
      "source": [
        "# allow plots to appear in the notebook\n",
        "%matplotlib inline"
      ],
      "execution_count": null,
      "outputs": []
    },
    {
      "cell_type": "code",
      "metadata": {
        "id": "hQPc4jhrpb9-"
      },
      "source": [
        "# count the number of UFO reports per year\n",
        "ufo['Year'] = ufo.Time.dt.year\n",
        "ufo.Year.value_counts().sort_index().head()"
      ],
      "execution_count": null,
      "outputs": []
    },
    {
      "cell_type": "code",
      "metadata": {
        "id": "HYXpPrJNpb9-"
      },
      "source": [
        "# plot the number of UFO reports per year (line plot is the default)\n",
        "ufo.Year.value_counts().sort_index().plot()"
      ],
      "execution_count": null,
      "outputs": []
    },
    {
      "cell_type": "markdown",
      "metadata": {
        "id": "mk-WcQsjpb9-"
      },
      "source": [
        "## How do I find and remove duplicate rows in pandas?"
      ]
    },
    {
      "cell_type": "code",
      "metadata": {
        "id": "DdmS748upb9-"
      },
      "source": [
        "# read a dataset of movie reviewers into a DataFrame\n",
        "user_cols = ['user_id', 'age', 'gender', 'occupation', 'zip_code']\n",
        "users = pd.read_table('http://bit.ly/movieusers', sep='|', header=None, names=user_cols, index_col='user_id')\n",
        "users.head()"
      ],
      "execution_count": null,
      "outputs": []
    },
    {
      "cell_type": "code",
      "metadata": {
        "id": "XFAGG9Zvpb9_"
      },
      "source": [
        "users.shape"
      ],
      "execution_count": null,
      "outputs": []
    },
    {
      "cell_type": "code",
      "metadata": {
        "id": "23dGRQ6Bpb9_"
      },
      "source": [
        "# detect duplicate zip codes: True if an item is identical to a previous item\n",
        "users.zip_code.duplicated().tail()"
      ],
      "execution_count": null,
      "outputs": []
    },
    {
      "cell_type": "code",
      "metadata": {
        "id": "J7vR2WFspb9_"
      },
      "source": [
        "# count the duplicate items (True becomes 1, False becomes 0)\n",
        "users.zip_code.duplicated().sum()"
      ],
      "execution_count": null,
      "outputs": []
    },
    {
      "cell_type": "code",
      "metadata": {
        "id": "KqA3iXUapb-A"
      },
      "source": [
        "# detect duplicate DataFrame rows: True if an entire row is identical to a previous row\n",
        "users.duplicated().tail()"
      ],
      "execution_count": null,
      "outputs": []
    },
    {
      "cell_type": "code",
      "metadata": {
        "id": "YTQV_HAypb-A"
      },
      "source": [
        "# count the duplicate rows\n",
        "users.duplicated().sum()"
      ],
      "execution_count": null,
      "outputs": []
    },
    {
      "cell_type": "markdown",
      "metadata": {
        "id": "cJhcjxgtpb-A"
      },
      "source": [
        "Logic for [**`duplicated`**](http://pandas.pydata.org/pandas-docs/stable/generated/pandas.DataFrame.duplicated.html):\n",
        "\n",
        "- **`keep='first'`** (default): Mark duplicates as True except for the first occurrence.\n",
        "- **`keep='last'`**: Mark duplicates as True except for the last occurrence.\n",
        "- **`keep=False`**: Mark all duplicates as True."
      ]
    },
    {
      "cell_type": "code",
      "metadata": {
        "id": "SfHekS0Wpb-A"
      },
      "source": [
        "# examine the duplicate rows (ignoring the first occurrence)\n",
        "users.loc[users.duplicated(keep='first'), :]"
      ],
      "execution_count": null,
      "outputs": []
    },
    {
      "cell_type": "code",
      "metadata": {
        "id": "lKEGu80-pb-B"
      },
      "source": [
        "# examine the duplicate rows (ignoring the last occurrence)\n",
        "users.loc[users.duplicated(keep='last'), :]"
      ],
      "execution_count": null,
      "outputs": []
    },
    {
      "cell_type": "code",
      "metadata": {
        "id": "2qjVUvbxpb-B"
      },
      "source": [
        "# examine the duplicate rows (including all duplicates)\n",
        "users.loc[users.duplicated(keep=False), :]"
      ],
      "execution_count": null,
      "outputs": []
    },
    {
      "cell_type": "code",
      "metadata": {
        "id": "1Y4NYARJpb-B"
      },
      "source": [
        "# drop the duplicate rows (inplace=False by default)\n",
        "users.drop_duplicates(keep='first').shape"
      ],
      "execution_count": null,
      "outputs": []
    },
    {
      "cell_type": "code",
      "metadata": {
        "id": "EZvkcugfpb-C"
      },
      "source": [
        "users.drop_duplicates(keep='last').shape"
      ],
      "execution_count": null,
      "outputs": []
    },
    {
      "cell_type": "code",
      "metadata": {
        "id": "dkrgWHWUpb-C"
      },
      "source": [
        "users.drop_duplicates(keep=False).shape"
      ],
      "execution_count": null,
      "outputs": []
    },
    {
      "cell_type": "markdown",
      "metadata": {
        "id": "9pBX8c0jpb-C"
      },
      "source": [
        "Documentation for [**`drop_duplicates`**](http://pandas.pydata.org/pandas-docs/stable/generated/pandas.DataFrame.drop_duplicates.html)"
      ]
    },
    {
      "cell_type": "code",
      "metadata": {
        "id": "ugU4wDaWpb-C"
      },
      "source": [
        "# only consider a subset of columns when identifying duplicates\n",
        "users.duplicated(subset=['age', 'zip_code']).sum()"
      ],
      "execution_count": null,
      "outputs": []
    },
    {
      "cell_type": "code",
      "metadata": {
        "id": "hUuMwJqSpb-D"
      },
      "source": [
        "users.drop_duplicates(subset=['age', 'zip_code']).shape"
      ],
      "execution_count": null,
      "outputs": []
    },
    {
      "cell_type": "markdown",
      "metadata": {
        "id": "UFpnCGxApb-D"
      },
      "source": [
        "## How do I avoid a SettingWithCopyWarning in pandas?"
      ]
    },
    {
      "cell_type": "code",
      "metadata": {
        "id": "_l5RNAWLpb-D"
      },
      "source": [
        "# read a dataset of top-rated IMDb movies into a DataFrame\n",
        "movies = pd.read_csv('http://bit.ly/imdbratings')\n",
        "movies.head()"
      ],
      "execution_count": null,
      "outputs": []
    },
    {
      "cell_type": "code",
      "metadata": {
        "id": "ewrF6TDYpb-D"
      },
      "source": [
        "# count the missing values in the 'content_rating' Series\n",
        "movies.content_rating.isnull().sum()"
      ],
      "execution_count": null,
      "outputs": []
    },
    {
      "cell_type": "code",
      "metadata": {
        "id": "rm5m6Nwupb-E"
      },
      "source": [
        "# examine the DataFrame rows that contain those missing values\n",
        "movies[movies.content_rating.isnull()]"
      ],
      "execution_count": null,
      "outputs": []
    },
    {
      "cell_type": "code",
      "metadata": {
        "id": "3Cm0_YzIpb-E"
      },
      "source": [
        "# examine the unique values in the 'content_rating' Series\n",
        "movies.content_rating.value_counts()"
      ],
      "execution_count": null,
      "outputs": []
    },
    {
      "cell_type": "markdown",
      "metadata": {
        "id": "1Jl4884mpb-E"
      },
      "source": [
        "**Goal:** Mark the 'NOT RATED' values as missing values, represented by 'NaN'."
      ]
    },
    {
      "cell_type": "code",
      "metadata": {
        "id": "yWdx8YHYpb-F"
      },
      "source": [
        "# first, locate the relevant rows\n",
        "movies[movies.content_rating=='NOT RATED'].head()"
      ],
      "execution_count": null,
      "outputs": []
    },
    {
      "cell_type": "code",
      "metadata": {
        "id": "ZUwMWp3dpb-F"
      },
      "source": [
        "# then, select the 'content_rating' Series from those rows\n",
        "movies[movies.content_rating=='NOT RATED'].content_rating.head()"
      ],
      "execution_count": null,
      "outputs": []
    },
    {
      "cell_type": "code",
      "metadata": {
        "id": "icWJL7t_pb-F"
      },
      "source": [
        "# finally, replace the 'NOT RATED' values with 'NaN' (imported from NumPy)\n",
        "import numpy as np\n",
        "movies[movies.content_rating=='NOT RATED'].content_rating = np.nan"
      ],
      "execution_count": null,
      "outputs": []
    },
    {
      "cell_type": "markdown",
      "metadata": {
        "id": "UzhQfk6Xpb-G"
      },
      "source": [
        "**Problem:** That statement involves two operations, a **`__getitem__`** and a **`__setitem__`**. pandas can't guarantee whether the **`__getitem__`** operation returns a view or a copy of the data.\n",
        "\n",
        "- If **`__getitem__`** returns a view of the data, **`__setitem__`** will affect the 'movies' DataFrame.\n",
        "- But if **`__getitem__`** returns a copy of the data, **`__setitem__`** will not affect the 'movies' DataFrame."
      ]
    },
    {
      "cell_type": "code",
      "metadata": {
        "id": "ht8RCpFepb-H"
      },
      "source": [
        "# the 'content_rating' Series has not changed\n",
        "movies.content_rating.isnull().sum()"
      ],
      "execution_count": null,
      "outputs": []
    },
    {
      "cell_type": "markdown",
      "metadata": {
        "id": "I5eoanwMpb-H"
      },
      "source": [
        "**Solution:** Use the **`loc`** method, which replaces the 'NOT RATED' values in a single **`__setitem__`** operation."
      ]
    },
    {
      "cell_type": "code",
      "metadata": {
        "id": "VJZfMn51pb-H"
      },
      "source": [
        "# replace the 'NOT RATED' values with 'NaN' (does not cause a SettingWithCopyWarning)\n",
        "movies.loc[movies.content_rating=='NOT RATED', 'content_rating'] = np.nan"
      ],
      "execution_count": null,
      "outputs": []
    },
    {
      "cell_type": "code",
      "metadata": {
        "id": "LGwU3ftKpb-I"
      },
      "source": [
        "# this time, the 'content_rating' Series has changed\n",
        "movies.content_rating.isnull().sum()"
      ],
      "execution_count": null,
      "outputs": []
    },
    {
      "cell_type": "markdown",
      "metadata": {
        "id": "XvuWrM5Xpb-I"
      },
      "source": [
        "**Summary:** Use the **`loc`** method any time you are selecting rows and columns in the same statement.\n",
        "\n",
        "**More information:** [Modern Pandas (Part 1)](http://tomaugspurger.github.io/modern-1.html)"
      ]
    },
    {
      "cell_type": "code",
      "metadata": {
        "id": "o1qxNu7Ppb-I"
      },
      "source": [
        "# create a DataFrame only containing movies with a high 'star_rating'\n",
        "top_movies = movies.loc[movies.star_rating >= 9, :]\n",
        "top_movies"
      ],
      "execution_count": null,
      "outputs": []
    },
    {
      "cell_type": "markdown",
      "metadata": {
        "id": "-O7ZKjwQpb-J"
      },
      "source": [
        "**Goal:** Fix the 'duration' for 'The Shawshank Redemption'."
      ]
    },
    {
      "cell_type": "code",
      "metadata": {
        "id": "qTzzzte2pb-J"
      },
      "source": [
        "# overwrite the relevant cell with the correct duration\n",
        "top_movies.loc[0, 'duration'] = 150"
      ],
      "execution_count": null,
      "outputs": []
    },
    {
      "cell_type": "markdown",
      "metadata": {
        "id": "_8WSTLUPpb-K"
      },
      "source": [
        "**Problem:** pandas isn't sure whether 'top_movies' is a view or a copy of 'movies'."
      ]
    },
    {
      "cell_type": "code",
      "metadata": {
        "id": "xLHlozmZpb-K"
      },
      "source": [
        "# 'top_movies' DataFrame has been updated\n",
        "top_movies"
      ],
      "execution_count": null,
      "outputs": []
    },
    {
      "cell_type": "code",
      "metadata": {
        "id": "cAejteEspb-K"
      },
      "source": [
        "# 'movies' DataFrame has not been updated\n",
        "movies.head(1)"
      ],
      "execution_count": null,
      "outputs": []
    },
    {
      "cell_type": "markdown",
      "metadata": {
        "id": "dwlk3sj7pb-L"
      },
      "source": [
        "**Solution:** Any time you are attempting to create a DataFrame copy, use the [**`copy`**](http://pandas.pydata.org/pandas-docs/stable/generated/pandas.DataFrame.copy.html) method."
      ]
    },
    {
      "cell_type": "code",
      "metadata": {
        "id": "7qdORtDspb-L"
      },
      "source": [
        "# explicitly create a copy of 'movies'\n",
        "top_movies = movies.loc[movies.star_rating >= 9, :].copy()"
      ],
      "execution_count": null,
      "outputs": []
    },
    {
      "cell_type": "code",
      "metadata": {
        "id": "fPaFe1fcpb-M"
      },
      "source": [
        "# pandas now knows that you are updating a copy instead of a view (does not cause a SettingWithCopyWarning)\n",
        "top_movies.loc[0, 'duration'] = 150"
      ],
      "execution_count": null,
      "outputs": []
    },
    {
      "cell_type": "code",
      "metadata": {
        "id": "idIW-ISEpb-M"
      },
      "source": [
        "# 'top_movies' DataFrame has been updated\n",
        "top_movies"
      ],
      "execution_count": null,
      "outputs": []
    },
    {
      "cell_type": "markdown",
      "metadata": {
        "id": "uBxLwfDwpb-N"
      },
      "source": [
        "Documentation on indexing and selection: [Returning a view versus a copy](http://pandas.pydata.org/pandas-docs/stable/indexing.html#indexing-view-versus-copy)\n",
        "\n",
        "Stack Overflow: [What is the point of views in pandas if it is undefined whether an indexing operation returns a view or a copy?](http://stackoverflow.com/questions/34884536/what-is-the-point-of-views-in-pandas-if-it-is-undefined-whether-an-indexing-oper)"
      ]
    },
    {
      "cell_type": "markdown",
      "metadata": {
        "id": "3nDZ_Z7zpb-N"
      },
      "source": [
        "##  How do I change display options in pandas?\n"
      ]
    },
    {
      "cell_type": "code",
      "metadata": {
        "id": "NGtanrM_pb-O"
      },
      "source": [
        "# read a dataset of alcohol consumption into a DataFrame\n",
        "drinks = pd.read_csv('http://bit.ly/drinksbycountry')"
      ],
      "execution_count": null,
      "outputs": []
    },
    {
      "cell_type": "code",
      "metadata": {
        "id": "txsPdk31pb-O"
      },
      "source": [
        "# only 60 rows will be displayed when printing\n",
        "drinks"
      ],
      "execution_count": null,
      "outputs": []
    },
    {
      "cell_type": "code",
      "metadata": {
        "id": "qpFr44n8pb-O"
      },
      "source": [
        "# check the current setting for the 'max_rows' option\n",
        "pd.get_option('display.max_rows')"
      ],
      "execution_count": null,
      "outputs": []
    },
    {
      "cell_type": "markdown",
      "metadata": {
        "id": "gwSIipQTpb-P"
      },
      "source": [
        "Documentation for [**`get_option`**](http://pandas.pydata.org/pandas-docs/stable/generated/pandas.get_option.html)"
      ]
    },
    {
      "cell_type": "code",
      "metadata": {
        "id": "Vax_d6-Epb-P"
      },
      "source": [
        "# overwrite the current setting so that all rows will be displayed\n",
        "pd.set_option('display.max_rows', None)\n",
        "drinks"
      ],
      "execution_count": null,
      "outputs": []
    },
    {
      "cell_type": "code",
      "metadata": {
        "id": "1jh8C4pIpb-P"
      },
      "source": [
        "# reset the 'max_rows' option to its default\n",
        "pd.reset_option('display.max_rows')"
      ],
      "execution_count": null,
      "outputs": []
    },
    {
      "cell_type": "markdown",
      "metadata": {
        "id": "CxMm-UNcpb-Q"
      },
      "source": [
        "Documentation for [**`set_option`**](http://pandas.pydata.org/pandas-docs/stable/generated/pandas.set_option.html) and [**`reset_option`**](http://pandas.pydata.org/pandas-docs/stable/generated/pandas.reset_option.html)"
      ]
    },
    {
      "cell_type": "code",
      "metadata": {
        "id": "yH6fwq6Mpb-Q"
      },
      "source": [
        "# the 'max_columns' option is similar to 'max_rows'\n",
        "pd.get_option('display.max_columns')"
      ],
      "execution_count": null,
      "outputs": []
    },
    {
      "cell_type": "code",
      "metadata": {
        "id": "QGuzxkQDpb-Q"
      },
      "source": [
        "# read the training dataset from Kaggle's Titanic competition into a DataFrame\n",
        "train = pd.read_csv('http://bit.ly/kaggletrain')\n",
        "train.head()"
      ],
      "execution_count": null,
      "outputs": []
    },
    {
      "cell_type": "code",
      "metadata": {
        "id": "43fSHm7Spb-Q"
      },
      "source": [
        "# an ellipsis is displayed in the 'Name' cell of row 1 because of the 'max_colwidth' option\n",
        "pd.get_option('display.max_colwidth')"
      ],
      "execution_count": null,
      "outputs": []
    },
    {
      "cell_type": "code",
      "metadata": {
        "id": "FeGzafe5pb-R"
      },
      "source": [
        "# overwrite the current setting so that more characters will be displayed\n",
        "pd.set_option('display.max_colwidth', 1000)\n",
        "train.head()"
      ],
      "execution_count": null,
      "outputs": []
    },
    {
      "cell_type": "code",
      "metadata": {
        "id": "DuhDDo7-pb-R"
      },
      "source": [
        "# overwrite the 'precision' setting to display 2 digits after the decimal point of 'Fare'\n",
        "pd.set_option('display.precision', 2)\n",
        "train.head()"
      ],
      "execution_count": null,
      "outputs": []
    },
    {
      "cell_type": "code",
      "metadata": {
        "id": "AIohTV-Apb-R"
      },
      "source": [
        "# add two meaningless columns to the drinks DataFrame\n",
        "drinks['x'] = drinks.wine_servings * 1000\n",
        "drinks['y'] = drinks.total_litres_of_pure_alcohol * 1000\n",
        "drinks.head()"
      ],
      "execution_count": null,
      "outputs": []
    },
    {
      "cell_type": "code",
      "metadata": {
        "id": "O1Nwx-o0pb-S"
      },
      "source": [
        "# use a Python format string to specify a comma as the thousands separator\n",
        "pd.set_option('display.float_format', '{:,}'.format)\n",
        "drinks.head()"
      ],
      "execution_count": null,
      "outputs": []
    },
    {
      "cell_type": "code",
      "metadata": {
        "id": "Iz8N80Qtpb-S"
      },
      "source": [
        "# 'y' was affected (but not 'x') because the 'float_format' option only affects floats (not ints)\n",
        "drinks.dtypes"
      ],
      "execution_count": null,
      "outputs": []
    },
    {
      "cell_type": "code",
      "metadata": {
        "id": "0lBi_KE1pb-S"
      },
      "source": [
        "# view the option descriptions (including the default and current values)\n",
        "pd.describe_option()"
      ],
      "execution_count": null,
      "outputs": []
    },
    {
      "cell_type": "code",
      "metadata": {
        "id": "_5SS3yhnpb-U"
      },
      "source": [
        "# search for specific options by name\n",
        "pd.describe_option('rows')"
      ],
      "execution_count": null,
      "outputs": []
    },
    {
      "cell_type": "markdown",
      "metadata": {
        "id": "ZWPYBMsDpb-V"
      },
      "source": [
        "Documentation for [**`describe_option`**](http://pandas.pydata.org/pandas-docs/stable/generated/pandas.describe_option.html)"
      ]
    },
    {
      "cell_type": "code",
      "metadata": {
        "id": "xdz1_80jpb-V"
      },
      "source": [
        "# reset all of the options to their default values\n",
        "pd.reset_option('all')"
      ],
      "execution_count": null,
      "outputs": []
    },
    {
      "cell_type": "markdown",
      "metadata": {
        "id": "MdA3UkiBpb-V"
      },
      "source": [
        "## How do I create a pandas DataFrame from another object?"
      ]
    },
    {
      "cell_type": "code",
      "metadata": {
        "id": "hybyLg42pb-W"
      },
      "source": [
        "# create a DataFrame from a dictionary (keys become column names, values become data)\n",
        "pd.DataFrame({'id':[100, 101, 102], 'color':['red', 'blue', 'red']})"
      ],
      "execution_count": null,
      "outputs": []
    },
    {
      "cell_type": "code",
      "metadata": {
        "id": "KtO4AV-Upb-W"
      },
      "source": [
        "# optionally specify the order of columns and define the index\n",
        "df = pd.DataFrame({'id':[100, 101, 102], 'color':['red', 'blue', 'red']}, columns=['id', 'color'], index=['a', 'b', 'c'])\n",
        "df"
      ],
      "execution_count": null,
      "outputs": []
    },
    {
      "cell_type": "markdown",
      "metadata": {
        "id": "M1NE60W6pb-W"
      },
      "source": [
        "Documentation for [**`DataFrame`**](http://pandas.pydata.org/pandas-docs/stable/generated/pandas.DataFrame.html)"
      ]
    },
    {
      "cell_type": "code",
      "metadata": {
        "id": "z76ZdymRpb-X",
        "outputId": "236870fe-3e3a-4625-ef6e-294234b39a61"
      },
      "source": [
        "# create a DataFrame from a list of lists (each inner list becomes a row)\n",
        "pd.DataFrame([[100, 'red'], [101, 'blue'], [102, 'red']], columns=['id', 'color'])"
      ],
      "execution_count": null,
      "outputs": [
        {
          "output_type": "execute_result",
          "data": {
            "text/html": [
              "<div>\n",
              "<style scoped>\n",
              "    .dataframe tbody tr th:only-of-type {\n",
              "        vertical-align: middle;\n",
              "    }\n",
              "\n",
              "    .dataframe tbody tr th {\n",
              "        vertical-align: top;\n",
              "    }\n",
              "\n",
              "    .dataframe thead th {\n",
              "        text-align: right;\n",
              "    }\n",
              "</style>\n",
              "<table border=\"1\" class=\"dataframe\">\n",
              "  <thead>\n",
              "    <tr style=\"text-align: right;\">\n",
              "      <th></th>\n",
              "      <th>id</th>\n",
              "      <th>color</th>\n",
              "    </tr>\n",
              "  </thead>\n",
              "  <tbody>\n",
              "    <tr>\n",
              "      <th>0</th>\n",
              "      <td>100</td>\n",
              "      <td>red</td>\n",
              "    </tr>\n",
              "    <tr>\n",
              "      <th>1</th>\n",
              "      <td>101</td>\n",
              "      <td>blue</td>\n",
              "    </tr>\n",
              "    <tr>\n",
              "      <th>2</th>\n",
              "      <td>102</td>\n",
              "      <td>red</td>\n",
              "    </tr>\n",
              "  </tbody>\n",
              "</table>\n",
              "</div>"
            ],
            "text/plain": [
              "    id color\n",
              "0  100   red\n",
              "1  101  blue\n",
              "2  102   red"
            ]
          },
          "metadata": {
            "tags": []
          },
          "execution_count": 21
        }
      ]
    },
    {
      "cell_type": "code",
      "metadata": {
        "id": "nNbAJcUppb-X"
      },
      "source": [
        "# create a NumPy array (with shape 4 by 2) and fill it with random numbers between 0 and 1\n",
        "import numpy as np\n",
        "arr = np.random.rand(4, 2)\n",
        "arr"
      ],
      "execution_count": null,
      "outputs": []
    },
    {
      "cell_type": "code",
      "metadata": {
        "id": "2I4KdlkQpb-X"
      },
      "source": [
        "# create a DataFrame from the NumPy array\n",
        "pd.DataFrame(arr, columns=['one', 'two'])"
      ],
      "execution_count": null,
      "outputs": []
    },
    {
      "cell_type": "code",
      "metadata": {
        "id": "kz7-jHBNpb-Y"
      },
      "source": [
        "# create a DataFrame of student IDs (100 through 109) and test scores (random integers between 60 and 100)\n",
        "pd.DataFrame({'student':np.arange(100, 110, 1), 'test':np.random.randint(60, 101, 10)})"
      ],
      "execution_count": null,
      "outputs": []
    },
    {
      "cell_type": "markdown",
      "metadata": {
        "id": "QveQ_BI2pb-Y"
      },
      "source": [
        "Documentation for [**`np.arange`**](http://docs.scipy.org/doc/numpy/reference/generated/numpy.arange.html) and [**`np.random`**](http://docs.scipy.org/doc/numpy/reference/routines.random.html)"
      ]
    },
    {
      "cell_type": "code",
      "metadata": {
        "id": "aIuCqwMGpb-Y"
      },
      "source": [
        "# 'set_index' can be chained with the DataFrame constructor to select an index\n",
        "pd.DataFrame({'student':np.arange(100, 110, 1), 'test':np.random.randint(60, 101, 10)}).set_index('student')"
      ],
      "execution_count": null,
      "outputs": []
    },
    {
      "cell_type": "markdown",
      "metadata": {
        "id": "Z75pduMkpb-Z"
      },
      "source": [
        "Documentation for [**`set_index`**](http://pandas.pydata.org/pandas-docs/stable/generated/pandas.DataFrame.set_index.html)"
      ]
    },
    {
      "cell_type": "code",
      "metadata": {
        "id": "omIRapqGpb-Z"
      },
      "source": [
        "# create a new Series using the Series constructor\n",
        "s = pd.Series(['round', 'square'], index=['c', 'b'], name='shape')\n",
        "s"
      ],
      "execution_count": null,
      "outputs": []
    },
    {
      "cell_type": "markdown",
      "metadata": {
        "id": "JZ-t4Wo-pb-Z"
      },
      "source": [
        "Documentation for [**`Series`**](http://pandas.pydata.org/pandas-docs/stable/generated/pandas.Series.html)"
      ]
    },
    {
      "cell_type": "code",
      "metadata": {
        "id": "Q3R5hf-Gpb-a"
      },
      "source": [
        "# concatenate the DataFrame and the Series (use axis=1 to concatenate columns)\n",
        "pd.concat([df, s], axis=1)"
      ],
      "execution_count": null,
      "outputs": []
    },
    {
      "cell_type": "markdown",
      "metadata": {
        "id": "p5SWtKpkpb-b"
      },
      "source": [
        "**Notes:**\n",
        "\n",
        "- The Series name became the column name in the DataFrame.\n",
        "- The Series data was aligned to the DataFrame by its index.\n",
        "- The 'shape' for row 'a' was marked as a missing value (NaN) because that index was not present in the Series.\n",
        "\n",
        "Documentation for [**`concat`**](http://pandas.pydata.org/pandas-docs/stable/generated/pandas.concat.html)"
      ]
    },
    {
      "cell_type": "markdown",
      "metadata": {
        "id": "IkwbQqQgpb-c"
      },
      "source": [
        "## How do I apply a function to a pandas Series or DataFrame?"
      ]
    },
    {
      "cell_type": "code",
      "metadata": {
        "id": "LYeaa2yLpb-d",
        "outputId": "829784bd-02df-47cf-de3d-d528f24a6e99"
      },
      "source": [
        "# read the training dataset from Kaggle's Titanic competition into a DataFrame\n",
        "train = pd.read_csv('http://bit.ly/kaggletrain')\n",
        "train.head()"
      ],
      "execution_count": null,
      "outputs": [
        {
          "output_type": "execute_result",
          "data": {
            "text/html": [
              "<div>\n",
              "<style scoped>\n",
              "    .dataframe tbody tr th:only-of-type {\n",
              "        vertical-align: middle;\n",
              "    }\n",
              "\n",
              "    .dataframe tbody tr th {\n",
              "        vertical-align: top;\n",
              "    }\n",
              "\n",
              "    .dataframe thead th {\n",
              "        text-align: right;\n",
              "    }\n",
              "</style>\n",
              "<table border=\"1\" class=\"dataframe\">\n",
              "  <thead>\n",
              "    <tr style=\"text-align: right;\">\n",
              "      <th></th>\n",
              "      <th>PassengerId</th>\n",
              "      <th>Survived</th>\n",
              "      <th>Pclass</th>\n",
              "      <th>Name</th>\n",
              "      <th>Sex</th>\n",
              "      <th>Age</th>\n",
              "      <th>SibSp</th>\n",
              "      <th>Parch</th>\n",
              "      <th>Ticket</th>\n",
              "      <th>Fare</th>\n",
              "      <th>Cabin</th>\n",
              "      <th>Embarked</th>\n",
              "    </tr>\n",
              "  </thead>\n",
              "  <tbody>\n",
              "    <tr>\n",
              "      <th>0</th>\n",
              "      <td>1</td>\n",
              "      <td>0</td>\n",
              "      <td>3</td>\n",
              "      <td>Braund, Mr. Owen Harris</td>\n",
              "      <td>male</td>\n",
              "      <td>22.0</td>\n",
              "      <td>1</td>\n",
              "      <td>0</td>\n",
              "      <td>A/5 21171</td>\n",
              "      <td>7.2500</td>\n",
              "      <td>NaN</td>\n",
              "      <td>S</td>\n",
              "    </tr>\n",
              "    <tr>\n",
              "      <th>1</th>\n",
              "      <td>2</td>\n",
              "      <td>1</td>\n",
              "      <td>1</td>\n",
              "      <td>Cumings, Mrs. John Bradley (Florence Briggs Th...</td>\n",
              "      <td>female</td>\n",
              "      <td>38.0</td>\n",
              "      <td>1</td>\n",
              "      <td>0</td>\n",
              "      <td>PC 17599</td>\n",
              "      <td>71.2833</td>\n",
              "      <td>C85</td>\n",
              "      <td>C</td>\n",
              "    </tr>\n",
              "    <tr>\n",
              "      <th>2</th>\n",
              "      <td>3</td>\n",
              "      <td>1</td>\n",
              "      <td>3</td>\n",
              "      <td>Heikkinen, Miss. Laina</td>\n",
              "      <td>female</td>\n",
              "      <td>26.0</td>\n",
              "      <td>0</td>\n",
              "      <td>0</td>\n",
              "      <td>STON/O2. 3101282</td>\n",
              "      <td>7.9250</td>\n",
              "      <td>NaN</td>\n",
              "      <td>S</td>\n",
              "    </tr>\n",
              "    <tr>\n",
              "      <th>3</th>\n",
              "      <td>4</td>\n",
              "      <td>1</td>\n",
              "      <td>1</td>\n",
              "      <td>Futrelle, Mrs. Jacques Heath (Lily May Peel)</td>\n",
              "      <td>female</td>\n",
              "      <td>35.0</td>\n",
              "      <td>1</td>\n",
              "      <td>0</td>\n",
              "      <td>113803</td>\n",
              "      <td>53.1000</td>\n",
              "      <td>C123</td>\n",
              "      <td>S</td>\n",
              "    </tr>\n",
              "    <tr>\n",
              "      <th>4</th>\n",
              "      <td>5</td>\n",
              "      <td>0</td>\n",
              "      <td>3</td>\n",
              "      <td>Allen, Mr. William Henry</td>\n",
              "      <td>male</td>\n",
              "      <td>35.0</td>\n",
              "      <td>0</td>\n",
              "      <td>0</td>\n",
              "      <td>373450</td>\n",
              "      <td>8.0500</td>\n",
              "      <td>NaN</td>\n",
              "      <td>S</td>\n",
              "    </tr>\n",
              "  </tbody>\n",
              "</table>\n",
              "</div>"
            ],
            "text/plain": [
              "   PassengerId  Survived  Pclass  \\\n",
              "0            1         0       3   \n",
              "1            2         1       1   \n",
              "2            3         1       3   \n",
              "3            4         1       1   \n",
              "4            5         0       3   \n",
              "\n",
              "                                                Name     Sex   Age  SibSp  \\\n",
              "0                            Braund, Mr. Owen Harris    male  22.0      1   \n",
              "1  Cumings, Mrs. John Bradley (Florence Briggs Th...  female  38.0      1   \n",
              "2                             Heikkinen, Miss. Laina  female  26.0      0   \n",
              "3       Futrelle, Mrs. Jacques Heath (Lily May Peel)  female  35.0      1   \n",
              "4                           Allen, Mr. William Henry    male  35.0      0   \n",
              "\n",
              "   Parch            Ticket     Fare Cabin Embarked  \n",
              "0      0         A/5 21171   7.2500   NaN        S  \n",
              "1      0          PC 17599  71.2833   C85        C  \n",
              "2      0  STON/O2. 3101282   7.9250   NaN        S  \n",
              "3      0            113803  53.1000  C123        S  \n",
              "4      0            373450   8.0500   NaN        S  "
            ]
          },
          "metadata": {
            "tags": []
          },
          "execution_count": 28
        }
      ]
    },
    {
      "cell_type": "markdown",
      "metadata": {
        "id": "glIP6wDopb-e"
      },
      "source": [
        "**Goal:** Map the existing values of a Series to a different set of values\n",
        "\n",
        "**Method:** [**`map`**](http://pandas.pydata.org/pandas-docs/stable/generated/pandas.Series.map.html) (Series method)"
      ]
    },
    {
      "cell_type": "code",
      "metadata": {
        "id": "CgTr1Nihpb-e",
        "outputId": "da0e4367-f608-4458-90fe-93133ac715d4"
      },
      "source": [
        "# map 'female' to 0 and 'male' to 1\n",
        "train['Sex_num'] = train.Sex.map({'female':0, 'male':1})\n",
        "train.loc[0:4, ['Sex', 'Sex_num']]"
      ],
      "execution_count": null,
      "outputs": [
        {
          "output_type": "execute_result",
          "data": {
            "text/html": [
              "<div>\n",
              "<style scoped>\n",
              "    .dataframe tbody tr th:only-of-type {\n",
              "        vertical-align: middle;\n",
              "    }\n",
              "\n",
              "    .dataframe tbody tr th {\n",
              "        vertical-align: top;\n",
              "    }\n",
              "\n",
              "    .dataframe thead th {\n",
              "        text-align: right;\n",
              "    }\n",
              "</style>\n",
              "<table border=\"1\" class=\"dataframe\">\n",
              "  <thead>\n",
              "    <tr style=\"text-align: right;\">\n",
              "      <th></th>\n",
              "      <th>Sex</th>\n",
              "      <th>Sex_num</th>\n",
              "    </tr>\n",
              "  </thead>\n",
              "  <tbody>\n",
              "    <tr>\n",
              "      <th>0</th>\n",
              "      <td>male</td>\n",
              "      <td>1</td>\n",
              "    </tr>\n",
              "    <tr>\n",
              "      <th>1</th>\n",
              "      <td>female</td>\n",
              "      <td>0</td>\n",
              "    </tr>\n",
              "    <tr>\n",
              "      <th>2</th>\n",
              "      <td>female</td>\n",
              "      <td>0</td>\n",
              "    </tr>\n",
              "    <tr>\n",
              "      <th>3</th>\n",
              "      <td>female</td>\n",
              "      <td>0</td>\n",
              "    </tr>\n",
              "    <tr>\n",
              "      <th>4</th>\n",
              "      <td>male</td>\n",
              "      <td>1</td>\n",
              "    </tr>\n",
              "  </tbody>\n",
              "</table>\n",
              "</div>"
            ],
            "text/plain": [
              "      Sex  Sex_num\n",
              "0    male        1\n",
              "1  female        0\n",
              "2  female        0\n",
              "3  female        0\n",
              "4    male        1"
            ]
          },
          "metadata": {
            "tags": []
          },
          "execution_count": 29
        }
      ]
    },
    {
      "cell_type": "markdown",
      "metadata": {
        "id": "j2GpaEJopb-f"
      },
      "source": [
        "**Goal:** Apply a function to each element in a Series\n",
        "\n",
        "**Method:** [**`apply`**](http://pandas.pydata.org/pandas-docs/stable/generated/pandas.Series.apply.html) (Series method)\n",
        "\n",
        "**Note:** **`map`** can be substituted for **`apply`** in many cases, but **`apply`** is more flexible and thus is recommended"
      ]
    },
    {
      "cell_type": "code",
      "metadata": {
        "id": "HjjzKAs7pb-f",
        "outputId": "e4837e8b-527b-4de9-c258-d25dfd9a8b47"
      },
      "source": [
        "# calculate the length of each string in the 'Name' Series\n",
        "train['Name_length'] = train.Name.apply(len)\n",
        "train.loc[0:4, ['Name', 'Name_length']]"
      ],
      "execution_count": null,
      "outputs": [
        {
          "output_type": "execute_result",
          "data": {
            "text/html": [
              "<div>\n",
              "<style scoped>\n",
              "    .dataframe tbody tr th:only-of-type {\n",
              "        vertical-align: middle;\n",
              "    }\n",
              "\n",
              "    .dataframe tbody tr th {\n",
              "        vertical-align: top;\n",
              "    }\n",
              "\n",
              "    .dataframe thead th {\n",
              "        text-align: right;\n",
              "    }\n",
              "</style>\n",
              "<table border=\"1\" class=\"dataframe\">\n",
              "  <thead>\n",
              "    <tr style=\"text-align: right;\">\n",
              "      <th></th>\n",
              "      <th>Name</th>\n",
              "      <th>Name_length</th>\n",
              "    </tr>\n",
              "  </thead>\n",
              "  <tbody>\n",
              "    <tr>\n",
              "      <th>0</th>\n",
              "      <td>Braund, Mr. Owen Harris</td>\n",
              "      <td>23</td>\n",
              "    </tr>\n",
              "    <tr>\n",
              "      <th>1</th>\n",
              "      <td>Cumings, Mrs. John Bradley (Florence Briggs Th...</td>\n",
              "      <td>51</td>\n",
              "    </tr>\n",
              "    <tr>\n",
              "      <th>2</th>\n",
              "      <td>Heikkinen, Miss. Laina</td>\n",
              "      <td>22</td>\n",
              "    </tr>\n",
              "    <tr>\n",
              "      <th>3</th>\n",
              "      <td>Futrelle, Mrs. Jacques Heath (Lily May Peel)</td>\n",
              "      <td>44</td>\n",
              "    </tr>\n",
              "    <tr>\n",
              "      <th>4</th>\n",
              "      <td>Allen, Mr. William Henry</td>\n",
              "      <td>24</td>\n",
              "    </tr>\n",
              "  </tbody>\n",
              "</table>\n",
              "</div>"
            ],
            "text/plain": [
              "                                                Name  Name_length\n",
              "0                            Braund, Mr. Owen Harris           23\n",
              "1  Cumings, Mrs. John Bradley (Florence Briggs Th...           51\n",
              "2                             Heikkinen, Miss. Laina           22\n",
              "3       Futrelle, Mrs. Jacques Heath (Lily May Peel)           44\n",
              "4                           Allen, Mr. William Henry           24"
            ]
          },
          "metadata": {
            "tags": []
          },
          "execution_count": 30
        }
      ]
    },
    {
      "cell_type": "code",
      "metadata": {
        "id": "I8unDIIrpb-g",
        "outputId": "fa479a8a-8006-438d-cfab-8619683adaee"
      },
      "source": [
        "# round up each element in the 'Fare' Series to the next integer\n",
        "import numpy as np\n",
        "train['Fare_ceil'] = train.Fare.apply(np.ceil)\n",
        "train.loc[0:4, ['Fare', 'Fare_ceil']]"
      ],
      "execution_count": null,
      "outputs": [
        {
          "output_type": "execute_result",
          "data": {
            "text/html": [
              "<div>\n",
              "<style scoped>\n",
              "    .dataframe tbody tr th:only-of-type {\n",
              "        vertical-align: middle;\n",
              "    }\n",
              "\n",
              "    .dataframe tbody tr th {\n",
              "        vertical-align: top;\n",
              "    }\n",
              "\n",
              "    .dataframe thead th {\n",
              "        text-align: right;\n",
              "    }\n",
              "</style>\n",
              "<table border=\"1\" class=\"dataframe\">\n",
              "  <thead>\n",
              "    <tr style=\"text-align: right;\">\n",
              "      <th></th>\n",
              "      <th>Fare</th>\n",
              "      <th>Fare_ceil</th>\n",
              "    </tr>\n",
              "  </thead>\n",
              "  <tbody>\n",
              "    <tr>\n",
              "      <th>0</th>\n",
              "      <td>7.2500</td>\n",
              "      <td>8.0</td>\n",
              "    </tr>\n",
              "    <tr>\n",
              "      <th>1</th>\n",
              "      <td>71.2833</td>\n",
              "      <td>72.0</td>\n",
              "    </tr>\n",
              "    <tr>\n",
              "      <th>2</th>\n",
              "      <td>7.9250</td>\n",
              "      <td>8.0</td>\n",
              "    </tr>\n",
              "    <tr>\n",
              "      <th>3</th>\n",
              "      <td>53.1000</td>\n",
              "      <td>54.0</td>\n",
              "    </tr>\n",
              "    <tr>\n",
              "      <th>4</th>\n",
              "      <td>8.0500</td>\n",
              "      <td>9.0</td>\n",
              "    </tr>\n",
              "  </tbody>\n",
              "</table>\n",
              "</div>"
            ],
            "text/plain": [
              "      Fare  Fare_ceil\n",
              "0   7.2500        8.0\n",
              "1  71.2833       72.0\n",
              "2   7.9250        8.0\n",
              "3  53.1000       54.0\n",
              "4   8.0500        9.0"
            ]
          },
          "metadata": {
            "tags": []
          },
          "execution_count": 31
        }
      ]
    },
    {
      "cell_type": "code",
      "metadata": {
        "id": "xXs8kVUHpb-h"
      },
      "source": [
        "# we want to extract the last name of each person\n",
        "train.Name.head()"
      ],
      "execution_count": null,
      "outputs": []
    },
    {
      "cell_type": "code",
      "metadata": {
        "id": "_2Bn---Wpb-h",
        "outputId": "7d593d5d-5061-40f6-a93b-92b726f79608"
      },
      "source": [
        "# use a string method to split the 'Name' Series at commas (returns a Series of lists)\n",
        "train.Name.str.split(',').head()"
      ],
      "execution_count": null,
      "outputs": [
        {
          "output_type": "execute_result",
          "data": {
            "text/plain": [
              "0                           [Braund,  Mr. Owen Harris]\n",
              "1    [Cumings,  Mrs. John Bradley (Florence Briggs ...\n",
              "2                            [Heikkinen,  Miss. Laina]\n",
              "3      [Futrelle,  Mrs. Jacques Heath (Lily May Peel)]\n",
              "4                          [Allen,  Mr. William Henry]\n",
              "Name: Name, dtype: object"
            ]
          },
          "metadata": {
            "tags": []
          },
          "execution_count": 22
        }
      ]
    },
    {
      "cell_type": "code",
      "metadata": {
        "id": "glT7wr5Kpb-i"
      },
      "source": [
        "# define a function that returns an element from a list based on position\n",
        "def get_element(my_list, position):\n",
        "    return my_list[position]"
      ],
      "execution_count": null,
      "outputs": []
    },
    {
      "cell_type": "code",
      "metadata": {
        "id": "IUO7MPmhpb-i",
        "outputId": "5300d3a3-ed90-4d58-e924-c52980e971e7"
      },
      "source": [
        "# apply the 'get_element' function and pass 'position' as a keyword argument\n",
        "train.Name.str.split(',').apply(get_element, position=0).head()"
      ],
      "execution_count": null,
      "outputs": [
        {
          "output_type": "execute_result",
          "data": {
            "text/plain": [
              "0       Braund\n",
              "1      Cumings\n",
              "2    Heikkinen\n",
              "3     Futrelle\n",
              "4        Allen\n",
              "Name: Name, dtype: object"
            ]
          },
          "metadata": {
            "tags": []
          },
          "execution_count": 26
        }
      ]
    },
    {
      "cell_type": "code",
      "metadata": {
        "id": "mxx_VpErpb-i"
      },
      "source": [
        "# alternatively, use a lambda function\n",
        "train.Name.str.split(',').apply(lambda x: x[0]).head()"
      ],
      "execution_count": null,
      "outputs": []
    },
    {
      "cell_type": "markdown",
      "metadata": {
        "id": "tFeUVZphpb-j"
      },
      "source": [
        "**Goal:** Apply a function along either axis of a DataFrame\n",
        "\n",
        "**Method:** [**`apply`**](http://pandas.pydata.org/pandas-docs/stable/generated/pandas.DataFrame.apply.html) (DataFrame method)"
      ]
    },
    {
      "cell_type": "code",
      "metadata": {
        "id": "DqXChaA9pb-j",
        "outputId": "40d1e00c-b78b-48aa-adc0-c7867953dd2c"
      },
      "source": [
        "# read a dataset of alcohol consumption into a DataFrame\n",
        "drinks = pd.read_csv('http://bit.ly/drinksbycountry')\n",
        "drinks.head()"
      ],
      "execution_count": null,
      "outputs": [
        {
          "output_type": "execute_result",
          "data": {
            "text/html": [
              "<div>\n",
              "<style scoped>\n",
              "    .dataframe tbody tr th:only-of-type {\n",
              "        vertical-align: middle;\n",
              "    }\n",
              "\n",
              "    .dataframe tbody tr th {\n",
              "        vertical-align: top;\n",
              "    }\n",
              "\n",
              "    .dataframe thead th {\n",
              "        text-align: right;\n",
              "    }\n",
              "</style>\n",
              "<table border=\"1\" class=\"dataframe\">\n",
              "  <thead>\n",
              "    <tr style=\"text-align: right;\">\n",
              "      <th></th>\n",
              "      <th>country</th>\n",
              "      <th>beer_servings</th>\n",
              "      <th>spirit_servings</th>\n",
              "      <th>wine_servings</th>\n",
              "      <th>total_litres_of_pure_alcohol</th>\n",
              "      <th>continent</th>\n",
              "    </tr>\n",
              "  </thead>\n",
              "  <tbody>\n",
              "    <tr>\n",
              "      <th>0</th>\n",
              "      <td>Afghanistan</td>\n",
              "      <td>0</td>\n",
              "      <td>0</td>\n",
              "      <td>0</td>\n",
              "      <td>0.0</td>\n",
              "      <td>Asia</td>\n",
              "    </tr>\n",
              "    <tr>\n",
              "      <th>1</th>\n",
              "      <td>Albania</td>\n",
              "      <td>89</td>\n",
              "      <td>132</td>\n",
              "      <td>54</td>\n",
              "      <td>4.9</td>\n",
              "      <td>Europe</td>\n",
              "    </tr>\n",
              "    <tr>\n",
              "      <th>2</th>\n",
              "      <td>Algeria</td>\n",
              "      <td>25</td>\n",
              "      <td>0</td>\n",
              "      <td>14</td>\n",
              "      <td>0.7</td>\n",
              "      <td>Africa</td>\n",
              "    </tr>\n",
              "    <tr>\n",
              "      <th>3</th>\n",
              "      <td>Andorra</td>\n",
              "      <td>245</td>\n",
              "      <td>138</td>\n",
              "      <td>312</td>\n",
              "      <td>12.4</td>\n",
              "      <td>Europe</td>\n",
              "    </tr>\n",
              "    <tr>\n",
              "      <th>4</th>\n",
              "      <td>Angola</td>\n",
              "      <td>217</td>\n",
              "      <td>57</td>\n",
              "      <td>45</td>\n",
              "      <td>5.9</td>\n",
              "      <td>Africa</td>\n",
              "    </tr>\n",
              "  </tbody>\n",
              "</table>\n",
              "</div>"
            ],
            "text/plain": [
              "       country  beer_servings  spirit_servings  wine_servings  \\\n",
              "0  Afghanistan              0                0              0   \n",
              "1      Albania             89              132             54   \n",
              "2      Algeria             25                0             14   \n",
              "3      Andorra            245              138            312   \n",
              "4       Angola            217               57             45   \n",
              "\n",
              "   total_litres_of_pure_alcohol continent  \n",
              "0                           0.0      Asia  \n",
              "1                           4.9    Europe  \n",
              "2                           0.7    Africa  \n",
              "3                          12.4    Europe  \n",
              "4                           5.9    Africa  "
            ]
          },
          "metadata": {
            "tags": []
          },
          "execution_count": 32
        }
      ]
    },
    {
      "cell_type": "code",
      "metadata": {
        "id": "LYDJJkFdpb-j",
        "outputId": "0c312149-c6e9-45ef-acb2-23ac29376b39"
      },
      "source": [
        "# select a subset of the DataFrame to work with\n",
        "drinks.loc[:, 'beer_servings':'wine_servings'].head()"
      ],
      "execution_count": null,
      "outputs": [
        {
          "output_type": "execute_result",
          "data": {
            "text/html": [
              "<div>\n",
              "<style scoped>\n",
              "    .dataframe tbody tr th:only-of-type {\n",
              "        vertical-align: middle;\n",
              "    }\n",
              "\n",
              "    .dataframe tbody tr th {\n",
              "        vertical-align: top;\n",
              "    }\n",
              "\n",
              "    .dataframe thead th {\n",
              "        text-align: right;\n",
              "    }\n",
              "</style>\n",
              "<table border=\"1\" class=\"dataframe\">\n",
              "  <thead>\n",
              "    <tr style=\"text-align: right;\">\n",
              "      <th></th>\n",
              "      <th>beer_servings</th>\n",
              "      <th>spirit_servings</th>\n",
              "      <th>wine_servings</th>\n",
              "    </tr>\n",
              "  </thead>\n",
              "  <tbody>\n",
              "    <tr>\n",
              "      <th>0</th>\n",
              "      <td>0</td>\n",
              "      <td>0</td>\n",
              "      <td>0</td>\n",
              "    </tr>\n",
              "    <tr>\n",
              "      <th>1</th>\n",
              "      <td>89</td>\n",
              "      <td>132</td>\n",
              "      <td>54</td>\n",
              "    </tr>\n",
              "    <tr>\n",
              "      <th>2</th>\n",
              "      <td>25</td>\n",
              "      <td>0</td>\n",
              "      <td>14</td>\n",
              "    </tr>\n",
              "    <tr>\n",
              "      <th>3</th>\n",
              "      <td>245</td>\n",
              "      <td>138</td>\n",
              "      <td>312</td>\n",
              "    </tr>\n",
              "    <tr>\n",
              "      <th>4</th>\n",
              "      <td>217</td>\n",
              "      <td>57</td>\n",
              "      <td>45</td>\n",
              "    </tr>\n",
              "  </tbody>\n",
              "</table>\n",
              "</div>"
            ],
            "text/plain": [
              "   beer_servings  spirit_servings  wine_servings\n",
              "0              0                0              0\n",
              "1             89              132             54\n",
              "2             25                0             14\n",
              "3            245              138            312\n",
              "4            217               57             45"
            ]
          },
          "metadata": {
            "tags": []
          },
          "execution_count": 33
        }
      ]
    },
    {
      "cell_type": "code",
      "metadata": {
        "id": "fEnXrtgapb-k",
        "outputId": "2b450231-f944-44df-8c6f-553b8724fef4"
      },
      "source": [
        "# apply the 'max' function along axis 0 to calculate the maximum value in each column\n",
        "drinks.loc[:, 'beer_servings':'wine_servings'].apply(max, axis=0)"
      ],
      "execution_count": null,
      "outputs": [
        {
          "output_type": "execute_result",
          "data": {
            "text/plain": [
              "beer_servings      376\n",
              "spirit_servings    438\n",
              "wine_servings      370\n",
              "dtype: int64"
            ]
          },
          "metadata": {
            "tags": []
          },
          "execution_count": 34
        }
      ]
    },
    {
      "cell_type": "code",
      "metadata": {
        "id": "5iKe5ei-pb-k",
        "outputId": "82e8729d-6ba8-4d51-cf1f-54a1ddf08977"
      },
      "source": [
        "# apply the 'max' function along axis 1 to calculate the maximum value in each row\n",
        "drinks.loc[:, 'beer_servings':'wine_servings'].apply(max, axis=1).head()"
      ],
      "execution_count": null,
      "outputs": [
        {
          "output_type": "execute_result",
          "data": {
            "text/plain": [
              "0      0\n",
              "1    132\n",
              "2     25\n",
              "3    312\n",
              "4    217\n",
              "dtype: int64"
            ]
          },
          "metadata": {
            "tags": []
          },
          "execution_count": 36
        }
      ]
    },
    {
      "cell_type": "code",
      "metadata": {
        "id": "sbimrbBEpb-l",
        "outputId": "dab1637e-df38-4b64-9595-26979632e591"
      },
      "source": [
        "# use 'np.argmax' to calculate which column has the maximum value for each row\n",
        "drinks.loc[:, 'beer_servings':'wine_servings'].apply(np.argmax, axis=1).head()"
      ],
      "execution_count": null,
      "outputs": [
        {
          "output_type": "execute_result",
          "data": {
            "text/plain": [
              "0    0\n",
              "1    1\n",
              "2    0\n",
              "3    2\n",
              "4    0\n",
              "dtype: int64"
            ]
          },
          "metadata": {
            "tags": []
          },
          "execution_count": 35
        }
      ]
    },
    {
      "cell_type": "markdown",
      "metadata": {
        "id": "WGoPrX3rpb-l"
      },
      "source": [
        "**Goal:** Apply a function to every element in a DataFrame\n",
        "\n",
        "**Method:** [**`applymap`**](http://pandas.pydata.org/pandas-docs/stable/generated/pandas.DataFrame.applymap.html) (DataFrame method)"
      ]
    },
    {
      "cell_type": "code",
      "metadata": {
        "id": "7cDfGN47pb-l",
        "outputId": "21b3c7e1-77c5-431d-ea62-73f052b5d71d"
      },
      "source": [
        "# convert every DataFrame element into a float\n",
        "drinks.loc[:, 'beer_servings':'wine_servings'].applymap(float).head()"
      ],
      "execution_count": null,
      "outputs": [
        {
          "output_type": "execute_result",
          "data": {
            "text/html": [
              "<div>\n",
              "<style scoped>\n",
              "    .dataframe tbody tr th:only-of-type {\n",
              "        vertical-align: middle;\n",
              "    }\n",
              "\n",
              "    .dataframe tbody tr th {\n",
              "        vertical-align: top;\n",
              "    }\n",
              "\n",
              "    .dataframe thead th {\n",
              "        text-align: right;\n",
              "    }\n",
              "</style>\n",
              "<table border=\"1\" class=\"dataframe\">\n",
              "  <thead>\n",
              "    <tr style=\"text-align: right;\">\n",
              "      <th></th>\n",
              "      <th>beer_servings</th>\n",
              "      <th>spirit_servings</th>\n",
              "      <th>wine_servings</th>\n",
              "    </tr>\n",
              "  </thead>\n",
              "  <tbody>\n",
              "    <tr>\n",
              "      <th>0</th>\n",
              "      <td>0.0</td>\n",
              "      <td>0.0</td>\n",
              "      <td>0.0</td>\n",
              "    </tr>\n",
              "    <tr>\n",
              "      <th>1</th>\n",
              "      <td>89.0</td>\n",
              "      <td>132.0</td>\n",
              "      <td>54.0</td>\n",
              "    </tr>\n",
              "    <tr>\n",
              "      <th>2</th>\n",
              "      <td>25.0</td>\n",
              "      <td>0.0</td>\n",
              "      <td>14.0</td>\n",
              "    </tr>\n",
              "    <tr>\n",
              "      <th>3</th>\n",
              "      <td>245.0</td>\n",
              "      <td>138.0</td>\n",
              "      <td>312.0</td>\n",
              "    </tr>\n",
              "    <tr>\n",
              "      <th>4</th>\n",
              "      <td>217.0</td>\n",
              "      <td>57.0</td>\n",
              "      <td>45.0</td>\n",
              "    </tr>\n",
              "  </tbody>\n",
              "</table>\n",
              "</div>"
            ],
            "text/plain": [
              "   beer_servings  spirit_servings  wine_servings\n",
              "0            0.0              0.0            0.0\n",
              "1           89.0            132.0           54.0\n",
              "2           25.0              0.0           14.0\n",
              "3          245.0            138.0          312.0\n",
              "4          217.0             57.0           45.0"
            ]
          },
          "metadata": {
            "tags": []
          },
          "execution_count": 37
        }
      ]
    },
    {
      "cell_type": "code",
      "metadata": {
        "id": "Tsdr1Mc7pb-m"
      },
      "source": [
        "# overwrite the existing DataFrame columns\n",
        "drinks.loc[:, 'beer_servings':'wine_servings'] = drinks.loc[:, 'beer_servings':'wine_servings'].applymap(float)\n",
        "drinks.head()"
      ],
      "execution_count": null,
      "outputs": []
    },
    {
      "cell_type": "code",
      "metadata": {
        "id": "OR4MkjWspb-m"
      },
      "source": [
        ""
      ],
      "execution_count": null,
      "outputs": []
    }
  ]
}