{
  "nbformat": 4,
  "nbformat_minor": 0,
  "metadata": {
    "anaconda-cloud": {},
    "celltoolbar": "Raw Cell Format",
    "kernelspec": {
      "display_name": "Python 3",
      "language": "python",
      "name": "python3"
    },
    "language_info": {
      "codemirror_mode": {
        "name": "ipython",
        "version": 3
      },
      "file_extension": ".py",
      "mimetype": "text/x-python",
      "name": "python",
      "nbconvert_exporter": "python",
      "pygments_lexer": "ipython3",
      "version": "3.7.6"
    },
    "colab": {
      "name": "PythonIntro-200520-125940 (1).ipynb",
      "provenance": [],
      "include_colab_link": true
    }
  },
  "cells": [
    {
      "cell_type": "markdown",
      "metadata": {
        "id": "view-in-github",
        "colab_type": "text"
      },
      "source": [
        "<a href=\"https://colab.research.google.com/github/Snehal1123/Education/blob/Branch1/PythonIntro_200520_125940_(1).ipynb\" target=\"_parent\"><img src=\"https://colab.research.google.com/assets/colab-badge.svg\" alt=\"Open In Colab\"/></a>"
      ]
    },
    {
      "cell_type": "markdown",
      "metadata": {
        "raw_mimetype": "text/markdown",
        "id": "M7xqYXWImcxG"
      },
      "source": [
        "\n",
        "\n",
        "* Anaconda Installation\n",
        "* Introduction to Python \n",
        "\n",
        "* Jupyter IDE and its shortcuts\n",
        "\n",
        "* Python data types\n",
        "\n",
        "* Variable\n",
        "\n",
        "* Print function and strings\n",
        "\n",
        "* Math function and programming basics\n",
        "\n",
        "*  Variables and Loops introduction\n",
        "\n",
        "* Loops detailed\n",
        "\n",
        "* Functions and Function Parameters\n",
        "\n",
        "* Packages and Modules with PIP"
      ]
    },
    {
      "cell_type": "markdown",
      "metadata": {
        "id": "kBtv3Go_mcxM"
      },
      "source": [
        "## Anaconda Installation\n",
        "\n",
        "* Download the Anaconda installer from https://www.anaconda.com/distribution/#windows\n",
        "* Double click on the downloaded file to launch the installer* \n",
        "* Click Next\n",
        "* Read the licensing terms and click “I Agree”\n",
        "*  Select an install for “Just Me* ” unless you’re installing for all users (which requires Windows Administrator privileges) and click Next\n",
        "* Select a destination folder to install Anaconda and click the Next button\n",
        "* Check add Anaconda to your PATH environment variable\n",
        "* Choose whether to register Anaconda as your default Python. Unless you plan on installing and running multiple versions of Anaconda or multiple versions of Python, accept the default and leave this box checked\n",
        "* Click the Install button. If you want to watch the packages Anaconda is installing, click Show Details. Click the Next button\n",
        "* After a successful installation you will see the “Thanks for installing Anaconda” dialog box "
      ]
    },
    {
      "cell_type": "markdown",
      "metadata": {
        "id": "z2KU5F4XmcxO"
      },
      "source": [
        "# What is python???\n",
        "\n",
        "Python is an interpreted, object-oriented, high-level programming language with dynamic semantics. Its high-level built in data structures, combined with dynamic typing and dynamic binding, make it very attractive for Rapid Application Development, as well as for use as a scripting or glue language to connect existing components together. Python's simple, easy to learn syntax emphasizes readability and therefore reduces the cost of program maintenance. Python supports modules and packages, which encourages program modularity and code reuse. The Python interpreter and the extensive standard library are available in source or binary form without charge for all major platforms, and can be freely distributed."
      ]
    },
    {
      "cell_type": "code",
      "metadata": {
        "id": "mobaIcFqmcxQ"
      },
      "source": [
        "print(\"Hello World\")"
      ],
      "execution_count": null,
      "outputs": []
    },
    {
      "cell_type": "markdown",
      "metadata": {
        "id": "E210Fu9BmcxR"
      },
      "source": [
        "# Features\n",
        "* Simplicity\n",
        "* It's free\n",
        "* Compatibility\n",
        "* Object-oriented\n",
        "* LIbraries\n",
        "* Community support\n",
        "* Python is used for web, desktop applications development, automation scripts, complex calculation systems, scientific computing, life support management systems, Internet of Things, games, robotics, natural language processing and many more.\n",
        "* Python one of the most versatile programming languages in the world which can easily fit any project. Still, we need to mention that Python is very popular in scientific area. Especially in Data Mining and Machine Learning programs."
      ]
    },
    {
      "cell_type": "markdown",
      "metadata": {
        "id": "wGTkt2fpmcxS"
      },
      "source": [
        "\n",
        "We will start learning python with creating variables which can hold single values. Lets create two variables holding values `\"5\"` and `\"data science\"` respectively\n"
      ]
    },
    {
      "cell_type": "code",
      "metadata": {
        "id": "T3EQrasMmcxU"
      },
      "source": [
        "x=5\n",
        "y=\"data science\"\n",
        "\n",
        "# Any text followed by '#' is not conisdered python code. These are called comments\n",
        "# shortcut for commenting is : select the line(s) which you want to comment and then use Ctrl+/\n",
        "# short cut for executing your code is shift+enter"
      ],
      "execution_count": null,
      "outputs": []
    },
    {
      "cell_type": "markdown",
      "metadata": {
        "id": "80ZFTVCpmcxW"
      },
      "source": [
        "\n",
        "This created two variables **x** and **y**. To find out what value a variable holds. just type in the variable name and hit shift+enter, value will be printed.\n"
      ]
    },
    {
      "cell_type": "code",
      "metadata": {
        "id": "Fqlvg0-mmcxY"
      },
      "source": [
        "print(type(x))\n",
        "x # printed default"
      ],
      "execution_count": null,
      "outputs": []
    },
    {
      "cell_type": "code",
      "metadata": {
        "id": "0UJ-ezHZmcxa"
      },
      "source": [
        "y"
      ],
      "execution_count": null,
      "outputs": []
    },
    {
      "cell_type": "code",
      "metadata": {
        "id": "DcF6ju9Omcxb"
      },
      "source": [
        "type(y)"
      ],
      "execution_count": null,
      "outputs": []
    },
    {
      "cell_type": "markdown",
      "metadata": {
        "id": "lO-mUUctmcxc"
      },
      "source": [
        "You need to keep in mind that Python is case sensitive . If you type in `X` you'll get an error because we havent yet created `X`. Lets see."
      ]
    },
    {
      "cell_type": "code",
      "metadata": {
        "id": "AiJ1lDQ7mcxd"
      },
      "source": [
        "X"
      ],
      "execution_count": null,
      "outputs": []
    },
    {
      "cell_type": "code",
      "metadata": {
        "id": "e2v88fbWmcxd"
      },
      "source": [
        "1x = 7\n",
        "1x"
      ],
      "execution_count": null,
      "outputs": []
    },
    {
      "cell_type": "markdown",
      "metadata": {
        "id": "dRxoHF_tmcxe"
      },
      "source": [
        "### Variable Naming\n",
        "\n",
        "\n",
        "You can pretty much chose any name as a variable name, however there are few rules that you'd need to follow\n",
        "\n",
        "\n",
        "* Variable names can not have spaces in between.\n",
        "* They can not contain any special character except underscore [i.e. _ ]\n",
        "* Variable names can not start with a number , however you can have numbers anywhere else in the variable name\n",
        "\n",
        "\n",
        "In addition to these rules there are few good practices when you are naming your variables. Google python style guide  recommends following way of naming variables based on what type of variables they are.\n",
        "\n",
        "\n",
        "module_name, package_name, ClassName, method_name, ExceptionName, function_name, \n",
        "GLOBAL_CONSTANT_NAME, global_var_name, instance_var_name, \n",
        "function_parameter_name, local_var_name\n",
        "\n",
        "\n",
        "*Note: Its not mandatory to use underscore with long variable names , just that it makes your variable name easily readable.*\n",
        "\n",
        "Lets see an example below , you decide yourself which variable name is more readable."
      ]
    },
    {
      "cell_type": "code",
      "metadata": {
        "id": "fLUk4SkYmcxf"
      },
      "source": [
        "isthisareadablename=3\n",
        "_or_this_is_more_readable_despite_being_longer=4"
      ],
      "execution_count": null,
      "outputs": []
    },
    {
      "cell_type": "markdown",
      "metadata": {
        "id": "RpCszUsZmcxf"
      },
      "source": [
        "There are few names which are reserved and can not be used as variable names . These names are used within python framework as keywords and hold special syntactical meaning and hence can not be used as variable names. Here is the list.\n",
        "\n",
        "\n",
        "['False', 'None', 'True', 'and', 'as', 'assert', 'break', 'class', 'continue', 'def', 'del', 'elif', 'else', 'except', 'finally', 'for', 'from', 'global', 'if', 'import', 'in', 'is', 'lambda', 'nonlocal', 'not', 'or', 'pass', 'raise', 'return', 'try', 'while', 'with', 'yield']\n",
        "\n",
        "\n",
        "These words are not really the ones which generally come as possible variable names to mind , so dont bother about mugging up the list. Python throws an error anyway , if you try to use any of these as variable names. Lets see"
      ]
    },
    {
      "cell_type": "code",
      "metadata": {
        "id": "skaDIzOdmcxg"
      },
      "source": [
        "form = 4"
      ],
      "execution_count": null,
      "outputs": []
    },
    {
      "cell_type": "markdown",
      "metadata": {
        "id": "mM2FDkCvmcxg"
      },
      "source": [
        "\n",
        "### variable types\n",
        "\n",
        "\n",
        "If you havent noticed , check the code for creating variables **x** and **y** . We did not need to specify any variable type before assigning values to them. However if you check their type as follows:\n"
      ]
    },
    {
      "cell_type": "code",
      "metadata": {
        "id": "rRb9Vtckmcxh"
      },
      "source": [
        "type(x)"
      ],
      "execution_count": null,
      "outputs": []
    },
    {
      "cell_type": "code",
      "metadata": {
        "id": "KxeqSV6Emcxh"
      },
      "source": [
        "type(y)"
      ],
      "execution_count": null,
      "outputs": []
    },
    {
      "cell_type": "code",
      "metadata": {
        "id": "OYbPqNdbmcxi"
      },
      "source": [
        "x='data'\n",
        "x"
      ],
      "execution_count": null,
      "outputs": []
    },
    {
      "cell_type": "markdown",
      "metadata": {
        "id": "VhmLmWpMmcxj"
      },
      "source": [
        "Note: when assigning a string/char value to a variable it doesn't matter whether you use single quotes [''] or double quotes [\"\"]\n",
        "\n",
        "There are functions available to convert type of variables to another. Here is one example, you'll discover more such function for type conversion as and when we go forward in the course and encounter more types.\n"
      ]
    },
    {
      "cell_type": "code",
      "metadata": {
        "id": "3VeDD2Ikmcxj"
      },
      "source": [
        "x=\"4\"\n",
        "type(x)"
      ],
      "execution_count": null,
      "outputs": []
    },
    {
      "cell_type": "code",
      "metadata": {
        "scrolled": true,
        "id": "UjxOy8L-mcxk"
      },
      "source": [
        "print(int(x))\n",
        "x"
      ],
      "execution_count": null,
      "outputs": []
    },
    {
      "cell_type": "markdown",
      "metadata": {
        "id": "4MgJUrFemcxk"
      },
      "source": [
        "Keep in mind that writing `int(x)` converted the string in x which could be converted to number. If it was string which can not be converted in number then it will throw and error."
      ]
    },
    {
      "cell_type": "code",
      "metadata": {
        "id": "qrEDRfw6mcxk"
      },
      "source": [
        "x=\"some char\"\n",
        "type(x)"
      ],
      "execution_count": null,
      "outputs": []
    },
    {
      "cell_type": "code",
      "metadata": {
        "id": "FfG5uPB9mcxl"
      },
      "source": [
        "int(x)"
      ],
      "execution_count": null,
      "outputs": []
    },
    {
      "cell_type": "markdown",
      "metadata": {
        "id": "1SjGRZ-Cmcxl"
      },
      "source": [
        "\n",
        "One more thing that you should be aware of is that writing `int(x)` did not make any changes in **x**. It only printed the result for `int(x)`. If you do want the change to persist, then you need to equate the output the function back to original variable."
      ]
    },
    {
      "cell_type": "code",
      "metadata": {
        "id": "f2yx5nONmcxm"
      },
      "source": [
        "x=\"42\"\n",
        "int(x)"
      ],
      "execution_count": null,
      "outputs": []
    },
    {
      "cell_type": "code",
      "metadata": {
        "id": "grfBE7Svmcxm"
      },
      "source": [
        "print(x)\n",
        "type(x)"
      ],
      "execution_count": null,
      "outputs": []
    },
    {
      "cell_type": "code",
      "metadata": {
        "id": "MUke_zFDmcxm"
      },
      "source": [
        "x=int(x)\n",
        "type(x)"
      ],
      "execution_count": null,
      "outputs": []
    },
    {
      "cell_type": "code",
      "metadata": {
        "id": "IW1ggEhYmcxn"
      },
      "source": [
        "# How to get input from user\n",
        "num = input(\"Enter a number \")\n",
        "print('Entered ',num, ' of type', type(num))\n",
        "#By default the input value is considered as a string , we can convert it int,float explicitly"
      ],
      "execution_count": null,
      "outputs": []
    },
    {
      "cell_type": "code",
      "metadata": {
        "id": "up3BhUdymcxn"
      },
      "source": [
        "string = input(\"What is your name?\")\n",
        "print('Entered ',string, ' of type', type(num))\n",
        "num1 = int(input(\"Enter a number\"))\n",
        "print('Entered ',num1, ' of type', type(num1))"
      ],
      "execution_count": null,
      "outputs": []
    },
    {
      "cell_type": "markdown",
      "metadata": {
        "id": "DuhP8siWmcxo"
      },
      "source": [
        "Now that we know how to create variables holding single values , next we'll look at operations on and between them; starting with numeric operations."
      ]
    },
    {
      "cell_type": "markdown",
      "metadata": {
        "id": "40htkGRJmcxo"
      },
      "source": [
        "### Numeric Operations \n",
        "\n",
        "for simple algebaric operations , usual symbols work. Below are some examples."
      ]
    },
    {
      "cell_type": "code",
      "metadata": {
        "id": "L1adMVRWmcxo"
      },
      "source": [
        "x=1.22\n",
        "y=20\n",
        "x+y"
      ],
      "execution_count": null,
      "outputs": []
    },
    {
      "cell_type": "code",
      "metadata": {
        "id": "wz3ET2xOmcxp"
      },
      "source": [
        "x-y"
      ],
      "execution_count": null,
      "outputs": []
    },
    {
      "cell_type": "code",
      "metadata": {
        "id": "5DNlI_Vamcxp"
      },
      "source": [
        "x*y"
      ],
      "execution_count": null,
      "outputs": []
    },
    {
      "cell_type": "code",
      "metadata": {
        "id": "lR_HaADvmcxq"
      },
      "source": [
        "x/y"
      ],
      "execution_count": null,
      "outputs": []
    },
    {
      "cell_type": "markdown",
      "metadata": {
        "id": "cOQcv970mcxq"
      },
      "source": [
        "you can do multiple operations separated by comma"
      ]
    },
    {
      "cell_type": "code",
      "metadata": {
        "id": "yztlGIYrmcxq"
      },
      "source": [
        "x+2,y+3,x+y,x**(x+y)"
      ],
      "execution_count": null,
      "outputs": []
    },
    {
      "cell_type": "markdown",
      "metadata": {
        "id": "-A2eUVnfmcxr"
      },
      "source": [
        "# you need to use double asterisks for exponents"
      ]
    },
    {
      "cell_type": "code",
      "metadata": {
        "id": "30mOCdB8mcxr"
      },
      "source": [
        "x=2\n",
        "y=3\n",
        "x**y #^"
      ],
      "execution_count": null,
      "outputs": []
    },
    {
      "cell_type": "markdown",
      "metadata": {
        "id": "Mipep4hRmcxr"
      },
      "source": [
        "All this is being calculated and displayed on your console. It changes nothing in the variables involved in the operation. To store the result , assign the operation to a variable. Many small operations can be combined to make a complex one."
      ]
    },
    {
      "cell_type": "code",
      "metadata": {
        "id": "J_leEcy7mcxs"
      },
      "source": [
        "z=(x+y)**x - y/x\n",
        "z"
      ],
      "execution_count": null,
      "outputs": []
    },
    {
      "cell_type": "markdown",
      "metadata": {
        "id": "SS-X--Tgmcxs"
      },
      "source": [
        "this is how you can do multiple assignments at once:"
      ]
    },
    {
      "cell_type": "code",
      "metadata": {
        "id": "i2GlkJ1bmcxt"
      },
      "source": [
        "a,b,c,d=x+2,y+3,x+y,x**(x+y)"
      ],
      "execution_count": null,
      "outputs": []
    },
    {
      "cell_type": "code",
      "metadata": {
        "id": "8Izp1Tugmcxt"
      },
      "source": [
        "a,b,c,d"
      ],
      "execution_count": null,
      "outputs": []
    },
    {
      "cell_type": "markdown",
      "metadata": {
        "id": "d09FxUvomcxt"
      },
      "source": [
        "just to be clear, following will not assign 2 to all of a,b,c. Infact , as you can see , it throws an error."
      ]
    },
    {
      "cell_type": "code",
      "metadata": {
        "id": "-R29SpLimcxu"
      },
      "source": [
        "a,b,c=2"
      ],
      "execution_count": null,
      "outputs": []
    },
    {
      "cell_type": "markdown",
      "metadata": {
        "id": "sT06REg-mcxu"
      },
      "source": [
        "You should either do this :"
      ]
    },
    {
      "cell_type": "code",
      "metadata": {
        "id": "TUEE9Llumcxu"
      },
      "source": [
        "a,b,c=2,2,2\n",
        "a,b,c"
      ],
      "execution_count": null,
      "outputs": []
    },
    {
      "cell_type": "markdown",
      "metadata": {
        "id": "NFqXEZbOmcxv"
      },
      "source": [
        "Or this :"
      ]
    },
    {
      "cell_type": "code",
      "metadata": {
        "id": "Q2ge6cLYmcxv"
      },
      "source": [
        "a,b,c=[2,2,2] # []\n",
        "a,b,c"
      ],
      "execution_count": null,
      "outputs": []
    },
    {
      "cell_type": "markdown",
      "metadata": {
        "id": "-3ExZAjqmcxv"
      },
      "source": [
        "Or this:"
      ]
    },
    {
      "cell_type": "code",
      "metadata": {
        "id": "EfN6ktUfmcxw"
      },
      "source": [
        "a,b,c=[2]*3\n",
        "a,b,c"
      ],
      "execution_count": null,
      "outputs": []
    },
    {
      "cell_type": "markdown",
      "metadata": {
        "id": "DVyomSc-mcxw"
      },
      "source": [
        "The last two involve useage of lists which we havent yet learned about. We will in due time.\n",
        "\n",
        "Function based numeric operations can be found in package math. you dont need to separately install this package. However when you need to use functions from the package you need to `import` it to current session. [ need for importing to use functions from the package is not specific to package `math`. This holds for any package]"
      ]
    },
    {
      "cell_type": "code",
      "metadata": {
        "id": "HEj2wZHcmcxw"
      },
      "source": [
        "x"
      ],
      "execution_count": null,
      "outputs": []
    },
    {
      "cell_type": "code",
      "metadata": {
        "id": "tX4wu8YPmcxx"
      },
      "source": [
        "import math\n",
        "print(math.log(x))\n",
        "print(math.factorial(5))\n",
        "math.floor(1.7)"
      ],
      "execution_count": null,
      "outputs": []
    },
    {
      "cell_type": "markdown",
      "metadata": {
        "id": "ulrDD8o4mcxx"
      },
      "source": [
        "While importing you can assing custom name to packages being imported and use them instead. For example we are importing package `math` as `m` below:"
      ]
    },
    {
      "cell_type": "code",
      "metadata": {
        "id": "akHmv6eXmcxx"
      },
      "source": [
        "import math as m\n",
        "m.sin(10)"
      ],
      "execution_count": null,
      "outputs": []
    },
    {
      "cell_type": "markdown",
      "metadata": {
        "id": "rJCrlMmbmcxy"
      },
      "source": [
        "### Logical values and Operations\n",
        "\n",
        "We will discuss one more important data type here. Which is known as logical or boolean. There are two values of this type `True` and `False`. And they need to be spelled exactly like this for them to be recognised by python as boolean value."
      ]
    },
    {
      "cell_type": "code",
      "metadata": {
        "id": "9ZSHu-xemcxy"
      },
      "source": [
        "x=True\n",
        "y=False"
      ],
      "execution_count": null,
      "outputs": []
    },
    {
      "cell_type": "code",
      "metadata": {
        "id": "YSVAx1J7mcxy"
      },
      "source": [
        "type(x)"
      ],
      "execution_count": null,
      "outputs": []
    },
    {
      "cell_type": "code",
      "metadata": {
        "id": "Z6Xo55RImcxz"
      },
      "source": [
        "type(y)"
      ],
      "execution_count": null,
      "outputs": []
    },
    {
      "cell_type": "markdown",
      "metadata": {
        "id": "aAiZmVR9mcxz"
      },
      "source": [
        "\n",
        "emphasizing again; True and False need to be spelled exactly like this , otherwise they will be taken as some undefined variable.\n",
        "\n",
        "\n",
        "you can do many operation on these boolean values. Below we have given some examples:"
      ]
    },
    {
      "cell_type": "code",
      "metadata": {
        "id": "HzJzTaVimcxz"
      },
      "source": [
        "x and y"
      ],
      "execution_count": null,
      "outputs": []
    },
    {
      "cell_type": "code",
      "metadata": {
        "id": "jLh74Aajmcxz"
      },
      "source": [
        "x & y"
      ],
      "execution_count": null,
      "outputs": []
    },
    {
      "cell_type": "markdown",
      "metadata": {
        "id": "mufvWHdDmcx0"
      },
      "source": [
        "did you notice that you can use both the operator `and` and symbol `&` for doing and operation? In a similar fashion; for or operation, you can use both operator `or` or symbol `|` [this symbol is found on the same key as \"\\\" on any keyboard ]"
      ]
    },
    {
      "cell_type": "code",
      "metadata": {
        "id": "a6mijJBjmcx0"
      },
      "source": [
        "x or y"
      ],
      "execution_count": null,
      "outputs": []
    },
    {
      "cell_type": "code",
      "metadata": {
        "id": "tr14PWVXmcx0"
      },
      "source": [
        "x | y"
      ],
      "execution_count": null,
      "outputs": []
    },
    {
      "cell_type": "code",
      "metadata": {
        "id": "hqIYUZATmcx1"
      },
      "source": [
        "not x"
      ],
      "execution_count": null,
      "outputs": []
    },
    {
      "cell_type": "markdown",
      "metadata": {
        "id": "DNcTB90Rmcx1"
      },
      "source": [
        "We'll come back to logical operations on general values to generate boolean values after discussion on strings/character values"
      ]
    },
    {
      "cell_type": "markdown",
      "metadata": {
        "id": "ilvpEWUimcx1"
      },
      "source": [
        "### String values and operations\n",
        "\n",
        "while assigning a string/character value to any variable, you can use both single quotes ' ' or double quotes \" \". They both work the same way."
      ]
    },
    {
      "cell_type": "code",
      "metadata": {
        "id": "rZHf5q3qmcx1"
      },
      "source": [
        "x = 'Bombay'\n",
        "y = \"Banglore\"\n",
        "x,y"
      ],
      "execution_count": null,
      "outputs": []
    },
    {
      "cell_type": "markdown",
      "metadata": {
        "id": "KEPBZuCHmcx2"
      },
      "source": [
        "Next we'll learn function for finding number of characters in a string:"
      ]
    },
    {
      "cell_type": "code",
      "metadata": {
        "id": "5YbK1QzTmcx2"
      },
      "source": [
        "len(x),len(y)"
      ],
      "execution_count": null,
      "outputs": []
    },
    {
      "cell_type": "markdown",
      "metadata": {
        "id": "3Dw9b-egmcx2"
      },
      "source": [
        "for concatenating or combining two strings , you can simply use \"+\" symbol. Lets see that at work:"
      ]
    },
    {
      "cell_type": "code",
      "metadata": {
        "id": "kJuJ8tYTmcx3"
      },
      "source": [
        "x+y"
      ],
      "execution_count": null,
      "outputs": []
    },
    {
      "cell_type": "code",
      "metadata": {
        "id": "xORe9ULGmcx3"
      },
      "source": [
        "x+\" \"+\"#*$^\"+y"
      ],
      "execution_count": null,
      "outputs": []
    },
    {
      "cell_type": "code",
      "metadata": {
        "id": "Kdo5tj6Bmcx3"
      },
      "source": [
        "z=x+\" to \"+y\n",
        "z"
      ],
      "execution_count": null,
      "outputs": []
    },
    {
      "cell_type": "markdown",
      "metadata": {
        "id": "f0cjGr-Rmcx3"
      },
      "source": [
        "I have given below many more functions with examples. I have tried to keep the examples self explanatory about what the functions does. "
      ]
    },
    {
      "cell_type": "code",
      "metadata": {
        "id": "rCdrCvvomcx4"
      },
      "source": [
        "z.upper()"
      ],
      "execution_count": null,
      "outputs": []
    },
    {
      "cell_type": "code",
      "metadata": {
        "id": "hC_9pPdlmcx4"
      },
      "source": [
        "z.lower()"
      ],
      "execution_count": null,
      "outputs": []
    },
    {
      "cell_type": "markdown",
      "metadata": {
        "id": "w0kvyA1rmcx4"
      },
      "source": [
        "this capitalizes the first letter only"
      ]
    },
    {
      "cell_type": "code",
      "metadata": {
        "id": "CuhrR10umcx5"
      },
      "source": [
        "z.capitalize()"
      ],
      "execution_count": null,
      "outputs": []
    },
    {
      "cell_type": "markdown",
      "metadata": {
        "id": "ZgvHK6-_mcx5"
      },
      "source": [
        "following functions are used for removing white spaces from the word. lstrip and rstrip remove white spaces from left and right side of the string, where as strip removes white spaces from both the sides."
      ]
    },
    {
      "cell_type": "code",
      "metadata": {
        "id": "TYM6S252mcx5"
      },
      "source": [
        "z=\"   \"+z+\"    \"\n",
        "z"
      ],
      "execution_count": null,
      "outputs": []
    },
    {
      "cell_type": "code",
      "metadata": {
        "id": "lgqxc99Jmcx6"
      },
      "source": [
        "z.lstrip()"
      ],
      "execution_count": null,
      "outputs": []
    },
    {
      "cell_type": "code",
      "metadata": {
        "id": "6_5CPzFImcx6"
      },
      "source": [
        "z.rstrip()"
      ],
      "execution_count": null,
      "outputs": []
    },
    {
      "cell_type": "code",
      "metadata": {
        "id": "xj9FBW4Umcx6"
      },
      "source": [
        "z.strip()"
      ],
      "execution_count": null,
      "outputs": []
    },
    {
      "cell_type": "code",
      "metadata": {
        "id": "QsyPCA25mcx6"
      },
      "source": [
        "zz ='a'"
      ],
      "execution_count": null,
      "outputs": []
    },
    {
      "cell_type": "code",
      "metadata": {
        "id": "5rXNan_Fmcx7"
      },
      "source": [
        "zz.isnumeric()"
      ],
      "execution_count": null,
      "outputs": []
    },
    {
      "cell_type": "markdown",
      "metadata": {
        "id": "u_BcfEVZmcx7"
      },
      "source": [
        "* Note that all of these strip functions are not making any changes in z.\n"
      ]
    },
    {
      "cell_type": "code",
      "metadata": {
        "id": "Vlb30NE_mcx7"
      },
      "source": [
        "print(z)\n",
        "z=z.replace(\"B\",\"$#@\")\n",
        "z"
      ],
      "execution_count": null,
      "outputs": []
    },
    {
      "cell_type": "code",
      "metadata": {
        "id": "rKtLTb_imcx8"
      },
      "source": [
        "print(z)\n",
        "z=z.strip()\n",
        "z"
      ],
      "execution_count": null,
      "outputs": []
    },
    {
      "cell_type": "code",
      "metadata": {
        "id": "QmfW1DrImcx8"
      },
      "source": [
        "ab = 'ipl match 1'\n",
        "lst = ab.split(' ')\n",
        "print(lst)\n",
        "tup = tuple(lst)\n",
        "tup"
      ],
      "execution_count": null,
      "outputs": []
    },
    {
      "cell_type": "code",
      "metadata": {
        "id": "ef-WSlOsmcx8"
      },
      "source": [
        "z = 'Bombay to Banglore'\n",
        "z"
      ],
      "execution_count": null,
      "outputs": []
    },
    {
      "cell_type": "code",
      "metadata": {
        "id": "ouq6RGaAmcx8"
      },
      "source": [
        "print(z)\n",
        "k=z.split(\"a\")\n",
        "print(k)\n",
        "print(type(k))"
      ],
      "execution_count": null,
      "outputs": []
    },
    {
      "cell_type": "markdown",
      "metadata": {
        "id": "ht_Ktl3xmcx9"
      },
      "source": [
        "function split, splits a string at given separator . Result of this is a list [ which we will learn about in some time]"
      ]
    },
    {
      "cell_type": "code",
      "metadata": {
        "id": "Oov--vR2mcx9"
      },
      "source": [
        "# v, e, r , z , e ,o \n",
        "# 0 ,1, 2, 3, 4, 5  \n",
        "# -6,-5,-4,-3,-2,-1 #-1"
      ],
      "execution_count": null,
      "outputs": []
    },
    {
      "cell_type": "markdown",
      "metadata": {
        "id": "MZvtpyEkmcx9"
      },
      "source": [
        "## Subsetting a string with indices\n",
        "\n",
        "For extracting a part of the string, we don’t need a special function. We can simple indexing using square brackets “[]”. While using this indexing , we need to keep few things in mind\n",
        "\n",
        "* counting starts with 0. first character gets counted as zero\n",
        "* [a:b] , means starting at ath position and extracting until (b-1)th position \n",
        "* [a:] , means starting at ath position till end\n",
        "* [:a], means starting at the beginning until (a-1)th position\n",
        "\n",
        "negative sign with indices mean counting from right instead of natural left.\n",
        "\n",
        "* [:-a], means starting at the beginning and going up til ath position from end. counting from end also starts with 1.\n",
        "* [-a:], means starting at (a+1)th character from the end and going up till last character.\n",
        "* [a:-b], means starting at ath character at the beginning and going till bth position from end\n",
        "* [-a:-b], means starting at (a+1)th character from the end and going up till bth position from end\n",
        "\n",
        "Lets see these in action"
      ]
    },
    {
      "cell_type": "code",
      "metadata": {
        "id": "vXWOS1YNmcx-"
      },
      "source": [
        "z = 'verzeo'\n",
        "print(z)\n",
        "z[2:5]"
      ],
      "execution_count": null,
      "outputs": []
    },
    {
      "cell_type": "code",
      "metadata": {
        "id": "GvHexpIpmcx-"
      },
      "source": [
        "print(z)\n",
        "z[3:]"
      ],
      "execution_count": null,
      "outputs": []
    },
    {
      "cell_type": "code",
      "metadata": {
        "id": "xSOB_MC0mcx_"
      },
      "source": [
        "print(z)\n",
        "z[:3]"
      ],
      "execution_count": null,
      "outputs": []
    },
    {
      "cell_type": "code",
      "metadata": {
        "id": "VM8ogihRmcx_"
      },
      "source": [
        "print(z)\n",
        "z[-3:]"
      ],
      "execution_count": null,
      "outputs": []
    },
    {
      "cell_type": "code",
      "metadata": {
        "id": "zzWPxLHGmcyA"
      },
      "source": [
        "print(z)\n",
        "# verzeo\n",
        "# 012345\n",
        "# -6,-5,-4,-3,-2,-1\n",
        "# z[0:4:-1]\n",
        "# print(z[0:4])\n",
        "# print(z[-5:-1])\n",
        "z[-1:-5:-1]"
      ],
      "execution_count": null,
      "outputs": []
    },
    {
      "cell_type": "code",
      "metadata": {
        "id": "PAo24U17mcyA"
      },
      "source": [
        "print(z)\n",
        "z[-1:-5:-1]"
      ],
      "execution_count": null,
      "outputs": []
    },
    {
      "cell_type": "code",
      "metadata": {
        "id": "xYxQt77EmcyA"
      },
      "source": [
        "print(z)\n",
        "z[0:5:2]"
      ],
      "execution_count": null,
      "outputs": []
    },
    {
      "cell_type": "code",
      "metadata": {
        "id": "jdtMrY55mcyB"
      },
      "source": [
        "print(z)\n",
        "z[::-1]"
      ],
      "execution_count": null,
      "outputs": []
    },
    {
      "cell_type": "markdown",
      "metadata": {
        "id": "jufTuV_jmcyB"
      },
      "source": [
        "Other useful functions that we will explore for string operations : count , find & split.\n",
        "\n",
        "\n",
        "functions that i want you to explore on your own further are family of function for checking whether a particular piece of string belongs to a certain type or not. Here are those functions :\n",
        "\n",
        "```\n",
        "Ex: Find out what following functions do : isalnum,isalpha,isdigit,islower,isupper. \n",
        "```"
      ]
    },
    {
      "cell_type": "code",
      "metadata": {
        "id": "EfutvoQKmcyC"
      },
      "source": [
        "z = 'Verzeo'\n",
        "z.islower()"
      ],
      "execution_count": null,
      "outputs": []
    },
    {
      "cell_type": "code",
      "metadata": {
        "id": "ZT74xZjxmcyC"
      },
      "source": [
        "print(z)\n",
        "z.count(\"e\")"
      ],
      "execution_count": null,
      "outputs": []
    },
    {
      "cell_type": "markdown",
      "metadata": {
        "id": "BGzRZ3hfmcyC"
      },
      "source": [
        "Did you notice that the count function is case sensitive. \"b\" is not considered. \n",
        "\n",
        "```\n",
        "Ex : Is there an option within function count using which we can make the count case insensitive.\n",
        "\n",
        "```"
      ]
    },
    {
      "cell_type": "markdown",
      "metadata": {
        "id": "ISXzt1BFmcyC"
      },
      "source": [
        "function find gives location of first occurence of the pattern in the string. you can change the part of the string being searched using options \"beg\" and \"end\" [ exploring those options has been left to you]."
      ]
    },
    {
      "cell_type": "code",
      "metadata": {
        "id": "gEraCghxmcyD"
      },
      "source": [
        "z = \"Bombay to Banglore\"\n",
        "print(z)\n",
        "z.find(\"b\") # index()"
      ],
      "execution_count": null,
      "outputs": []
    },
    {
      "cell_type": "markdown",
      "metadata": {
        "id": "ylwQeHawmcyD"
      },
      "source": [
        "```\n",
        "Ex : find out how can we change search range for function find\n",
        "\n",
        "```"
      ]
    },
    {
      "cell_type": "markdown",
      "metadata": {
        "id": "QxJVIPx9mcyD"
      },
      "source": [
        "### Writing Conditions\n",
        "\n",
        "comparison between two variables or condition can be written using multiple operators as listed below :\n",
        "\n",
        "* checking equality : \"==\"\n",
        "* in-equality : \"!=\"\n",
        "* greater than : \">\"\n",
        "* less than : \"<\"\n",
        "* greater than or equal to : \">=\"\n",
        "* less than or equal to : \"<=\"\n",
        "\n",
        "we'll also see some string related special condition check and how to write them in the examples given below"
      ]
    },
    {
      "cell_type": "code",
      "metadata": {
        "id": "Hoz8PrwsmcyE"
      },
      "source": [
        "x=34\n",
        "y=32\n",
        "\n",
        "x==y"
      ],
      "execution_count": null,
      "outputs": []
    },
    {
      "cell_type": "code",
      "metadata": {
        "id": "C5EKe2WomcyE"
      },
      "source": [
        "x!=y"
      ],
      "execution_count": null,
      "outputs": []
    },
    {
      "cell_type": "code",
      "metadata": {
        "id": "6OSaIGZmmcyE"
      },
      "source": [
        "x>y"
      ],
      "execution_count": null,
      "outputs": []
    },
    {
      "cell_type": "code",
      "metadata": {
        "id": "rXdIvEsemcyF"
      },
      "source": [
        "x<y"
      ],
      "execution_count": null,
      "outputs": []
    },
    {
      "cell_type": "code",
      "metadata": {
        "id": "pXXajwZdmcyF"
      },
      "source": [
        "x>=y"
      ],
      "execution_count": null,
      "outputs": []
    },
    {
      "cell_type": "code",
      "metadata": {
        "id": "bAnvGhYemcyF"
      },
      "source": [
        "x<=y"
      ],
      "execution_count": null,
      "outputs": []
    },
    {
      "cell_type": "code",
      "metadata": {
        "id": "56HSKuIjmcyF"
      },
      "source": [
        "x=\"as\"\n",
        "y=\"assignment\"\n",
        "\n",
        "x in y"
      ],
      "execution_count": null,
      "outputs": []
    },
    {
      "cell_type": "code",
      "metadata": {
        "id": "KpiVHKGymcyG"
      },
      "source": [
        "x not in y"
      ],
      "execution_count": null,
      "outputs": []
    },
    {
      "cell_type": "markdown",
      "metadata": {
        "id": "7kABwR2ImcyG"
      },
      "source": [
        "### Lists\n",
        "Lists are one of the higher data types which is used in python a lot . This is our first encounter with data structures which can hold more than one value. lets see how to create a list with multiple values."
      ]
    },
    {
      "cell_type": "code",
      "metadata": {
        "id": "d1JQNBYFmcyG"
      },
      "source": [
        "x = [1,2,3,70,-10,0,99,\"a\",\"b\",\"c\"]\n",
        "x"
      ],
      "execution_count": null,
      "outputs": []
    },
    {
      "cell_type": "markdown",
      "metadata": {
        "id": "kyJcW3i8mcyH"
      },
      "source": [
        "selection and slicing works pretty much like strings we saw earlier here also counting starts from 0. Lets look at few examples for the same.\n"
      ]
    },
    {
      "cell_type": "code",
      "metadata": {
        "id": "1VeB4XPimcyH"
      },
      "source": [
        "print(x)\n",
        "x[3:7]"
      ],
      "execution_count": null,
      "outputs": []
    },
    {
      "cell_type": "code",
      "metadata": {
        "id": "PHlsidFKmcyH"
      },
      "source": [
        "print(x)\n",
        "x[3:]"
      ],
      "execution_count": null,
      "outputs": []
    },
    {
      "cell_type": "code",
      "metadata": {
        "id": "R-DroXsomcyH"
      },
      "source": [
        "print(x)\n",
        "x[:3]"
      ],
      "execution_count": null,
      "outputs": []
    },
    {
      "cell_type": "code",
      "metadata": {
        "id": "9L1tihRCmcyI"
      },
      "source": [
        "print(x)\n",
        "x[3:-3]"
      ],
      "execution_count": null,
      "outputs": []
    },
    {
      "cell_type": "code",
      "metadata": {
        "id": "j5xh9ZzPmcyI"
      },
      "source": [
        "print(x)\n",
        "x[3::3] # third argument here is step"
      ],
      "execution_count": null,
      "outputs": []
    },
    {
      "cell_type": "code",
      "metadata": {
        "id": "vArBluz6mcyJ"
      },
      "source": [
        "print(x)\n",
        "x[::2]"
      ],
      "execution_count": null,
      "outputs": []
    },
    {
      "cell_type": "markdown",
      "metadata": {
        "id": "4PLGZybBmcyJ"
      },
      "source": [
        "while accessing the elements with position , we can do replacement/substitution of the values too. Here is how:"
      ]
    },
    {
      "cell_type": "code",
      "metadata": {
        "id": "QZf-gJ7JmcyJ"
      },
      "source": [
        "print(x)\n",
        "\n",
        "x[2]"
      ],
      "execution_count": null,
      "outputs": []
    },
    {
      "cell_type": "code",
      "metadata": {
        "id": "Tmq-23WzmcyK"
      },
      "source": [
        "x[2]=\"!!!\"\n",
        "x"
      ],
      "execution_count": null,
      "outputs": []
    },
    {
      "cell_type": "markdown",
      "metadata": {
        "id": "U1YJBSysmcyK"
      },
      "source": [
        "In case multiple assignment, value is then treated as a list with each char as individual element"
      ]
    },
    {
      "cell_type": "code",
      "metadata": {
        "id": "ftGaqOkSmcyK"
      },
      "source": [
        "print(x)\n",
        "x[2:4]= \"bipin\"\n",
        "print(x)"
      ],
      "execution_count": null,
      "outputs": []
    },
    {
      "cell_type": "markdown",
      "metadata": {
        "id": "CxIYciHumcyK"
      },
      "source": [
        "For a string to be treated as a single word instead of a char list you need to wrap it in a list as shown below"
      ]
    },
    {
      "cell_type": "code",
      "metadata": {
        "id": "J6wTnzKamcyL"
      },
      "source": [
        "x=[23,45,67,2,5]\n",
        "\n",
        "x[2:4]"
      ],
      "execution_count": null,
      "outputs": []
    },
    {
      "cell_type": "code",
      "metadata": {
        "id": "ZxkESYLxmcyL"
      },
      "source": [
        "print(x)\n",
        "x[2:4]=[\"bipin\"]\n",
        "print(x)"
      ],
      "execution_count": null,
      "outputs": []
    },
    {
      "cell_type": "markdown",
      "metadata": {
        "id": "bPiavofOmcyL"
      },
      "source": [
        "here is another way of adding newer elemnets simply at the end of the list:\n"
      ]
    },
    {
      "cell_type": "code",
      "metadata": {
        "id": "nywo9rqWmcyM"
      },
      "source": [
        "print(x)\n",
        "x.append(\"new\")\n",
        "print(x)"
      ],
      "execution_count": null,
      "outputs": []
    },
    {
      "cell_type": "markdown",
      "metadata": {
        "id": "eDZZl3vhmcyM"
      },
      "source": [
        "if you append a list to a list , entire list gets added to the end as a single element. "
      ]
    },
    {
      "cell_type": "code",
      "metadata": {
        "id": "hXlpsjCxmcyM"
      },
      "source": [
        "print(x)\n",
        "x.append([1,2,3])\n",
        "print(x)"
      ],
      "execution_count": null,
      "outputs": []
    },
    {
      "cell_type": "code",
      "metadata": {
        "id": "ZQaP1nkemcyM"
      },
      "source": [
        "x[6]"
      ],
      "execution_count": null,
      "outputs": []
    },
    {
      "cell_type": "markdown",
      "metadata": {
        "id": "ZVDZtPZNmcyN"
      },
      "source": [
        "However if you use extend instead , member of list are added at the end as individual elements separately"
      ]
    },
    {
      "cell_type": "code",
      "metadata": {
        "id": "zwNUDuScmcyN"
      },
      "source": [
        "print(x)\n",
        "x.extend([1,2,3])\n",
        "print(x)"
      ],
      "execution_count": null,
      "outputs": []
    },
    {
      "cell_type": "markdown",
      "metadata": {
        "id": "V1AruritmcyN"
      },
      "source": [
        "Using insert you can add new element at any position of the list. Note that its not replacing the element at that position. Insertion increases size of the list."
      ]
    },
    {
      "cell_type": "code",
      "metadata": {
        "id": "-9C_k14mmcyO"
      },
      "source": [
        "print(x)\n",
        "x.insert(2,\"another\")\n",
        "print(x)"
      ],
      "execution_count": null,
      "outputs": []
    },
    {
      "cell_type": "markdown",
      "metadata": {
        "id": "aVJOxgGgmcyO"
      },
      "source": [
        "another way to extend [ without using the function extend ] is to simply use symbol \"+\""
      ]
    },
    {
      "cell_type": "code",
      "metadata": {
        "id": "ZsBfhsTSmcyO"
      },
      "source": [
        "print(x)\n",
        "x=x+[3,4,5]\n",
        "print(x)"
      ],
      "execution_count": null,
      "outputs": []
    },
    {
      "cell_type": "markdown",
      "metadata": {
        "id": "h5PhEpD5mcyP"
      },
      "source": [
        "For removing elements we will first look at function pop. One sepcial thing to notice about pop is that it removes the last element in place [does change x]. Lets look at it in action"
      ]
    },
    {
      "cell_type": "code",
      "metadata": {
        "id": "k6KeIcI3mcyP"
      },
      "source": [
        "print(x)\n",
        "x.pop()\n",
        "\n",
        "print(x)"
      ],
      "execution_count": null,
      "outputs": []
    },
    {
      "cell_type": "markdown",
      "metadata": {
        "id": "Xt6mD_9RmcyP"
      },
      "source": [
        "you can pass the position as argument to pop, to remove values from a sepcific position."
      ]
    },
    {
      "cell_type": "code",
      "metadata": {
        "id": "IuemJIVnmcyP"
      },
      "source": [
        "print(x)\n",
        "x.pop(8)\n",
        "print(x)"
      ],
      "execution_count": null,
      "outputs": []
    },
    {
      "cell_type": "markdown",
      "metadata": {
        "id": "hOC3FeYImcyQ"
      },
      "source": [
        "For removing by specifying the value , you need to use function remove. Here is an example:"
      ]
    },
    {
      "cell_type": "code",
      "metadata": {
        "id": "2W5d8TiqmcyQ"
      },
      "source": [
        "print(x)\n",
        "x.remove(\"another\")\n",
        "print(x)"
      ],
      "execution_count": null,
      "outputs": []
    },
    {
      "cell_type": "markdown",
      "metadata": {
        "id": "eOJb6w6KmcyQ"
      },
      "source": [
        "If you try to remove something which is not in the list , you'll get an error. Since we already removed \"another\" from the list. Lets try to remove it again. we'll get an error"
      ]
    },
    {
      "cell_type": "code",
      "metadata": {
        "id": "vkTI2vNwmcyR"
      },
      "source": [
        "x.remove(\"another\")"
      ],
      "execution_count": null,
      "outputs": []
    },
    {
      "cell_type": "markdown",
      "metadata": {
        "id": "WSYuOmjrmcyR"
      },
      "source": [
        "```\n",
        "Ex: what if there are multiple occurences of the value which you are trying to remove. Is there a way to remove multiple values at once or a value at a specific position?\n",
        "```"
      ]
    },
    {
      "cell_type": "markdown",
      "metadata": {
        "id": "VvuKIncmmcyR"
      },
      "source": [
        "next we look at sorting the list. sorting and resversing functions that we see, they do so in place."
      ]
    },
    {
      "cell_type": "markdown",
      "metadata": {
        "id": "k5PswOkxmcyS"
      },
      "source": [
        "You just saw a wierd way of creating that list, we'll understand how that was done, but before that we'll learn how to write for loops next."
      ]
    },
    {
      "cell_type": "code",
      "metadata": {
        "id": "JPWf_ktGmcyS"
      },
      "source": [
        "#Two Dimensional Lists, below are list of lists where each have a individual list inside it\n",
        "number_sets = [[2, 4, 6, 8,[1,2,[1,2,3,4]], 10], [3, 6, 9, 12, 15], [4, 8, 12, 16, 20]]\n",
        "print(number_sets[1])"
      ],
      "execution_count": null,
      "outputs": []
    },
    {
      "cell_type": "markdown",
      "metadata": {
        "id": "cIOOTnVpmcyS"
      },
      "source": [
        "The second list of numbers will print out. In order to access those lower elements, you need to use a second set of square brackets. In the first set of square brackets, specifies the top level element that you want to access.\n",
        "\n",
        "In the example below, that is the first list. Then, in the second set of brackets, specifies the element within that initial top level element that you want. In that same example, it's the second element, or the number \"4.\""
      ]
    },
    {
      "cell_type": "code",
      "metadata": {
        "id": "vYw6n9akmcyT"
      },
      "source": [
        "number_sets = [[2, 4, 6, 8, 10], [3, 6, 9, 12, 15], [4, 8, 12, 16, 20]]\n",
        "print(number_sets[1][2])"
      ],
      "execution_count": null,
      "outputs": []
    },
    {
      "cell_type": "code",
      "metadata": {
        "id": "Qwq0s1HmmcyT"
      },
      "source": [
        "a = [[2, 4, 6, 8, 10], [3, 6, 9, 12, 15], [4, 8, 12, 16, 20]] \n",
        "a[0].extend([12, 14, 16, 18]) \n",
        "print(a) "
      ],
      "execution_count": null,
      "outputs": []
    },
    {
      "cell_type": "code",
      "metadata": {
        "id": "LDs2wr-1mcyT"
      },
      "source": [
        "# Reversing a sublist  \n",
        "  \n",
        "a = [[2, 4, 6, 8, 10], [3, 6, 9, 12, 15], [4, 8, 12, 16, 20]] \n",
        "a[2].reverse() \n",
        "print(a) "
      ],
      "execution_count": null,
      "outputs": []
    },
    {
      "cell_type": "code",
      "metadata": {
        "id": "MG0UQAJVmcyT"
      },
      "source": [
        "range(10)"
      ],
      "execution_count": null,
      "outputs": []
    },
    {
      "cell_type": "code",
      "metadata": {
        "id": "2hSTTr56mcyU"
      },
      "source": [
        "\n",
        "list(range(10))"
      ],
      "execution_count": null,
      "outputs": []
    },
    {
      "cell_type": "code",
      "metadata": {
        "id": "4E1u5uIBmcyU"
      },
      "source": [
        "# for (i=0;i<n;i++)\n",
        "# {\n",
        "#     statements\n",
        "# }\n",
        "\n",
        "for i in range(10):\n",
        "    print((i-5)**2)\n",
        "# print(\"inside\")\n",
        "print('outside loop')"
      ],
      "execution_count": null,
      "outputs": []
    },
    {
      "cell_type": "code",
      "metadata": {
        "id": "FFLx9wuRmcyU"
      },
      "source": [
        "x=[ (i-5)**2 for i in range(10) ]\n",
        "print(x)\n",
        "x.sort() # sorts in place\n",
        "print(x)\n",
        "x.reverse() # reverses in place\n",
        "print(x)"
      ],
      "execution_count": null,
      "outputs": []
    },
    {
      "cell_type": "markdown",
      "metadata": {
        "id": "H_2NCvHgmcyV"
      },
      "source": [
        "### For Loops\n",
        "\n",
        "For loops are a way to bring down amount of code that you need to write to do an operation which is very repeating in nature. for example consider this list:"
      ]
    },
    {
      "cell_type": "code",
      "metadata": {
        "id": "9PnndbzhmcyV"
      },
      "source": [
        "cities = [\"delhi\",\"Banglore\",\"mumbai\",\"pune\"]"
      ],
      "execution_count": null,
      "outputs": []
    },
    {
      "cell_type": "markdown",
      "metadata": {
        "id": "BLbOnoUJmcyV"
      },
      "source": [
        "Now lets say we had to print number of letters in each member of the list. we could do something as given below:"
      ]
    },
    {
      "cell_type": "code",
      "metadata": {
        "id": "A4Tpd2QZmcyW"
      },
      "source": [
        "print(len(cities[0]))\n",
        "print(len(cities[1]))\n",
        "print(len(cities[2]))\n",
        "print(len(cities[3]))"
      ],
      "execution_count": null,
      "outputs": []
    },
    {
      "cell_type": "markdown",
      "metadata": {
        "id": "HBUBVT0WmcyW"
      },
      "source": [
        "Imagine that list now having 100s of cities , would you still be writing that code the same way? There must be a better way , and there certainly is , its called for loop. Lets see how its written:"
      ]
    },
    {
      "cell_type": "code",
      "metadata": {
        "id": "SCfaxtFhmcyW"
      },
      "source": [
        "for i in list(range(4)):\n",
        "    print(len(cities[i]))"
      ],
      "execution_count": null,
      "outputs": []
    },
    {
      "cell_type": "markdown",
      "metadata": {
        "id": "zKwSA9e2mcyW"
      },
      "source": [
        "Couple of things to discuss here .\n",
        "\n",
        "i here is iterator which takes value from the value list [ which is [0,1,2,3] here . For each value which iterator takes, statements inside the for loop are executed.\n",
        "\n",
        "But how do we know what is \"inside\" the for loop? there are no parenthesis to contain the for loop. \n",
        "\n",
        "Notice the indent, that is what defines boundaries in python. You'll get error and your code will not run , if you do not use indentation properly. I like this property of python, it kind of forces you to write code which is easy to read. Which is a very importent but often overlooked property of program. Couple of more points :\n",
        "\n",
        "* iterator doesnt have to be named \"i\" , it can be anything.\n",
        "* Value list doesnt have to be a list of coninuous number sequence, It can be a number list [numbers in any order], character list or something else too\n",
        "* iterator value need not be used inside the loop\n",
        "\n",
        "lets look at another way of writing that for loop that we just saw:"
      ]
    },
    {
      "cell_type": "code",
      "metadata": {
        "id": "o8JY3ogDmcyX"
      },
      "source": [
        "cities"
      ],
      "execution_count": null,
      "outputs": []
    },
    {
      "cell_type": "code",
      "metadata": {
        "id": "JNgQN0YHmcyX"
      },
      "source": [
        "for city in cities:\n",
        "    print(len(city),end=' ')"
      ],
      "execution_count": null,
      "outputs": []
    },
    {
      "cell_type": "markdown",
      "metadata": {
        "id": "pml9hYHNmcyX"
      },
      "source": [
        "*Note: print used to work without parenthesis in previous versions of python. You might find many examples online like that.*"
      ]
    },
    {
      "cell_type": "markdown",
      "metadata": {
        "id": "-PKDaNvRmcyY"
      },
      "source": [
        "### List Comprehensions with For Loops\n",
        "We'll now see how for loops can be directly written inside for loops to modify and create lists."
      ]
    },
    {
      "cell_type": "code",
      "metadata": {
        "id": "-CUgEu9UmcyY"
      },
      "source": [
        "x=range(8)"
      ],
      "execution_count": null,
      "outputs": []
    },
    {
      "cell_type": "markdown",
      "metadata": {
        "id": "Px9_IciJmcyY"
      },
      "source": [
        "range(k) creates a list which starts at 0 and contains numbers uptill (k-1) with increment of one from 0. In the example below we have created a simple list containing values 1,2,3,4,5,6,7. From this we want to exract remainder for each value of x when that gets divided by 2.\n",
        "\n",
        "operator `%` calculates remainder. a%2 will caclulate remiander when a is dvivided by 2."
      ]
    },
    {
      "cell_type": "code",
      "metadata": {
        "id": "ZJXqRaDKmcyZ"
      },
      "source": [
        "100%32"
      ],
      "execution_count": null,
      "outputs": []
    },
    {
      "cell_type": "code",
      "metadata": {
        "id": "6Pds7BxkmcyZ"
      },
      "source": [
        "x=range(8)\n",
        "print(x)\n",
        "x_mod_2=[]\n",
        "\n",
        "for a in x:\n",
        "    x_mod_2.append(a%2)\n",
        "\n",
        "x_mod_2"
      ],
      "execution_count": null,
      "outputs": []
    },
    {
      "cell_type": "markdown",
      "metadata": {
        "id": "dAynh47_mcyZ"
      },
      "source": [
        "we dont need to do this, instead we can directly write a for loop inside an empty list to populate values . Lets see how:"
      ]
    },
    {
      "cell_type": "code",
      "metadata": {
        "id": "EeNACoP0mcya"
      },
      "source": [
        "# x_mod_2=[]\n",
        "x_mod_2=[a%2 for a in x]\n",
        "x_mod_2"
      ],
      "execution_count": null,
      "outputs": []
    },
    {
      "cell_type": "markdown",
      "metadata": {
        "id": "wSFZNUijmcya"
      },
      "source": [
        "We can write list comprehension with conditions also , here is an example:"
      ]
    },
    {
      "cell_type": "code",
      "metadata": {
        "id": "cm-aFMt-mcya"
      },
      "source": [
        "print(x)"
      ],
      "execution_count": null,
      "outputs": []
    },
    {
      "cell_type": "code",
      "metadata": {
        "id": "LgGzHiP8mcya"
      },
      "source": [
        "import math\n",
        "x_ls2=[math.log(a) for a in x if a%2 !=0]\n",
        "print(x_ls2)"
      ],
      "execution_count": null,
      "outputs": []
    },
    {
      "cell_type": "markdown",
      "metadata": {
        "id": "Hs1VbAeAmcyb"
      },
      "source": [
        "### Writing your own functions in python\n",
        "\n",
        "writing functions in python starts with the keyword \"def\", then the name follows with the required arguments in the the parenthesis. Then after the colon, your function definition starts. Here also you need to be careful about the indentation which defines the function boundary.\n",
        "Once the calculations are done inside the function, you need to output the result using return. Although its not mandatory that a function should always return something. Here is an example:"
      ]
    },
    {
      "cell_type": "code",
      "metadata": {
        "id": "cVgPyPFmmcyb"
      },
      "source": [
        "x"
      ],
      "execution_count": null,
      "outputs": []
    },
    {
      "cell_type": "code",
      "metadata": {
        "id": "QJOeVm58mcyc"
      },
      "source": [
        "# writing a function in python\n",
        "\n",
        "def my_func(x):\n",
        "    \n",
        "    if x%2!=0:\n",
        "        return(math.log(x))\n",
        "    else:\n",
        "        return(x)\n",
        "\n",
        "x_ls3=[my_func(a) for a in x]\n",
        "x_ls3"
      ],
      "execution_count": null,
      "outputs": []
    },
    {
      "cell_type": "markdown",
      "metadata": {
        "id": "DXtDvUawmcyc"
      },
      "source": [
        "Notice that any code block [the one inside the function as well] is defined by indents. Level of indent increases when another block is inside some other block as seen here.We'll see many more examples of functions as we move forward in the course. \n",
        "\n",
        "you can provide default values to argument as well, so that when those values are not supplied fucntion can work with default values."
      ]
    },
    {
      "cell_type": "code",
      "metadata": {
        "id": "mgw-iWM3mcyc"
      },
      "source": [
        "def mysum(x=10,y=10):\n",
        "    return(2*x+3*y)\n",
        "\n",
        "print(mysum(2,3))  # 13\n",
        "print(mysum(2))  # 34\n",
        "print(mysum()) # 50"
      ],
      "execution_count": null,
      "outputs": []
    },
    {
      "cell_type": "code",
      "metadata": {
        "id": "ZCCogjQomcyd"
      },
      "source": [
        "mysum(4) "
      ],
      "execution_count": null,
      "outputs": []
    },
    {
      "cell_type": "markdown",
      "metadata": {
        "id": "LzDkugnDmcyd"
      },
      "source": [
        "Here you notice that python figures out which argument values belongs to which input variable by its position. You can also use argument names , which then in turn is useful when there are many arguments to pass and using position as indicator is not feasible. Also; when you name your argument, its position in the input is irrelevant."
      ]
    },
    {
      "cell_type": "code",
      "metadata": {
        "id": "FU0joKkmmcyd"
      },
      "source": [
        "print(mysum(y=-10))\n",
        "print(mysum(y=100,x=1))"
      ],
      "execution_count": null,
      "outputs": []
    },
    {
      "cell_type": "markdown",
      "metadata": {
        "id": "7iWm6rbdmcye"
      },
      "source": [
        "Next we look at some more data structres which can contain multiple values and hold slightly different properties. "
      ]
    },
    {
      "cell_type": "markdown",
      "metadata": {
        "id": "KrMfXjVEmcye"
      },
      "source": [
        "<h2>Python Anonymous/Lambda Function</h2>"
      ]
    },
    {
      "cell_type": "markdown",
      "metadata": {
        "id": "sEDySALQmcye"
      },
      "source": [
        "In Python, anonymous function is a function that is defined without a name.\n",
        "\n",
        "While normal functions are defined using the def keyword, in Python anonymous functions are defined using the lambda keyword.\n",
        "\n",
        "Hence, anonymous functions are also called lambda functions."
      ]
    },
    {
      "cell_type": "code",
      "metadata": {
        "id": "kHxonTLjmcye"
      },
      "source": [
        "# Python code to illustrate cube of a number \n",
        "# showing difference between def() and lambda(). \n",
        "def cube(y): \n",
        "    return y*y*y\n",
        "\n",
        "z = lambda a : a*a*a \n",
        "print(z(7)) \n",
        "\n",
        "print(cube(5)) \n",
        "print(lambda a: a*a*a)\n",
        "x_ls4=[z(a) for a in x]\n",
        "x_ls4"
      ],
      "execution_count": null,
      "outputs": []
    },
    {
      "cell_type": "markdown",
      "metadata": {
        "id": "JGIN2BWDmcyf"
      },
      "source": [
        "### Dictionaries\n",
        "\n",
        "dictionaries is data structure where you can store the data with keys. There is no order to the elements, so you can access them with their position. Infact there is no concept of position as such with dictionaries. Lets see how to create a dictionary:"
      ]
    },
    {
      "cell_type": "code",
      "metadata": {
        "id": "a-tEjQvWmcyf"
      },
      "source": [
        "d= {\"actor\":\"nasir\",\"animal\":\"dog\",\"earth\":1,\"list\":[1,2,3]}"
      ],
      "execution_count": null,
      "outputs": []
    },
    {
      "cell_type": "markdown",
      "metadata": {
        "id": "8gZnx1njmcyf"
      },
      "source": [
        "Here \"a\":\"b\" is called a key:value pair , where a is key and b is value. Both of them can be any data type. [ however, lists can not be used as keys]. To access the values you need to pass key in square brackets. Below is an example using the dictionary that we created above. "
      ]
    },
    {
      "cell_type": "code",
      "metadata": {
        "id": "KCmlO2E7mcyg"
      },
      "source": [
        "d[\"animal\"]"
      ],
      "execution_count": null,
      "outputs": []
    },
    {
      "cell_type": "markdown",
      "metadata": {
        "id": "6093Ujw1mcyh"
      },
      "source": [
        "If the key doesnt exist, then it throws error."
      ]
    },
    {
      "cell_type": "code",
      "metadata": {
        "id": "Z0t_2IcNmcyi"
      },
      "source": [
        "d['fish']"
      ],
      "execution_count": null,
      "outputs": []
    },
    {
      "cell_type": "code",
      "metadata": {
        "id": "GYYk8qvwmcyi"
      },
      "source": [
        "d['animal'] = ['dog','cat']"
      ],
      "execution_count": null,
      "outputs": []
    },
    {
      "cell_type": "code",
      "metadata": {
        "id": "70L-Ofagmcyi"
      },
      "source": [
        "d"
      ],
      "execution_count": null,
      "outputs": []
    },
    {
      "cell_type": "code",
      "metadata": {
        "id": "bkw3CfEomcyi"
      },
      "source": [
        "# add new key value pair\n",
        "d['module']=\"intro\"\n",
        "print(d)"
      ],
      "execution_count": null,
      "outputs": []
    },
    {
      "cell_type": "code",
      "metadata": {
        "id": "HzWPyA-1mcyj"
      },
      "source": [
        "d['list']"
      ],
      "execution_count": null,
      "outputs": []
    },
    {
      "cell_type": "code",
      "metadata": {
        "id": "pbHGwNSYmcyj"
      },
      "source": [
        "# removing a key value pair\n",
        "del d['actor']\n",
        "print(d)"
      ],
      "execution_count": null,
      "outputs": []
    },
    {
      "cell_type": "code",
      "metadata": {
        "id": "Xtv69b6emcyj"
      },
      "source": [
        ""
      ],
      "execution_count": null,
      "outputs": []
    },
    {
      "cell_type": "code",
      "metadata": {
        "id": "mM-Bt2aGmcyk"
      },
      "source": [
        "# element access in loop\n",
        "for elem in d:\n",
        "    print(elem)\n",
        "    print('value for key:%s is' % (elem) ,\":\",d[elem])"
      ],
      "execution_count": null,
      "outputs": []
    },
    {
      "cell_type": "markdown",
      "metadata": {
        "id": "SqMs6iPBmcyl"
      },
      "source": [
        "You can see that when you write dictionary's name in the for loop like list , value which is passed to iterator is keys of the dictionary, one by one. If you are new to programming , %s in a string is used as placeholder for a string which will be replaced by some value later on in the code. For example in the code above %s is replaced by values of (elem).\n",
        "\n",
        "if you want to access both key and values , you can make use of *dict*.items(). Here is how:"
      ]
    },
    {
      "cell_type": "code",
      "metadata": {
        "id": "t7Ju_usBmcyl"
      },
      "source": [
        "d.items()"
      ],
      "execution_count": null,
      "outputs": []
    },
    {
      "cell_type": "code",
      "metadata": {
        "id": "RfNempi3mcyl"
      },
      "source": [
        "for a,b in d.items():\n",
        "    print('value for key:%s is %s' %(a,b))"
      ],
      "execution_count": null,
      "outputs": []
    },
    {
      "cell_type": "markdown",
      "metadata": {
        "id": "MB3ZILd2mcyl"
      },
      "source": [
        "Change or add elements in a dictionary"
      ]
    },
    {
      "cell_type": "markdown",
      "metadata": {
        "id": "NkR8oZ1Fmcym"
      },
      "source": [
        "Dictionary are mutable. We can add new items or change the value of existing items using assignment operator.\n",
        "\n",
        "If the key is already present, value gets updated, else a new key: value pair is added to the dictionary."
      ]
    },
    {
      "cell_type": "code",
      "metadata": {
        "id": "yQPzQ3gGmcym"
      },
      "source": [
        "my_dict = {'name':'Guhan', 'age': 24}\n",
        "\n",
        "# update value\n",
        "my_dict['age'] = 26\n",
        "\n",
        "#{'name': 'Guhan', 'age': 26}\n",
        "print(my_dict)\n",
        "\n",
        "# add item\n",
        "my_dict['address'] = 'CHennai'  \n",
        "\n",
        "#{'name': 'Guhan', 'age': 26, 'address': 'CHennai'}\n",
        "print(my_dict)"
      ],
      "execution_count": null,
      "outputs": []
    },
    {
      "cell_type": "markdown",
      "metadata": {
        "id": "_PILspJomcym"
      },
      "source": [
        "**Delete or remove elements from a dictionary**\n",
        "\n",
        "We can remove a particular item in a dictionary by using the method pop(). This method removes as item with the provided key and returns the value.\n",
        "\n",
        "The method, popitem() can be used to remove and return an arbitrary item (key, value) form the dictionary. All the items can be removed at once using the clear() method.\n",
        "\n",
        "We can also use the del keyword to remove individual items or the entire dictionary itself."
      ]
    },
    {
      "cell_type": "code",
      "metadata": {
        "id": "DDBD0pGxmcyn"
      },
      "source": [
        "# create a dictionary\n",
        "squares = {1:1, 2:4, 3:9, 4:16, 5:25}  \n",
        "\n",
        "# remove a particular item\n",
        "# Output: 16\n",
        "print(squares.pop(4))   \n",
        "\n",
        "# Output: {1: 1, 2: 4, 3: 9, 5: 25}\n",
        "print(squares)\n",
        "\n",
        "# delete a particular item\n",
        "del squares[5]  \n",
        "\n",
        "# Output: {1:1,2: 4, 3: 9}\n",
        "print(squares)\n",
        "\n",
        "# remove all items\n",
        "squares.clear()\n",
        "\n",
        "# Output: {}\n",
        "print(squares)\n",
        "\n",
        "# delete the dictionary itself\n",
        "del squares\n",
        "\n",
        "# Throws Error\n",
        "print(squares)"
      ],
      "execution_count": null,
      "outputs": []
    },
    {
      "cell_type": "markdown",
      "metadata": {
        "id": "2DIDhNONmcyo"
      },
      "source": [
        "### Sets\n",
        "\n",
        "Sets are another type of data structres which can contain multiple elements. This is also unordered like dictionaries , as in their is concept of a fixed position like lists. Also elements have to be unique in it. Lets see how to create a set."
      ]
    },
    {
      "cell_type": "code",
      "metadata": {
        "id": "spYWzdfhmcyo"
      },
      "source": [
        "animals = {'cat', 'dog'}"
      ],
      "execution_count": null,
      "outputs": []
    },
    {
      "cell_type": "markdown",
      "metadata": {
        "id": "av-2I3p8mcyo"
      },
      "source": [
        "You can use `in` operator to check whether an element is ther in set or not."
      ]
    },
    {
      "cell_type": "code",
      "metadata": {
        "id": "Xx2hb696mcyp",
        "outputId": "28d647f3-0c60-4584-e8d9-a3f12d32e425"
      },
      "source": [
        "'cat' in animals"
      ],
      "execution_count": null,
      "outputs": [
        {
          "output_type": "execute_result",
          "data": {
            "text/plain": [
              "True"
            ]
          },
          "metadata": {
            "tags": []
          },
          "execution_count": 2
        }
      ]
    },
    {
      "cell_type": "code",
      "metadata": {
        "id": "42Bz170amcyq",
        "outputId": "93c8bdd3-fe31-4f3a-8dfd-500a65707f77"
      },
      "source": [
        "'fish' in animals"
      ],
      "execution_count": null,
      "outputs": [
        {
          "output_type": "execute_result",
          "data": {
            "text/plain": [
              "False"
            ]
          },
          "metadata": {
            "tags": []
          },
          "execution_count": 3
        }
      ]
    },
    {
      "cell_type": "code",
      "metadata": {
        "id": "L-zIScMqmcyr",
        "outputId": "80d373d5-e870-4878-a64d-a64432f8f643"
      },
      "source": [
        "animals.add('fish')\n",
        "print(animals)"
      ],
      "execution_count": null,
      "outputs": [
        {
          "output_type": "stream",
          "text": [
            "{'dog', 'fish', 'cat'}\n"
          ],
          "name": "stdout"
        }
      ]
    },
    {
      "cell_type": "markdown",
      "metadata": {
        "id": "p8PFIGH8mcyr"
      },
      "source": [
        "You can use functions `add` and `remove` to add and remove elements to and from sets."
      ]
    },
    {
      "cell_type": "code",
      "metadata": {
        "id": "WrJNNto3mcys",
        "outputId": "f58c2301-19a7-47a9-ae01-e9bc84042cfe"
      },
      "source": [
        "animals.add('cat')   \n",
        "print(animals)"
      ],
      "execution_count": null,
      "outputs": [
        {
          "output_type": "stream",
          "text": [
            "{'dog', 'fish', 'cat'}\n"
          ],
          "name": "stdout"
        }
      ]
    },
    {
      "cell_type": "markdown",
      "metadata": {
        "id": "8AFFSqJUmcys"
      },
      "source": [
        "you can see that if the element already existed in set, its not repeated. Python doesnt throw an error either. However if element is not there in the set, it is added."
      ]
    },
    {
      "cell_type": "code",
      "metadata": {
        "id": "ttxH_jKZmcyt",
        "outputId": "e998a7ed-2a72-4564-9f14-4bd6d4408290"
      },
      "source": [
        "animals.add('cow')\n",
        "print(animals)"
      ],
      "execution_count": null,
      "outputs": [
        {
          "output_type": "stream",
          "text": [
            "{'dog', 'fish', 'cow', 'cat'}\n"
          ],
          "name": "stdout"
        }
      ]
    },
    {
      "cell_type": "code",
      "metadata": {
        "id": "57PjLqGfmcyt",
        "outputId": "f4cdf22e-ad9d-42be-b373-90a65c947bea"
      },
      "source": [
        "animals.remove('cat')\n",
        "print(animals)"
      ],
      "execution_count": null,
      "outputs": [
        {
          "output_type": "stream",
          "text": [
            "{'dog', 'fish', 'cow'}\n"
          ],
          "name": "stdout"
        }
      ]
    },
    {
      "cell_type": "markdown",
      "metadata": {
        "id": "hEUyF7cXmcyt"
      },
      "source": [
        "because of sets being unordered , you can not assume the order which you see while creating it; while using it in a for loop comprehension. See below:"
      ]
    },
    {
      "cell_type": "code",
      "metadata": {
        "id": "f-niK1NTmcyu",
        "outputId": "787ef8fe-cfe5-4ea1-f51c-90bab850448f"
      },
      "source": [
        "animals = {'cat', 'dog', 'fish','here','there'}\n",
        "for animal in animals:\n",
        "    print(animal)"
      ],
      "execution_count": null,
      "outputs": [
        {
          "output_type": "stream",
          "text": [
            "dog\n",
            "cat\n",
            "here\n",
            "there\n",
            "fish\n"
          ],
          "name": "stdout"
        }
      ]
    },
    {
      "cell_type": "markdown",
      "metadata": {
        "id": "NjGU9hyimcyu"
      },
      "source": [
        "We'll next explore following functions associated with sets : \n",
        "\n",
        "union, intersection, issubset, issuperset, differnce, symmetric_differnce"
      ]
    },
    {
      "cell_type": "code",
      "metadata": {
        "id": "7qYtjRWJmcyu"
      },
      "source": [
        "a={1,2,3,4,5,6,'one'}\n",
        "b={4,5,6,7,8,9}"
      ],
      "execution_count": null,
      "outputs": []
    },
    {
      "cell_type": "code",
      "metadata": {
        "id": "ZL2or8KTmcyv"
      },
      "source": [
        "c=a.union(b)\n",
        "c"
      ],
      "execution_count": null,
      "outputs": []
    },
    {
      "cell_type": "code",
      "metadata": {
        "id": "nBnYU3Vhmcyv"
      },
      "source": [
        "a.intersection(b)"
      ],
      "execution_count": null,
      "outputs": []
    },
    {
      "cell_type": "code",
      "metadata": {
        "id": "cuIcAG4zmcyv"
      },
      "source": [
        "a.issubset(b)"
      ],
      "execution_count": null,
      "outputs": []
    },
    {
      "cell_type": "code",
      "metadata": {
        "id": "3OG28i6cmcyw"
      },
      "source": [
        "a.issubset(c)"
      ],
      "execution_count": null,
      "outputs": []
    },
    {
      "cell_type": "code",
      "metadata": {
        "id": "JUlJPVc5mcyw"
      },
      "source": [
        "c.issuperset(b)"
      ],
      "execution_count": null,
      "outputs": []
    },
    {
      "cell_type": "markdown",
      "metadata": {
        "id": "8jI1ZkYJmcyw"
      },
      "source": [
        "Difference between function symmetric_difference and difference is as follows:\n",
        "\n",
        "* s.difference(t) :\tnew set with elements in s but not in t\n",
        "* s.symmetric_difference(t) :  new set with elements in either s or t but not both\n",
        "\n",
        "lets see with our own examples :\n"
      ]
    },
    {
      "cell_type": "code",
      "metadata": {
        "id": "qd9GUg1Smcyw"
      },
      "source": [
        "b1 = a \n",
        "b1.issubset(a)"
      ],
      "execution_count": null,
      "outputs": []
    },
    {
      "cell_type": "code",
      "metadata": {
        "id": "6qoVvmvPmcyx"
      },
      "source": [
        "print(a)\n",
        "print(b)\n",
        "a.difference(b)"
      ],
      "execution_count": null,
      "outputs": []
    },
    {
      "cell_type": "code",
      "metadata": {
        "id": "bcglH2UMmcyx"
      },
      "source": [
        "print(a)\n",
        "print(b)\n",
        "a.symmetric_difference(b)"
      ],
      "execution_count": null,
      "outputs": []
    },
    {
      "cell_type": "markdown",
      "metadata": {
        "id": "4YnuUVBKmcyx"
      },
      "source": [
        "### Tuples\n",
        "Tuples can be understood to be immutable lists. Immutable means , you can not change its elements. Lets see how to create tuples :"
      ]
    },
    {
      "cell_type": "code",
      "metadata": {
        "id": "jTFoSl60mcyy"
      },
      "source": [
        "t = 12345, 54321, 'hello!' \n",
        "t"
      ],
      "execution_count": null,
      "outputs": []
    },
    {
      "cell_type": "code",
      "metadata": {
        "id": "OBkEYAJpmcyy"
      },
      "source": [
        "t = ( 12345, 54321, 'hello!') # same thing\n",
        "t"
      ],
      "execution_count": null,
      "outputs": []
    },
    {
      "cell_type": "markdown",
      "metadata": {
        "id": "EPPUTEJ2mcyy"
      },
      "source": [
        "tuples can contain tuples themselves just like lists"
      ]
    },
    {
      "cell_type": "code",
      "metadata": {
        "id": "iSUPIol9mcyy"
      },
      "source": [
        "u = t, (1, 2, 3, 4, 5)\n",
        "u"
      ],
      "execution_count": null,
      "outputs": []
    },
    {
      "cell_type": "markdown",
      "metadata": {
        "id": "WGiUONORmcyz"
      },
      "source": [
        "Lets understand immuatability better with an example :"
      ]
    },
    {
      "cell_type": "code",
      "metadata": {
        "id": "yRLAv2MHmcyz"
      },
      "source": [
        "t"
      ],
      "execution_count": null,
      "outputs": []
    },
    {
      "cell_type": "code",
      "metadata": {
        "id": "H1AaIBnnmcyz"
      },
      "source": [
        "t[0] = 21 # you can not reassign"
      ],
      "execution_count": null,
      "outputs": []
    },
    {
      "cell_type": "markdown",
      "metadata": {
        "id": "NsOvuVEsmcyz"
      },
      "source": [
        "But tuples can have mutable objects such as lists. So that tuple's elements can not be changed , but it's mutable element's element can be changed. You'll see in the example below; when we try to change element of tuple, we get an error. But when we try to change element of a mutable element, it can be done."
      ]
    },
    {
      "cell_type": "code",
      "metadata": {
        "id": "s4BGQRyomcy0"
      },
      "source": [
        "v = ([1, 2, 3], [3, 2, 1])"
      ],
      "execution_count": null,
      "outputs": []
    },
    {
      "cell_type": "code",
      "metadata": {
        "id": "c1bKhkBemcy0"
      },
      "source": [
        "type(v)"
      ],
      "execution_count": null,
      "outputs": []
    },
    {
      "cell_type": "code",
      "metadata": {
        "id": "ZBqlEJRKmcy0"
      },
      "source": [
        "v[0]=1"
      ],
      "execution_count": null,
      "outputs": []
    },
    {
      "cell_type": "code",
      "metadata": {
        "id": "OyzJ7vcAmcy1"
      },
      "source": [
        "var = 13\n",
        "tup = (var,12,13)\n",
        "print(tup)\n",
        "var =14\n",
        "print(var)\n",
        "tup"
      ],
      "execution_count": null,
      "outputs": []
    },
    {
      "cell_type": "code",
      "metadata": {
        "id": "GzhLG89Umcy1"
      },
      "source": [
        "v"
      ],
      "execution_count": null,
      "outputs": []
    },
    {
      "cell_type": "code",
      "metadata": {
        "id": "7d2s_0yJmcy1"
      },
      "source": [
        "print(v)\n",
        "v[1][0]=21\n",
        "print(v)"
      ],
      "execution_count": null,
      "outputs": []
    },
    {
      "cell_type": "markdown",
      "metadata": {
        "id": "w55IIwBemcy1"
      },
      "source": [
        "one of the most important differences in tuples and lists is that tuples can be used as keys in dictionaries and as elements of sets, while lists cannot. Here is a trivial example:"
      ]
    },
    {
      "cell_type": "code",
      "metadata": {
        "id": "wjmOzlafmcy2"
      },
      "source": [
        "a = [a%2 for a in  range(10)]\n",
        "print(a)\n",
        "d1 = {x: x%2 for x in range(10)}  \n",
        "print(d1)"
      ],
      "execution_count": null,
      "outputs": []
    },
    {
      "cell_type": "code",
      "metadata": {
        "id": "aTIUQRDMmcy2"
      },
      "source": [
        "d2 = {(x, x + 1): x for x in range(10)}  \n",
        "# Create a dictionary with tuple keys\n",
        "print(d2)"
      ],
      "execution_count": null,
      "outputs": []
    },
    {
      "cell_type": "code",
      "metadata": {
        "id": "kOEV9cJPmcy2"
      },
      "source": [
        "d2"
      ],
      "execution_count": null,
      "outputs": []
    },
    {
      "cell_type": "code",
      "metadata": {
        "id": "6ZRa71lemcy3"
      },
      "source": [
        "t = (5, 6)   \n",
        "print(type(t))\n",
        "print(d2[t])"
      ],
      "execution_count": null,
      "outputs": []
    },
    {
      "cell_type": "code",
      "metadata": {
        "id": "bA8-YPCVmcy3"
      },
      "source": [
        ""
      ],
      "execution_count": null,
      "outputs": []
    },
    {
      "cell_type": "code",
      "metadata": {
        "id": "mZgslzxJmcy3"
      },
      "source": [
        ""
      ],
      "execution_count": null,
      "outputs": []
    }
  ]
}