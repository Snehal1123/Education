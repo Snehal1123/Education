{
  "nbformat": 4,
  "nbformat_minor": 0,
  "metadata": {
    "colab": {
      "name": "Copy of Day 6 python1.ipynb",
      "provenance": [],
      "collapsed_sections": [],
      "authorship_tag": "ABX9TyPRNrdnD+iMjhOArpCJthVm",
      "include_colab_link": true
    },
    "kernelspec": {
      "name": "python3",
      "display_name": "Python 3"
    },
    "language_info": {
      "name": "python"
    }
  },
  "cells": [
    {
      "cell_type": "markdown",
      "metadata": {
        "id": "view-in-github",
        "colab_type": "text"
      },
      "source": [
        "<a href=\"https://colab.research.google.com/github/Snehal1123/Education/blob/Branch1/Copy_of_python1.ipynb\" target=\"_parent\"><img src=\"https://colab.research.google.com/assets/colab-badge.svg\" alt=\"Open In Colab\"/></a>"
      ]
    },
    {
      "cell_type": "markdown",
      "metadata": {
        "id": "myghC0cra7Rl"
      },
      "source": [
        "Dictionaries"
      ]
    },
    {
      "cell_type": "code",
      "metadata": {
        "id": "5wQjNl9-bN5l"
      },
      "source": [
        "point = {\"x\" : 1,\n",
        "         \"y\": 2}"
      ],
      "execution_count": null,
      "outputs": []
    },
    {
      "cell_type": "code",
      "metadata": {
        "colab": {
          "base_uri": "https://localhost:8080/"
        },
        "id": "xE8M2XUydTnJ",
        "outputId": "6f1d88d2-f333-457c-e927-1b3c09a6ee24"
      },
      "source": [
        "point"
      ],
      "execution_count": null,
      "outputs": [
        {
          "output_type": "execute_result",
          "data": {
            "text/plain": [
              "{'x': 1, 'y': 2}"
            ]
          },
          "metadata": {
            "tags": []
          },
          "execution_count": 3
        }
      ]
    },
    {
      "cell_type": "code",
      "metadata": {
        "colab": {
          "base_uri": "https://localhost:8080/"
        },
        "id": "a4zerX1IdXqu",
        "outputId": "89a91094-54ab-4bed-b46d-bc00611f00d4"
      },
      "source": [
        "type(point)"
      ],
      "execution_count": null,
      "outputs": [
        {
          "output_type": "execute_result",
          "data": {
            "text/plain": [
              "dict"
            ]
          },
          "metadata": {
            "tags": []
          },
          "execution_count": 4
        }
      ]
    },
    {
      "cell_type": "code",
      "metadata": {
        "colab": {
          "base_uri": "https://localhost:8080/"
        },
        "id": "OTT7dXrJdmyb",
        "outputId": "04e3ecb9-b1ac-4c74-edb0-12e8b7e1bd4e"
      },
      "source": [
        "point.keys()"
      ],
      "execution_count": null,
      "outputs": [
        {
          "output_type": "execute_result",
          "data": {
            "text/plain": [
              "dict_keys(['x', 'y'])"
            ]
          },
          "metadata": {
            "tags": []
          },
          "execution_count": 5
        }
      ]
    },
    {
      "cell_type": "code",
      "metadata": {
        "id": "GmbZwDrWdqzU"
      },
      "source": [
        "point[\"x\"] = 10"
      ],
      "execution_count": null,
      "outputs": []
    },
    {
      "cell_type": "code",
      "metadata": {
        "colab": {
          "base_uri": "https://localhost:8080/"
        },
        "id": "LeAcYodheBQL",
        "outputId": "04dc40df-6811-4a87-cc7e-c8082a47cc68"
      },
      "source": [
        "point"
      ],
      "execution_count": null,
      "outputs": [
        {
          "output_type": "execute_result",
          "data": {
            "text/plain": [
              "{'x': 10, 'y': 2}"
            ]
          },
          "metadata": {
            "tags": []
          },
          "execution_count": 7
        }
      ]
    },
    {
      "cell_type": "markdown",
      "metadata": {
        "id": "DL6-SGQzeMg7"
      },
      "source": [
        "for adding new keys in dictionary\n"
      ]
    },
    {
      "cell_type": "code",
      "metadata": {
        "id": "8QX3LBZneSOJ"
      },
      "source": [
        "point[\"T\"] = [1,2,3,4]"
      ],
      "execution_count": null,
      "outputs": []
    },
    {
      "cell_type": "code",
      "metadata": {
        "colab": {
          "base_uri": "https://localhost:8080/"
        },
        "id": "MgdQIawxenEk",
        "outputId": "bb3a83c1-7acf-4ffe-c816-1232f480e4af"
      },
      "source": [
        "point"
      ],
      "execution_count": null,
      "outputs": [
        {
          "output_type": "execute_result",
          "data": {
            "text/plain": [
              "{'T': [1, 2, 3, 4], 'x': 10, 'y': 2}"
            ]
          },
          "metadata": {
            "tags": []
          },
          "execution_count": 9
        }
      ]
    },
    {
      "cell_type": "markdown",
      "metadata": {
        "id": "npAwY1qJ15Z2"
      },
      "source": [
        "another way to define dictionaries"
      ]
    },
    {
      "cell_type": "code",
      "metadata": {
        "id": "FQfJKGyafIOJ"
      },
      "source": [
        "point1 = dict(x=1 , y=2)"
      ],
      "execution_count": null,
      "outputs": []
    },
    {
      "cell_type": "code",
      "metadata": {
        "colab": {
          "base_uri": "https://localhost:8080/"
        },
        "id": "ypFyMwRa2VUf",
        "outputId": "1573a7b2-0d72-4147-f777-c378889a6386"
      },
      "source": [
        "point1"
      ],
      "execution_count": null,
      "outputs": [
        {
          "output_type": "execute_result",
          "data": {
            "text/plain": [
              "{'x': 1, 'y': 2}"
            ]
          },
          "metadata": {
            "tags": []
          },
          "execution_count": 12
        }
      ]
    },
    {
      "cell_type": "markdown",
      "metadata": {
        "id": "3IYUv_MV3bFh"
      },
      "source": [
        "Expections\n"
      ]
    },
    {
      "cell_type": "code",
      "metadata": {
        "colab": {
          "base_uri": "https://localhost:8080/"
        },
        "id": "oBd1-6Td3dlQ",
        "outputId": "ab1c7c7d-bae4-441a-afb8-cc2325a2a1a9"
      },
      "source": [
        "try :\n",
        "  age = int(input(\"Please enter the age :\"))\n",
        "except  ValueError as ex :\n",
        "  print(\"Please enter the valid age \")\n",
        "  print(ex)\n",
        "finally :\n",
        "  print(\"xyz\")"
      ],
      "execution_count": null,
      "outputs": [
        {
          "output_type": "stream",
          "text": [
            "Please enter the age :sbj\n",
            "Please enter the valid age \n",
            "invalid literal for int() with base 10: 'sbj'\n",
            "xyz\n"
          ],
          "name": "stdout"
        }
      ]
    },
    {
      "cell_type": "markdown",
      "metadata": {
        "id": "CDjm0WZhC11M"
      },
      "source": [
        "Function\n",
        "1. User define\n",
        "2. Pre define\n"
      ]
    },
    {
      "cell_type": "code",
      "metadata": {
        "id": "Ie4TdVzQDJU_"
      },
      "source": [
        "def greet_user() :\n",
        "  print(\"welcome here\")\n",
        "  print(\"Hey come here\")"
      ],
      "execution_count": null,
      "outputs": []
    },
    {
      "cell_type": "code",
      "metadata": {
        "colab": {
          "base_uri": "https://localhost:8080/"
        },
        "id": "zycnPkDGEjF-",
        "outputId": "2832cf0c-c6c4-459a-d612-5d452edb3490"
      },
      "source": [
        "print(\"start\")\n",
        "greet_user()\n",
        "print(\"stop\")"
      ],
      "execution_count": null,
      "outputs": [
        {
          "output_type": "stream",
          "text": [
            "start\n",
            "welcome here\n",
            "Hey come here\n",
            "stop\n"
          ],
          "name": "stdout"
        }
      ]
    },
    {
      "cell_type": "code",
      "metadata": {
        "id": "0iIh1ZEfHAqg"
      },
      "source": [
        "def greet_user(name) :            #parameter\n",
        "  print(\"Hey come here\")"
      ],
      "execution_count": null,
      "outputs": []
    },
    {
      "cell_type": "code",
      "metadata": {
        "colab": {
          "base_uri": "https://localhost:8080/"
        },
        "id": "onPwyKgSHk-P",
        "outputId": "cf0ae3a3-7011-44e2-a23e-5339ca9eba58"
      },
      "source": [
        "greet_user(\"Snehal\")               #Argumet"
      ],
      "execution_count": null,
      "outputs": [
        {
          "output_type": "stream",
          "text": [
            "welcome here Snehal\n",
            "Hey come here\n"
          ],
          "name": "stdout"
        }
      ]
    },
    {
      "cell_type": "code",
      "metadata": {
        "colab": {
          "base_uri": "https://localhost:8080/"
        },
        "id": "aK7sSrpYJL03",
        "outputId": "e25f8f55-e753-41ea-ca36-1407ac8566ea"
      },
      "source": [
        "def greet_user(first, last) :            #Parameter\n",
        "  print(f\"welcome here {first} {last}\")\n",
        "  print(\"Hey come here\")\n",
        "greet_user(\"Snehal\", \"Jadhav\")"
      ],
      "execution_count": null,
      "outputs": [
        {
          "output_type": "stream",
          "text": [
            "welcome here Snehal Jadhav\n",
            "Hey come here\n"
          ],
          "name": "stdout"
        }
      ]
    },
    {
      "cell_type": "code",
      "metadata": {
        "colab": {
          "base_uri": "https://localhost:8080/"
        },
        "id": "EsONFfvcKR77",
        "outputId": "4af1b384-f662-4ba4-c641-31e715d878d9"
      },
      "source": [
        "greet_user(last = \"Jadhav\" , first = \"Snehal\" )"
      ],
      "execution_count": null,
      "outputs": [
        {
          "output_type": "stream",
          "text": [
            "welcome here Snehal Jadhav\n",
            "Hey come here\n"
          ],
          "name": "stdout"
        }
      ]
    },
    {
      "cell_type": "code",
      "metadata": {
        "colab": {
          "base_uri": "https://localhost:8080/"
        },
        "id": "ALnhsw2COrBo",
        "outputId": "d9d5681d-7175-4b7e-c6ed-d1b0c6154a6e"
      },
      "source": [
        "import math\n",
        "math.factorial(5)"
      ],
      "execution_count": null,
      "outputs": [
        {
          "output_type": "execute_result",
          "data": {
            "text/plain": [
              "120"
            ]
          },
          "metadata": {
            "tags": []
          },
          "execution_count": 36
        }
      ]
    },
    {
      "cell_type": "code",
      "metadata": {
        "colab": {
          "base_uri": "https://localhost:8080/"
        },
        "id": "rttsSnXjPQ9R",
        "outputId": "8c3b2891-3977-40f6-a53c-fa40b27d438c"
      },
      "source": [
        "import time\n",
        "for i in range(10) :\n",
        "  print(i)\n",
        "  time.sleep(1)"
      ],
      "execution_count": null,
      "outputs": [
        {
          "output_type": "stream",
          "text": [
            "0\n",
            "1\n",
            "2\n",
            "3\n",
            "4\n",
            "5\n",
            "6\n",
            "7\n",
            "8\n",
            "9\n"
          ],
          "name": "stdout"
        }
      ]
    },
    {
      "cell_type": "code",
      "metadata": {
        "id": "e6PyRhSfT4Dc"
      },
      "source": [
        "import numpy as np\n"
      ],
      "execution_count": null,
      "outputs": []
    },
    {
      "cell_type": "code",
      "metadata": {
        "id": "AzqU8oMDB-eb"
      },
      "source": [
        "a = [1,2,3,4]\n",
        "b = [4,5,6,7]"
      ],
      "execution_count": null,
      "outputs": []
    },
    {
      "cell_type": "code",
      "metadata": {
        "id": "fKEqrwGaCMi0"
      },
      "source": [
        "a * b"
      ],
      "execution_count": null,
      "outputs": []
    },
    {
      "cell_type": "code",
      "metadata": {
        "id": "wCqmQjDsCbC0"
      },
      "source": [
        "c = np.array([1,2,3,4])\n",
        "d = np.array([4,5,6,7])"
      ],
      "execution_count": null,
      "outputs": []
    },
    {
      "cell_type": "code",
      "metadata": {
        "colab": {
          "base_uri": "https://localhost:8080/"
        },
        "id": "uzeeivmTCqeL",
        "outputId": "945e247d-2fd2-4343-97a8-b5edce339471"
      },
      "source": [
        "c * d"
      ],
      "execution_count": null,
      "outputs": [
        {
          "output_type": "execute_result",
          "data": {
            "text/plain": [
              "array([ 4, 10, 18, 28])"
            ]
          },
          "metadata": {
            "tags": []
          },
          "execution_count": 6
        }
      ]
    }
  ]
}